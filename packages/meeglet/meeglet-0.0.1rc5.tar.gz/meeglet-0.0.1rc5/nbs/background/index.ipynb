{
 "cells": [
  {
   "cell_type": "raw",
   "id": "244ddc22",
   "metadata": {},
   "source": [
    "---\n",
    "title: Scientific Background\n",
    "listing:\n",
    "  fields: [title, description]\n",
    "  sort: \"title desc\"\n",
    "  type: grid\n",
    "  sort-ui: false\n",
    "  filter-ui: false\n",
    "---"
   ]
  }
 ],
 "metadata": {
  "kernelspec": {
   "display_name": "meeglet",
   "language": "python",
   "name": "meeglet"
  }
 },
 "nbformat": 4,
 "nbformat_minor": 5
}
