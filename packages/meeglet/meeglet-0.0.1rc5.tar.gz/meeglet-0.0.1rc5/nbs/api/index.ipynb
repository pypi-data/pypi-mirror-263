{
 "cells": [
  {
   "cell_type": "raw",
   "id": "a69ebe85",
   "metadata": {},
   "source": [
    "---\n",
    "title: Python API overview\n",
    "listing:\n",
    "  fields: [title, description]\n",
    "  type: grid\n",
    "  sort-ui: false\n",
    "  filter-ui: false\n",
    "---"
   ]
  }
 ],
 "metadata": {
  "kernelspec": {
   "display_name": "meeglet",
   "language": "python",
   "name": "meeglet"
  }
 },
 "nbformat": 4,
 "nbformat_minor": 5
}
