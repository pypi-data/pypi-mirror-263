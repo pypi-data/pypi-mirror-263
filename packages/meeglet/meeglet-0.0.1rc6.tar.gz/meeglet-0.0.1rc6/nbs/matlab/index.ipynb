{
 "cells": [
  {
   "cell_type": "raw",
   "id": "611040d5",
   "metadata": {},
   "source": [
    "---\n",
    "title: Matlab functionality\n",
    "listing:\n",
    "  fields: [title, description]\n",
    "  type: grid\n",
    "  sort-ui: false\n",
    "  filter-ui: false\n",
    "---"
   ]
  }
 ],
 "metadata": {
  "kernelspec": {
   "display_name": "meeglet",
   "language": "python",
   "name": "meeglet"
  }
 },
 "nbformat": 4,
 "nbformat_minor": 5
}
