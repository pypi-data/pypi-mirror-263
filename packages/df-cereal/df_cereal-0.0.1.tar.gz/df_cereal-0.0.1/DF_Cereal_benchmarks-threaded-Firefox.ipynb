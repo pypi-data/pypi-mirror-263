{
 "cells": [
  {
   "cell_type": "code",
   "execution_count": 1,
   "id": "8bf9f48f-cbf9-42fe-8d86-ef5389971dee",
   "metadata": {
    "tags": []
   },
   "outputs": [
    {
     "name": "stdout",
     "output_type": "stream",
     "text": [
      "Buckaroo has been enabled as the default DataFrame viewer.  To return to default dataframe visualization use `from buckaroo import disable; disable()`\n"
     ]
    }
   ],
   "source": [
    "from df_cereal.df_widget import DFWidget, BaseWidget\n",
    "from df_cereal.arrow_utils import df_to_arrow_bytes, df_to_base64\n",
    "from traitlets import Unicode, Dict, observe, Any, Bytes, observe, Bool\n",
    "import pandas as pd\n",
    "import numpy as np\n",
    "import json\n",
    "import time\n",
    "from buckaroo import BuckarooWidget"
   ]
  },
  {
   "cell_type": "code",
   "execution_count": 2,
   "id": "c0b25468-fba4-4995-b639-81520a066791",
   "metadata": {
    "tags": []
   },
   "outputs": [],
   "source": [
    "def second_convert(ser):\n",
    "    return ser.dt.seconds + ser.dt.microseconds / (10**6)\n",
    "\n",
    "class BaseBenchmarkWidget(BaseWidget):\n",
    "    _view_name = Unicode('BytesBenchmarkWidgetView').tag(sync=True)\n",
    "    \n",
    "    #timing_info must be empty and do_calc must be True to trigger the benchmark, \n",
    "    #we use this to prevent loops, and to allow only calculating the calc time not the widget instantiation time\n",
    "    timing_info = Dict({}).tag(sync=True)  \n",
    "    do_calc = Bool(True).tag(sync=True)\n",
    "    def convert_df(self, df):\n",
    "        pass\n",
    "    target_prop = None\n",
    "\n",
    "    def __init__(self, df_gen_func, min_n, max_n, **kwargs):\n",
    "        self.results_arr = []\n",
    "        self.max_n = max_n\n",
    "        self.current_n = min_n\n",
    "        self.df_gen_func = df_gen_func\n",
    "        self.bw = BuckarooWidget(pd.DataFrame(), pinned_rows=[])\n",
    "        display(self.bw)\n",
    "        super().__init__()\n",
    "        self.set_from_gen()\n",
    "        \n",
    "    def __del__(self):\n",
    "        print(\"in __del__\")\n",
    "        self.bw.close()\n",
    "        del self.bw\n",
    "        return super().__del__()\n",
    "    \n",
    "    def format_results(self):\n",
    "        tdf = pd.DataFrame(self.results_arr)\n",
    "        tdf['klass'] = self.__class__.__name__.replace(\"BenchmarkWidget\",\"\")\n",
    "        tdf['py_serialize'] = second_convert(tdf['serial_t2'] - tdf['serial_t1'])\n",
    "        tdf['widget_xfer'] =  second_convert(tdf['t1'] - tdf['serial_t2'] )\n",
    "        tdf['js_deserialize'] = second_convert(tdf['t2'] - tdf['t1'])\n",
    "        tdf['js_iterate'] = second_convert(tdf['t3'] - tdf['t2'])\n",
    "        tdf['py_notify'] = second_convert(tdf['t4'] - tdf['t3'])\n",
    "        tdf['roundtrip'] = second_convert(tdf['t4'] - tdf['serial_t3'])\n",
    "        self.bw.raw_df = tdf[['rows', 'bytes', 'elements', 'klass', 'py_serialize', 'widget_xfer', 'js_deserialize', 'js_iterate', 'py_notify', 'roundtrip']]\n",
    "    \n",
    "    def set_from_gen(self):\n",
    "        self.do_calc = False # this will trigger view re-evaluate, while doing nothing\n",
    "        self.timing_info = {} # this will trigger view re-evaluate while doing nothing\n",
    "        self.current_timing = {'gen_t1': pd.Timestamp.utcnow()}\n",
    "        gen_df = self.df_gen_func(self.current_n)\n",
    "        self.current_timing['serial_t1'] = pd.Timestamp.utcnow() # START PY_SERIALIZE\n",
    "        self.current_timing['rows'] = len(gen_df)\n",
    "        self.current_timing['elements'] = len(gen_df) * len(gen_df.columns)\n",
    "        byts, self.current_timing['bytes'] = self.convert_df(gen_df) \n",
    "        self.current_timing['serial_t2'] = pd.Timestamp.utcnow()  #END PY_SERIALIZE\n",
    "        setattr(self, self.target_prop, byts) # trigger transfer\n",
    "        self.do_calc = True # trigger js_timing loop (t1, t2, t3)\n",
    "\n",
    "        self.current_timing['serial_t3'] = pd.Timestamp.utcnow()\n",
    "    \n",
    "    @observe('timing_info')\n",
    "    def _timing_info_change(self, change):\n",
    "        if len(self.timing_info) == 0:\n",
    "            print(\"exit early because empty timing_info\")\n",
    "            return\n",
    "        new_res = { k: pd.Timestamp(v) for k,v in self.timing_info.items()}\n",
    "        new_res['t4'] = pd.Timestamp.utcnow()\n",
    "        new_res.update(self.current_timing)\n",
    "        self.results_arr.append(new_res)\n",
    "        if self.current_n > self.max_n:\n",
    "            print(\"done\")\n",
    "            self.format_results()\n",
    "            return\n",
    "        else:\n",
    "            self.do_calc = False \n",
    "            self.timing_info = {}\n",
    "            self.set_from_gen()\n",
    "            self.current_n += 1"
   ]
  },
  {
   "cell_type": "code",
   "execution_count": 3,
   "id": "7c15e221-0212-4858-a289-2850d06c67f3",
   "metadata": {
    "tags": []
   },
   "outputs": [],
   "source": [
    "class Base64BenchmarkWidget(BaseBenchmarkWidget):\n",
    "    _view_name = Unicode('Base64BenchmarkWidgetView').tag(sync=True)\n",
    "    df_base64 = Any(\"\").tag(sync=True)\n",
    "    target_prop = 'df_base64'\n",
    "    \n",
    "    def convert_df(self, df):\n",
    "        txt = df_to_base64(df)\n",
    "        return txt, len(txt)\n",
    "class BytesBenchmarkWidget(BaseBenchmarkWidget):\n",
    "    _view_name = Unicode('BytesBenchmarkWidgetView').tag(sync=True)\n",
    "\n",
    "    def convert_df(self, df):\n",
    "        byts = df_to_arrow_bytes(df)\n",
    "        return byts, len(byts)\n",
    "    df_arrow_bytes = Bytes().tag(sync=True)\n",
    "    target_prop = 'df_arrow_bytes'\n",
    "\n",
    "class JSONDFBenchmarkWidget(BaseBenchmarkWidget):\n",
    "    _view_name = Unicode('DFDataBenchmarkWidgetView').tag(sync=True)\n",
    "\n",
    "    def convert_df(self, df):\n",
    "        txt = df.to_json(orient='records')\n",
    "        return json.loads(txt), len(txt)\n",
    "    df_data = Any([]).tag(sync=True)\n",
    "    target_prop = 'df_data'"
   ]
  },
  {
   "cell_type": "code",
   "execution_count": 4,
   "id": "e1f7de35-635e-4931-b163-e8a2b8fb13e7",
   "metadata": {
    "tags": []
   },
   "outputs": [],
   "source": [
    "def df_gen_func(exp):\n",
    "    N = 20 * (10**exp)//2\n",
    "    big_df = df = pd.DataFrame({\n",
    "        'str': [\"foo\", \"barr\", \"bazz\", \"bofffff\"] * (N//4),\n",
    "        'log_normal': np.random.lognormal(25, .3, N),\n",
    "        'bool': [True, False] * (N//2),\n",
    "        'randint': np.random.randint(0,100,N)\n",
    "    })\n",
    "    return df"
   ]
  },
  {
   "cell_type": "code",
   "execution_count": 5,
   "id": "e6d32ae2-581b-45db-816e-53fa2b4e683b",
   "metadata": {
    "tags": []
   },
   "outputs": [
    {
     "data": {
      "application/vnd.jupyter.widget-view+json": {
       "model_id": "",
       "version_major": 2,
       "version_minor": 0
      },
      "text/plain": [
       "BuckarooWidget(buckaroo_options={'sampled': ['random'], 'auto_clean': ['aggressive', 'conservative'], 'post_pr…"
      ]
     },
     "metadata": {},
     "output_type": "display_data"
    },
    {
     "data": {
      "application/vnd.jupyter.widget-view+json": {
       "model_id": "",
       "version_major": 2,
       "version_minor": 0
      },
      "text/plain": [
       "Base64BenchmarkWidget(df_base64='QVJST1cxAAD/////SAQAABAAAAAAAAoADgAGAAUACAAKAAAAAAEEABAAAAAAAAoADAAAAAQACAAKA…"
      ]
     },
     "execution_count": 5,
     "metadata": {},
     "output_type": "execute_result"
    }
   ],
   "source": [
    "all_obs_dfs = []\n",
    "b64_bn = Base64BenchmarkWidget(df_gen_func, min_n=1, max_n=5)\n",
    "b64_bn"
   ]
  },
  {
   "cell_type": "code",
   "execution_count": 6,
   "id": "a443f732-3b99-4d52-9f28-fe50e56f000b",
   "metadata": {
    "tags": []
   },
   "outputs": [
    {
     "data": {
      "application/vnd.jupyter.widget-view+json": {
       "model_id": "",
       "version_major": 2,
       "version_minor": 0
      },
      "text/plain": [
       "BuckarooWidget(buckaroo_options={'sampled': ['random'], 'auto_clean': ['aggressive', 'conservative'], 'post_pr…"
      ]
     },
     "metadata": {},
     "output_type": "display_data"
    },
    {
     "data": {
      "application/vnd.jupyter.widget-view+json": {
       "model_id": "",
       "version_major": 2,
       "version_minor": 0
      },
      "text/plain": [
       "BytesBenchmarkWidget(df_arrow_bytes=b'ARROW1\\x00\\x00\\xff\\xff\\xff\\xffH\\x04\\x00\\x00\\x10\\x00\\x00\\x00\\x00\\x00\\n\\x0…"
      ]
     },
     "execution_count": 6,
     "metadata": {},
     "output_type": "execute_result"
    }
   ],
   "source": [
    "all_obs_dfs.append(b64_bn.bw.raw_df)\n",
    "b64_bn.bw.close()\n",
    "del b64_bn.bw\n",
    "b64_bn.close()\n",
    "del b64_bn\n",
    "byt_bn = BytesBenchmarkWidget(df_gen_func, min_n=1, max_n=6)\n",
    "byt_bn"
   ]
  },
  {
   "cell_type": "code",
   "execution_count": 7,
   "id": "3a1540f0-75a8-4f9a-87c9-6cbc3efb4382",
   "metadata": {
    "tags": []
   },
   "outputs": [
    {
     "data": {
      "application/vnd.jupyter.widget-view+json": {
       "model_id": "",
       "version_major": 2,
       "version_minor": 0
      },
      "text/plain": [
       "BuckarooWidget(buckaroo_options={'sampled': ['random'], 'auto_clean': ['aggressive', 'conservative'], 'post_pr…"
      ]
     },
     "metadata": {},
     "output_type": "display_data"
    },
    {
     "data": {
      "application/vnd.jupyter.widget-view+json": {
       "model_id": "",
       "version_major": 2,
       "version_minor": 0
      },
      "text/plain": [
       "JSONDFBenchmarkWidget(df_data=[{'str': 'foo', 'log_normal': 80623306281.97855, 'bool': True, 'randint': 59}, {…"
      ]
     },
     "execution_count": 7,
     "metadata": {},
     "output_type": "execute_result"
    }
   ],
   "source": [
    "all_obs_dfs.append(byt_bn.bw.raw_df)\n",
    "byt_bn.bw.close()\n",
    "del byt_bn.bw\n",
    "byt_bn.close()\n",
    "del byt_bn\n",
    "jsdf_bn = JSONDFBenchmarkWidget(df_gen_func, min_n=1, max_n=4)\n",
    "jsdf_bn"
   ]
  },
  {
   "cell_type": "code",
   "execution_count": 8,
   "id": "e0b9f6aa-8489-4c82-9f97-ed22857e38eb",
   "metadata": {},
   "outputs": [],
   "source": [
    "all_obs_dfs.append(jsdf_bn.bw.raw_df)\n",
    "jsdf_bn.bw.close()\n",
    "del jsdf_bn.bw\n",
    "jsdf_bn.close()\n",
    "del jsdf_bn"
   ]
  },
  {
   "cell_type": "code",
   "execution_count": 9,
   "id": "77c69302-6a98-4d74-ba30-2e913dd9c25d",
   "metadata": {
    "tags": []
   },
   "outputs": [],
   "source": [
    "def without(arr, removs):\n",
    "    new_arr = []\n",
    "    for k in arr:\n",
    "        if k in removs:\n",
    "            continue\n",
    "        new_arr.append(k)\n",
    "    return new_arr\n",
    "def reorder(df, first_cols):\n",
    "    all_cols = df.columns\n",
    "    rest_columns = without(all_cols, first_cols)\n",
    "    ord_cols = first_cols.copy()\n",
    "    ord_cols.extend(rest_columns)\n",
    "    return df[ord_cols]"
   ]
  },
  {
   "cell_type": "code",
   "execution_count": 10,
   "id": "e5050d68-5346-4db5-aa9c-410a379d8dd9",
   "metadata": {},
   "outputs": [],
   "source": [
    "def df_gen_func(exp):  # redefining here for nice screenshots\n",
    "    N = 20 * (10**exp)//2\n",
    "    big_df = df = pd.DataFrame({\n",
    "        'str': [\"foo\", \"barr\", \"bazz\", \"bofffff\"] * (N//4),\n",
    "        'log_normal': np.random.lognormal(25, .3, N),\n",
    "        'bool': [True, False] * (N//2),\n",
    "        'randint': np.random.randint(0,100,N)\n",
    "    })\n",
    "    return df"
   ]
  },
  {
   "cell_type": "code",
   "execution_count": 11,
   "id": "3a21ef01-262b-444b-8eac-ffc484a2cf3f",
   "metadata": {
    "tags": []
   },
   "outputs": [
    {
     "data": {
      "application/vnd.jupyter.widget-view+json": {
       "model_id": "a17350bbaa6644cd8e69bdd351ce3144",
       "version_major": 2,
       "version_minor": 0
      },
      "text/plain": [
       "BuckarooWidget(buckaroo_options={'sampled': ['random'], 'auto_clean': ['aggressive', 'conservative'], 'post_pr…"
      ]
     },
     "metadata": {},
     "output_type": "display_data"
    }
   ],
   "source": [
    "full_df = pd.concat(all_obs_dfs)\n",
    "full_df['els_per_second'] = full_df['elements'] / full_df['roundtrip']\n",
    "full_df['bytes_per_second_full'] = full_df['bytes'] / full_df['roundtrip']\n",
    "full_df['bytes_per_second_xfer'] = full_df['bytes'] / full_df['widget_xfer']\n",
    "\n",
    "reorder(full_df, ['bytes', 'elements', 'klass', 'els_per_second', 'bytes_per_second_xfer'])"
   ]
  },
  {
   "cell_type": "code",
   "execution_count": null,
   "id": "78b94cf9-ae1a-499a-a64c-330ad5171a7d",
   "metadata": {},
   "outputs": [],
   "source": []
  }
 ],
 "metadata": {
  "kernelspec": {
   "display_name": "Python 3 (ipykernel)",
   "language": "python",
   "name": "python3"
  },
  "language_info": {
   "codemirror_mode": {
    "name": "ipython",
    "version": 3
   },
   "file_extension": ".py",
   "mimetype": "text/x-python",
   "name": "python",
   "nbconvert_exporter": "python",
   "pygments_lexer": "ipython3",
   "version": "3.8.18"
  },
  "widgets": {
   "application/vnd.jupyter.widget-state+json": {
    "state": {
     "343b3ffb64ba45a1973e12a37bd6f0b4": {
      "model_module": "@jupyter-widgets/base",
      "model_module_version": "2.0.0",
      "model_name": "LayoutModel",
      "state": {}
     },
     "35856e6f9ff546ed8ffe0be6656cb834": {
      "model_module": "@jupyter-widgets/base",
      "model_module_version": "2.0.0",
      "model_name": "LayoutModel",
      "state": {}
     },
     "484c5571b6ab4dbca0b5726c8c6c3cda": {
      "model_module": "@jupyter-widgets/base",
      "model_module_version": "2.0.0",
      "model_name": "LayoutModel",
      "state": {}
     },
     "95ec1e18565d43629c1c51edafba5997": {
      "model_module": "@jupyter-widgets/base",
      "model_module_version": "2.0.0",
      "model_name": "LayoutModel",
      "state": {}
     },
     "a17350bbaa6644cd8e69bdd351ce3144": {
      "model_module": "buckaroo",
      "model_module_version": "^0.6.5",
      "model_name": "DCEFWidgetModel",
      "state": {
       "_model_module_version": "^0.6.5",
       "_view_module_version": "^0.6.5",
       "_view_name": "DCEFWidgetView",
       "buckaroo_options": {
        "auto_clean": [
         "aggressive",
         "conservative"
        ],
        "df_display": [
         "main",
         "summary"
        ],
        "post_processing": [
         ""
        ],
        "sampled": [
         "random"
        ],
        "show_commands": [
         "on"
        ],
        "summary_stats": [
         "all"
        ]
       },
       "buckaroo_state": {
        "auto_clean": "conservative",
        "df_display": "main",
        "post_processing": "",
        "sampled": false,
        "search_string": "",
        "show_commands": false
       },
       "commandConfig": {},
       "df_data_dict": {
        "all_stats": [
         {
          "bytes": "int64",
          "bytes_per_second_full": "float64",
          "bytes_per_second_xfer": "float64",
          "elements": "int64",
          "els_per_second": "float64",
          "index": "dtype",
          "js_deserialize": "float64",
          "js_iterate": "float64",
          "klass": "object",
          "py_notify": "float64",
          "py_serialize": "float64",
          "roundtrip": "float64",
          "rows": "int64",
          "widget_xfer": "float64"
         },
         {
          "bytes": true,
          "bytes_per_second_full": true,
          "bytes_per_second_xfer": true,
          "elements": true,
          "els_per_second": true,
          "index": "is_numeric",
          "js_deserialize": true,
          "js_iterate": true,
          "klass": false,
          "py_notify": true,
          "py_serialize": true,
          "roundtrip": true,
          "rows": true,
          "widget_xfer": true
         },
         {
          "bytes": true,
          "bytes_per_second_full": false,
          "bytes_per_second_xfer": false,
          "elements": true,
          "els_per_second": false,
          "index": "is_integer",
          "js_deserialize": false,
          "js_iterate": false,
          "klass": false,
          "py_notify": false,
          "py_serialize": false,
          "roundtrip": false,
          "rows": true,
          "widget_xfer": false
         },
         {
          "bytes": false,
          "bytes_per_second_full": false,
          "bytes_per_second_xfer": false,
          "elements": false,
          "els_per_second": false,
          "index": "is_datetime",
          "js_deserialize": false,
          "js_iterate": false,
          "klass": false,
          "py_notify": false,
          "py_serialize": false,
          "roundtrip": false,
          "rows": false,
          "widget_xfer": false
         },
         {
          "bytes": false,
          "bytes_per_second_full": false,
          "bytes_per_second_xfer": false,
          "elements": false,
          "els_per_second": false,
          "index": "is_bool",
          "js_deserialize": false,
          "js_iterate": false,
          "klass": false,
          "py_notify": false,
          "py_serialize": false,
          "roundtrip": false,
          "rows": false,
          "widget_xfer": false
         },
         {
          "bytes": false,
          "bytes_per_second_full": true,
          "bytes_per_second_xfer": true,
          "elements": false,
          "els_per_second": true,
          "index": "is_float",
          "js_deserialize": true,
          "js_iterate": true,
          "klass": false,
          "py_notify": true,
          "py_serialize": true,
          "roundtrip": true,
          "rows": false,
          "widget_xfer": true
         },
         {
          "bytes": "integer",
          "bytes_per_second_full": "float",
          "bytes_per_second_xfer": "float",
          "elements": "integer",
          "els_per_second": "float",
          "index": "_type",
          "js_deserialize": "float",
          "js_iterate": "float",
          "klass": "string",
          "py_notify": "float",
          "py_serialize": "float",
          "roundtrip": "float",
          "rows": "integer",
          "widget_xfer": "float"
         },
         {
          "bytes": false,
          "bytes_per_second_full": false,
          "bytes_per_second_xfer": false,
          "elements": false,
          "els_per_second": false,
          "index": "is_string",
          "js_deserialize": false,
          "js_iterate": false,
          "klass": true,
          "py_notify": false,
          "py_serialize": false,
          "roundtrip": false,
          "rows": false,
          "widget_xfer": false
         },
         {
          "bytes": 288,
          "bytes_per_second_full": 288,
          "bytes_per_second_xfer": 288,
          "elements": 288,
          "els_per_second": 288,
          "index": "memory_usage",
          "js_deserialize": 288,
          "js_iterate": 288,
          "klass": 288,
          "py_notify": 288,
          "py_serialize": 288,
          "roundtrip": 288,
          "rows": 288,
          "widget_xfer": 288
         },
         {
          "bytes": 18,
          "bytes_per_second_full": 18,
          "bytes_per_second_xfer": 18,
          "elements": 18,
          "els_per_second": 18,
          "index": "length",
          "js_deserialize": 18,
          "js_iterate": 18,
          "klass": 18,
          "py_notify": 18,
          "py_serialize": 18,
          "roundtrip": 18,
          "rows": 18,
          "widget_xfer": 18
         },
         {
          "bytes": 5050,
          "bytes_per_second_full": 57682.6426645954,
          "bytes_per_second_xfer": 59846.1775476103,
          "elements": 400,
          "els_per_second": 4568.9221912551,
          "index": "min",
          "js_deserialize": 0,
          "js_iterate": 0,
          "klass": null,
          "py_notify": 0.002001,
          "py_serialize": 0.000443,
          "roundtrip": 0.009747,
          "rows": 100,
          "widget_xfer": 0.001717
         },
         {
          "bytes": 246303658,
          "bytes_per_second_full": 147394194.3228645,
          "bytes_per_second_xfer": 204176066.25258797,
          "elements": 40000000,
          "els_per_second": 23936988.272072595,
          "index": "max",
          "js_deserialize": 0.505,
          "js_iterate": 0.197,
          "klass": null,
          "py_notify": 0.113724,
          "py_serialize": 0.293091,
          "roundtrip": 1.671054,
          "rows": 10000000,
          "widget_xfer": 1.466817
         },
         {
          "bytes": 17708548.222222224,
          "bytes_per_second_full": 20858817.018207233,
          "bytes_per_second_xfer": 47372017.51425289,
          "elements": 2740800,
          "els_per_second": 2939146.413441954,
          "index": "mean",
          "js_deserialize": 0.032,
          "js_iterate": 0.0365555556,
          "klass": 0,
          "py_notify": 0.0106456667,
          "py_serialize": 0.0301859444,
          "roundtrip": 0.2355511111,
          "rows": 685200,
          "widget_xfer": 0.1752228333
         },
         {
          "bytes": 0,
          "bytes_per_second_full": 0,
          "bytes_per_second_xfer": 0,
          "elements": 0,
          "els_per_second": 0,
          "index": "nan_count",
          "js_deserialize": 0,
          "js_iterate": 0,
          "klass": 0,
          "py_notify": 0,
          "py_serialize": 0,
          "roundtrip": 0,
          "rows": 0,
          "widget_xfer": 0
         },
         {
          "bytes": [
           2,
           2,
           2,
           1,
           1,
           1,
           1,
           1,
           1,
           1,
           1,
           1,
           1,
           1,
           1
          ],
          "bytes_per_second_full": [
           1,
           1,
           1,
           1,
           1,
           1,
           1,
           1,
           1,
           1,
           1,
           1,
           1,
           1,
           1,
           1,
           1,
           1
          ],
          "bytes_per_second_xfer": [
           1,
           1,
           1,
           1,
           1,
           1,
           1,
           1,
           1,
           1,
           1,
           1,
           1,
           1,
           1,
           1,
           1,
           1
          ],
          "elements": [
           6,
           3,
           3,
           3,
           2,
           1
          ],
          "els_per_second": [
           1,
           1,
           1,
           1,
           1,
           1,
           1,
           1,
           1,
           1,
           1,
           1,
           1,
           1,
           1,
           1,
           1,
           1
          ],
          "index": "value_counts",
          "js_deserialize": [
           11,
           1,
           1,
           1,
           1,
           1,
           1,
           1
          ],
          "js_iterate": [
           6,
           3,
           2,
           2,
           1,
           1,
           1,
           1,
           1
          ],
          "klass": [
           7,
           6,
           5
          ],
          "py_notify": [
           1,
           1,
           1,
           1,
           1,
           1,
           1,
           1,
           1,
           1,
           1,
           1,
           1,
           1,
           1,
           1,
           1,
           1
          ],
          "py_serialize": [
           1,
           1,
           1,
           1,
           1,
           1,
           1,
           1,
           1,
           1,
           1,
           1,
           1,
           1,
           1,
           1,
           1,
           1
          ],
          "roundtrip": [
           1,
           1,
           1,
           1,
           1,
           1,
           1,
           1,
           1,
           1,
           1,
           1,
           1,
           1,
           1,
           1,
           1,
           1
          ],
          "rows": [
           6,
           3,
           3,
           3,
           2,
           1
          ],
          "widget_xfer": [
           1,
           1,
           1,
           1,
           1,
           1,
           1,
           1,
           1,
           1,
           1,
           1,
           1,
           1,
           1,
           1,
           1,
           1
          ]
         },
         {
          "bytes": 5050,
          "bytes_per_second_full": 57682.6426645954,
          "bytes_per_second_xfer": 59846.1775476103,
          "elements": 400,
          "els_per_second": 4568.9221912551,
          "index": "mode",
          "js_deserialize": 0,
          "js_iterate": 0.001,
          "klass": "Bytes",
          "py_notify": 0.002001,
          "py_serialize": 0.000443,
          "roundtrip": 0.009747,
          "rows": 100,
          "widget_xfer": 0.001717
         },
         {
          "bytes": 0.8333333333,
          "bytes_per_second_full": 1,
          "bytes_per_second_xfer": 1,
          "elements": 0.3333333333,
          "els_per_second": 1,
          "index": "distinct_per",
          "js_deserialize": 0.4444444444,
          "js_iterate": 0.5,
          "klass": 0.1666666667,
          "py_notify": 1,
          "py_serialize": 1,
          "roundtrip": 1,
          "rows": 0.3333333333,
          "widget_xfer": 1
         },
         {
          "bytes": 0,
          "bytes_per_second_full": 0,
          "bytes_per_second_xfer": 0,
          "elements": 0,
          "els_per_second": 0,
          "index": "empty_per",
          "js_deserialize": 0,
          "js_iterate": 0,
          "klass": 0,
          "py_notify": 0,
          "py_serialize": 0,
          "roundtrip": 0,
          "rows": 0,
          "widget_xfer": 0
         },
         {
          "bytes": 0.6666666667,
          "bytes_per_second_full": 1,
          "bytes_per_second_xfer": 1,
          "elements": 0.0555555556,
          "els_per_second": 1,
          "index": "unique_per",
          "js_deserialize": 0.3888888889,
          "js_iterate": 0.2777777778,
          "klass": 0,
          "py_notify": 1,
          "py_serialize": 1,
          "roundtrip": 1,
          "rows": 0.0555555556,
          "widget_xfer": 1
         },
         {
          "bytes": 0,
          "bytes_per_second_full": 0,
          "bytes_per_second_xfer": 0,
          "elements": 0,
          "els_per_second": 0,
          "index": "nan_per",
          "js_deserialize": 0,
          "js_iterate": 0,
          "klass": 0,
          "py_notify": 0,
          "py_serialize": 0,
          "roundtrip": 0,
          "rows": 0,
          "widget_xfer": 0
         },
         {
          "bytes": 12,
          "bytes_per_second_full": 18,
          "bytes_per_second_xfer": 18,
          "elements": 1,
          "els_per_second": 18,
          "index": "unique_count",
          "js_deserialize": 7,
          "js_iterate": 5,
          "klass": 0,
          "py_notify": 18,
          "py_serialize": 18,
          "roundtrip": 18,
          "rows": 1,
          "widget_xfer": 18
         },
         {
          "bytes": 0,
          "bytes_per_second_full": 0,
          "bytes_per_second_xfer": 0,
          "elements": 0,
          "els_per_second": 0,
          "index": "empty_count",
          "js_deserialize": 0,
          "js_iterate": 0,
          "klass": 0,
          "py_notify": 0,
          "py_serialize": 0,
          "roundtrip": 0,
          "rows": 0,
          "widget_xfer": 0
         },
         {
          "bytes": 15,
          "bytes_per_second_full": 18,
          "bytes_per_second_xfer": 18,
          "elements": 6,
          "els_per_second": 18,
          "index": "distinct_count",
          "js_deserialize": 8,
          "js_iterate": 9,
          "klass": 3,
          "py_notify": 18,
          "py_serialize": 18,
          "roundtrip": 18,
          "rows": 6,
          "widget_xfer": 18
         },
         {
          "bytes": [
           {
            "name": "5050 - 5050.0",
            "tail": 1
           },
           {
            "name": "6736-3290413",
            "population": 80
           },
           {
            "name": "3290413-6574090",
            "population": 0
           },
           {
            "name": "6574090-9857766",
            "population": 7
           },
           {
            "name": "9857766-13141443",
            "population": 0
           },
           {
            "name": "13141443-16425120",
            "population": 0
           },
           {
            "name": "16425120-19708797",
            "population": 0
           },
           {
            "name": "19708797-22992474",
            "population": 0
           },
           {
            "name": "22992474-26276150",
            "population": 7
           },
           {
            "name": "26276150-29559827",
            "population": 0
           },
           {
            "name": "29559827-32843504",
            "population": 7
           },
           {
            "name": "210015431.81999964 - 246303658",
            "tail": 1
           }
          ],
          "bytes_per_second_full": [
           {
            "name": "57682.64266459542 - 63141.80703555608",
            "tail": 1
           },
           {
            "name": "89795-8510065",
            "population": 50
           },
           {
            "name": "8510065-16930334",
            "population": 19
           },
           {
            "name": "16930334-25350604",
            "population": 19
           },
           {
            "name": "25350604-33770874",
            "population": 6
           },
           {
            "name": "33770874-42191143",
            "population": 0
           },
           {
            "name": "42191143-50611413",
            "population": 0
           },
           {
            "name": "50611413-59031682",
            "population": 0
           },
           {
            "name": "59031682-67451952",
            "population": 0
           },
           {
            "name": "67451952-75872221",
            "population": 0
           },
           {
            "name": "75872221-84292491",
            "population": 6
           },
           {
            "name": "136666904.72310343 - 147394194.3228645",
            "tail": 1
           }
          ],
          "bytes_per_second_xfer": [
           {
            "name": "59846.1775476103 - 66291.63276486196",
            "tail": 1
           },
           {
            "name": "97761-16879695",
            "population": 50
           },
           {
            "name": "16879695-33661629",
            "population": 19
           },
           {
            "name": "33661629-50443563",
            "population": 12
           },
           {
            "name": "50443563-67225497",
            "population": 0
           },
           {
            "name": "67225497-84007431",
            "population": 0
           },
           {
            "name": "84007431-100789365",
            "population": 0
           },
           {
            "name": "100789365-117571299",
            "population": 0
           },
           {
            "name": "117571299-134353233",
            "population": 0
           },
           {
            "name": "134353233-151135167",
            "population": 6
           },
           {
            "name": "151135167-167917101",
            "population": 12
           },
           {
            "name": "198012042.12053066 - 204176066.25258797",
            "tail": 1
           }
          ],
          "elements": [
           {
            "name": "400 - 400.0",
            "tail": 1
           },
           {
            "name": "4000-403600",
            "population": 82
           },
           {
            "name": "403600-803200",
            "population": 0
           },
           {
            "name": "803200-1202800",
            "population": 0
           },
           {
            "name": "1202800-1602400",
            "population": 0
           },
           {
            "name": "1602400-2002000",
            "population": 0
           },
           {
            "name": "2002000-2401600",
            "population": 0
           },
           {
            "name": "2401600-2801200",
            "population": 0
           },
           {
            "name": "2801200-3200800",
            "population": 0
           },
           {
            "name": "3200800-3600400",
            "population": 0
           },
           {
            "name": "3600400-4000000",
            "population": 18
           },
           {
            "name": "33879999.99999994 - 40000000",
            "tail": 1
           }
          ],
          "els_per_second": [
           {
            "name": "4568.922191255083 - 4681.245386317908",
            "tail": 1
           },
           {
            "name": "5230-1373501",
            "population": 69
           },
           {
            "name": "1373501-2741772",
            "population": 12
           },
           {
            "name": "2741772-4110043",
            "population": 12
           },
           {
            "name": "4110043-5478315",
            "population": 0
           },
           {
            "name": "5478315-6846586",
            "population": 0
           },
           {
            "name": "6846586-8214857",
            "population": 0
           },
           {
            "name": "8214857-9583128",
            "population": 0
           },
           {
            "name": "9583128-10951400",
            "population": 0
           },
           {
            "name": "10951400-12319671",
            "population": 0
           },
           {
            "name": "12319671-13687942",
            "population": 6
           },
           {
            "name": "22194650.455398235 - 23936988.272072595",
            "tail": 1
           }
          ],
          "index": "histogram",
          "js_deserialize": [
           {
            "name": "0.0 - 0.0",
            "tail": 1
           },
           {
            "name": "0-0",
            "population": 67
           },
           {
            "name": "0-0",
            "population": 17
           },
           {
            "name": "0-0",
            "population": 0
           },
           {
            "name": "0-0",
            "population": 0
           },
           {
            "name": "0-0",
            "population": 0
           },
           {
            "name": "0-0",
            "population": 0
           },
           {
            "name": "0-0",
            "population": 0
           },
           {
            "name": "0-0",
            "population": 0
           },
           {
            "name": "0-0",
            "population": 0
           },
           {
            "name": "0-0",
            "population": 17
           },
           {
            "name": "0.4281599999999992 - 0.505",
            "tail": 1
           }
          ],
          "js_iterate": [
           {
            "name": "0.0 - 0.0",
            "tail": 1
           },
           {
            "name": "0-0",
            "population": 64
           },
           {
            "name": "0-0",
            "population": 7
           },
           {
            "name": "0-0",
            "population": 0
           },
           {
            "name": "0-0",
            "population": 0
           },
           {
            "name": "0-0",
            "population": 0
           },
           {
            "name": "0-0",
            "population": 0
           },
           {
            "name": "0-0",
            "population": 14
           },
           {
            "name": "0-0",
            "population": 7
           },
           {
            "name": "0-0",
            "population": 0
           },
           {
            "name": "0-0",
            "population": 7
           },
           {
            "name": "0.1857799999999999 - 0.197",
            "tail": 1
           }
          ],
          "klass": [
           {
            "cat_pop": 39,
            "name": "Bytes"
           },
           {
            "cat_pop": 33,
            "name": "Base64"
           },
           {
            "cat_pop": 28,
            "name": "JSONDF"
           }
          ],
          "py_notify": [
           {
            "name": "0.002001 - 0.0020360200000000004",
            "tail": 1
           },
           {
            "name": "0-0",
            "population": 56
           },
           {
            "name": "0-0",
            "population": 19
           },
           {
            "name": "0-0",
            "population": 6
           },
           {
            "name": "0-0",
            "population": 6
           },
           {
            "name": "0-0",
            "population": 6
           },
           {
            "name": "0-0",
            "population": 0
           },
           {
            "name": "0-0",
            "population": 0
           },
           {
            "name": "0-0",
            "population": 0
           },
           {
            "name": "0-0",
            "population": 0
           },
           {
            "name": "0-0",
            "population": 6
           },
           {
            "name": "0.09721478999999984 - 0.113724",
            "tail": 1
           }
          ],
          "py_serialize": [
           {
            "name": "0.000443 - 0.00044469999999999997",
            "tail": 1
           },
           {
            "name": "0-0",
            "population": 81
           },
           {
            "name": "0-0",
            "population": 0
           },
           {
            "name": "0-0",
            "population": 6
           },
           {
            "name": "0-0",
            "population": 0
           },
           {
            "name": "0-0",
            "population": 0
           },
           {
            "name": "0-0",
            "population": 6
           },
           {
            "name": "0-0",
            "population": 0
           },
           {
            "name": "0-0",
            "population": 0
           },
           {
            "name": "0-0",
            "population": 0
           },
           {
            "name": "0-0",
            "population": 6
           },
           {
            "name": "0.2635982099999997 - 0.293091",
            "tail": 1
           }
          ],
          "roundtrip": [
           {
            "name": "0.009747 - 0.01002138",
            "tail": 1
           },
           {
            "name": "0-0",
            "population": 75
           },
           {
            "name": "0-0",
            "population": 6
           },
           {
            "name": "0-0",
            "population": 12
           },
           {
            "name": "0-0",
            "population": 0
           },
           {
            "name": "0-1",
            "population": 0
           },
           {
            "name": "1-1",
            "population": 0
           },
           {
            "name": "1-1",
            "population": 0
           },
           {
            "name": "1-1",
            "population": 0
           },
           {
            "name": "1-1",
            "population": 0
           },
           {
            "name": "1-1",
            "population": 6
           },
           {
            "name": "1.5934325099999993 - 1.671054",
            "tail": 1
           }
          ],
          "rows": [
           {
            "name": "100 - 100.0",
            "tail": 1
           },
           {
            "name": "1000-100900",
            "population": 82
           },
           {
            "name": "100900-200800",
            "population": 0
           },
           {
            "name": "200800-300700",
            "population": 0
           },
           {
            "name": "300700-400600",
            "population": 0
           },
           {
            "name": "400600-500500",
            "population": 0
           },
           {
            "name": "500500-600400",
            "population": 0
           },
           {
            "name": "600400-700300",
            "population": 0
           },
           {
            "name": "700300-800200",
            "population": 0
           },
           {
            "name": "800200-900100",
            "population": 0
           },
           {
            "name": "900100-1000000",
            "population": 18
           },
           {
            "name": "8469999.999999985 - 10000000",
            "tail": 1
           }
          ],
          "widget_xfer": [
           {
            "name": "0.001717 - 0.00203116",
            "tail": 1
           },
           {
            "name": "0-0",
            "population": 75
           },
           {
            "name": "0-0",
            "population": 6
           },
           {
            "name": "0-0",
            "population": 6
           },
           {
            "name": "0-0",
            "population": 0
           },
           {
            "name": "0-0",
            "population": 6
           },
           {
            "name": "0-0",
            "population": 0
           },
           {
            "name": "0-1",
            "population": 0
           },
           {
            "name": "1-1",
            "population": 0
           },
           {
            "name": "1-1",
            "population": 0
           },
           {
            "name": "1-1",
            "population": 6
           },
           {
            "name": "1.3436161299999987 - 1.466817",
            "tail": 1
           }
          ]
         },
         {
          "bytes": {
           "high_tail": 210015431.81999964,
           "low_tail": 5050,
           "meat_histogram": [
            [
             12,
             0,
             1,
             0,
             0,
             0,
             0,
             1,
             0,
             1
            ],
            [
             6736,
             3290412.8,
             6574089.6,
             9857766.399999999,
             13141443.2,
             16425120,
             19708796.799999997,
             22992473.599999998,
             26276150.4,
             29559827.2,
             32843504
            ]
           ],
           "normalized_populations": [
            0.8,
            0,
            0.0666666667,
            0,
            0,
            0,
            0,
            0.0666666667,
            0,
            0.0666666667
           ]
          },
          "bytes_per_second_full": {
           "high_tail": 136666904.72310343,
           "low_tail": 63141.8070355561,
           "meat_histogram": [
            [
             8,
             3,
             3,
             1,
             0,
             0,
             0,
             0,
             0,
             1
            ],
            [
             89795.3742584816,
             8510064.916318513,
             16930334.458378546,
             25350604.00043858,
             33770873.54249861,
             42191143.08455864,
             50611412.626618676,
             59031682.16867871,
             67451951.71073875,
             75872221.25279878,
             84292490.79485881
            ]
           ],
           "normalized_populations": [
            0.5,
            0.1875,
            0.1875,
            0.0625,
            0,
            0,
            0,
            0,
            0,
            0.0625
           ]
          },
          "bytes_per_second_xfer": {
           "high_tail": 198012042.12053066,
           "low_tail": 66291.632764862,
           "meat_histogram": [
            [
             8,
             3,
             2,
             0,
             0,
             0,
             0,
             0,
             1,
             2
            ],
            [
             97760.6200020318,
             16879694.634991664,
             33661628.6499813,
             50443562.664970934,
             67225496.67996056,
             84007430.6949502,
             100789364.70993984,
             117571298.72492947,
             134353232.7399191,
             151135166.75490874,
             167917100.76989836
            ]
           ],
           "normalized_populations": [
            0.5,
            0.1875,
            0.125,
            0,
            0,
            0,
            0,
            0,
            0.0625,
            0.125
           ]
          },
          "elements": {
           "high_tail": 33879999.99999994,
           "low_tail": 400,
           "meat_histogram": [
            [
             9,
             0,
             0,
             0,
             0,
             0,
             0,
             0,
             0,
             2
            ],
            [
             4000,
             403600,
             803200,
             1202800,
             1602400,
             2002000,
             2401600,
             2801200,
             3200800,
             3600400,
             4000000
            ]
           ],
           "normalized_populations": [
            0.8181818182,
            0,
            0,
            0,
            0,
            0,
            0,
            0,
            0,
            0.1818181818
           ]
          },
          "els_per_second": {
           "high_tail": 22194650.455398235,
           "low_tail": 4681.2453863179,
           "meat_histogram": [
            [
             11,
             2,
             2,
             0,
             0,
             0,
             0,
             0,
             0,
             1
            ],
            [
             5229.6468680952,
             1373500.9113448157,
             2741772.175821536,
             4110043.440298257,
             5478314.704774977,
             6846585.969251697,
             8214857.233728418,
             9583128.498205138,
             10951399.762681859,
             12319671.027158579,
             13687942.2916353
            ]
           ],
           "normalized_populations": [
            0.6875,
            0.125,
            0.125,
            0,
            0,
            0,
            0,
            0,
            0,
            0.0625
           ]
          },
          "index": "histogram_args",
          "js_deserialize": {
           "high_tail": 0.42816,
           "low_tail": 0,
           "meat_histogram": [
            [
             4,
             1,
             0,
             0,
             0,
             0,
             0,
             0,
             0,
             1
            ],
            [
             0.001,
             0.0062,
             0.0114,
             0.0166,
             0.0218,
             0.027,
             0.0322,
             0.0374,
             0.0426,
             0.0478,
             0.053
            ]
           ],
           "normalized_populations": [
            0.6666666667,
            0.1666666667,
            0,
            0,
            0,
            0,
            0,
            0,
            0,
            0.1666666667
           ]
          },
          "js_iterate": {
           "high_tail": 0.18578,
           "low_tail": 0,
           "meat_histogram": [
            [
             9,
             1,
             0,
             0,
             0,
             0,
             2,
             1,
             0,
             1
            ],
            [
             0.001,
             0.014,
             0.027,
             0.04,
             0.053,
             0.066,
             0.079,
             0.092,
             0.105,
             0.118,
             0.131
            ]
           ],
           "normalized_populations": [
            0.6428571429,
            0.0714285714,
            0,
            0,
            0,
            0,
            0.1428571429,
            0.0714285714,
            0,
            0.0714285714
           ]
          },
          "klass": {},
          "py_notify": {
           "high_tail": 0.09721479,
           "low_tail": 0.00203602,
           "meat_histogram": [
            [
             9,
             3,
             1,
             1,
             1,
             0,
             0,
             0,
             0,
             1
            ],
            [
             0.002207,
             0.0036474,
             0.0050878,
             0.0065282,
             0.0079686,
             0.009409,
             0.0108494,
             0.0122898,
             0.0137302,
             0.0151706,
             0.016611
            ]
           ],
           "normalized_populations": [
            0.5625,
            0.1875,
            0.0625,
            0.0625,
            0.0625,
            0,
            0,
            0,
            0,
            0.0625
           ]
          },
          "py_serialize": {
           "high_tail": 0.26359821,
           "low_tail": 0.0004447,
           "meat_histogram": [
            [
             13,
             0,
             1,
             0,
             0,
             1,
             0,
             0,
             0,
             1
            ],
            [
             0.000453,
             0.0123681,
             0.0242832,
             0.0361983,
             0.0481134,
             0.0600285,
             0.0719436,
             0.0838587,
             0.0957738,
             0.1076889,
             0.119604
            ]
           ],
           "normalized_populations": [
            0.8125,
            0,
            0.0625,
            0,
            0,
            0.0625,
            0,
            0,
            0,
            0.0625
           ]
          },
          "roundtrip": {
           "high_tail": 1.59343251,
           "low_tail": 0.01002138,
           "meat_histogram": [
            [
             12,
             1,
             2,
             0,
             0,
             0,
             0,
             0,
             0,
             1
            ],
            [
             0.011361,
             0.1316706,
             0.2519802,
             0.3722898,
             0.4925994,
             0.612909,
             0.7332186,
             0.8535282,
             0.9738378,
             1.0941474,
             1.214457
            ]
           ],
           "normalized_populations": [
            0.75,
            0.0625,
            0.125,
            0,
            0,
            0,
            0,
            0,
            0,
            0.0625
           ]
          },
          "rows": {
           "high_tail": 8469999.999999985,
           "low_tail": 100,
           "meat_histogram": [
            [
             9,
             0,
             0,
             0,
             0,
             0,
             0,
             0,
             0,
             2
            ],
            [
             1000,
             100900,
             200800,
             300700,
             400600,
             500500,
             600400,
             700300,
             800200,
             900100,
             1000000
            ]
           ],
           "normalized_populations": [
            0.8181818182,
            0,
            0,
            0,
            0,
            0,
            0,
            0,
            0,
            0.1818181818
           ]
          },
          "widget_xfer": {
           "high_tail": 1.34361613,
           "low_tail": 0.00203116,
           "meat_histogram": [
            [
             12,
             1,
             1,
             0,
             1,
             0,
             0,
             0,
             0,
             1
            ],
            [
             0.003565,
             0.0774191,
             0.1512732,
             0.2251273,
             0.2989814,
             0.3728355,
             0.4466896,
             0.5205437,
             0.5943978,
             0.6682519,
             0.742106
            ]
           ],
           "normalized_populations": [
            0.75,
            0.0625,
            0.0625,
            0,
            0.0625,
            0,
            0,
            0,
            0,
            0.0625
           ]
          }
         },
         {
          "bytes": [
           6736,
           3290412.8,
           6574089.6,
           9857766.399999999,
           13141443.2,
           16425120,
           19708796.799999997,
           22992473.599999998,
           26276150.4,
           29559827.2,
           32843504
          ],
          "bytes_per_second_full": [
           89795.3742584816,
           8510064.916318513,
           16930334.458378546,
           25350604.00043858,
           33770873.54249861,
           42191143.08455864,
           50611412.626618676,
           59031682.16867871,
           67451951.71073875,
           75872221.25279878,
           84292490.79485881
          ],
          "bytes_per_second_xfer": [
           97760.6200020318,
           16879694.634991664,
           33661628.6499813,
           50443562.664970934,
           67225496.67996056,
           84007430.6949502,
           100789364.70993984,
           117571298.72492947,
           134353232.7399191,
           151135166.75490874,
           167917100.76989836
          ],
          "elements": [
           4000,
           403600,
           803200,
           1202800,
           1602400,
           2002000,
           2401600,
           2801200,
           3200800,
           3600400,
           4000000
          ],
          "els_per_second": [
           5229.6468680952,
           1373500.9113448157,
           2741772.175821536,
           4110043.440298257,
           5478314.704774977,
           6846585.969251697,
           8214857.233728418,
           9583128.498205138,
           10951399.762681859,
           12319671.027158579,
           13687942.2916353
          ],
          "index": "histogram_bins",
          "js_deserialize": [
           0.001,
           0.0062,
           0.0114,
           0.0166,
           0.0218,
           0.027,
           0.0322,
           0.0374,
           0.0426,
           0.0478,
           0.053
          ],
          "js_iterate": [
           0.001,
           0.014,
           0.027,
           0.04,
           0.053,
           0.066,
           0.079,
           0.092,
           0.105,
           0.118,
           0.131
          ],
          "klass": [],
          "py_notify": [
           0.002207,
           0.0036474,
           0.0050878,
           0.0065282,
           0.0079686,
           0.009409,
           0.0108494,
           0.0122898,
           0.0137302,
           0.0151706,
           0.016611
          ],
          "py_serialize": [
           0.000453,
           0.0123681,
           0.0242832,
           0.0361983,
           0.0481134,
           0.0600285,
           0.0719436,
           0.0838587,
           0.0957738,
           0.1076889,
           0.119604
          ],
          "roundtrip": [
           0.011361,
           0.1316706,
           0.2519802,
           0.3722898,
           0.4925994,
           0.612909,
           0.7332186,
           0.8535282,
           0.9738378,
           1.0941474,
           1.214457
          ],
          "rows": [
           1000,
           100900,
           200800,
           300700,
           400600,
           500500,
           600400,
           700300,
           800200,
           900100,
           1000000
          ],
          "widget_xfer": [
           0.003565,
           0.0774191,
           0.1512732,
           0.2251273,
           0.2989814,
           0.3728355,
           0.4466896,
           0.5205437,
           0.5943978,
           0.6682519,
           0.742106
          ]
         }
        ],
        "empty": [],
        "main": [
         {
          "bytes": 6736,
          "bytes_per_second_full": 89795.3742584816,
          "bytes_per_second_xfer": 97760.6200020318,
          "elements": 400,
          "els_per_second": 5332.2668799573,
          "index": 0,
          "js_deserialize": 0.003,
          "js_iterate": 0.001,
          "klass": "Base64",
          "py_notify": 0.002751,
          "py_serialize": 0.005197,
          "roundtrip": 0.075015,
          "rows": 100,
          "widget_xfer": 0.068903
         },
         {
          "bytes": 6736,
          "bytes_per_second_full": 372134.1362355671,
          "bytes_per_second_xfer": 528520.9886229894,
          "elements": 400,
          "els_per_second": 22098.226617314,
          "index": 1,
          "js_deserialize": 0,
          "js_iterate": 0.001,
          "klass": "Base64",
          "py_notify": 0.004982,
          "py_serialize": 0.001462,
          "roundtrip": 0.018101,
          "rows": 100,
          "widget_xfer": 0.012745
         },
         {
          "bytes": 36280,
          "bytes_per_second_full": 3193380.864360532,
          "bytes_per_second_xfer": 5514515.883872929,
          "elements": 4000,
          "els_per_second": 352081.6829504445,
          "index": 2,
          "js_deserialize": 0.002,
          "js_iterate": 0.001,
          "klass": "Base64",
          "py_notify": 0.002207,
          "py_serialize": 0.00217,
          "roundtrip": 0.011361,
          "rows": 1000,
          "widget_xfer": 0.006579
         },
         {
          "bytes": 331792,
          "bytes_per_second_full": 9094676.826928347,
          "bytes_per_second_xfer": 30704423.468443457,
          "elements": 40000,
          "els_per_second": 1096431.1167150924,
          "index": 3,
          "js_deserialize": 0.008,
          "js_iterate": 0.015,
          "klass": "Base64",
          "py_notify": 0.004071,
          "py_serialize": 0.00149,
          "roundtrip": 0.036482,
          "rows": 10000,
          "widget_xfer": 0.010806
         },
         {
          "bytes": 3287236,
          "bytes_per_second_full": 15548515.263601018,
          "bytes_per_second_xfer": 42979956.33016487,
          "elements": 400000,
          "els_per_second": 1891986.4912164528,
          "index": 4,
          "js_deserialize": 0.053,
          "js_iterate": 0.093,
          "klass": "Base64",
          "py_notify": 0.002001,
          "py_serialize": 0.006728,
          "roundtrip": 0.211418,
          "rows": 100000,
          "widget_xfer": 0.076483
         },
         {
          "bytes": 32843504,
          "bytes_per_second_full": 27043776.76607735,
          "bytes_per_second_xfer": 44257160.02835174,
          "elements": 4000000,
          "els_per_second": 3293653.048234726,
          "index": 5,
          "js_deserialize": 0.505,
          "js_iterate": 0.092,
          "klass": "Base64",
          "py_notify": 0.003507,
          "py_serialize": 0.062318,
          "roundtrip": 1.214457,
          "rows": 1000000,
          "widget_xfer": 0.742106
         },
         {
          "bytes": 5050,
          "bytes_per_second_full": 57682.6426645954,
          "bytes_per_second_xfer": 59846.1775476103,
          "elements": 400,
          "els_per_second": 4568.9221912551,
          "index": 0,
          "js_deserialize": 0,
          "js_iterate": 0.001,
          "klass": "Bytes",
          "py_notify": 0.002781,
          "py_serialize": 0.001981,
          "roundtrip": 0.087548,
          "rows": 100,
          "widget_xfer": 0.084383
         },
         {
          "bytes": 5050,
          "bytes_per_second_full": 287667.3312446596,
          "bytes_per_second_xfer": 532475.7486292704,
          "elements": 400,
          "els_per_second": 22785.5311876958,
          "index": 1,
          "js_deserialize": 0,
          "js_iterate": 0,
          "klass": "Bytes",
          "py_notify": 0.008587,
          "py_serialize": 0.001526,
          "roundtrip": 0.017555,
          "rows": 100,
          "widget_xfer": 0.009484
         },
         {
          "bytes": 27210,
          "bytes_per_second_full": 2791628.193290243,
          "bytes_per_second_xfer": 7632538.5694249645,
          "elements": 4000,
          "els_per_second": 410382.6818508259,
          "index": 2,
          "js_deserialize": 0,
          "js_iterate": 0.004,
          "klass": "Bytes",
          "py_notify": 0.002355,
          "py_serialize": 0.001217,
          "roundtrip": 0.009747,
          "rows": 1000,
          "widget_xfer": 0.003565
         },
         {
          "bytes": 248842,
          "bytes_per_second_full": 11990074.20256336,
          "bytes_per_second_xfer": 144928363.42457774,
          "elements": 40000,
          "els_per_second": 1927339.3080851883,
          "index": 3,
          "js_deserialize": 0,
          "js_iterate": 0.014,
          "klass": "Bytes",
          "py_notify": 0.005257,
          "py_serialize": 0.001431,
          "roundtrip": 0.020754,
          "rows": 10000,
          "widget_xfer": 0.001717
         },
         {
          "bytes": 2465426,
          "bytes_per_second_full": 22145009.027135298,
          "bytes_per_second_xfer": 204176066.25258797,
          "elements": 400000,
          "els_per_second": 3592889.671340417,
          "index": 4,
          "js_deserialize": 0,
          "js_iterate": 0.092,
          "klass": "Bytes",
          "py_notify": 0.007709,
          "py_serialize": 0.003241,
          "roundtrip": 0.111331,
          "rows": 100000,
          "widget_xfer": 0.012075
         },
         {
          "bytes": 24632626,
          "bytes_per_second_full": 84292490.79485881,
          "bytes_per_second_xfer": 156377767.9024886,
          "elements": 4000000,
          "els_per_second": 13687942.2916353,
          "index": 5,
          "js_deserialize": 0.001,
          "js_iterate": 0.131,
          "klass": "Bytes",
          "py_notify": 0.003118,
          "py_serialize": 0.028844,
          "roundtrip": 0.292228,
          "rows": 1000000,
          "widget_xfer": 0.15752
         },
         {
          "bytes": 246303658,
          "bytes_per_second_full": 147394194.3228645,
          "bytes_per_second_xfer": 167917100.76989836,
          "elements": 40000000,
          "els_per_second": 23936988.272072595,
          "index": 6,
          "js_deserialize": 0.004,
          "js_iterate": 0.197,
          "klass": "Bytes",
          "py_notify": 0.003786,
          "py_serialize": 0.293091,
          "roundtrip": 1.671054,
          "rows": 10000000,
          "widget_xfer": 1.466817
         },
         {
          "bytes": 7691,
          "bytes_per_second_full": 100553.0351563011,
          "bytes_per_second_xfer": 103248.7582225802,
          "elements": 400,
          "els_per_second": 5229.6468680952,
          "index": 0,
          "js_deserialize": 0,
          "js_iterate": 0,
          "klass": "JSONDF",
          "py_notify": 0.003121,
          "py_serialize": 0.000453,
          "roundtrip": 0.076487,
          "rows": 100,
          "widget_xfer": 0.07449
         },
         {
          "bytes": 7691,
          "bytes_per_second_full": 521919.1096634093,
          "bytes_per_second_xfer": 624269.4805194805,
          "elements": 400,
          "els_per_second": 27144.4082519001,
          "index": 1,
          "js_deserialize": 0,
          "js_iterate": 0.001,
          "klass": "JSONDF",
          "py_notify": 0.002594,
          "py_serialize": 0.000443,
          "roundtrip": 0.014736,
          "rows": 100,
          "widget_xfer": 0.01232
         },
         {
          "bytes": 76945,
          "bytes_per_second_full": 6397156.634519454,
          "bytes_per_second_xfer": 6555205.316067473,
          "elements": 4000,
          "els_per_second": 332557.3661456601,
          "index": 2,
          "js_deserialize": 0,
          "js_iterate": 0,
          "klass": "JSONDF",
          "py_notify": 0.00246,
          "py_serialize": 0.001136,
          "roundtrip": 0.012028,
          "rows": 1000,
          "widget_xfer": 0.011738
         },
         {
          "bytes": 769212,
          "bytes_per_second_full": 20217415.30212632,
          "bytes_per_second_xfer": 18363102.485139295,
          "elements": 40000,
          "els_per_second": 1051331.2481930244,
          "index": 3,
          "js_deserialize": 0,
          "js_iterate": 0.001,
          "klass": "JSONDF",
          "py_notify": 0.016611,
          "py_serialize": 0.011015,
          "roundtrip": 0.038047,
          "rows": 10000,
          "widget_xfer": 0.041889
         },
         {
          "bytes": 7692183,
          "bytes_per_second_full": 23920636.50018192,
          "bytes_per_second_xfer": 21343993.051990755,
          "elements": 400000,
          "els_per_second": 1243893.261519229,
          "index": 4,
          "js_deserialize": 0,
          "js_iterate": 0.014,
          "klass": "JSONDF",
          "py_notify": 0.113724,
          "py_serialize": 0.119604,
          "roundtrip": 0.321571,
          "rows": 100000,
          "widget_xfer": 0.360391
         }
        ]
       },
       "df_display_args": {
        "main": {
         "data_key": "main",
         "df_viewer_config": {
          "column_config": [
           {
            "col_name": "index",
            "displayer_args": {
             "displayer": "float",
             "max_fraction_digits": 0,
             "min_fraction_digits": 0
            }
           },
           {
            "col_name": "bytes",
            "displayer_args": {
             "displayer": "float",
             "max_fraction_digits": 0,
             "min_fraction_digits": 0
            }
           },
           {
            "col_name": "elements",
            "displayer_args": {
             "displayer": "float",
             "max_fraction_digits": 0,
             "min_fraction_digits": 0
            }
           },
           {
            "col_name": "klass",
            "displayer_args": {
             "displayer": "string",
             "max_length": 35
            }
           },
           {
            "col_name": "els_per_second",
            "displayer_args": {
             "displayer": "float",
             "max_fraction_digits": 3,
             "min_fraction_digits": 3
            }
           },
           {
            "col_name": "bytes_per_second_xfer",
            "displayer_args": {
             "displayer": "float",
             "max_fraction_digits": 3,
             "min_fraction_digits": 3
            }
           },
           {
            "col_name": "rows",
            "displayer_args": {
             "displayer": "float",
             "max_fraction_digits": 0,
             "min_fraction_digits": 0
            }
           },
           {
            "col_name": "py_serialize",
            "displayer_args": {
             "displayer": "float",
             "max_fraction_digits": 3,
             "min_fraction_digits": 3
            }
           },
           {
            "col_name": "widget_xfer",
            "displayer_args": {
             "displayer": "float",
             "max_fraction_digits": 3,
             "min_fraction_digits": 3
            }
           },
           {
            "col_name": "js_deserialize",
            "displayer_args": {
             "displayer": "float",
             "max_fraction_digits": 3,
             "min_fraction_digits": 3
            }
           },
           {
            "col_name": "js_iterate",
            "displayer_args": {
             "displayer": "float",
             "max_fraction_digits": 3,
             "min_fraction_digits": 3
            }
           },
           {
            "col_name": "py_notify",
            "displayer_args": {
             "displayer": "float",
             "max_fraction_digits": 3,
             "min_fraction_digits": 3
            }
           },
           {
            "col_name": "roundtrip",
            "displayer_args": {
             "displayer": "float",
             "max_fraction_digits": 3,
             "min_fraction_digits": 3
            }
           },
           {
            "col_name": "bytes_per_second_full",
            "displayer_args": {
             "displayer": "float",
             "max_fraction_digits": 3,
             "min_fraction_digits": 3
            }
           }
          ],
          "component_config": {},
          "extra_grid_config": {},
          "pinned_rows": [
           {
            "displayer_args": {
             "displayer": "obj"
            },
            "primary_key_val": "dtype"
           },
           {
            "displayer_args": {
             "displayer": "histogram"
            },
            "primary_key_val": "histogram"
           }
          ]
         },
         "summary_stats_key": "all_stats"
        },
        "summary": {
         "data_key": "empty",
         "df_viewer_config": {
          "column_config": [
           {
            "col_name": "index",
            "displayer_args": {
             "displayer": "obj"
            }
           },
           {
            "col_name": "bytes",
            "displayer_args": {
             "displayer": "obj"
            }
           },
           {
            "col_name": "elements",
            "displayer_args": {
             "displayer": "obj"
            }
           },
           {
            "col_name": "klass",
            "displayer_args": {
             "displayer": "obj"
            }
           },
           {
            "col_name": "els_per_second",
            "displayer_args": {
             "displayer": "obj"
            }
           },
           {
            "col_name": "bytes_per_second_xfer",
            "displayer_args": {
             "displayer": "obj"
            }
           },
           {
            "col_name": "rows",
            "displayer_args": {
             "displayer": "obj"
            }
           },
           {
            "col_name": "py_serialize",
            "displayer_args": {
             "displayer": "obj"
            }
           },
           {
            "col_name": "widget_xfer",
            "displayer_args": {
             "displayer": "obj"
            }
           },
           {
            "col_name": "js_deserialize",
            "displayer_args": {
             "displayer": "obj"
            }
           },
           {
            "col_name": "js_iterate",
            "displayer_args": {
             "displayer": "obj"
            }
           },
           {
            "col_name": "py_notify",
            "displayer_args": {
             "displayer": "obj"
            }
           },
           {
            "col_name": "roundtrip",
            "displayer_args": {
             "displayer": "obj"
            }
           },
           {
            "col_name": "bytes_per_second_full",
            "displayer_args": {
             "displayer": "obj"
            }
           }
          ],
          "component_config": {},
          "extra_grid_config": {},
          "pinned_rows": [
           {
            "displayer_args": {
             "displayer": "obj"
            },
            "primary_key_val": "dtype"
           },
           {
            "displayer_args": {
             "displayer": "float",
             "max_fraction_digits": 3,
             "min_fraction_digits": 3
            },
            "primary_key_val": "min"
           },
           {
            "displayer_args": {
             "displayer": "float",
             "max_fraction_digits": 3,
             "min_fraction_digits": 3
            },
            "primary_key_val": "mean"
           },
           {
            "displayer_args": {
             "displayer": "float",
             "max_fraction_digits": 3,
             "min_fraction_digits": 3
            },
            "primary_key_val": "max"
           },
           {
            "displayer_args": {
             "displayer": "float",
             "max_fraction_digits": 0,
             "min_fraction_digits": 0
            },
            "primary_key_val": "unique_count"
           },
           {
            "displayer_args": {
             "displayer": "float",
             "max_fraction_digits": 0,
             "min_fraction_digits": 0
            },
            "primary_key_val": "distinct_count"
           },
           {
            "displayer_args": {
             "displayer": "float",
             "max_fraction_digits": 0,
             "min_fraction_digits": 0
            },
            "primary_key_val": "empty_count"
           }
          ]
         },
         "summary_stats_key": "all_stats"
        }
       },
       "df_meta": {
        "columns": 13,
        "rows_shown": 18,
        "total_rows": 18
       },
       "layout": "IPY_MODEL_f05b1b4924604e10b31bc2a6f0828ba3",
       "operation_results": {
        "generated_py_code": "# instantiation, unused",
        "transformed_df": {
         "column_config": [],
         "data": [],
         "pinned_rows": []
        }
       },
       "operations": []
      }
     },
     "e3ed6fa7dbc747228adbcc4bfaa370d9": {
      "model_module": "@jupyter-widgets/base",
      "model_module_version": "2.0.0",
      "model_name": "LayoutModel",
      "state": {}
     },
     "f05b1b4924604e10b31bc2a6f0828ba3": {
      "model_module": "@jupyter-widgets/base",
      "model_module_version": "2.0.0",
      "model_name": "LayoutModel",
      "state": {}
     },
     "f6b568af7f76492f8f9f0929efa5ac60": {
      "model_module": "@jupyter-widgets/base",
      "model_module_version": "2.0.0",
      "model_name": "LayoutModel",
      "state": {}
     }
    },
    "version_major": 2,
    "version_minor": 0
   }
  }
 },
 "nbformat": 4,
 "nbformat_minor": 5
}
