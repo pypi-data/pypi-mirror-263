{
 "cells": [
  {
   "cell_type": "code",
   "execution_count": 1,
   "id": "8bf9f48f-cbf9-42fe-8d86-ef5389971dee",
   "metadata": {
    "tags": []
   },
   "outputs": [
    {
     "name": "stdout",
     "output_type": "stream",
     "text": [
      "Buckaroo has been enabled as the default DataFrame viewer.  To return to default dataframe visualization use `from buckaroo import disable; disable()`\n"
     ]
    }
   ],
   "source": [
    "from df_cereal.df_widget import DFWidget, BaseWidget\n",
    "from df_cereal.arrow_utils import df_to_arrow_bytes, df_to_base64\n",
    "from traitlets import Unicode, Dict, observe, Any, Bytes, observe, Bool\n",
    "import pandas as pd\n",
    "import numpy as np\n",
    "import json\n",
    "import time\n",
    "from buckaroo import BuckarooWidget"
   ]
  },
  {
   "cell_type": "code",
   "execution_count": 2,
   "id": "c0b25468-fba4-4995-b639-81520a066791",
   "metadata": {
    "tags": []
   },
   "outputs": [],
   "source": [
    "def second_convert(ser):\n",
    "    return ser.dt.seconds + ser.dt.microseconds / (10**6)\n",
    "\n",
    "class BaseBenchmarkWidget(BaseWidget):\n",
    "    _view_name = Unicode('BytesBenchmarkWidgetView').tag(sync=True)\n",
    "    \n",
    "    #timing_info must be empty and do_calc must be True to trigger the benchmark, \n",
    "    #we use this to prevent loops, and to allow only calculating the calc time not the widget instantiation time\n",
    "    timing_info = Dict({}).tag(sync=True)  \n",
    "    do_calc = Bool(True).tag(sync=True)\n",
    "    def convert_df(self, df):\n",
    "        pass\n",
    "    target_prop = None\n",
    "\n",
    "    def __init__(self, df_gen_func, min_n, max_n, **kwargs):\n",
    "        self.results_arr = []\n",
    "        self.max_n = max_n\n",
    "        self.current_n = min_n\n",
    "        self.df_gen_func = df_gen_func\n",
    "        self.bw = BuckarooWidget(pd.DataFrame(), pinned_rows=[])\n",
    "        display(self.bw)\n",
    "        super().__init__()\n",
    "        self.set_from_gen()\n",
    "        \n",
    "    def __del__(self):\n",
    "        print(\"in __del__\")\n",
    "        self.bw.close()\n",
    "        del self.bw\n",
    "        return super().__del__()\n",
    "    \n",
    "    def format_results(self):\n",
    "        tdf = pd.DataFrame(self.results_arr)\n",
    "        tdf['klass'] = self.__class__.__name__.replace(\"BenchmarkWidget\",\"\")\n",
    "        tdf['py_serialize'] = second_convert(tdf['serial_t2'] - tdf['serial_t1'])\n",
    "        tdf['widget_xfer'] =  second_convert(tdf['t1'] - tdf['serial_t2'] )\n",
    "        tdf['js_deserialize'] = second_convert(tdf['t2'] - tdf['t1'])\n",
    "        tdf['js_iterate'] = second_convert(tdf['t3'] - tdf['t2'])\n",
    "        tdf['py_notify'] = second_convert(tdf['t4'] - tdf['t3'])\n",
    "        tdf['roundtrip'] = second_convert(tdf['t4'] - tdf['serial_t3'])\n",
    "        self.bw.raw_df = tdf[['rows', 'bytes', 'elements', 'klass', 'py_serialize', 'widget_xfer', 'js_deserialize', 'js_iterate', 'py_notify', 'roundtrip']]\n",
    "    \n",
    "    def set_from_gen(self):\n",
    "        self.do_calc = False # this will trigger view re-evaluate, while doing nothing\n",
    "        self.timing_info = {} # this will trigger view re-evaluate while doing nothing\n",
    "        self.current_timing = {'gen_t1': pd.Timestamp.utcnow()}\n",
    "        gen_df = self.df_gen_func(self.current_n)\n",
    "        self.current_timing['serial_t1'] = pd.Timestamp.utcnow() # START PY_SERIALIZE\n",
    "        self.current_timing['rows'] = len(gen_df)\n",
    "        self.current_timing['elements'] = len(gen_df) * len(gen_df.columns)\n",
    "        byts, self.current_timing['bytes'] = self.convert_df(gen_df) \n",
    "        self.current_timing['serial_t2'] = pd.Timestamp.utcnow()  #END PY_SERIALIZE\n",
    "        setattr(self, self.target_prop, byts) # trigger transfer\n",
    "        self.do_calc = True # trigger js_timing loop (t1, t2, t3)\n",
    "\n",
    "        self.current_timing['serial_t3'] = pd.Timestamp.utcnow()\n",
    "    \n",
    "    @observe('timing_info')\n",
    "    def _timing_info_change(self, change):\n",
    "        if len(self.timing_info) == 0:\n",
    "            print(\"exit early because empty timing_info\")\n",
    "            return\n",
    "        new_res = { k: pd.Timestamp(v) for k,v in self.timing_info.items()}\n",
    "        new_res['t4'] = pd.Timestamp.utcnow()\n",
    "        new_res.update(self.current_timing)\n",
    "        self.results_arr.append(new_res)\n",
    "        if self.current_n > self.max_n:\n",
    "            print(\"done\")\n",
    "            self.format_results()\n",
    "            return\n",
    "        else:\n",
    "            self.do_calc = False \n",
    "            self.timing_info = {}\n",
    "            self.set_from_gen()\n",
    "            self.current_n += 1"
   ]
  },
  {
   "cell_type": "code",
   "execution_count": 3,
   "id": "7c15e221-0212-4858-a289-2850d06c67f3",
   "metadata": {
    "tags": []
   },
   "outputs": [],
   "source": [
    "class Base64BenchmarkWidget(BaseBenchmarkWidget):\n",
    "    _view_name = Unicode('Base64BenchmarkWidgetView').tag(sync=True)\n",
    "    df_base64 = Any(\"\").tag(sync=True)\n",
    "    target_prop = 'df_base64'\n",
    "    \n",
    "    def convert_df(self, df):\n",
    "        txt = df_to_base64(df)\n",
    "        return txt, len(txt)\n",
    "class BytesBenchmarkWidget(BaseBenchmarkWidget):\n",
    "    _view_name = Unicode('BytesBenchmarkWidgetView').tag(sync=True)\n",
    "\n",
    "    def convert_df(self, df):\n",
    "        byts = df_to_arrow_bytes(df)\n",
    "        return byts, len(byts)\n",
    "    df_arrow_bytes = Bytes().tag(sync=True)\n",
    "    target_prop = 'df_arrow_bytes'\n",
    "\n",
    "class JSONDFBenchmarkWidget(BaseBenchmarkWidget):\n",
    "    _view_name = Unicode('DFDataBenchmarkWidgetView').tag(sync=True)\n",
    "\n",
    "    def convert_df(self, df):\n",
    "        txt = df.to_json(orient='records')\n",
    "        return json.loads(txt), len(txt)\n",
    "    df_data = Any([]).tag(sync=True)\n",
    "    target_prop = 'df_data'"
   ]
  },
  {
   "cell_type": "code",
   "execution_count": 4,
   "id": "e1f7de35-635e-4931-b163-e8a2b8fb13e7",
   "metadata": {
    "tags": []
   },
   "outputs": [],
   "source": [
    "def df_gen_func(exp):\n",
    "    N = 20 * (10**exp)//2\n",
    "    big_df = df = pd.DataFrame({\n",
    "        'str': [\"foo\", \"barr\", \"bazz\", \"bofffff\"] * (N//4),\n",
    "        'log_normal': np.random.lognormal(25, .3, N),\n",
    "        'bool': [True, False] * (N//2),\n",
    "        'randint': np.random.randint(0,100,N)\n",
    "    })\n",
    "    return df"
   ]
  },
  {
   "cell_type": "code",
   "execution_count": 5,
   "id": "e6d32ae2-581b-45db-816e-53fa2b4e683b",
   "metadata": {
    "tags": []
   },
   "outputs": [
    {
     "data": {
      "application/vnd.jupyter.widget-view+json": {
       "model_id": "",
       "version_major": 2,
       "version_minor": 0
      },
      "text/plain": [
       "BuckarooWidget(buckaroo_options={'sampled': ['random'], 'auto_clean': ['aggressive', 'conservative'], 'post_pr…"
      ]
     },
     "metadata": {},
     "output_type": "display_data"
    },
    {
     "data": {
      "application/vnd.jupyter.widget-view+json": {
       "model_id": "",
       "version_major": 2,
       "version_minor": 0
      },
      "text/plain": [
       "Base64BenchmarkWidget(df_base64='QVJST1cxAAD/////SAQAABAAAAAAAAoADgAGAAUACAAKAAAAAAEEABAAAAAAAAoADAAAAAQACAAKA…"
      ]
     },
     "execution_count": 5,
     "metadata": {},
     "output_type": "execute_result"
    }
   ],
   "source": [
    "all_obs_dfs = []\n",
    "b64_bn = Base64BenchmarkWidget(df_gen_func, min_n=1, max_n=5)\n",
    "b64_bn"
   ]
  },
  {
   "cell_type": "code",
   "execution_count": 6,
   "id": "a443f732-3b99-4d52-9f28-fe50e56f000b",
   "metadata": {
    "tags": []
   },
   "outputs": [
    {
     "data": {
      "application/vnd.jupyter.widget-view+json": {
       "model_id": "",
       "version_major": 2,
       "version_minor": 0
      },
      "text/plain": [
       "BuckarooWidget(buckaroo_options={'sampled': ['random'], 'auto_clean': ['aggressive', 'conservative'], 'post_pr…"
      ]
     },
     "metadata": {},
     "output_type": "display_data"
    },
    {
     "data": {
      "application/vnd.jupyter.widget-view+json": {
       "model_id": "",
       "version_major": 2,
       "version_minor": 0
      },
      "text/plain": [
       "BytesBenchmarkWidget(df_arrow_bytes=b'ARROW1\\x00\\x00\\xff\\xff\\xff\\xffH\\x04\\x00\\x00\\x10\\x00\\x00\\x00\\x00\\x00\\n\\x0…"
      ]
     },
     "execution_count": 6,
     "metadata": {},
     "output_type": "execute_result"
    }
   ],
   "source": [
    "all_obs_dfs.append(b64_bn.bw.raw_df)\n",
    "b64_bn.bw.close()\n",
    "del b64_bn.bw\n",
    "b64_bn.close()\n",
    "del b64_bn\n",
    "byt_bn = BytesBenchmarkWidget(df_gen_func, min_n=1, max_n=6)\n",
    "byt_bn"
   ]
  },
  {
   "cell_type": "code",
   "execution_count": 7,
   "id": "3a1540f0-75a8-4f9a-87c9-6cbc3efb4382",
   "metadata": {
    "tags": []
   },
   "outputs": [
    {
     "data": {
      "application/vnd.jupyter.widget-view+json": {
       "model_id": "",
       "version_major": 2,
       "version_minor": 0
      },
      "text/plain": [
       "BuckarooWidget(buckaroo_options={'sampled': ['random'], 'auto_clean': ['aggressive', 'conservative'], 'post_pr…"
      ]
     },
     "metadata": {},
     "output_type": "display_data"
    },
    {
     "data": {
      "application/vnd.jupyter.widget-view+json": {
       "model_id": "",
       "version_major": 2,
       "version_minor": 0
      },
      "text/plain": [
       "JSONDFBenchmarkWidget(df_data=[{'str': 'foo', 'log_normal': 62235203004.41235, 'bool': True, 'randint': 71}, {…"
      ]
     },
     "execution_count": 7,
     "metadata": {},
     "output_type": "execute_result"
    }
   ],
   "source": [
    "all_obs_dfs.append(byt_bn.bw.raw_df)\n",
    "byt_bn.bw.close()\n",
    "del byt_bn.bw\n",
    "byt_bn.close()\n",
    "del byt_bn\n",
    "jsdf_bn = JSONDFBenchmarkWidget(df_gen_func, min_n=1, max_n=4)\n",
    "jsdf_bn"
   ]
  },
  {
   "cell_type": "code",
   "execution_count": 8,
   "id": "e0b9f6aa-8489-4c82-9f97-ed22857e38eb",
   "metadata": {},
   "outputs": [],
   "source": [
    "all_obs_dfs.append(jsdf_bn.bw.raw_df)\n",
    "jsdf_bn.bw.close()\n",
    "del jsdf_bn.bw\n",
    "jsdf_bn.close()\n",
    "del jsdf_bn"
   ]
  },
  {
   "cell_type": "code",
   "execution_count": 9,
   "id": "77c69302-6a98-4d74-ba30-2e913dd9c25d",
   "metadata": {
    "tags": []
   },
   "outputs": [],
   "source": [
    "def without(arr, removs):\n",
    "    new_arr = []\n",
    "    for k in arr:\n",
    "        if k in removs:\n",
    "            continue\n",
    "        new_arr.append(k)\n",
    "    return new_arr\n",
    "def reorder(df, first_cols):\n",
    "    all_cols = df.columns\n",
    "    rest_columns = without(all_cols, first_cols)\n",
    "    ord_cols = first_cols.copy()\n",
    "    ord_cols.extend(rest_columns)\n",
    "    return df[ord_cols]"
   ]
  },
  {
   "cell_type": "code",
   "execution_count": 10,
   "id": "e5050d68-5346-4db5-aa9c-410a379d8dd9",
   "metadata": {},
   "outputs": [],
   "source": [
    "def df_gen_func(exp):  # redefining here for nice screenshots\n",
    "    N = 20 * (10**exp)//2\n",
    "    big_df = df = pd.DataFrame({\n",
    "        'str': [\"foo\", \"barr\", \"bazz\", \"bofffff\"] * (N//4),\n",
    "        'log_normal': np.random.lognormal(25, .3, N),\n",
    "        'bool': [True, False] * (N//2),\n",
    "        'randint': np.random.randint(0,100,N)\n",
    "    })\n",
    "    return df"
   ]
  },
  {
   "cell_type": "code",
   "execution_count": 11,
   "id": "3a21ef01-262b-444b-8eac-ffc484a2cf3f",
   "metadata": {
    "tags": []
   },
   "outputs": [
    {
     "data": {
      "application/vnd.jupyter.widget-view+json": {
       "model_id": "0dd835042b424df4a8003265a8a9764e",
       "version_major": 2,
       "version_minor": 0
      },
      "text/plain": [
       "BuckarooWidget(buckaroo_options={'sampled': ['random'], 'auto_clean': ['aggressive', 'conservative'], 'post_pr…"
      ]
     },
     "metadata": {},
     "output_type": "display_data"
    }
   ],
   "source": [
    "full_df = pd.concat(all_obs_dfs)\n",
    "full_df['els_per_second'] = full_df['elements'] / full_df['roundtrip']\n",
    "full_df['bytes_per_second_full'] = full_df['bytes'] / full_df['roundtrip']\n",
    "full_df['bytes_per_second_xfer'] = full_df['bytes'] / full_df['widget_xfer']\n",
    "\n",
    "reorder(full_df, ['bytes', 'elements', 'klass', 'els_per_second', 'bytes_per_second_xfer'])"
   ]
  },
  {
   "cell_type": "code",
   "execution_count": null,
   "id": "78b94cf9-ae1a-499a-a64c-330ad5171a7d",
   "metadata": {},
   "outputs": [],
   "source": []
  }
 ],
 "metadata": {
  "kernelspec": {
   "display_name": "Python 3 (ipykernel)",
   "language": "python",
   "name": "python3"
  },
  "language_info": {
   "codemirror_mode": {
    "name": "ipython",
    "version": 3
   },
   "file_extension": ".py",
   "mimetype": "text/x-python",
   "name": "python",
   "nbconvert_exporter": "python",
   "pygments_lexer": "ipython3",
   "version": "3.8.18"
  },
  "widgets": {
   "application/vnd.jupyter.widget-state+json": {
    "state": {
     "0dd835042b424df4a8003265a8a9764e": {
      "model_module": "buckaroo",
      "model_module_version": "^0.6.5",
      "model_name": "DCEFWidgetModel",
      "state": {
       "_model_module_version": "^0.6.5",
       "_view_module_version": "^0.6.5",
       "_view_name": "DCEFWidgetView",
       "buckaroo_options": {
        "auto_clean": [
         "aggressive",
         "conservative"
        ],
        "df_display": [
         "main",
         "summary"
        ],
        "post_processing": [
         ""
        ],
        "sampled": [
         "random"
        ],
        "show_commands": [
         "on"
        ],
        "summary_stats": [
         "all"
        ]
       },
       "buckaroo_state": {
        "auto_clean": "conservative",
        "df_display": "main",
        "post_processing": "",
        "sampled": false,
        "search_string": "",
        "show_commands": false
       },
       "commandConfig": {},
       "df_data_dict": {
        "all_stats": [
         {
          "bytes": "int64",
          "bytes_per_second_full": "float64",
          "bytes_per_second_xfer": "float64",
          "elements": "int64",
          "els_per_second": "float64",
          "index": "dtype",
          "js_deserialize": "float64",
          "js_iterate": "float64",
          "klass": "object",
          "py_notify": "float64",
          "py_serialize": "float64",
          "roundtrip": "float64",
          "rows": "int64",
          "widget_xfer": "float64"
         },
         {
          "bytes": true,
          "bytes_per_second_full": true,
          "bytes_per_second_xfer": true,
          "elements": true,
          "els_per_second": true,
          "index": "is_numeric",
          "js_deserialize": true,
          "js_iterate": true,
          "klass": false,
          "py_notify": true,
          "py_serialize": true,
          "roundtrip": true,
          "rows": true,
          "widget_xfer": true
         },
         {
          "bytes": true,
          "bytes_per_second_full": false,
          "bytes_per_second_xfer": false,
          "elements": true,
          "els_per_second": false,
          "index": "is_integer",
          "js_deserialize": false,
          "js_iterate": false,
          "klass": false,
          "py_notify": false,
          "py_serialize": false,
          "roundtrip": false,
          "rows": true,
          "widget_xfer": false
         },
         {
          "bytes": false,
          "bytes_per_second_full": false,
          "bytes_per_second_xfer": false,
          "elements": false,
          "els_per_second": false,
          "index": "is_datetime",
          "js_deserialize": false,
          "js_iterate": false,
          "klass": false,
          "py_notify": false,
          "py_serialize": false,
          "roundtrip": false,
          "rows": false,
          "widget_xfer": false
         },
         {
          "bytes": false,
          "bytes_per_second_full": false,
          "bytes_per_second_xfer": false,
          "elements": false,
          "els_per_second": false,
          "index": "is_bool",
          "js_deserialize": false,
          "js_iterate": false,
          "klass": false,
          "py_notify": false,
          "py_serialize": false,
          "roundtrip": false,
          "rows": false,
          "widget_xfer": false
         },
         {
          "bytes": false,
          "bytes_per_second_full": true,
          "bytes_per_second_xfer": true,
          "elements": false,
          "els_per_second": true,
          "index": "is_float",
          "js_deserialize": true,
          "js_iterate": true,
          "klass": false,
          "py_notify": true,
          "py_serialize": true,
          "roundtrip": true,
          "rows": false,
          "widget_xfer": true
         },
         {
          "bytes": "integer",
          "bytes_per_second_full": "float",
          "bytes_per_second_xfer": "float",
          "elements": "integer",
          "els_per_second": "float",
          "index": "_type",
          "js_deserialize": "float",
          "js_iterate": "float",
          "klass": "string",
          "py_notify": "float",
          "py_serialize": "float",
          "roundtrip": "float",
          "rows": "integer",
          "widget_xfer": "float"
         },
         {
          "bytes": false,
          "bytes_per_second_full": false,
          "bytes_per_second_xfer": false,
          "elements": false,
          "els_per_second": false,
          "index": "is_string",
          "js_deserialize": false,
          "js_iterate": false,
          "klass": true,
          "py_notify": false,
          "py_serialize": false,
          "roundtrip": false,
          "rows": false,
          "widget_xfer": false
         },
         {
          "bytes": 288,
          "bytes_per_second_full": 288,
          "bytes_per_second_xfer": 288,
          "elements": 288,
          "els_per_second": 288,
          "index": "memory_usage",
          "js_deserialize": 288,
          "js_iterate": 288,
          "klass": 288,
          "py_notify": 288,
          "py_serialize": 288,
          "roundtrip": 288,
          "rows": 288,
          "widget_xfer": 288
         },
         {
          "bytes": 18,
          "bytes_per_second_full": 18,
          "bytes_per_second_xfer": 18,
          "elements": 18,
          "els_per_second": 18,
          "index": "length",
          "js_deserialize": 18,
          "js_iterate": 18,
          "klass": 18,
          "py_notify": 18,
          "py_serialize": 18,
          "roundtrip": 18,
          "rows": 18,
          "widget_xfer": 18
         },
         {
          "bytes": 5050,
          "bytes_per_second_full": 100820.5394397972,
          "bytes_per_second_xfer": 109935.5625217694,
          "elements": 400,
          "els_per_second": 7985.7853021622,
          "index": "min",
          "js_deserialize": 0,
          "js_iterate": 0,
          "klass": null,
          "py_notify": 0.001737,
          "py_serialize": 0.000397,
          "roundtrip": 0.005855,
          "rows": 100,
          "widget_xfer": 0.001269
         },
         {
          "bytes": 246303658,
          "bytes_per_second_full": 492670377.8083595,
          "bytes_per_second_xfer": 699031241.6631191,
          "elements": 40000000,
          "els_per_second": 80010241.3108878,
          "index": "max",
          "js_deserialize": 1.32,
          "js_iterate": 0.14,
          "klass": null,
          "py_notify": 0.007377,
          "py_serialize": 0.248398,
          "roundtrip": 1.773384,
          "rows": 10000000,
          "widget_xfer": 0.473198
         },
         {
          "bytes": 17708546.055555556,
          "bytes_per_second_full": 42661085.28224344,
          "bytes_per_second_xfer": 110692979.30409731,
          "elements": 2740800,
          "els_per_second": 6341043.013949466,
          "index": "mean",
          "js_deserialize": 0.0818888889,
          "js_iterate": 0.0351111111,
          "klass": 0,
          "py_notify": 0.0040537222,
          "py_serialize": 0.0274753333,
          "roundtrip": 0.1872114444,
          "rows": 685200,
          "widget_xfer": 0.0851615556
         },
         {
          "bytes": 0,
          "bytes_per_second_full": 0,
          "bytes_per_second_xfer": 0,
          "elements": 0,
          "els_per_second": 0,
          "index": "nan_count",
          "js_deserialize": 0,
          "js_iterate": 0,
          "klass": 0,
          "py_notify": 0,
          "py_serialize": 0,
          "roundtrip": 0,
          "rows": 0,
          "widget_xfer": 0
         },
         {
          "bytes": [
           2,
           2,
           1,
           1,
           1,
           1,
           1,
           1,
           1,
           1,
           1,
           1,
           1,
           1,
           1,
           1
          ],
          "bytes_per_second_full": [
           1,
           1,
           1,
           1,
           1,
           1,
           1,
           1,
           1,
           1,
           1,
           1,
           1,
           1,
           1,
           1,
           1,
           1
          ],
          "bytes_per_second_xfer": [
           1,
           1,
           1,
           1,
           1,
           1,
           1,
           1,
           1,
           1,
           1,
           1,
           1,
           1,
           1,
           1,
           1,
           1
          ],
          "elements": [
           6,
           3,
           3,
           3,
           2,
           1
          ],
          "els_per_second": [
           1,
           1,
           1,
           1,
           1,
           1,
           1,
           1,
           1,
           1,
           1,
           1,
           1,
           1,
           1,
           1,
           1,
           1
          ],
          "index": "value_counts",
          "js_deserialize": [
           10,
           2,
           1,
           1,
           1,
           1,
           1,
           1
          ],
          "js_iterate": [
           7,
           2,
           1,
           1,
           1,
           1,
           1,
           1,
           1,
           1,
           1
          ],
          "klass": [
           7,
           6,
           5
          ],
          "py_notify": [
           1,
           1,
           1,
           1,
           1,
           1,
           1,
           1,
           1,
           1,
           1,
           1,
           1,
           1,
           1,
           1,
           1,
           1
          ],
          "py_serialize": [
           1,
           1,
           1,
           1,
           1,
           1,
           1,
           1,
           1,
           1,
           1,
           1,
           1,
           1,
           1,
           1,
           1,
           1
          ],
          "roundtrip": [
           1,
           1,
           1,
           1,
           1,
           1,
           1,
           1,
           1,
           1,
           1,
           1,
           1,
           1,
           1,
           1,
           1,
           1
          ],
          "rows": [
           6,
           3,
           3,
           3,
           2,
           1
          ],
          "widget_xfer": [
           1,
           1,
           1,
           1,
           1,
           1,
           1,
           1,
           1,
           1,
           1,
           1,
           1,
           1,
           1,
           1,
           1,
           1
          ]
         },
         {
          "bytes": 5050,
          "bytes_per_second_full": 100820.5394397972,
          "bytes_per_second_xfer": 109935.5625217694,
          "elements": 400,
          "els_per_second": 7985.7853021622,
          "index": "mode",
          "js_deserialize": 0,
          "js_iterate": 0,
          "klass": "Bytes",
          "py_notify": 0.001737,
          "py_serialize": 0.000397,
          "roundtrip": 0.005855,
          "rows": 100,
          "widget_xfer": 0.001269
         },
         {
          "bytes": 0.8888888889,
          "bytes_per_second_full": 1,
          "bytes_per_second_xfer": 1,
          "elements": 0.3333333333,
          "els_per_second": 1,
          "index": "distinct_per",
          "js_deserialize": 0.4444444444,
          "js_iterate": 0.6111111111,
          "klass": 0.1666666667,
          "py_notify": 1,
          "py_serialize": 1,
          "roundtrip": 1,
          "rows": 0.3333333333,
          "widget_xfer": 1
         },
         {
          "bytes": 0,
          "bytes_per_second_full": 0,
          "bytes_per_second_xfer": 0,
          "elements": 0,
          "els_per_second": 0,
          "index": "empty_per",
          "js_deserialize": 0,
          "js_iterate": 0,
          "klass": 0,
          "py_notify": 0,
          "py_serialize": 0,
          "roundtrip": 0,
          "rows": 0,
          "widget_xfer": 0
         },
         {
          "bytes": 0.7777777778,
          "bytes_per_second_full": 1,
          "bytes_per_second_xfer": 1,
          "elements": 0.0555555556,
          "els_per_second": 1,
          "index": "unique_per",
          "js_deserialize": 0.3333333333,
          "js_iterate": 0.5,
          "klass": 0,
          "py_notify": 1,
          "py_serialize": 1,
          "roundtrip": 1,
          "rows": 0.0555555556,
          "widget_xfer": 1
         },
         {
          "bytes": 0,
          "bytes_per_second_full": 0,
          "bytes_per_second_xfer": 0,
          "elements": 0,
          "els_per_second": 0,
          "index": "nan_per",
          "js_deserialize": 0,
          "js_iterate": 0,
          "klass": 0,
          "py_notify": 0,
          "py_serialize": 0,
          "roundtrip": 0,
          "rows": 0,
          "widget_xfer": 0
         },
         {
          "bytes": 14,
          "bytes_per_second_full": 18,
          "bytes_per_second_xfer": 18,
          "elements": 1,
          "els_per_second": 18,
          "index": "unique_count",
          "js_deserialize": 6,
          "js_iterate": 9,
          "klass": 0,
          "py_notify": 18,
          "py_serialize": 18,
          "roundtrip": 18,
          "rows": 1,
          "widget_xfer": 18
         },
         {
          "bytes": 0,
          "bytes_per_second_full": 0,
          "bytes_per_second_xfer": 0,
          "elements": 0,
          "els_per_second": 0,
          "index": "empty_count",
          "js_deserialize": 0,
          "js_iterate": 0,
          "klass": 0,
          "py_notify": 0,
          "py_serialize": 0,
          "roundtrip": 0,
          "rows": 0,
          "widget_xfer": 0
         },
         {
          "bytes": 16,
          "bytes_per_second_full": 18,
          "bytes_per_second_xfer": 18,
          "elements": 6,
          "els_per_second": 18,
          "index": "distinct_count",
          "js_deserialize": 8,
          "js_iterate": 11,
          "klass": 3,
          "py_notify": 18,
          "py_serialize": 18,
          "roundtrip": 18,
          "rows": 6,
          "widget_xfer": 18
         },
         {
          "bytes": [
           {
            "name": "5050 - 5050.0",
            "tail": 1
           },
           {
            "name": "6736-3290413",
            "population": 80
           },
           {
            "name": "3290413-6574090",
            "population": 0
           },
           {
            "name": "6574090-9857766",
            "population": 7
           },
           {
            "name": "9857766-13141443",
            "population": 0
           },
           {
            "name": "13141443-16425120",
            "population": 0
           },
           {
            "name": "16425120-19708797",
            "population": 0
           },
           {
            "name": "19708797-22992474",
            "population": 0
           },
           {
            "name": "22992474-26276150",
            "population": 7
           },
           {
            "name": "26276150-29559827",
            "population": 0
           },
           {
            "name": "29559827-32843504",
            "population": 7
           },
           {
            "name": "210015431.81999964 - 246303658",
            "tail": 1
           }
          ],
          "bytes_per_second_full": [
           {
            "name": "100820.53943979715 - 106936.93725574651",
            "tail": 1
           },
           {
            "name": "136799-11822467",
            "population": 62
           },
           {
            "name": "11822467-23508135",
            "population": 19
           },
           {
            "name": "23508135-35193803",
            "population": 12
           },
           {
            "name": "35193803-46879471",
            "population": 0
           },
           {
            "name": "46879471-58565139",
            "population": 0
           },
           {
            "name": "58565139-70250807",
            "population": 0
           },
           {
            "name": "70250807-81936475",
            "population": 0
           },
           {
            "name": "81936475-93622143",
            "population": 0
           },
           {
            "name": "93622143-105307811",
            "population": 0
           },
           {
            "name": "105307811-116993479",
            "population": 6
           },
           {
            "name": "428805304.99235654 - 492670377.8083595",
            "tail": 1
           }
          ],
          "bytes_per_second_xfer": [
           {
            "name": "109935.56252176942 - 116348.8887638214",
            "tail": 1
           },
           {
            "name": "147661-44845010",
            "population": 62
           },
           {
            "name": "44845010-89542358",
            "population": 19
           },
           {
            "name": "89542358-134239707",
            "population": 0
           },
           {
            "name": "134239707-178937055",
            "population": 0
           },
           {
            "name": "178937055-223634404",
            "population": 6
           },
           {
            "name": "223634404-268331752",
            "population": 0
           },
           {
            "name": "268331752-313029101",
            "population": 0
           },
           {
            "name": "313029101-357726449",
            "population": 0
           },
           {
            "name": "357726449-402423798",
            "population": 6
           },
           {
            "name": "402423798-447121146",
            "population": 6
           },
           {
            "name": "656206525.4298625 - 699031241.6631191",
            "tail": 1
           }
          ],
          "elements": [
           {
            "name": "400 - 400.0",
            "tail": 1
           },
           {
            "name": "4000-403600",
            "population": 82
           },
           {
            "name": "403600-803200",
            "population": 0
           },
           {
            "name": "803200-1202800",
            "population": 0
           },
           {
            "name": "1202800-1602400",
            "population": 0
           },
           {
            "name": "1602400-2002000",
            "population": 0
           },
           {
            "name": "2002000-2401600",
            "population": 0
           },
           {
            "name": "2401600-2801200",
            "population": 0
           },
           {
            "name": "2801200-3200800",
            "population": 0
           },
           {
            "name": "3200800-3600400",
            "population": 0
           },
           {
            "name": "3600400-4000000",
            "population": 18
           },
           {
            "name": "33879999.99999994 - 40000000",
            "tail": 1
           }
          ],
          "els_per_second": [
           {
            "name": "7985.785302162151 - 8009.192864970053",
            "tail": 1
           },
           {
            "name": "8123-1907124",
            "population": 81
           },
           {
            "name": "1907124-3806125",
            "population": 12
           },
           {
            "name": "3806125-5705126",
            "population": 0
           },
           {
            "name": "5705126-7604127",
            "population": 0
           },
           {
            "name": "7604127-9503128",
            "population": 0
           },
           {
            "name": "9503128-11402129",
            "population": 0
           },
           {
            "name": "11402129-13301130",
            "population": 0
           },
           {
            "name": "13301130-15200131",
            "population": 0
           },
           {
            "name": "15200131-17099132",
            "population": 0
           },
           {
            "name": "17099132-18998133",
            "population": 6
           },
           {
            "name": "69638182.9717131 - 80010241.3108878",
            "tail": 1
           }
          ],
          "index": "histogram",
          "js_deserialize": [
           {
            "name": "0.0 - 0.0",
            "tail": 1
           },
           {
            "name": "0-0",
            "population": 71
           },
           {
            "name": "0-0",
            "population": 14
           },
           {
            "name": "0-0",
            "population": 0
           },
           {
            "name": "0-0",
            "population": 0
           },
           {
            "name": "0-0",
            "population": 0
           },
           {
            "name": "0-0",
            "population": 0
           },
           {
            "name": "0-0",
            "population": 0
           },
           {
            "name": "0-0",
            "population": 0
           },
           {
            "name": "0-0",
            "population": 0
           },
           {
            "name": "0-0",
            "population": 14
           },
           {
            "name": "1.1171899999999981 - 1.32",
            "tail": 1
           }
          ],
          "js_iterate": [
           {
            "name": "0.0 - 0.0",
            "tail": 1
           },
           {
            "name": "0-0",
            "population": 40
           },
           {
            "name": "0-0",
            "population": 20
           },
           {
            "name": "0-0",
            "population": 0
           },
           {
            "name": "0-0",
            "population": 0
           },
           {
            "name": "0-0",
            "population": 0
           },
           {
            "name": "0-0",
            "population": 0
           },
           {
            "name": "0-0",
            "population": 10
           },
           {
            "name": "0-0",
            "population": 20
           },
           {
            "name": "0-0",
            "population": 0
           },
           {
            "name": "0-0",
            "population": 10
           },
           {
            "name": "0.13983 - 0.14",
            "tail": 1
           }
          ],
          "klass": [
           {
            "cat_pop": 39,
            "name": "Bytes"
           },
           {
            "cat_pop": 33,
            "name": "Base64"
           },
           {
            "cat_pop": 28,
            "name": "JSONDF"
           }
          ],
          "py_notify": [
           {
            "name": "0.001737 - 0.0017625",
            "tail": 1
           },
           {
            "name": "0-0",
            "population": 19
           },
           {
            "name": "0-0",
            "population": 6
           },
           {
            "name": "0-0",
            "population": 0
           },
           {
            "name": "0-0",
            "population": 19
           },
           {
            "name": "0-0",
            "population": 31
           },
           {
            "name": "0-0",
            "population": 6
           },
           {
            "name": "0-0",
            "population": 12
           },
           {
            "name": "0-0",
            "population": 0
           },
           {
            "name": "0-0",
            "population": 0
           },
           {
            "name": "0-0",
            "population": 6
           },
           {
            "name": "0.007325829999999999 - 0.007377",
            "tail": 1
           }
          ],
          "py_serialize": [
           {
            "name": "0.000397 - 0.00041995",
            "tail": 1
           },
           {
            "name": "0-0",
            "population": 75
           },
           {
            "name": "0-0",
            "population": 6
           },
           {
            "name": "0-0",
            "population": 6
           },
           {
            "name": "0-0",
            "population": 0
           },
           {
            "name": "0-0",
            "population": 0
           },
           {
            "name": "0-0",
            "population": 6
           },
           {
            "name": "0-0",
            "population": 0
           },
           {
            "name": "0-0",
            "population": 0
           },
           {
            "name": "0-0",
            "population": 0
           },
           {
            "name": "0-0",
            "population": 6
           },
           {
            "name": "0.22560014999999978 - 0.248398",
            "tail": 1
           }
          ],
          "roundtrip": [
           {
            "name": "0.005855 - 0.00614468",
            "tail": 1
           },
           {
            "name": "0-0",
            "population": 69
           },
           {
            "name": "0-0",
            "population": 0
           },
           {
            "name": "0-0",
            "population": 6
           },
           {
            "name": "0-0",
            "population": 0
           },
           {
            "name": "0-0",
            "population": 12
           },
           {
            "name": "0-0",
            "population": 6
           },
           {
            "name": "0-0",
            "population": 0
           },
           {
            "name": "0-0",
            "population": 0
           },
           {
            "name": "0-0",
            "population": 0
           },
           {
            "name": "0-0",
            "population": 6
           },
           {
            "name": "1.5568978399999978 - 1.773384",
            "tail": 1
           }
          ],
          "rows": [
           {
            "name": "100 - 100.0",
            "tail": 1
           },
           {
            "name": "1000-100900",
            "population": 82
           },
           {
            "name": "100900-200800",
            "population": 0
           },
           {
            "name": "200800-300700",
            "population": 0
           },
           {
            "name": "300700-400600",
            "population": 0
           },
           {
            "name": "400600-500500",
            "population": 0
           },
           {
            "name": "500500-600400",
            "population": 0
           },
           {
            "name": "600400-700300",
            "population": 0
           },
           {
            "name": "700300-800200",
            "population": 0
           },
           {
            "name": "800200-900100",
            "population": 0
           },
           {
            "name": "900100-1000000",
            "population": 18
           },
           {
            "name": "8469999.999999985 - 10000000",
            "tail": 1
           }
          ],
          "widget_xfer": [
           {
            "name": "0.001269 - 0.00150462",
            "tail": 1
           },
           {
            "name": "0-0",
            "population": 50
           },
           {
            "name": "0-0",
            "population": 38
           },
           {
            "name": "0-0",
            "population": 0
           },
           {
            "name": "0-0",
            "population": 0
           },
           {
            "name": "0-0",
            "population": 0
           },
           {
            "name": "0-0",
            "population": 0
           },
           {
            "name": "0-0",
            "population": 0
           },
           {
            "name": "0-0",
            "population": 0
           },
           {
            "name": "0-0",
            "population": 0
           },
           {
            "name": "0-0",
            "population": 12
           },
           {
            "name": "0.45639043999999984 - 0.473198",
            "tail": 1
           }
          ]
         },
         {
          "bytes": {
           "high_tail": 210015431.81999964,
           "low_tail": 5050,
           "meat_histogram": [
            [
             12,
             0,
             1,
             0,
             0,
             0,
             0,
             1,
             0,
             1
            ],
            [
             6736,
             3290412.8,
             6574089.6,
             9857766.399999999,
             13141443.2,
             16425120,
             19708796.799999997,
             22992473.599999998,
             26276150.4,
             29559827.2,
             32843504
            ]
           ],
           "normalized_populations": [
            0.8,
            0,
            0.0666666667,
            0,
            0,
            0,
            0,
            0.0666666667,
            0,
            0.0666666667
           ]
          },
          "bytes_per_second_full": {
           "high_tail": 428805304.99235654,
           "low_tail": 106936.9372557465,
           "meat_histogram": [
            [
             10,
             3,
             2,
             0,
             0,
             0,
             0,
             0,
             0,
             1
            ],
            [
             136799.3501218522,
             11822467.304179564,
             23508135.258237276,
             35193803.212294996,
             46879471.166352704,
             58565139.12041041,
             70250807.07446814,
             81936475.02852584,
             93622142.98258355,
             105307810.93664126,
             116993478.89069898
            ]
           ],
           "normalized_populations": [
            0.625,
            0.1875,
            0.125,
            0,
            0,
            0,
            0,
            0,
            0,
            0.0625
           ]
          },
          "bytes_per_second_xfer": {
           "high_tail": 656206525.4298625,
           "low_tail": 116348.8887638214,
           "meat_histogram": [
            [
             10,
             3,
             0,
             0,
             1,
             0,
             0,
             0,
             1,
             1
            ],
            [
             147661.0110044281,
             44845009.52724167,
             89542358.04347892,
             134239706.55971617,
             178937055.0759534,
             223634403.59219065,
             268331752.10842788,
             313029100.62466514,
             357726449.1409024,
             402423797.65713966,
             447121146.17337686
            ]
           ],
           "normalized_populations": [
            0.625,
            0.1875,
            0,
            0,
            0.0625,
            0,
            0,
            0,
            0.0625,
            0.0625
           ]
          },
          "elements": {
           "high_tail": 33879999.99999994,
           "low_tail": 400,
           "meat_histogram": [
            [
             9,
             0,
             0,
             0,
             0,
             0,
             0,
             0,
             0,
             2
            ],
            [
             4000,
             403600,
             803200,
             1202800,
             1602400,
             2002000,
             2401600,
             2801200,
             3200800,
             3600400,
             4000000
            ]
           ],
           "normalized_populations": [
            0.8181818182,
            0,
            0,
            0,
            0,
            0,
            0,
            0,
            0,
            0.1818181818
           ]
          },
          "els_per_second": {
           "high_tail": 69638182.9717131,
           "low_tail": 8009.1928649701,
           "meat_histogram": [
            [
             13,
             2,
             0,
             0,
             0,
             0,
             0,
             0,
             0,
             1
            ],
            [
             8123.476848091,
             1907124.4725022984,
             3806125.468156506,
             5705126.463810713,
             7604127.459464921,
             9503128.455119127,
             11402129.450773334,
             13301130.446427543,
             15200131.44208175,
             17099132.43773596,
             18998133.433390167
            ]
           ],
           "normalized_populations": [
            0.8125,
            0.125,
            0,
            0,
            0,
            0,
            0,
            0,
            0,
            0.0625
           ]
          },
          "index": "histogram_args",
          "js_deserialize": {
           "high_tail": 1.11719,
           "low_tail": 0,
           "meat_histogram": [
            [
             5,
             1,
             0,
             0,
             0,
             0,
             0,
             0,
             0,
             1
            ],
            [
             0.001,
             0.0136,
             0.0262,
             0.0388,
             0.0514,
             0.064,
             0.0766,
             0.0892,
             0.1018,
             0.1144,
             0.127
            ]
           ],
           "normalized_populations": [
            0.7142857143,
            0.1428571429,
            0,
            0,
            0,
            0,
            0,
            0,
            0,
            0.1428571429
           ]
          },
          "js_iterate": {
           "high_tail": 0.13983,
           "low_tail": 0,
           "meat_histogram": [
            [
             4,
             2,
             0,
             0,
             0,
             0,
             1,
             2,
             0,
             1
            ],
            [
             0.001,
             0.0148,
             0.0286,
             0.0424,
             0.0562,
             0.07,
             0.0838,
             0.0976,
             0.1114,
             0.1252,
             0.139
            ]
           ],
           "normalized_populations": [
            0.4,
            0.2,
            0,
            0,
            0,
            0,
            0.1,
            0.2,
            0,
            0.1
           ]
          },
          "klass": {},
          "py_notify": {
           "high_tail": 0.00732583,
           "low_tail": 0.0017625,
           "meat_histogram": [
            [
             3,
             1,
             0,
             3,
             5,
             1,
             2,
             0,
             0,
             1
            ],
            [
             0.001887,
             0.0024059,
             0.0029248,
             0.0034437,
             0.0039626,
             0.0044815,
             0.0050004,
             0.0055193,
             0.0060382,
             0.0065571,
             0.007076
            ]
           ],
           "normalized_populations": [
            0.1875,
            0.0625,
            0,
            0.1875,
            0.3125,
            0.0625,
            0.125,
            0,
            0,
            0.0625
           ]
          },
          "py_serialize": {
           "high_tail": 0.22560015,
           "low_tail": 0.00041995,
           "meat_histogram": [
            [
             12,
             1,
             1,
             0,
             0,
             1,
             0,
             0,
             0,
             1
            ],
            [
             0.000532,
             0.0119081,
             0.0232842,
             0.0346603,
             0.0460364,
             0.0574125,
             0.0687886,
             0.0801647,
             0.0915408,
             0.1029169,
             0.114293
            ]
           ],
           "normalized_populations": [
            0.75,
            0.0625,
            0.0625,
            0,
            0,
            0.0625,
            0,
            0,
            0,
            0.0625
           ]
          },
          "roundtrip": {
           "high_tail": 1.55689784,
           "low_tail": 0.00614468,
           "meat_histogram": [
            [
             11,
             0,
             1,
             0,
             2,
             1,
             0,
             0,
             0,
             1
            ],
            [
             0.007559,
             0.0567967,
             0.1060344,
             0.1552721,
             0.2045098,
             0.2537475,
             0.3029852,
             0.3522229,
             0.4014606,
             0.4506983,
             0.499936
            ]
           ],
           "normalized_populations": [
            0.6875,
            0,
            0.0625,
            0,
            0.125,
            0.0625,
            0,
            0,
            0,
            0.0625
           ]
          },
          "rows": {
           "high_tail": 8469999.999999985,
           "low_tail": 100,
           "meat_histogram": [
            [
             9,
             0,
             0,
             0,
             0,
             0,
             0,
             0,
             0,
             2
            ],
            [
             1000,
             100900,
             200800,
             300700,
             400600,
             500500,
             600400,
             700300,
             800200,
             900100,
             1000000
            ]
           ],
           "normalized_populations": [
            0.8181818182,
            0,
            0,
            0,
            0,
            0,
            0,
            0,
            0,
            0.1818181818
           ]
          },
          "widget_xfer": {
           "high_tail": 0.45639044,
           "low_tail": 0.00150462,
           "meat_histogram": [
            [
             8,
             6,
             0,
             0,
             0,
             0,
             0,
             0,
             0,
             2
            ],
            [
             0.002655,
             0.0398225,
             0.07699,
             0.1141575,
             0.151325,
             0.1884925,
             0.22566,
             0.2628275,
             0.299995,
             0.3371625,
             0.37433
            ]
           ],
           "normalized_populations": [
            0.5,
            0.375,
            0,
            0,
            0,
            0,
            0,
            0,
            0,
            0.125
           ]
          }
         },
         {
          "bytes": [
           6736,
           3290412.8,
           6574089.6,
           9857766.399999999,
           13141443.2,
           16425120,
           19708796.799999997,
           22992473.599999998,
           26276150.4,
           29559827.2,
           32843504
          ],
          "bytes_per_second_full": [
           136799.3501218522,
           11822467.304179564,
           23508135.258237276,
           35193803.212294996,
           46879471.166352704,
           58565139.12041041,
           70250807.07446814,
           81936475.02852584,
           93622142.98258355,
           105307810.93664126,
           116993478.89069898
          ],
          "bytes_per_second_xfer": [
           147661.0110044281,
           44845009.52724167,
           89542358.04347892,
           134239706.55971617,
           178937055.0759534,
           223634403.59219065,
           268331752.10842788,
           313029100.62466514,
           357726449.1409024,
           402423797.65713966,
           447121146.17337686
          ],
          "elements": [
           4000,
           403600,
           803200,
           1202800,
           1602400,
           2002000,
           2401600,
           2801200,
           3200800,
           3600400,
           4000000
          ],
          "els_per_second": [
           8123.476848091,
           1907124.4725022984,
           3806125.468156506,
           5705126.463810713,
           7604127.459464921,
           9503128.455119127,
           11402129.450773334,
           13301130.446427543,
           15200131.44208175,
           17099132.43773596,
           18998133.433390167
          ],
          "index": "histogram_bins",
          "js_deserialize": [
           0.001,
           0.0136,
           0.0262,
           0.0388,
           0.0514,
           0.064,
           0.0766,
           0.0892,
           0.1018,
           0.1144,
           0.127
          ],
          "js_iterate": [
           0.001,
           0.0148,
           0.0286,
           0.0424,
           0.0562,
           0.07,
           0.0838,
           0.0976,
           0.1114,
           0.1252,
           0.139
          ],
          "klass": [],
          "py_notify": [
           0.001887,
           0.0024059,
           0.0029248,
           0.0034437,
           0.0039626,
           0.0044815,
           0.0050004,
           0.0055193,
           0.0060382,
           0.0065571,
           0.007076
          ],
          "py_serialize": [
           0.000532,
           0.0119081,
           0.0232842,
           0.0346603,
           0.0460364,
           0.0574125,
           0.0687886,
           0.0801647,
           0.0915408,
           0.1029169,
           0.114293
          ],
          "roundtrip": [
           0.007559,
           0.0567967,
           0.1060344,
           0.1552721,
           0.2045098,
           0.2537475,
           0.3029852,
           0.3522229,
           0.4014606,
           0.4506983,
           0.499936
          ],
          "rows": [
           1000,
           100900,
           200800,
           300700,
           400600,
           500500,
           600400,
           700300,
           800200,
           900100,
           1000000
          ],
          "widget_xfer": [
           0.002655,
           0.0398225,
           0.07699,
           0.1141575,
           0.151325,
           0.1884925,
           0.22566,
           0.2628275,
           0.299995,
           0.3371625,
           0.37433
          ]
         }
        ],
        "empty": [],
        "main": [
         {
          "bytes": 6736,
          "bytes_per_second_full": 136799.3501218522,
          "bytes_per_second_xfer": 147661.0110044281,
          "elements": 400,
          "els_per_second": 8123.476848091,
          "index": 0,
          "js_deserialize": 0.001,
          "js_iterate": 0,
          "klass": "Base64",
          "py_notify": 0.003712,
          "py_serialize": 0.004099,
          "roundtrip": 0.04924,
          "rows": 100,
          "widget_xfer": 0.045618
         },
         {
          "bytes": 6736,
          "bytes_per_second_full": 748028.8728484175,
          "bytes_per_second_xfer": 1050366.4431623265,
          "elements": 400,
          "els_per_second": 44419.7667962243,
          "index": 1,
          "js_deserialize": 0.001,
          "js_iterate": 0,
          "klass": "Base64",
          "py_notify": 0.002301,
          "py_serialize": 0.001772,
          "roundtrip": 0.009005,
          "rows": 100,
          "widget_xfer": 0.006413
         },
         {
          "bytes": 36280,
          "bytes_per_second_full": 3293391.430646333,
          "bytes_per_second_xfer": 10944193.06184012,
          "elements": 4000,
          "els_per_second": 363108.2062454611,
          "index": 2,
          "js_deserialize": 0.002,
          "js_iterate": 0.002,
          "klass": "Base64",
          "py_notify": 0.004206,
          "py_serialize": 0.001462,
          "roundtrip": 0.011016,
          "rows": 1000,
          "widget_xfer": 0.003315
         },
         {
          "bytes": 331792,
          "bytes_per_second_full": 8571221.906484112,
          "bytes_per_second_xfer": 52648682.95779117,
          "elements": 40000,
          "els_per_second": 1033324.7222939809,
          "index": 3,
          "js_deserialize": 0.015,
          "js_iterate": 0.015,
          "klass": "Base64",
          "py_notify": 0.004033,
          "py_serialize": 0.001454,
          "roundtrip": 0.03871,
          "rows": 10000,
          "widget_xfer": 0.006302
         },
         {
          "bytes": 3287236,
          "bytes_per_second_full": 12542058.856072368,
          "bytes_per_second_xfer": 68566935.04651454,
          "elements": 400000,
          "els_per_second": 1526152.531314742,
          "index": 4,
          "js_deserialize": 0.127,
          "js_iterate": 0.097,
          "klass": "Base64",
          "py_notify": 0.00525,
          "py_serialize": 0.00733,
          "roundtrip": 0.262097,
          "rows": 100000,
          "widget_xfer": 0.047942
         },
         {
          "bytes": 32843504,
          "bytes_per_second_full": 18520243.78250847,
          "bytes_per_second_xfer": 69407529.19496702,
          "elements": 4000000,
          "els_per_second": 2255574.652754282,
          "index": 5,
          "js_deserialize": 1.32,
          "js_iterate": 0.104,
          "klass": "Base64",
          "py_notify": 0.003947,
          "py_serialize": 0.061409,
          "roundtrip": 1.773384,
          "rows": 1000000,
          "widget_xfer": 0.473198
         },
         {
          "bytes": 5050,
          "bytes_per_second_full": 100820.5394397972,
          "bytes_per_second_xfer": 109935.5625217694,
          "elements": 400,
          "els_per_second": 7985.7853021622,
          "index": 0,
          "js_deserialize": 0,
          "js_iterate": 0,
          "klass": "Bytes",
          "py_notify": 0.004812,
          "py_serialize": 0.001742,
          "roundtrip": 0.050089,
          "rows": 100,
          "widget_xfer": 0.045936
         },
         {
          "bytes": 5050,
          "bytes_per_second_full": 486137.8513669619,
          "bytes_per_second_xfer": 786236.9609216877,
          "elements": 400,
          "els_per_second": 38505.9684251059,
          "index": 1,
          "js_deserialize": 0,
          "js_iterate": 0,
          "klass": "Bytes",
          "py_notify": 0.005473,
          "py_serialize": 0.001413,
          "roundtrip": 0.010388,
          "rows": 100,
          "widget_xfer": 0.006423
         },
         {
          "bytes": 27210,
          "bytes_per_second_full": 4647309.991460291,
          "bytes_per_second_xfer": 10248587.57062147,
          "elements": 4000,
          "els_per_second": 683176.7719897523,
          "index": 2,
          "js_deserialize": 0,
          "js_iterate": 0.002,
          "klass": "Bytes",
          "py_notify": 0.001737,
          "py_serialize": 0.001388,
          "roundtrip": 0.005855,
          "rows": 1000,
          "widget_xfer": 0.002655
         },
         {
          "bytes": 248842,
          "bytes_per_second_full": 10257718.784780907,
          "bytes_per_second_xfer": 196092986.6036249,
          "elements": 40000,
          "els_per_second": 1648872.58337112,
          "index": 3,
          "js_deserialize": 0,
          "js_iterate": 0.016,
          "klass": "Bytes",
          "py_notify": 0.007377,
          "py_serialize": 0.002701,
          "roundtrip": 0.024259,
          "rows": 10000,
          "widget_xfer": 0.001269
         },
         {
          "bytes": 2465426,
          "bytes_per_second_full": 21558464.49807625,
          "bytes_per_second_xfer": 447121146.17337686,
          "elements": 400000,
          "els_per_second": 3497726.477789437,
          "index": 4,
          "js_deserialize": 0,
          "js_iterate": 0.102,
          "klass": "Bytes",
          "py_notify": 0.007076,
          "py_serialize": 0.003765,
          "roundtrip": 0.11436,
          "rows": 100000,
          "widget_xfer": 0.005514
         },
         {
          "bytes": 24632626,
          "bytes_per_second_full": 116993478.89069898,
          "bytes_per_second_xfer": 385704403.1066015,
          "elements": 4000000,
          "els_per_second": 18998133.433390167,
          "index": 5,
          "js_deserialize": 0.003,
          "js_iterate": 0.14,
          "klass": "Bytes",
          "py_notify": 0.004029,
          "py_serialize": 0.026646,
          "roundtrip": 0.210547,
          "rows": 1000000,
          "widget_xfer": 0.063864
         },
         {
          "bytes": 246303658,
          "bytes_per_second_full": 492670377.8083595,
          "bytes_per_second_xfer": 699031241.6631191,
          "elements": 40000000,
          "els_per_second": 80010241.3108878,
          "index": 6,
          "js_deserialize": 0.005,
          "js_iterate": 0.139,
          "klass": "Bytes",
          "py_notify": 0.00424,
          "py_serialize": 0.248398,
          "roundtrip": 0.499936,
          "rows": 10000000,
          "widget_xfer": 0.35235
         },
         {
          "bytes": 7697,
          "bytes_per_second_full": 178257.9494661757,
          "bytes_per_second_xfer": 182328.5562004027,
          "elements": 400,
          "els_per_second": 9263.7624771301,
          "index": 0,
          "js_deserialize": 0,
          "js_iterate": 0,
          "klass": "JSONDF",
          "py_notify": 0.002133,
          "py_serialize": 0.000532,
          "roundtrip": 0.043179,
          "rows": 100,
          "widget_xfer": 0.042215
         },
         {
          "bytes": 7685,
          "bytes_per_second_full": 859331.3205859332,
          "bytes_per_second_xfer": 1168110.6551147592,
          "elements": 400,
          "els_per_second": 44727.7200044728,
          "index": 1,
          "js_deserialize": 0,
          "js_iterate": 0,
          "klass": "JSONDF",
          "py_notify": 0.004369,
          "py_serialize": 0.000397,
          "roundtrip": 0.008943,
          "rows": 100,
          "widget_xfer": 0.006579
         },
         {
          "bytes": 76930,
          "bytes_per_second_full": 10177272.125942586,
          "bytes_per_second_xfer": 10129032.258064516,
          "elements": 4000,
          "els_per_second": 529170.5252017463,
          "index": 2,
          "js_deserialize": 0,
          "js_iterate": 0,
          "klass": "JSONDF",
          "py_notify": 0.002718,
          "py_serialize": 0.002204,
          "roundtrip": 0.007559,
          "rows": 1000,
          "widget_xfer": 0.007595
         },
         {
          "bytes": 769241,
          "bytes_per_second_full": 32340073.993105184,
          "bytes_per_second_xfer": 18585189.659338,
          "elements": 40000,
          "els_per_second": 1681661.4815437652,
          "index": 3,
          "js_deserialize": 0,
          "js_iterate": 0.001,
          "klass": "JSONDF",
          "py_notify": 0.001887,
          "py_serialize": 0.013551,
          "roundtrip": 0.023786,
          "rows": 10000,
          "widget_xfer": 0.04139
         },
         {
          "bytes": 7692130,
          "bytes_per_second_full": 33818547.12841774,
          "bytes_per_second_xfer": 20549060.988966953,
          "elements": 400000,
          "els_per_second": 1758605.0744549425,
          "index": 4,
          "js_deserialize": 0,
          "js_iterate": 0.014,
          "klass": "JSONDF",
          "py_notify": 0.003667,
          "py_serialize": 0.114293,
          "roundtrip": 0.227453,
          "rows": 100000,
          "widget_xfer": 0.37433
         }
        ]
       },
       "df_display_args": {
        "main": {
         "data_key": "main",
         "df_viewer_config": {
          "column_config": [
           {
            "col_name": "index",
            "displayer_args": {
             "displayer": "float",
             "max_fraction_digits": 0,
             "min_fraction_digits": 0
            }
           },
           {
            "col_name": "bytes",
            "displayer_args": {
             "displayer": "float",
             "max_fraction_digits": 0,
             "min_fraction_digits": 0
            }
           },
           {
            "col_name": "elements",
            "displayer_args": {
             "displayer": "float",
             "max_fraction_digits": 0,
             "min_fraction_digits": 0
            }
           },
           {
            "col_name": "klass",
            "displayer_args": {
             "displayer": "string",
             "max_length": 35
            }
           },
           {
            "col_name": "els_per_second",
            "displayer_args": {
             "displayer": "float",
             "max_fraction_digits": 3,
             "min_fraction_digits": 3
            }
           },
           {
            "col_name": "bytes_per_second_xfer",
            "displayer_args": {
             "displayer": "float",
             "max_fraction_digits": 3,
             "min_fraction_digits": 3
            }
           },
           {
            "col_name": "rows",
            "displayer_args": {
             "displayer": "float",
             "max_fraction_digits": 0,
             "min_fraction_digits": 0
            }
           },
           {
            "col_name": "py_serialize",
            "displayer_args": {
             "displayer": "float",
             "max_fraction_digits": 3,
             "min_fraction_digits": 3
            }
           },
           {
            "col_name": "widget_xfer",
            "displayer_args": {
             "displayer": "float",
             "max_fraction_digits": 3,
             "min_fraction_digits": 3
            }
           },
           {
            "col_name": "js_deserialize",
            "displayer_args": {
             "displayer": "float",
             "max_fraction_digits": 3,
             "min_fraction_digits": 3
            }
           },
           {
            "col_name": "js_iterate",
            "displayer_args": {
             "displayer": "float",
             "max_fraction_digits": 3,
             "min_fraction_digits": 3
            }
           },
           {
            "col_name": "py_notify",
            "displayer_args": {
             "displayer": "float",
             "max_fraction_digits": 3,
             "min_fraction_digits": 3
            }
           },
           {
            "col_name": "roundtrip",
            "displayer_args": {
             "displayer": "float",
             "max_fraction_digits": 3,
             "min_fraction_digits": 3
            }
           },
           {
            "col_name": "bytes_per_second_full",
            "displayer_args": {
             "displayer": "float",
             "max_fraction_digits": 3,
             "min_fraction_digits": 3
            }
           }
          ],
          "component_config": {},
          "extra_grid_config": {},
          "pinned_rows": [
           {
            "displayer_args": {
             "displayer": "obj"
            },
            "primary_key_val": "dtype"
           },
           {
            "displayer_args": {
             "displayer": "histogram"
            },
            "primary_key_val": "histogram"
           }
          ]
         },
         "summary_stats_key": "all_stats"
        },
        "summary": {
         "data_key": "empty",
         "df_viewer_config": {
          "column_config": [
           {
            "col_name": "index",
            "displayer_args": {
             "displayer": "obj"
            }
           },
           {
            "col_name": "bytes",
            "displayer_args": {
             "displayer": "obj"
            }
           },
           {
            "col_name": "elements",
            "displayer_args": {
             "displayer": "obj"
            }
           },
           {
            "col_name": "klass",
            "displayer_args": {
             "displayer": "obj"
            }
           },
           {
            "col_name": "els_per_second",
            "displayer_args": {
             "displayer": "obj"
            }
           },
           {
            "col_name": "bytes_per_second_xfer",
            "displayer_args": {
             "displayer": "obj"
            }
           },
           {
            "col_name": "rows",
            "displayer_args": {
             "displayer": "obj"
            }
           },
           {
            "col_name": "py_serialize",
            "displayer_args": {
             "displayer": "obj"
            }
           },
           {
            "col_name": "widget_xfer",
            "displayer_args": {
             "displayer": "obj"
            }
           },
           {
            "col_name": "js_deserialize",
            "displayer_args": {
             "displayer": "obj"
            }
           },
           {
            "col_name": "js_iterate",
            "displayer_args": {
             "displayer": "obj"
            }
           },
           {
            "col_name": "py_notify",
            "displayer_args": {
             "displayer": "obj"
            }
           },
           {
            "col_name": "roundtrip",
            "displayer_args": {
             "displayer": "obj"
            }
           },
           {
            "col_name": "bytes_per_second_full",
            "displayer_args": {
             "displayer": "obj"
            }
           }
          ],
          "component_config": {},
          "extra_grid_config": {},
          "pinned_rows": [
           {
            "displayer_args": {
             "displayer": "obj"
            },
            "primary_key_val": "dtype"
           },
           {
            "displayer_args": {
             "displayer": "float",
             "max_fraction_digits": 3,
             "min_fraction_digits": 3
            },
            "primary_key_val": "min"
           },
           {
            "displayer_args": {
             "displayer": "float",
             "max_fraction_digits": 3,
             "min_fraction_digits": 3
            },
            "primary_key_val": "mean"
           },
           {
            "displayer_args": {
             "displayer": "float",
             "max_fraction_digits": 3,
             "min_fraction_digits": 3
            },
            "primary_key_val": "max"
           },
           {
            "displayer_args": {
             "displayer": "float",
             "max_fraction_digits": 0,
             "min_fraction_digits": 0
            },
            "primary_key_val": "unique_count"
           },
           {
            "displayer_args": {
             "displayer": "float",
             "max_fraction_digits": 0,
             "min_fraction_digits": 0
            },
            "primary_key_val": "distinct_count"
           },
           {
            "displayer_args": {
             "displayer": "float",
             "max_fraction_digits": 0,
             "min_fraction_digits": 0
            },
            "primary_key_val": "empty_count"
           }
          ]
         },
         "summary_stats_key": "all_stats"
        }
       },
       "df_meta": {
        "columns": 13,
        "rows_shown": 18,
        "total_rows": 18
       },
       "layout": "IPY_MODEL_85e44de47a9f42ccaacae98fe3b3856b",
       "operation_results": {
        "generated_py_code": "# instantiation, unused",
        "transformed_df": {
         "column_config": [],
         "data": [],
         "pinned_rows": []
        }
       },
       "operations": []
      }
     },
     "28c2908f14be4f21bbc877d378a46f07": {
      "model_module": "@jupyter-widgets/base",
      "model_module_version": "2.0.0",
      "model_name": "LayoutModel",
      "state": {}
     },
     "85e44de47a9f42ccaacae98fe3b3856b": {
      "model_module": "@jupyter-widgets/base",
      "model_module_version": "2.0.0",
      "model_name": "LayoutModel",
      "state": {}
     },
     "879f0eee0f074f449416e35df5506076": {
      "model_module": "@jupyter-widgets/base",
      "model_module_version": "2.0.0",
      "model_name": "LayoutModel",
      "state": {}
     },
     "9a2d0fbe136e4a8f92d5407253e1112f": {
      "model_module": "@jupyter-widgets/base",
      "model_module_version": "2.0.0",
      "model_name": "LayoutModel",
      "state": {}
     },
     "b55080af5c3e46c2800344f1ce6282c6": {
      "model_module": "@jupyter-widgets/base",
      "model_module_version": "2.0.0",
      "model_name": "LayoutModel",
      "state": {}
     },
     "be3f05c19045408f9c2efa1b7a5693c8": {
      "model_module": "@jupyter-widgets/base",
      "model_module_version": "2.0.0",
      "model_name": "LayoutModel",
      "state": {}
     },
     "d5788c26b9ca4accbf5e026343ef1d3f": {
      "model_module": "@jupyter-widgets/base",
      "model_module_version": "2.0.0",
      "model_name": "LayoutModel",
      "state": {}
     }
    },
    "version_major": 2,
    "version_minor": 0
   }
  }
 },
 "nbformat": 4,
 "nbformat_minor": 5
}
