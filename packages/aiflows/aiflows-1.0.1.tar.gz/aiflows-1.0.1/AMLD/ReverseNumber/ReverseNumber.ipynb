{
 "cells": [
  {
   "cell_type": "markdown",
   "metadata": {},
   "source": [
    "# Tutorial 1\n",
    "\n",
    "**In this tutorial you will:**\n",
    "- learn the Flow basics and implement your first Flow [Section 1](#1-writing-your-first-atomicflow-reversenumberatomicflow)\n",
    "- understand the basics of Flows engine and serve your first Flow [Section 2](#2-flow-engine)\n",
    "- learn how to call served Flows [Section 2](#24-getting-an-instance-of-the-served-flow-via-a-proxy)\n",
    "- learn how to compose Flows into more complex Flows [Section 3]"
   ]
  },
  {
   "cell_type": "code",
   "execution_count": 1,
   "metadata": {},
   "outputs": [
    {
     "name": "stderr",
     "output_type": "stream",
     "text": [
      "/Users/nicolasbaldwin/opt/miniconda3/envs/mockenv/lib/python3.11/site-packages/tqdm/auto.py:21: TqdmWarning: IProgress not found. Please update jupyter and ipywidgets. See https://ipywidgets.readthedocs.io/en/stable/user_install.html\n",
      "  from .autonotebook import tqdm as notebook_tqdm\n"
     ]
    }
   ],
   "source": [
    "%load_ext autoreload\n",
    "%autoreload 2\n",
    "#imports\n",
    "from aiflows.utils.general_helpers import read_yaml_file\n",
    "from aiflows.utils import serve_utils\n",
    "from aiflows.utils import colink_utils\n",
    "from aiflows.workers import run_dispatch_worker_thread\n",
    "from aiflows.base_flows import AtomicFlow\n",
    "from aiflows.messages import FlowMessage\n",
    "import sys\n",
    "import os\n",
    "sys.path.append(\"..\")\n",
    "from utils import compile_and_writefile, dict_to_yaml\n",
    "\n",
    "#Specify path of your flow modules\n",
    "FLOW_MODULES_PATH = \"./\""
   ]
  },
  {
   "cell_type": "markdown",
   "metadata": {},
   "source": [
    "## 1. Writing your First AtomicFlow: ReverseNumberAtomicFlow\n",
    "\n",
    "In this section we will introduce the concept of a Flow and implement a simple Flow that reverses a number passed in the input message.\n",
    "\n",
    "In a nutshell, Flows are objects that perform semantically meaningful unit of work and comunicate via messages.\n",
    "\n",
    "There are two types of Flows: \n",
    "1) **Atomic Flows:** Performs the computation directly\n",
    "2) **Composite Flows:** Orchestrates other Flows in performing the computation\n",
    "\n",
    "When a message is send to a Flow, the Flow processes the message according to the logic specified in its `run` method. We will now go through the implementation of the `ReverseNumberAtomicFlow`: a flow who given a number, reverses it (e.g., 12345-> 54321).\n",
    "\n",
    "In Section 3, we see provide an example implementation of a Composite Flow."
   ]
  },
  {
   "cell_type": "markdown",
   "metadata": {},
   "source": [
    "### 1.1 Writing the ReverseNumberAtomicFlow\n",
    "\n",
    "To implement a Flow, you must define its run method. This method takes an input_message as its input, which is an instance of the FlowMessage class. Within the FlowMessage, there are two important attributes to consider:\n",
    "\n",
    " - 1. `data`: This attribute is a dictionary containing the data that the Flow will process.\n",
    " - 2. `reply_data`: Another dictionary, it holds necessary information to send a reply message back to the sender of the input message. Typically, direct modification of this attribute isn't recommended. Instead, utilize the provided methods for modifying it (these methods will be introduced throughout the notebook).\n",
    "\n",
    "When defining a Flow, it's crucial to specify the `input_interface` and `output_interface` in the configuration file. These interfaces specify the expected keys in the `data` attribute of the `input_message` and what will be returned in the `data` attribute when sending the message back. This ensures proper calling of your flow by other users. For instance, in the `ReverseNumberAtomicFlow`, the `input_interface` expects a key `number` in the `data` attribute of the `input_message`, while the `output_interface` will include a key `reversed_number` in the `data` attribute of the sent message. Once the number is reversed, package the response dictionary into a message using the `package_output_message` method. This method packages the dictionary into a message and adjusts the `reply_data` attribute of the message to match that of the input message, ensuring it is sent back to the original sender. Finally, the reply is sent back using the `send_message` method.\n"
   ]
  },
  {
   "cell_type": "code",
   "execution_count": 2,
   "metadata": {},
   "outputs": [],
   "source": [
    "%%compile_and_writefile ./ReverseNumberFlowModule/ReverseNumberAtomicFlow.py\n",
    "\n",
    "\n",
    "from aiflows.base_flows import AtomicFlow\n",
    "from aiflows.messages import FlowMessage\n",
    "\n",
    "class ReverseNumberAtomicFlow(AtomicFlow):\n",
    "    def __init__(self, **kwargs):\n",
    "        super().__init__(**kwargs)\n",
    "\n",
    "    # Customize the logic within this function as needed for your specific flow requirements.\n",
    "    def run(self, input_message: FlowMessage):\n",
    "        ## ~~~~ Getting the input ~~~~\n",
    "\n",
    "        # Get the input dictionary from the input message\n",
    "        input_data = input_message.data\n",
    "        \n",
    "        #get input number from data dictionary\n",
    "        input_number = input_data[\"number\"]\n",
    "        \n",
    "        ## ~~~~ Main logic ~~~~\n",
    "        ########## YOUR CODE GOES HERE ##########\n",
    "        # TODO: Reverse the input number (e.g. 1234 -> 4321)\n",
    "        reversed_number = int(str(input_number)[::-1])\n",
    "        ########## YOUR CODE GOES HERE ##########\n",
    "        \n",
    "        # ~~~ Preparing the response message ~~~\n",
    "        response = {\"reversed_number\": reversed_number}\n",
    "        \n",
    "        # This method packages the `response` in a FlowMessage object \n",
    "        # containing the necessary metadata to send the message back\n",
    "        # to the sender of the input message  \n",
    "        reply = self.package_output_message(\n",
    "            input_message=input_message,\n",
    "            response=response,\n",
    "        )\n",
    "        \n",
    "        # ~~~ Sending the response ~~~\n",
    "        self.send_message(\n",
    "            reply\n",
    "        )\n",
    "\n"
   ]
  },
  {
   "cell_type": "markdown",
   "metadata": {},
   "source": [
    "Note: Please be aware that the cell magic `compile_and_writefile` is saving the cell above at `./ReverseNumberFlowModule/ReverseNumberAtomicFlow.py`.\n"
   ]
  },
  {
   "cell_type": "markdown",
   "metadata": {},
   "source": [
    "\n",
    "### 1.2 Creating the Default Configuration File for the Reverse Number Flow Class\n",
    "\n",
    "For each Flow class, there exists a corresponding default configuration file. This file delineates the parameters to be configured for the Flow. Access to each field in the configuration file is facilitated within the Flow class through the syntax `self.flow_config[\"FIELD_NAME\"]`. For instance, to retrieve the `input_interface` field, you would utilize `self.flow_config[\"input_interface\"]`.\n",
    "\n",
    "Now, let's proceed with composing the configuration file for the `ReverseNumberAtomicFlow`. It's noteworthy that we define it as a dictionary here and subsequently save it to a `.yaml` file. However, you also have the option to directly craft the configuration within a `.yaml` file. \n",
    "\n",
    "**IMPORTANT: Ensure that the configuration file is named identical to the Flow class name and is placed in the same directory as the flow. If you don't, it won't be considered as the default configuration file of that flow.**"
   ]
  },
  {
   "cell_type": "code",
   "execution_count": 3,
   "metadata": {},
   "outputs": [],
   "source": [
    "default_config_reverse_number = \\\n",
    "{\n",
    "    \"name\": \"ReverseNumber\",\n",
    "    \"description\": \"A flow that takes in a number and reverses it.\",\n",
    "\n",
    "    \"_target_\": \"ReverseNumberFlowModule.ReverseNumberAtomicFlow.ReverseNumberAtomicFlow.instantiate_from_default_config\",\n",
    "\n",
    "    \"input_interface\": \"number\",\n",
    "    \"output_interface\": \"reversed_number\",\n",
    "}\n",
    "dict_to_yaml(default_config_reverse_number, \"./ReverseNumberFlowModule/ReverseNumberAtomicFlow.yaml\")"
   ]
  },
  {
   "cell_type": "markdown",
   "metadata": {},
   "source": [
    "Let's dissect the configuration file for the `ReverseNumberAtomicFlow`:\n",
    "\n",
    "- **`name` and `description`**: These parameters are straightforward. When defining a Flow, these must always be specified. Although they don't directly affect the functionality of the Flow, they are essential for documentation purposes.\n",
    "\n",
    "- **`_target_`**: This parameter specifies how the flow will be instantiated by `hydra`, a framework for configuring complex applications. It should always specify the path to the Flow class followed by `instantiate_from_default_config`. This standardizes the instantiation process from the default configuration file. For example, the value of `_target_` is `ReverseNumberFlowModule.ReverseNumberAtomic.ReverseNumberAtomicFlow.instantiate_from_default_config`, where `ReverseNumberFlowModule/ReverseNumberAtomic.py` is the path to the Flow class, and the class name in `ReverseNumberAtomic.py` is `ReverseNumberAtomic`.\n",
    "\n",
    "- **`input_interface`**: This parameter outlines the keys expected in the `data` attribute of the input message. Here, the `number` key is expected.\n",
    "\n",
    "- **`output_interface`**: Specifies the keys present in the `data` attribute of the message sent back. In this case, the `reversed_number` key will be included."
   ]
  },
  {
   "cell_type": "markdown",
   "metadata": {},
   "source": [
    "## 2. Flow Engine\n",
    "\n",
    "In this section we introduce the basics of the Flows Engine, and guide you through the process of serving and accessing served Flows.\n",
    "\n",
    "The Flows Engine is build on top of [CoLink](https://github.com/CoLearn-Dev/colink-sdk-python-dev). As mentioned in their documentation:\n",
    "\n",
    "> CoLink provides a unified interface for the user, storage, communication, and computation. Extending gRPC, CoLink simplifies the development of multi-party protocols and allow implementations in different programming languages to work together consistently. With a unified interface that increases potential data contributors, CoLink has the potential to enable larger-scale decentralized data collaboration and unlock the true value of data.\n",
    "\n",
    "In simpler terms, CoLink allows aiflows to run multiple flows, which can be spread across multiple machines to complete a task. It enables communication between flows hosted on different machines. Users can serve their flows, and others can access them by obtaining an instance of the served flow and interacting with it through a proxy.\n",
    "\n",
    "In the following sections, we will guide you through:\n",
    "- Connecting to an existing colink server or starting a local one\n",
    "- Serving a flow\n",
    "- Starting a worker to run flows\n",
    "- Getting an instance of the served flow via a proxy\n",
    "- Calling the flow through the proxy"
   ]
  },
  {
   "cell_type": "markdown",
   "metadata": {},
   "source": [
    "### 2.1 Connecting to an Existing Colink Server or Starting a Local One\n",
    "\n",
    "You have the option to either connect to an existing CoLink server or start a local one. Local servers are particularly useful for testing and development purposes. On the other hand, connecting to an existing server is beneficial when you need to access flows served by others or serve your own flows to others.\n",
    "\n",
    "For this AMLD workshop, we have initiated a CoLink server for you to connect to, allowing you to serve your flows and access flows served by others. However, for the purpose of this tutorial, we will guide you through starting a local server. Instructions for connecting to an existing server will be provided later during the workshop.\n",
    "\n",
    "To start a local server run the cell below (the server will run as long as your kernel is running)."
   ]
  },
  {
   "cell_type": "code",
   "execution_count": 4,
   "metadata": {},
   "outputs": [],
   "source": [
    "#Start the colink server and creates a user (you)\n",
    "#Returns the colink object who contains the information of the user and the server\n",
    "cl = colink_utils.start_colink_server()"
   ]
  },
  {
   "cell_type": "markdown",
   "metadata": {},
   "source": [
    "### 2.2 Serving A Flow\n",
    "\n",
    "To serve a flow, you need to define its class and `run` method, along with its default configuration file (as we've done in the previous section for the `ReverseNumberAtomicFlow`). Once the flow is defined, you can serve it using the `serve_flow` function. Essentially, this function saves the flow's default configuration in the CoLink server's storage to be able to instantiate instances of it when requested.\n",
    "\n",
    "The key parameters of the `serve_flow` function are as follows:\n",
    "- `cl`: The CoLink object containing user and server information (this object is created when you connect to a server).\n",
    "- `flow_class_name`: Specifies the class of the flow to be served (path to the class + class name).\n",
    "- `flow_endpoint`: The endpoint where the flow will be served. This serves as a unique identifier for accessing the flow. If the endpoint is already in use by another flow, your flow will not be served.\n",
    "- `singleton`: (Default is False) If set to True, only one instance of the flow will be returned when a user requests it. In other words, multiple users can \"talk\" to the same flow (e.g., all user \"talks\" to the same chatbot). If set to False, each user will get a different flow instance (e.g., each user \"talks\"  to a different chatbots but of the same class).\n",
    "- `parallel_dispatch`: (Default is False) If set to True, the flow can handle multiple requests simultaneously. If set to False, the flow can only handle one request at a time. Note that this makes the flow stateless.\n",
    "\n",
    "For example, in the cell below, we serve the `ReverseNumberAtomicFlow` at the endpoint \"reverse_number\" as a singleton.\n",
    "\n",
    "\n"
   ]
  },
  {
   "cell_type": "code",
   "execution_count": 5,
   "metadata": {},
   "outputs": [
    {
     "name": "stdout",
     "output_type": "stream",
     "text": [
      "[\u001b[36m2024-03-21 17:48:08,210\u001b[0m][\u001b[34maiflows.utils.serve_utils:116\u001b[0m][\u001b[32mINFO\u001b[0m] - Started serving ReverseNumberFlowModule.ReverseNumberAtomicFlow.ReverseNumberAtomicFlow at flows:reverse_number.\u001b[0m\n",
      "[\u001b[36m2024-03-21 17:48:08,211\u001b[0m][\u001b[34maiflows.utils.serve_utils:117\u001b[0m][\u001b[32mINFO\u001b[0m] - dispatch_point: coflows_dispatch\u001b[0m\n",
      "[\u001b[36m2024-03-21 17:48:08,212\u001b[0m][\u001b[34maiflows.utils.serve_utils:118\u001b[0m][\u001b[32mINFO\u001b[0m] - parallel_dispatch: False\u001b[0m\n",
      "[\u001b[36m2024-03-21 17:48:08,213\u001b[0m][\u001b[34maiflows.utils.serve_utils:119\u001b[0m][\u001b[32mINFO\u001b[0m] - singleton: True\n",
      "\u001b[0m\n"
     ]
    },
    {
     "data": {
      "text/plain": [
       "True"
      ]
     },
     "execution_count": 5,
     "metadata": {},
     "output_type": "execute_result"
    }
   ],
   "source": [
    "#serve the \n",
    "serve_utils.serve_flow(\n",
    "    cl=cl,\n",
    "    flow_class_name=\"ReverseNumberFlowModule.ReverseNumberAtomicFlow.ReverseNumberAtomicFlow\",\n",
    "    flow_endpoint=\"reverse_number\",\n",
    "    singleton=True,\n",
    ")"
   ]
  },
  {
   "cell_type": "markdown",
   "metadata": {},
   "source": [
    "### 2.3 Starting a Worker to Run Flows\n",
    "\n",
    "As a server of the flow, you must be the one to execute it when called. To execute a flow, you need to start a worker. The worker is responsible for running the flow's logic and will be activated whenever there are new messages to process. It's important to note that a single worker can handle multiple flows; they are not limited to a single flow exclusively.\n",
    "\n",
    "To start a worker, run the cell here below:"
   ]
  },
  {
   "cell_type": "code",
   "execution_count": 6,
   "metadata": {},
   "outputs": [
    {
     "name": "stdout",
     "output_type": "stream",
     "text": [
      "[\u001b[36m2024-03-21 17:48:10,527\u001b[0m][\u001b[34maiflows.workers.dispatch_worker:220\u001b[0m][\u001b[32mINFO\u001b[0m] - Dispatch worker started in attached thread.\u001b[0m\n",
      "[\u001b[36m2024-03-21 17:48:10,578\u001b[0m][\u001b[34maiflows.workers.dispatch_worker:221\u001b[0m][\u001b[32mINFO\u001b[0m] - dispatch_point: coflows_dispatch\u001b[0m\n"
     ]
    }
   ],
   "source": [
    "# Start a worker thread to handle incoming messages\n",
    "run_dispatch_worker_thread(cl)"
   ]
  },
  {
   "cell_type": "markdown",
   "metadata": {},
   "source": [
    "### 2.4 Getting an Instance of the Served Flow via a Proxy\n",
    "\n",
    "Now that the flow is served, you can access it by obtaining an instance of the served flow through a proxy. The proxy is an `AtomicFlow` object that allows you to send messages to the requested flow instance and receive responses from it. To obtain an instance of the served flow, you can use the `get_flow_instance` function.\n",
    "\n",
    "The main parameters of the `get_flow_instance` function are:\n",
    "\n",
    "- `cl`: The CoLink object.\n",
    "- `flow_endpoint`: The endpoint where the flow is served (this should match the endpoint used to serve the flow).\n",
    "- `user_id`: The user ID of the user serving the flow. Since we're serving a local server, you can simply set it to \"local\".\n",
    "- `config_overrides`: (Default is None) Any configuration overrides to be applied to the flow. This is useful when you want to modify the default configuration of the flow. For example, you might want to change the language of a chatbot. The configuration overrides are merged with the default configuration of the flow, with the overrides taking precedence."
   ]
  },
  {
   "cell_type": "code",
   "execution_count": 7,
   "metadata": {},
   "outputs": [
    {
     "name": "stdout",
     "output_type": "stream",
     "text": [
      "[\u001b[36m2024-03-21 17:48:12,878\u001b[0m][\u001b[34maiflows.utils.serve_utils:336\u001b[0m][\u001b[32mINFO\u001b[0m] - Mounted a7ab6895-a2c3-4e60-ae35-0d7670c7ab0d at flows:reverse_number:mounts:local:a7ab6895-a2c3-4e60-ae35-0d7670c7ab0d\u001b[0m\n"
     ]
    }
   ],
   "source": [
    "# Get an instance of the flow\n",
    "proxy_reverse_number_flow = serve_utils.get_flow_instance(\n",
    "    cl=cl,\n",
    "    flow_endpoint=\"reverse_number\", ### TODO - SPECIFY THE CORRECT FLOW ENDPOINT\n",
    "    user_id=\"local\",\n",
    ")"
   ]
  },
  {
   "cell_type": "markdown",
   "metadata": {},
   "source": [
    "### 2.5. Calling the Reverse Number Flow via the Proxy\n",
    "\n",
    "Now that you have a proxy to the served flow, you can send messages to it and receive responses. To send a message to the flow, you need to package your data dictionary with the `package_input_message` method and then send a message via the proxy using the `get_reply_future` method. `get_reply_future` sends a message to the flow with the data dictionary and the necessary information (in the `reply_data` attribute of the message) to get a reply back. It returns a future object that you can use to retrieve the reply from the flow. The message can be retrieved from the future object using either the `get_data` method (which returns the `data` attribute of the reply message) or the `get_message` method. Both of these methods will block until the reply is received.\n",
    "\n",
    "Without further ado, let's send a message to the `ReverseNumberAtomicFlow` to reverse the number 12345!\n"
   ]
  },
  {
   "cell_type": "code",
   "execution_count": 8,
   "metadata": {},
   "outputs": [
    {
     "name": "stdout",
     "output_type": "stream",
     "text": [
      "[\u001b[36m2024-03-21 17:48:16,482\u001b[0m][\u001b[34maiflows.workers.dispatch_worker:113\u001b[0m][\u001b[32mINFO\u001b[0m] - \n",
      "~~~ Dispatch task ~~~\u001b[0m\n",
      "[\u001b[36m2024-03-21 17:48:16,494\u001b[0m][\u001b[34maiflows.workers.dispatch_worker:155\u001b[0m][\u001b[32mINFO\u001b[0m] - flow_endpoint: reverse_number\u001b[0m\n",
      "[\u001b[36m2024-03-21 17:48:16,495\u001b[0m][\u001b[34maiflows.workers.dispatch_worker:156\u001b[0m][\u001b[32mINFO\u001b[0m] - flow_id: a7ab6895-a2c3-4e60-ae35-0d7670c7ab0d\u001b[0m\n",
      "[\u001b[36m2024-03-21 17:48:16,497\u001b[0m][\u001b[34maiflows.workers.dispatch_worker:157\u001b[0m][\u001b[32mINFO\u001b[0m] - owner_id: local\u001b[0m\n",
      "[\u001b[36m2024-03-21 17:48:16,498\u001b[0m][\u001b[34maiflows.workers.dispatch_worker:158\u001b[0m][\u001b[32mINFO\u001b[0m] - message_paths: ['push_tasks:7a2bd9f2-6fd0-41fe-87cb-503bca0affe1:msg']\u001b[0m\n",
      "[\u001b[36m2024-03-21 17:48:16,500\u001b[0m][\u001b[34maiflows.workers.dispatch_worker:159\u001b[0m][\u001b[32mINFO\u001b[0m] - parallel_dispatch: False\n",
      "\u001b[0m\n",
      "[\u001b[36m2024-03-21 17:48:16,549\u001b[0m][\u001b[34maiflows.workers.dispatch_worker:182\u001b[0m][\u001b[32mINFO\u001b[0m] - Input message source: Proxy_reverse_number\u001b[0m\n",
      "[\u001b[36m2024-03-21 17:48:32,716\u001b[0m][\u001b[34maiflows.workers.dispatch_worker:113\u001b[0m][\u001b[32mINFO\u001b[0m] - \n",
      "~~~ Dispatch task ~~~\u001b[0m\n",
      "[\u001b[36m2024-03-21 17:48:32,723\u001b[0m][\u001b[34maiflows.workers.dispatch_worker:155\u001b[0m][\u001b[32mINFO\u001b[0m] - flow_endpoint: ReverseNumberSequentialFlowBlocking\u001b[0m\n",
      "[\u001b[36m2024-03-21 17:48:32,726\u001b[0m][\u001b[34maiflows.workers.dispatch_worker:156\u001b[0m][\u001b[32mINFO\u001b[0m] - flow_id: 11d58d56-733e-426d-be84-49834603da61\u001b[0m\n",
      "[\u001b[36m2024-03-21 17:48:32,729\u001b[0m][\u001b[34maiflows.workers.dispatch_worker:157\u001b[0m][\u001b[32mINFO\u001b[0m] - owner_id: local\u001b[0m\n",
      "[\u001b[36m2024-03-21 17:48:32,732\u001b[0m][\u001b[34maiflows.workers.dispatch_worker:158\u001b[0m][\u001b[32mINFO\u001b[0m] - message_paths: ['push_tasks:c560c210-22c0-4688-936a-194b316d4e97:msg']\u001b[0m\n",
      "[\u001b[36m2024-03-21 17:48:32,734\u001b[0m][\u001b[34maiflows.workers.dispatch_worker:159\u001b[0m][\u001b[32mINFO\u001b[0m] - parallel_dispatch: False\n",
      "\u001b[0m\n",
      "[\u001b[36m2024-03-21 17:48:32,756\u001b[0m][\u001b[34maiflows.workers.dispatch_worker:188\u001b[0m][\u001b[32mINFO\u001b[0m] - Error executing flow: Error locating target 'ReverseNumberSequentialFlowModule.ReverseNumberSequentialFlowBlocking.ReverseNumberSequentialFlowBlocking.instantiate_from_default_config', set env var HYDRA_FULL_ERROR=1 to see chained exception.\u001b[0m\n"
     ]
    },
    {
     "name": "stdout",
     "output_type": "stream",
     "text": [
      "Data sent:\n",
      " {'id': 0, 'number': 12345} \n",
      "\n",
      "REPLY:\n",
      " {'reversed_number': 54321} \n",
      "\n"
     ]
    }
   ],
   "source": [
    "input_data = {\"id\": 0, \"number\": 12345}\n",
    "\n",
    "# Package your data in a Flow Message\n",
    "\n",
    "## Option 1: Via the FlowMessage class\n",
    "# input_message = FlowMessage(\n",
    "#     data=input_data,\n",
    "# )\n",
    "\n",
    "## Option 2 (prefered): Via the package input message method\n",
    "input_message = proxy_reverse_number_flow.package_input_message(input_data)\n",
    "\n",
    "# Send a message to reverse number and ask to get an answer back in a future\n",
    "\n",
    "future = proxy_reverse_number_flow.get_reply_future(input_message)\n",
    "\n",
    "# Get the response from the future\n",
    "#To get the response as a data dictionary\n",
    "reply_data = future.get_data()\n",
    "#To get the response as a FlowMessage object\n",
    "reply_message = future.get_message()\n",
    "\n",
    "print(\"Data sent:\\n\",  input_data, \"\\n\")\n",
    "print(\"REPLY:\\n\", reply_data, \"\\n\")\n",
    "\n"
   ]
  },
  {
   "cell_type": "markdown",
   "metadata": {},
   "source": [
    "## 3.Writing your First CompositeFlow: ReverseNumberSequentialFlow\n",
    "\n",
    "In this section we will write a simple Composite Flow that reverses a number passed in the input message twice (e.g., 12345-> 54321 -> 12345).\n",
    "\n",
    "As mentioned in section 1, **Composite Flows:** are used to orchestrate other Flows in performing the computation. Just like **Atomic Flows**, Composite Flows have a `run` method that takes an input message as its input. The `run` method of a Composite Flow typically calls other flows via their proxies, processes the responses, and sends a reply back. The flows that a Composite Flow orchestrates are referred to as its subflows.\n"
   ]
  },
  {
   "cell_type": "markdown",
   "metadata": {},
   "source": [
    "### 3.1 Writing the ReverseNumberSequentialFlow Flow Class\n",
    "\n",
    "#### **Key Interfaces**\n",
    "\n",
    "The `KeyInterface` class is helpful when you need to apply transformations to the data dictionary when passing from one flow to another and to pass a dictionary that satisfies the `input_interface` of the flow you wish to call. It allows you to define these transformations in a structured way. While you can apply these transformations directly in the `run` method of the Composite Flow, the `KeyInterface` class provides a more organized approach. The `KeyInterface` class takes the following input parameters (which define the transformations) and executes them in the order they are defined:\n",
    "- `keys_to_rename`: A dictionary where the keys are the keys to rename and the values are the new names of the keys. For example, `{\"old_key\": \"new_key\"}` transforms `{\"old_key\": 1}` to `{\"new_key\": 1}`.\n",
    "\n",
    "- `keys_to_copy`: A dictionary where the keys are the keys to copy and the values are the new names of the keys. For example, `{\"key_a\": \"key_b\"}` transforms `{\"key_a\": 1}` to `{\"key_a\": 1, \"key_b\": 1}`.\n",
    "- `keys_to_set`: A dictionary where the keys are the keys to set and the values are the values to set. For example, `{\"key_a\": 1}` transforms `{}` to `{\"key_a\": 1}`.\n",
    "\n",
    "- `additional_transformations`: A list of Callables where you can define custom transformations. Each Callable should take the arguments `data_dict` and return a dictionary as output.For example:\n",
    "    ```python\n",
    "        def increment_key_a(data_dict, **kwargs): \n",
    "            return {**input_data,**{\"key_a\": input_data[\"key_a\"] + 1}}\n",
    "    ```\n",
    "\n",
    "- `key_to_select`: A list of keys to select from the dictionary. For example, `[\"key_a\"]` transforms `{\"key_a\": 1, \"key_b\": 2}` to `{\"key_a\": 1}`.\n",
    "\n",
    "- `key_to_delete`: A list of keys to delete from the dictionary. For example, `[\"key_a\"]` transforms `{\"key_a\": 1, \"key_b\": 2}` to `{\"key_b\": 2}`.\n",
    "\n",
    "#### **Blocking vs Non-Blocking Calls**\n",
    "\n",
    "There are two ways to call a subflow from a Composite Flow via its proxy:\n",
    "1. **Blocking Calls**: The Composite Flow sends a message to the subflow and waits for the response before proceeding (and therefore stays in the `run` method until the response is received). Blocking calls are made using the `get_reply_future` method we introduced in the previous section (`get_reply_future` return a future object that you can use to retrieve the reply from the flow via `future.get_data()` or `future.get_message()`, these \"get\" methods are what are blocking).\n",
    "2. **Non-Blocking Calls**: The Composite Flow sends a message to the subflow and proceeds without waiting for the response. The response is expected to be sent in the input message queue of the Composite Flow. Therefore, you must exit the `run` method and the flow will be called again when the response is received. Non-blocking calls are made using the `send_message` method.\n",
    "\n",
    "##### Pros and cons of Blocking vs Non-Blocking Call? \n",
    "\n",
    "- **Blocking calls** might be more intuitive to use and understand, but they are less efficient because the Composite Flow is blocked while waiting for the response. Meaning that you are blocking one worker for the duration of the call. Therefore, you must have at least 2 worker threads running to be able to make a blocking call to a subflow and still be able to process other messages.\n",
    "\n",
    "- **Non-blocking calls** are more efficient because the Composite Flow is not blocked while waiting for the response (one worker can run the whole flow). However, they are more complex to use because you must manage the state of the flow and the responses.\n",
    "\n",
    "In the end, the choice between blocking and non-blocking calls depends on the specific use case, the requirements of the flow and your preference.\n",
    "\n",
    "Here below we showcase the implementation of the `ReverseNumberSequentialFlow` class with both blocking and non-blocking calls to the `ReverseNumberAtomicFlow`.\n"
   ]
  },
  {
   "cell_type": "markdown",
   "metadata": {},
   "source": [
    "#### 3.1.1 ReverseNumberSequential with Blocking Calls"
   ]
  },
  {
   "cell_type": "code",
   "execution_count": 9,
   "metadata": {},
   "outputs": [],
   "source": [
    "%%compile_and_writefile ReverseNumberFlowModule/ReverseNumberSequentialFlowBlocking.py\n",
    "\n",
    "\n",
    "from aiflows.base_flows import CompositeFlow\n",
    "from aiflows.messages import FlowMessage\n",
    "from aiflows.interfaces import KeyInterface\n",
    "class ReverseNumberSequentialFlowBlocking(CompositeFlow):\n",
    "    \n",
    "    def __init__(self, **kwargs):\n",
    "        super().__init__(**kwargs)\n",
    "        #~~~~~~~~~~~ Key Transformation solution 1 ~~~~~~~~~~~\n",
    "        self.input_interface_second_reverse_flow = KeyInterface(\n",
    "            keys_to_rename= {\"reversed_number\": \"number\"},\n",
    "            keys_to_select= [\"number\"],\n",
    "        )\n",
    "    \n",
    "        self.ouput_interface_reply = KeyInterface(\n",
    "            keys_to_rename= {\"reversed_number\": \"output_number\"},\n",
    "            keys_to_select = [\"output_number\"],\n",
    "        )\n",
    "                \n",
    "    # Customize the logic within this function as needed for your specific flow requirements.\n",
    "    def run(self, input_message: FlowMessage):\n",
    "        \n",
    "        #call first reverse number\n",
    "        future_first_reverse = self.subflows[\"first_reverse_flow\"].get_reply_future(\n",
    "                input_message\n",
    "            )\n",
    "        #get response from first reverse number\n",
    "        first_reverse_response = future_first_reverse.get_message()\n",
    "        \n",
    "        #prepare response for the second reverse number\n",
    "        first_reverse_response = self.input_interface_second_reverse_flow(first_reverse_response) \n",
    "        \n",
    "        #call second reverse number:\n",
    "        future_second_reverse = self.subflows[\"second_reverse_flow\"].get_reply_future(\n",
    "            first_reverse_response\n",
    "        )\n",
    "        \n",
    "        second_reverse_response = future_second_reverse.get_data()\n",
    "        \n",
    "        #can call key interface tranformation on both message and dictionaries\n",
    "        #prepare response for the initial message\n",
    "        response = self.ouput_interface_reply(second_reverse_response)\n",
    "        \n",
    "        reply = self.package_output_message(\n",
    "            input_message = input_message,\n",
    "            response = response\n",
    "        )\n",
    "        \n",
    "        self.send_message(\n",
    "            reply\n",
    "        )\n",
    "        "
   ]
  },
  {
   "cell_type": "code",
   "execution_count": 10,
   "metadata": {},
   "outputs": [],
   "source": [
    "default_config_reverse_number_sequential_blocking = \\\n",
    "{\n",
    "    \"name\": \"ReverseNumberTwiceBlocking\",\n",
    "    \"description\": \"A sequential flow that reverses a number twice.\",\n",
    "\n",
    "    # TODO: Define the target\n",
    "    \"_target_\": \\\n",
    "        \"ReverseNumberSequentialFlowModule.ReverseNumberSequentialFlowBlocking.ReverseNumberSequentialFlowBlocking.instantiate_from_default_config\",\n",
    "\n",
    "    \"input_interface\": \"number\",\n",
    "    \"output_interface\": \"output_number\",\n",
    "    \n",
    "    \"subflows_config\": {\n",
    "        \"first_reverse_flow\": {\n",
    "            \"_target_\": \"aiflows.base_flows.AtomicFlow.instantiate_from_default_config\",\n",
    "            \"user_id\": \"local\",\n",
    "            \"flow_endpoint\": \"reverse_number\",\n",
    "            \"name\": \"A proxy flow that calls reverse number to reverse number AGAIN.\",\n",
    "            \"description\": \"A proxy flow that calls reverse number to reverse number.\",\n",
    "        },\n",
    "        \"second_reverse_flow\": {\n",
    "            \"_target_\": \"aiflows.base_flows.AtomicFlow.instantiate_from_default_config\",\n",
    "            \"user_id\": \"local\",\n",
    "            \"flow_endpoint\": \"reverse_number\",\n",
    "            \"name\": \"Proxy Second Reverse\",\n",
    "            \"description\": \"A proxy flow that calls reverse number to reverse number AGAIN.\",\n",
    "        },\n",
    "    }\n",
    "}"
   ]
  },
  {
   "cell_type": "markdown",
   "metadata": {},
   "source": [
    "Let's dissect the new configuration file for the `ReverseNumberSequentialFlowBlocking`:\n",
    "\n",
    "- **`name` and `description`, `_target` , `input_interface`, `ouput_interface`**: These parameters are described in the previous section.\n",
    "\n",
    "- **`subflows_config`**:  Each subflow is articulated as a key-item pair within a dictionary. The key denotes the name assigned to the subflow, while the corresponding item is a dictionary encapsulating the configuration of the subflow. In this instance, subflows are outlined with their default configuration, incorporating overrides for the name and description of each flow. Noteworthy keys:\n",
    "  - `flow_endpoint` and `user_id` match the `reverse_number` endpoint and `local` user ID, respectively, which were used to serve the `ReverseNumberAtomicFlow`. This allows us to get an instance of the flow we served earlier when calling `get_flow_instance` (we don't have to serve `ReverseNumberAtomicFlow` again).\n",
    "  - `_target_`: The target here is `aiflows.base_flows.AtomicFlow.instantiate_from_default_config`, which is an atomic flow. Remember that proxy flows are atomic flows, so we can use the same target for all of them. Note that you can also use the target of the flow you are calling, but this is not necessary (also, when you are calling a flow served by some other user you might not have access to the target of the flow, so you can use the target of the atomic flow)."
   ]
  },
  {
   "cell_type": "code",
   "execution_count": 11,
   "metadata": {},
   "outputs": [
    {
     "name": "stdout",
     "output_type": "stream",
     "text": [
      "[\u001b[36m2024-03-21 17:48:29,437\u001b[0m][\u001b[34maiflows.utils.serve_utils:116\u001b[0m][\u001b[32mINFO\u001b[0m] - Started serving ReverseNumberFlowModule.ReverseNumberSequentialFlowBlocking.ReverseNumberSequentialFlowBlocking at flows:ReverseNumberSequentialFlowBlocking.\u001b[0m\n",
      "[\u001b[36m2024-03-21 17:48:29,438\u001b[0m][\u001b[34maiflows.utils.serve_utils:117\u001b[0m][\u001b[32mINFO\u001b[0m] - dispatch_point: coflows_dispatch\u001b[0m\n",
      "[\u001b[36m2024-03-21 17:48:29,439\u001b[0m][\u001b[34maiflows.utils.serve_utils:118\u001b[0m][\u001b[32mINFO\u001b[0m] - parallel_dispatch: False\u001b[0m\n",
      "[\u001b[36m2024-03-21 17:48:29,440\u001b[0m][\u001b[34maiflows.utils.serve_utils:119\u001b[0m][\u001b[32mINFO\u001b[0m] - singleton: False\n",
      "\u001b[0m\n"
     ]
    },
    {
     "data": {
      "text/plain": [
       "True"
      ]
     },
     "execution_count": 11,
     "metadata": {},
     "output_type": "execute_result"
    }
   ],
   "source": [
    "#Serve the flow (just like before)\n",
    "serve_utils.serve_flow(\n",
    "    cl=cl,\n",
    "    flow_class_name=\"ReverseNumberFlowModule.ReverseNumberSequentialFlowBlocking.ReverseNumberSequentialFlowBlocking\",\n",
    "    flow_endpoint=\"ReverseNumberSequentialFlowBlocking\",\n",
    ")"
   ]
  },
  {
   "cell_type": "code",
   "execution_count": 12,
   "metadata": {},
   "outputs": [
    {
     "name": "stdout",
     "output_type": "stream",
     "text": [
      "[\u001b[36m2024-03-21 17:48:30,721\u001b[0m][\u001b[34maiflows.workers.dispatch_worker:220\u001b[0m][\u001b[32mINFO\u001b[0m] - Dispatch worker started in attached thread.\u001b[0m\n",
      "[\u001b[36m2024-03-21 17:48:30,722\u001b[0m][\u001b[34maiflows.workers.dispatch_worker:221\u001b[0m][\u001b[32mINFO\u001b[0m] - dispatch_point: coflows_dispatch\u001b[0m\n"
     ]
    }
   ],
   "source": [
    "# Start a second worker thread (since the flow uses blocking calls, 2 workers are needed)\n",
    "run_dispatch_worker_thread(cl)"
   ]
  },
  {
   "cell_type": "code",
   "execution_count": 13,
   "metadata": {},
   "outputs": [
    {
     "name": "stderr",
     "output_type": "stream",
     "text": [
      "--- Logging error ---\n",
      "Traceback (most recent call last):\n",
      "  File \"/Users/nicolasbaldwin/opt/miniconda3/envs/mockenv/lib/python3.11/logging/__init__.py\", line 1110, in emit\n",
      "    msg = self.format(record)\n",
      "          ^^^^^^^^^^^^^^^^^^^\n",
      "  File \"/Users/nicolasbaldwin/opt/miniconda3/envs/mockenv/lib/python3.11/logging/__init__.py\", line 953, in format\n",
      "    return fmt.format(record)\n",
      "           ^^^^^^^^^^^^^^^^^^\n",
      "  File \"/Users/nicolasbaldwin/opt/miniconda3/envs/mockenv/lib/python3.11/logging/__init__.py\", line 687, in format\n",
      "    record.message = record.getMessage()\n",
      "                     ^^^^^^^^^^^^^^^^^^^\n",
      "  File \"/Users/nicolasbaldwin/opt/miniconda3/envs/mockenv/lib/python3.11/logging/__init__.py\", line 377, in getMessage\n",
      "    msg = msg % self.args\n",
      "          ~~~~^~~~~~~~~~~\n",
      "TypeError: not all arguments converted during string formatting\n",
      "Call stack:\n",
      "  File \"<frozen runpy>\", line 198, in _run_module_as_main\n",
      "  File \"<frozen runpy>\", line 88, in _run_code\n",
      "  File \"/Users/nicolasbaldwin/opt/miniconda3/envs/mockenv/lib/python3.11/site-packages/ipykernel_launcher.py\", line 18, in <module>\n",
      "    app.launch_new_instance()\n",
      "  File \"/Users/nicolasbaldwin/opt/miniconda3/envs/mockenv/lib/python3.11/site-packages/traitlets/config/application.py\", line 1075, in launch_instance\n",
      "    app.start()\n",
      "  File \"/Users/nicolasbaldwin/opt/miniconda3/envs/mockenv/lib/python3.11/site-packages/ipykernel/kernelapp.py\", line 739, in start\n",
      "    self.io_loop.start()\n",
      "  File \"/Users/nicolasbaldwin/opt/miniconda3/envs/mockenv/lib/python3.11/site-packages/tornado/platform/asyncio.py\", line 205, in start\n",
      "    self.asyncio_loop.run_forever()\n",
      "  File \"/Users/nicolasbaldwin/opt/miniconda3/envs/mockenv/lib/python3.11/asyncio/base_events.py\", line 608, in run_forever\n",
      "    self._run_once()\n",
      "  File \"/Users/nicolasbaldwin/opt/miniconda3/envs/mockenv/lib/python3.11/asyncio/base_events.py\", line 1936, in _run_once\n",
      "    handle._run()\n",
      "  File \"/Users/nicolasbaldwin/opt/miniconda3/envs/mockenv/lib/python3.11/asyncio/events.py\", line 84, in _run\n",
      "    self._context.run(self._callback, *self._args)\n",
      "  File \"/Users/nicolasbaldwin/opt/miniconda3/envs/mockenv/lib/python3.11/site-packages/ipykernel/kernelbase.py\", line 545, in dispatch_queue\n",
      "    await self.process_one()\n",
      "  File \"/Users/nicolasbaldwin/opt/miniconda3/envs/mockenv/lib/python3.11/site-packages/ipykernel/kernelbase.py\", line 534, in process_one\n",
      "    await dispatch(*args)\n",
      "  File \"/Users/nicolasbaldwin/opt/miniconda3/envs/mockenv/lib/python3.11/site-packages/ipykernel/kernelbase.py\", line 437, in dispatch_shell\n",
      "    await result\n",
      "  File \"/Users/nicolasbaldwin/opt/miniconda3/envs/mockenv/lib/python3.11/site-packages/ipykernel/ipkernel.py\", line 359, in execute_request\n",
      "    await super().execute_request(stream, ident, parent)\n",
      "  File \"/Users/nicolasbaldwin/opt/miniconda3/envs/mockenv/lib/python3.11/site-packages/ipykernel/kernelbase.py\", line 778, in execute_request\n",
      "    reply_content = await reply_content\n",
      "  File \"/Users/nicolasbaldwin/opt/miniconda3/envs/mockenv/lib/python3.11/site-packages/ipykernel/ipkernel.py\", line 446, in do_execute\n",
      "    res = shell.run_cell(\n",
      "  File \"/Users/nicolasbaldwin/opt/miniconda3/envs/mockenv/lib/python3.11/site-packages/ipykernel/zmqshell.py\", line 549, in run_cell\n",
      "    return super().run_cell(*args, **kwargs)\n",
      "  File \"/Users/nicolasbaldwin/opt/miniconda3/envs/mockenv/lib/python3.11/site-packages/IPython/core/interactiveshell.py\", line 3075, in run_cell\n",
      "    result = self._run_cell(\n",
      "  File \"/Users/nicolasbaldwin/opt/miniconda3/envs/mockenv/lib/python3.11/site-packages/IPython/core/interactiveshell.py\", line 3130, in _run_cell\n",
      "    result = runner(coro)\n",
      "  File \"/Users/nicolasbaldwin/opt/miniconda3/envs/mockenv/lib/python3.11/site-packages/IPython/core/async_helpers.py\", line 129, in _pseudo_sync_runner\n",
      "    coro.send(None)\n",
      "  File \"/Users/nicolasbaldwin/opt/miniconda3/envs/mockenv/lib/python3.11/site-packages/IPython/core/interactiveshell.py\", line 3334, in run_cell_async\n",
      "    has_raised = await self.run_ast_nodes(code_ast.body, cell_name,\n",
      "  File \"/Users/nicolasbaldwin/opt/miniconda3/envs/mockenv/lib/python3.11/site-packages/IPython/core/interactiveshell.py\", line 3517, in run_ast_nodes\n",
      "    if await self.run_code(code, result, async_=asy):\n",
      "  File \"/Users/nicolasbaldwin/opt/miniconda3/envs/mockenv/lib/python3.11/site-packages/IPython/core/interactiveshell.py\", line 3577, in run_code\n",
      "    exec(code_obj, self.user_global_ns, self.user_ns)\n",
      "  File \"/var/folders/0b/rh7d8qts4ys3rdpl8xd_0jkm0000gn/T/ipykernel_95812/915079293.py\", line 2, in <module>\n",
      "    proxy_reverse_sequential_blocking = serve_utils.get_flow_instance(\n",
      "  File \"/Users/nicolasbaldwin/opt/miniconda3/envs/mockenv/lib/python3.11/site-packages/aiflows/utils/serve_utils.py\", line 627, in get_flow_instance\n",
      "    flow_id = _get_local_flow_instance(\n",
      "  File \"/Users/nicolasbaldwin/opt/miniconda3/envs/mockenv/lib/python3.11/site-packages/aiflows/utils/serve_utils.py\", line 567, in _get_local_flow_instance\n",
      "    get_instances_results = _get_collaborative_subflow_instances(\n",
      "  File \"/Users/nicolasbaldwin/opt/miniconda3/envs/mockenv/lib/python3.11/site-packages/aiflows/utils/serve_utils.py\", line 452, in _get_collaborative_subflow_instances\n",
      "    flow_id = _get_local_flow_instance(\n",
      "  File \"/Users/nicolasbaldwin/opt/miniconda3/envs/mockenv/lib/python3.11/site-packages/aiflows/utils/serve_utils.py\", line 543, in _get_local_flow_instance\n",
      "    log.info(\"Fetched singleton\", instance_id)\n",
      "Message: 'Fetched singleton'\n",
      "Arguments: ('a7ab6895-a2c3-4e60-ae35-0d7670c7ab0d',)\n",
      "--- Logging error ---\n",
      "Traceback (most recent call last):\n",
      "  File \"/Users/nicolasbaldwin/opt/miniconda3/envs/mockenv/lib/python3.11/logging/__init__.py\", line 1110, in emit\n",
      "    msg = self.format(record)\n",
      "          ^^^^^^^^^^^^^^^^^^^\n",
      "  File \"/Users/nicolasbaldwin/opt/miniconda3/envs/mockenv/lib/python3.11/logging/__init__.py\", line 953, in format\n",
      "    return fmt.format(record)\n",
      "           ^^^^^^^^^^^^^^^^^^\n",
      "  File \"/Users/nicolasbaldwin/opt/miniconda3/envs/mockenv/lib/python3.11/logging/__init__.py\", line 687, in format\n",
      "    record.message = record.getMessage()\n",
      "                     ^^^^^^^^^^^^^^^^^^^\n",
      "  File \"/Users/nicolasbaldwin/opt/miniconda3/envs/mockenv/lib/python3.11/logging/__init__.py\", line 377, in getMessage\n",
      "    msg = msg % self.args\n",
      "          ~~~~^~~~~~~~~~~\n",
      "TypeError: not all arguments converted during string formatting\n",
      "Call stack:\n"
     ]
    },
    {
     "name": "stderr",
     "output_type": "stream",
     "text": [
      "  File \"<frozen runpy>\", line 198, in _run_module_as_main\n",
      "  File \"<frozen runpy>\", line 88, in _run_code\n",
      "  File \"/Users/nicolasbaldwin/opt/miniconda3/envs/mockenv/lib/python3.11/site-packages/ipykernel_launcher.py\", line 18, in <module>\n",
      "    app.launch_new_instance()\n",
      "  File \"/Users/nicolasbaldwin/opt/miniconda3/envs/mockenv/lib/python3.11/site-packages/traitlets/config/application.py\", line 1075, in launch_instance\n",
      "    app.start()\n",
      "  File \"/Users/nicolasbaldwin/opt/miniconda3/envs/mockenv/lib/python3.11/site-packages/ipykernel/kernelapp.py\", line 739, in start\n",
      "    self.io_loop.start()\n",
      "  File \"/Users/nicolasbaldwin/opt/miniconda3/envs/mockenv/lib/python3.11/site-packages/tornado/platform/asyncio.py\", line 205, in start\n",
      "    self.asyncio_loop.run_forever()\n",
      "  File \"/Users/nicolasbaldwin/opt/miniconda3/envs/mockenv/lib/python3.11/asyncio/base_events.py\", line 608, in run_forever\n",
      "    self._run_once()\n",
      "  File \"/Users/nicolasbaldwin/opt/miniconda3/envs/mockenv/lib/python3.11/asyncio/base_events.py\", line 1936, in _run_once\n",
      "    handle._run()\n",
      "  File \"/Users/nicolasbaldwin/opt/miniconda3/envs/mockenv/lib/python3.11/asyncio/events.py\", line 84, in _run\n",
      "    self._context.run(self._callback, *self._args)\n",
      "  File \"/Users/nicolasbaldwin/opt/miniconda3/envs/mockenv/lib/python3.11/site-packages/ipykernel/kernelbase.py\", line 545, in dispatch_queue\n",
      "    await self.process_one()\n",
      "  File \"/Users/nicolasbaldwin/opt/miniconda3/envs/mockenv/lib/python3.11/site-packages/ipykernel/kernelbase.py\", line 534, in process_one\n",
      "    await dispatch(*args)\n",
      "  File \"/Users/nicolasbaldwin/opt/miniconda3/envs/mockenv/lib/python3.11/site-packages/ipykernel/kernelbase.py\", line 437, in dispatch_shell\n",
      "    await result\n",
      "  File \"/Users/nicolasbaldwin/opt/miniconda3/envs/mockenv/lib/python3.11/site-packages/ipykernel/ipkernel.py\", line 359, in execute_request\n",
      "    await super().execute_request(stream, ident, parent)\n",
      "  File \"/Users/nicolasbaldwin/opt/miniconda3/envs/mockenv/lib/python3.11/site-packages/ipykernel/kernelbase.py\", line 778, in execute_request\n",
      "    reply_content = await reply_content\n",
      "  File \"/Users/nicolasbaldwin/opt/miniconda3/envs/mockenv/lib/python3.11/site-packages/ipykernel/ipkernel.py\", line 446, in do_execute\n",
      "    res = shell.run_cell(\n",
      "  File \"/Users/nicolasbaldwin/opt/miniconda3/envs/mockenv/lib/python3.11/site-packages/ipykernel/zmqshell.py\", line 549, in run_cell\n",
      "    return super().run_cell(*args, **kwargs)\n",
      "  File \"/Users/nicolasbaldwin/opt/miniconda3/envs/mockenv/lib/python3.11/site-packages/IPython/core/interactiveshell.py\", line 3075, in run_cell\n",
      "    result = self._run_cell(\n",
      "  File \"/Users/nicolasbaldwin/opt/miniconda3/envs/mockenv/lib/python3.11/site-packages/IPython/core/interactiveshell.py\", line 3130, in _run_cell\n",
      "    result = runner(coro)\n",
      "  File \"/Users/nicolasbaldwin/opt/miniconda3/envs/mockenv/lib/python3.11/site-packages/IPython/core/async_helpers.py\", line 129, in _pseudo_sync_runner\n",
      "    coro.send(None)\n",
      "  File \"/Users/nicolasbaldwin/opt/miniconda3/envs/mockenv/lib/python3.11/site-packages/IPython/core/interactiveshell.py\", line 3334, in run_cell_async\n",
      "    has_raised = await self.run_ast_nodes(code_ast.body, cell_name,\n",
      "  File \"/Users/nicolasbaldwin/opt/miniconda3/envs/mockenv/lib/python3.11/site-packages/IPython/core/interactiveshell.py\", line 3517, in run_ast_nodes\n",
      "    if await self.run_code(code, result, async_=asy):\n",
      "  File \"/Users/nicolasbaldwin/opt/miniconda3/envs/mockenv/lib/python3.11/site-packages/IPython/core/interactiveshell.py\", line 3577, in run_code\n",
      "    exec(code_obj, self.user_global_ns, self.user_ns)\n",
      "  File \"/var/folders/0b/rh7d8qts4ys3rdpl8xd_0jkm0000gn/T/ipykernel_95812/915079293.py\", line 2, in <module>\n",
      "    proxy_reverse_sequential_blocking = serve_utils.get_flow_instance(\n",
      "  File \"/Users/nicolasbaldwin/opt/miniconda3/envs/mockenv/lib/python3.11/site-packages/aiflows/utils/serve_utils.py\", line 627, in get_flow_instance\n",
      "    flow_id = _get_local_flow_instance(\n",
      "  File \"/Users/nicolasbaldwin/opt/miniconda3/envs/mockenv/lib/python3.11/site-packages/aiflows/utils/serve_utils.py\", line 567, in _get_local_flow_instance\n",
      "    get_instances_results = _get_collaborative_subflow_instances(\n",
      "  File \"/Users/nicolasbaldwin/opt/miniconda3/envs/mockenv/lib/python3.11/site-packages/aiflows/utils/serve_utils.py\", line 452, in _get_collaborative_subflow_instances\n",
      "    flow_id = _get_local_flow_instance(\n",
      "  File \"/Users/nicolasbaldwin/opt/miniconda3/envs/mockenv/lib/python3.11/site-packages/aiflows/utils/serve_utils.py\", line 543, in _get_local_flow_instance\n",
      "    log.info(\"Fetched singleton\", instance_id)\n",
      "Message: 'Fetched singleton'\n",
      "Arguments: ('a7ab6895-a2c3-4e60-ae35-0d7670c7ab0d',)\n"
     ]
    },
    {
     "name": "stdout",
     "output_type": "stream",
     "text": [
      "[\u001b[36m2024-03-21 17:48:32,680\u001b[0m][\u001b[34maiflows.utils.serve_utils:336\u001b[0m][\u001b[32mINFO\u001b[0m] - Mounted 11d58d56-733e-426d-be84-49834603da61 at flows:ReverseNumberSequentialFlowBlocking:mounts:local:11d58d56-733e-426d-be84-49834603da61\u001b[0m\n"
     ]
    },
    {
     "ename": "KeyboardInterrupt",
     "evalue": "",
     "output_type": "error",
     "traceback": [
      "\u001b[0;31m---------------------------------------------------------------------------\u001b[0m",
      "\u001b[0;31mKeyboardInterrupt\u001b[0m                         Traceback (most recent call last)",
      "Cell \u001b[0;32mIn[13], line 21\u001b[0m\n\u001b[1;32m     17\u001b[0m future \u001b[38;5;241m=\u001b[39m proxy_reverse_sequential_blocking\u001b[38;5;241m.\u001b[39mget_reply_future(input_message)\n\u001b[1;32m     19\u001b[0m \u001b[38;5;66;03m# Get the response from the future\u001b[39;00m\n\u001b[1;32m     20\u001b[0m \u001b[38;5;66;03m#To get the response as a data dictionary\u001b[39;00m\n\u001b[0;32m---> 21\u001b[0m reply_data \u001b[38;5;241m=\u001b[39m \u001b[43mfuture\u001b[49m\u001b[38;5;241;43m.\u001b[39;49m\u001b[43mget_data\u001b[49m\u001b[43m(\u001b[49m\u001b[43m)\u001b[49m\n\u001b[1;32m     22\u001b[0m \u001b[38;5;66;03m#To get the response as a FlowMessage object\u001b[39;00m\n\u001b[1;32m     23\u001b[0m reply_message \u001b[38;5;241m=\u001b[39m future\u001b[38;5;241m.\u001b[39mget_message()\n",
      "File \u001b[0;32m~/opt/miniconda3/envs/mockenv/lib/python3.11/site-packages/aiflows/utils/coflows_utils.py:46\u001b[0m, in \u001b[0;36mFlowFuture.get_data\u001b[0;34m(self)\u001b[0m\n\u001b[1;32m     44\u001b[0m \u001b[38;5;28;01mdef\u001b[39;00m \u001b[38;5;21mget_data\u001b[39m(\u001b[38;5;28mself\u001b[39m):\n\u001b[1;32m     45\u001b[0m \u001b[38;5;250m    \u001b[39m\u001b[38;5;124;03m\"\"\" Blocking read of the future returns a dictionary of the data.\"\"\"\u001b[39;00m\n\u001b[0;32m---> 46\u001b[0m     message \u001b[38;5;241m=\u001b[39m FlowMessage\u001b[38;5;241m.\u001b[39mdeserialize(\u001b[38;5;28;43mself\u001b[39;49m\u001b[38;5;241;43m.\u001b[39;49m\u001b[43mcl\u001b[49m\u001b[38;5;241;43m.\u001b[39;49m\u001b[43mread_or_wait\u001b[49m\u001b[43m(\u001b[49m\u001b[38;5;28;43mself\u001b[39;49m\u001b[38;5;241;43m.\u001b[39;49m\u001b[43mcolink_storage_key\u001b[49m\u001b[43m)\u001b[49m)\n\u001b[1;32m     47\u001b[0m     \u001b[38;5;28;01mreturn\u001b[39;00m \u001b[38;5;28mself\u001b[39m\u001b[38;5;241m.\u001b[39moutput_interface(message\u001b[38;5;241m.\u001b[39mdata)\n",
      "File \u001b[0;32m~/opt/miniconda3/envs/mockenv/lib/python3.11/site-packages/colink/read_wait.py:12\u001b[0m, in \u001b[0;36mread_or_wait\u001b[0;34m(self, key)\u001b[0m\n\u001b[1;32m     10\u001b[0m queue_name \u001b[38;5;241m=\u001b[39m \u001b[38;5;28mself\u001b[39m\u001b[38;5;241m.\u001b[39msubscribe(key, \u001b[38;5;241m0\u001b[39m)\n\u001b[1;32m     11\u001b[0m mut_subscriber \u001b[38;5;241m=\u001b[39m \u001b[38;5;28mself\u001b[39m\u001b[38;5;241m.\u001b[39mnew_subscriber(queue_name)\n\u001b[0;32m---> 12\u001b[0m data \u001b[38;5;241m=\u001b[39m \u001b[43mmut_subscriber\u001b[49m\u001b[38;5;241;43m.\u001b[39;49m\u001b[43mget_next\u001b[49m\u001b[43m(\u001b[49m\u001b[43m)\u001b[49m\n\u001b[1;32m     13\u001b[0m logging\u001b[38;5;241m.\u001b[39minfo(\u001b[38;5;124m\"\u001b[39m\u001b[38;5;124mReceived [\u001b[39m\u001b[38;5;132;01m{}\u001b[39;00m\u001b[38;5;124m]\u001b[39m\u001b[38;5;124m\"\u001b[39m\u001b[38;5;241m.\u001b[39mformat(data))\n\u001b[1;32m     14\u001b[0m \u001b[38;5;28mself\u001b[39m\u001b[38;5;241m.\u001b[39munsubscribe(queue_name)\n",
      "File \u001b[0;32m~/opt/miniconda3/envs/mockenv/lib/python3.11/site-packages/colink/application.py:45\u001b[0m, in \u001b[0;36mCoLinkRedisSubscriber.get_next\u001b[0;34m(self)\u001b[0m\n\u001b[1;32m     43\u001b[0m \u001b[38;5;28;01mdef\u001b[39;00m \u001b[38;5;21mget_next\u001b[39m(\u001b[38;5;28mself\u001b[39m):\n\u001b[1;32m     44\u001b[0m     consumer_name \u001b[38;5;241m=\u001b[39m \u001b[38;5;28mstr\u001b[39m(uuid\u001b[38;5;241m.\u001b[39muuid4())\n\u001b[0;32m---> 45\u001b[0m     res \u001b[38;5;241m=\u001b[39m \u001b[38;5;28;43mself\u001b[39;49m\u001b[38;5;241;43m.\u001b[39;49m\u001b[43mredis_connection\u001b[49m\u001b[38;5;241;43m.\u001b[39;49m\u001b[43mxreadgroup\u001b[49m\u001b[43m(\u001b[49m\n\u001b[1;32m     46\u001b[0m \u001b[43m        \u001b[49m\u001b[38;5;28;43mself\u001b[39;49m\u001b[38;5;241;43m.\u001b[39;49m\u001b[43mqueue_name\u001b[49m\u001b[43m,\u001b[49m\u001b[43m \u001b[49m\u001b[43mconsumer_name\u001b[49m\u001b[43m,\u001b[49m\u001b[43m \u001b[49m\u001b[43m{\u001b[49m\u001b[38;5;28;43mself\u001b[39;49m\u001b[38;5;241;43m.\u001b[39;49m\u001b[43mqueue_name\u001b[49m\u001b[43m:\u001b[49m\u001b[43m \u001b[49m\u001b[38;5;124;43m\"\u001b[39;49m\u001b[38;5;124;43m>\u001b[39;49m\u001b[38;5;124;43m\"\u001b[39;49m\u001b[43m}\u001b[49m\u001b[43m,\u001b[49m\u001b[43m \u001b[49m\u001b[43mcount\u001b[49m\u001b[38;5;241;43m=\u001b[39;49m\u001b[38;5;241;43m1\u001b[39;49m\u001b[43m,\u001b[49m\u001b[43m \u001b[49m\u001b[43mblock\u001b[49m\u001b[38;5;241;43m=\u001b[39;49m\u001b[38;5;241;43m0\u001b[39;49m\n\u001b[1;32m     47\u001b[0m \u001b[43m    \u001b[49m\u001b[43m)\u001b[49m\n\u001b[1;32m     48\u001b[0m     key, ids \u001b[38;5;241m=\u001b[39m res[\u001b[38;5;241m0\u001b[39m]\n\u001b[1;32m     49\u001b[0m     _id, _map \u001b[38;5;241m=\u001b[39m ids[\u001b[38;5;241m0\u001b[39m]\n",
      "File \u001b[0;32m~/opt/miniconda3/envs/mockenv/lib/python3.11/site-packages/redis/commands/core.py:4008\u001b[0m, in \u001b[0;36mStreamCommands.xreadgroup\u001b[0;34m(self, groupname, consumername, streams, count, block, noack)\u001b[0m\n\u001b[1;32m   4006\u001b[0m pieces\u001b[38;5;241m.\u001b[39mextend(streams\u001b[38;5;241m.\u001b[39mkeys())\n\u001b[1;32m   4007\u001b[0m pieces\u001b[38;5;241m.\u001b[39mextend(streams\u001b[38;5;241m.\u001b[39mvalues())\n\u001b[0;32m-> 4008\u001b[0m \u001b[38;5;28;01mreturn\u001b[39;00m \u001b[38;5;28;43mself\u001b[39;49m\u001b[38;5;241;43m.\u001b[39;49m\u001b[43mexecute_command\u001b[49m\u001b[43m(\u001b[49m\u001b[38;5;124;43m\"\u001b[39;49m\u001b[38;5;124;43mXREADGROUP\u001b[39;49m\u001b[38;5;124;43m\"\u001b[39;49m\u001b[43m,\u001b[49m\u001b[43m \u001b[49m\u001b[38;5;241;43m*\u001b[39;49m\u001b[43mpieces\u001b[49m\u001b[43m)\u001b[49m\n",
      "File \u001b[0;32m~/opt/miniconda3/envs/mockenv/lib/python3.11/site-packages/redis/client.py:543\u001b[0m, in \u001b[0;36mRedis.execute_command\u001b[0;34m(self, *args, **options)\u001b[0m\n\u001b[1;32m    540\u001b[0m conn \u001b[38;5;241m=\u001b[39m \u001b[38;5;28mself\u001b[39m\u001b[38;5;241m.\u001b[39mconnection \u001b[38;5;129;01mor\u001b[39;00m pool\u001b[38;5;241m.\u001b[39mget_connection(command_name, \u001b[38;5;241m*\u001b[39m\u001b[38;5;241m*\u001b[39moptions)\n\u001b[1;32m    542\u001b[0m \u001b[38;5;28;01mtry\u001b[39;00m:\n\u001b[0;32m--> 543\u001b[0m     \u001b[38;5;28;01mreturn\u001b[39;00m \u001b[43mconn\u001b[49m\u001b[38;5;241;43m.\u001b[39;49m\u001b[43mretry\u001b[49m\u001b[38;5;241;43m.\u001b[39;49m\u001b[43mcall_with_retry\u001b[49m\u001b[43m(\u001b[49m\n\u001b[1;32m    544\u001b[0m \u001b[43m        \u001b[49m\u001b[38;5;28;43;01mlambda\u001b[39;49;00m\u001b[43m:\u001b[49m\u001b[43m \u001b[49m\u001b[38;5;28;43mself\u001b[39;49m\u001b[38;5;241;43m.\u001b[39;49m\u001b[43m_send_command_parse_response\u001b[49m\u001b[43m(\u001b[49m\n\u001b[1;32m    545\u001b[0m \u001b[43m            \u001b[49m\u001b[43mconn\u001b[49m\u001b[43m,\u001b[49m\u001b[43m \u001b[49m\u001b[43mcommand_name\u001b[49m\u001b[43m,\u001b[49m\u001b[43m \u001b[49m\u001b[38;5;241;43m*\u001b[39;49m\u001b[43margs\u001b[49m\u001b[43m,\u001b[49m\u001b[43m \u001b[49m\u001b[38;5;241;43m*\u001b[39;49m\u001b[38;5;241;43m*\u001b[39;49m\u001b[43moptions\u001b[49m\n\u001b[1;32m    546\u001b[0m \u001b[43m        \u001b[49m\u001b[43m)\u001b[49m\u001b[43m,\u001b[49m\n\u001b[1;32m    547\u001b[0m \u001b[43m        \u001b[49m\u001b[38;5;28;43;01mlambda\u001b[39;49;00m\u001b[43m \u001b[49m\u001b[43merror\u001b[49m\u001b[43m:\u001b[49m\u001b[43m \u001b[49m\u001b[38;5;28;43mself\u001b[39;49m\u001b[38;5;241;43m.\u001b[39;49m\u001b[43m_disconnect_raise\u001b[49m\u001b[43m(\u001b[49m\u001b[43mconn\u001b[49m\u001b[43m,\u001b[49m\u001b[43m \u001b[49m\u001b[43merror\u001b[49m\u001b[43m)\u001b[49m\u001b[43m,\u001b[49m\n\u001b[1;32m    548\u001b[0m \u001b[43m    \u001b[49m\u001b[43m)\u001b[49m\n\u001b[1;32m    549\u001b[0m \u001b[38;5;28;01mfinally\u001b[39;00m:\n\u001b[1;32m    550\u001b[0m     \u001b[38;5;28;01mif\u001b[39;00m \u001b[38;5;129;01mnot\u001b[39;00m \u001b[38;5;28mself\u001b[39m\u001b[38;5;241m.\u001b[39mconnection:\n",
      "File \u001b[0;32m~/opt/miniconda3/envs/mockenv/lib/python3.11/site-packages/redis/retry.py:46\u001b[0m, in \u001b[0;36mRetry.call_with_retry\u001b[0;34m(self, do, fail)\u001b[0m\n\u001b[1;32m     44\u001b[0m \u001b[38;5;28;01mwhile\u001b[39;00m \u001b[38;5;28;01mTrue\u001b[39;00m:\n\u001b[1;32m     45\u001b[0m     \u001b[38;5;28;01mtry\u001b[39;00m:\n\u001b[0;32m---> 46\u001b[0m         \u001b[38;5;28;01mreturn\u001b[39;00m \u001b[43mdo\u001b[49m\u001b[43m(\u001b[49m\u001b[43m)\u001b[49m\n\u001b[1;32m     47\u001b[0m     \u001b[38;5;28;01mexcept\u001b[39;00m \u001b[38;5;28mself\u001b[39m\u001b[38;5;241m.\u001b[39m_supported_errors \u001b[38;5;28;01mas\u001b[39;00m error:\n\u001b[1;32m     48\u001b[0m         failures \u001b[38;5;241m+\u001b[39m\u001b[38;5;241m=\u001b[39m \u001b[38;5;241m1\u001b[39m\n",
      "File \u001b[0;32m~/opt/miniconda3/envs/mockenv/lib/python3.11/site-packages/redis/client.py:544\u001b[0m, in \u001b[0;36mRedis.execute_command.<locals>.<lambda>\u001b[0;34m()\u001b[0m\n\u001b[1;32m    540\u001b[0m conn \u001b[38;5;241m=\u001b[39m \u001b[38;5;28mself\u001b[39m\u001b[38;5;241m.\u001b[39mconnection \u001b[38;5;129;01mor\u001b[39;00m pool\u001b[38;5;241m.\u001b[39mget_connection(command_name, \u001b[38;5;241m*\u001b[39m\u001b[38;5;241m*\u001b[39moptions)\n\u001b[1;32m    542\u001b[0m \u001b[38;5;28;01mtry\u001b[39;00m:\n\u001b[1;32m    543\u001b[0m     \u001b[38;5;28;01mreturn\u001b[39;00m conn\u001b[38;5;241m.\u001b[39mretry\u001b[38;5;241m.\u001b[39mcall_with_retry(\n\u001b[0;32m--> 544\u001b[0m         \u001b[38;5;28;01mlambda\u001b[39;00m: \u001b[38;5;28;43mself\u001b[39;49m\u001b[38;5;241;43m.\u001b[39;49m\u001b[43m_send_command_parse_response\u001b[49m\u001b[43m(\u001b[49m\n\u001b[1;32m    545\u001b[0m \u001b[43m            \u001b[49m\u001b[43mconn\u001b[49m\u001b[43m,\u001b[49m\u001b[43m \u001b[49m\u001b[43mcommand_name\u001b[49m\u001b[43m,\u001b[49m\u001b[43m \u001b[49m\u001b[38;5;241;43m*\u001b[39;49m\u001b[43margs\u001b[49m\u001b[43m,\u001b[49m\u001b[43m \u001b[49m\u001b[38;5;241;43m*\u001b[39;49m\u001b[38;5;241;43m*\u001b[39;49m\u001b[43moptions\u001b[49m\n\u001b[1;32m    546\u001b[0m \u001b[43m        \u001b[49m\u001b[43m)\u001b[49m,\n\u001b[1;32m    547\u001b[0m         \u001b[38;5;28;01mlambda\u001b[39;00m error: \u001b[38;5;28mself\u001b[39m\u001b[38;5;241m.\u001b[39m_disconnect_raise(conn, error),\n\u001b[1;32m    548\u001b[0m     )\n\u001b[1;32m    549\u001b[0m \u001b[38;5;28;01mfinally\u001b[39;00m:\n\u001b[1;32m    550\u001b[0m     \u001b[38;5;28;01mif\u001b[39;00m \u001b[38;5;129;01mnot\u001b[39;00m \u001b[38;5;28mself\u001b[39m\u001b[38;5;241m.\u001b[39mconnection:\n",
      "File \u001b[0;32m~/opt/miniconda3/envs/mockenv/lib/python3.11/site-packages/redis/client.py:520\u001b[0m, in \u001b[0;36mRedis._send_command_parse_response\u001b[0;34m(self, conn, command_name, *args, **options)\u001b[0m\n\u001b[1;32m    516\u001b[0m \u001b[38;5;250m\u001b[39m\u001b[38;5;124;03m\"\"\"\u001b[39;00m\n\u001b[1;32m    517\u001b[0m \u001b[38;5;124;03mSend a command and parse the response\u001b[39;00m\n\u001b[1;32m    518\u001b[0m \u001b[38;5;124;03m\"\"\"\u001b[39;00m\n\u001b[1;32m    519\u001b[0m conn\u001b[38;5;241m.\u001b[39msend_command(\u001b[38;5;241m*\u001b[39margs)\n\u001b[0;32m--> 520\u001b[0m \u001b[38;5;28;01mreturn\u001b[39;00m \u001b[38;5;28;43mself\u001b[39;49m\u001b[38;5;241;43m.\u001b[39;49m\u001b[43mparse_response\u001b[49m\u001b[43m(\u001b[49m\u001b[43mconn\u001b[49m\u001b[43m,\u001b[49m\u001b[43m \u001b[49m\u001b[43mcommand_name\u001b[49m\u001b[43m,\u001b[49m\u001b[43m \u001b[49m\u001b[38;5;241;43m*\u001b[39;49m\u001b[38;5;241;43m*\u001b[39;49m\u001b[43moptions\u001b[49m\u001b[43m)\u001b[49m\n",
      "File \u001b[0;32m~/opt/miniconda3/envs/mockenv/lib/python3.11/site-packages/redis/client.py:560\u001b[0m, in \u001b[0;36mRedis.parse_response\u001b[0;34m(self, connection, command_name, **options)\u001b[0m\n\u001b[1;32m    558\u001b[0m         options\u001b[38;5;241m.\u001b[39mpop(NEVER_DECODE)\n\u001b[1;32m    559\u001b[0m     \u001b[38;5;28;01melse\u001b[39;00m:\n\u001b[0;32m--> 560\u001b[0m         response \u001b[38;5;241m=\u001b[39m \u001b[43mconnection\u001b[49m\u001b[38;5;241;43m.\u001b[39;49m\u001b[43mread_response\u001b[49m\u001b[43m(\u001b[49m\u001b[43m)\u001b[49m\n\u001b[1;32m    561\u001b[0m \u001b[38;5;28;01mexcept\u001b[39;00m ResponseError:\n\u001b[1;32m    562\u001b[0m     \u001b[38;5;28;01mif\u001b[39;00m EMPTY_RESPONSE \u001b[38;5;129;01min\u001b[39;00m options:\n",
      "File \u001b[0;32m~/opt/miniconda3/envs/mockenv/lib/python3.11/site-packages/redis/connection.py:512\u001b[0m, in \u001b[0;36mAbstractConnection.read_response\u001b[0;34m(self, disable_decoding, disconnect_on_error, push_request)\u001b[0m\n\u001b[1;32m    508\u001b[0m         response \u001b[38;5;241m=\u001b[39m \u001b[38;5;28mself\u001b[39m\u001b[38;5;241m.\u001b[39m_parser\u001b[38;5;241m.\u001b[39mread_response(\n\u001b[1;32m    509\u001b[0m             disable_decoding\u001b[38;5;241m=\u001b[39mdisable_decoding, push_request\u001b[38;5;241m=\u001b[39mpush_request\n\u001b[1;32m    510\u001b[0m         )\n\u001b[1;32m    511\u001b[0m     \u001b[38;5;28;01melse\u001b[39;00m:\n\u001b[0;32m--> 512\u001b[0m         response \u001b[38;5;241m=\u001b[39m \u001b[38;5;28;43mself\u001b[39;49m\u001b[38;5;241;43m.\u001b[39;49m\u001b[43m_parser\u001b[49m\u001b[38;5;241;43m.\u001b[39;49m\u001b[43mread_response\u001b[49m\u001b[43m(\u001b[49m\u001b[43mdisable_decoding\u001b[49m\u001b[38;5;241;43m=\u001b[39;49m\u001b[43mdisable_decoding\u001b[49m\u001b[43m)\u001b[49m\n\u001b[1;32m    513\u001b[0m \u001b[38;5;28;01mexcept\u001b[39;00m socket\u001b[38;5;241m.\u001b[39mtimeout:\n\u001b[1;32m    514\u001b[0m     \u001b[38;5;28;01mif\u001b[39;00m disconnect_on_error:\n",
      "File \u001b[0;32m~/opt/miniconda3/envs/mockenv/lib/python3.11/site-packages/redis/_parsers/resp2.py:15\u001b[0m, in \u001b[0;36m_RESP2Parser.read_response\u001b[0;34m(self, disable_decoding)\u001b[0m\n\u001b[1;32m     13\u001b[0m pos \u001b[38;5;241m=\u001b[39m \u001b[38;5;28mself\u001b[39m\u001b[38;5;241m.\u001b[39m_buffer\u001b[38;5;241m.\u001b[39mget_pos() \u001b[38;5;28;01mif\u001b[39;00m \u001b[38;5;28mself\u001b[39m\u001b[38;5;241m.\u001b[39m_buffer \u001b[38;5;28;01melse\u001b[39;00m \u001b[38;5;28;01mNone\u001b[39;00m\n\u001b[1;32m     14\u001b[0m \u001b[38;5;28;01mtry\u001b[39;00m:\n\u001b[0;32m---> 15\u001b[0m     result \u001b[38;5;241m=\u001b[39m \u001b[38;5;28;43mself\u001b[39;49m\u001b[38;5;241;43m.\u001b[39;49m\u001b[43m_read_response\u001b[49m\u001b[43m(\u001b[49m\u001b[43mdisable_decoding\u001b[49m\u001b[38;5;241;43m=\u001b[39;49m\u001b[43mdisable_decoding\u001b[49m\u001b[43m)\u001b[49m\n\u001b[1;32m     16\u001b[0m \u001b[38;5;28;01mexcept\u001b[39;00m \u001b[38;5;167;01mBaseException\u001b[39;00m:\n\u001b[1;32m     17\u001b[0m     \u001b[38;5;28;01mif\u001b[39;00m \u001b[38;5;28mself\u001b[39m\u001b[38;5;241m.\u001b[39m_buffer:\n",
      "File \u001b[0;32m~/opt/miniconda3/envs/mockenv/lib/python3.11/site-packages/redis/_parsers/resp2.py:25\u001b[0m, in \u001b[0;36m_RESP2Parser._read_response\u001b[0;34m(self, disable_decoding)\u001b[0m\n\u001b[1;32m     24\u001b[0m \u001b[38;5;28;01mdef\u001b[39;00m \u001b[38;5;21m_read_response\u001b[39m(\u001b[38;5;28mself\u001b[39m, disable_decoding\u001b[38;5;241m=\u001b[39m\u001b[38;5;28;01mFalse\u001b[39;00m):\n\u001b[0;32m---> 25\u001b[0m     raw \u001b[38;5;241m=\u001b[39m \u001b[38;5;28;43mself\u001b[39;49m\u001b[38;5;241;43m.\u001b[39;49m\u001b[43m_buffer\u001b[49m\u001b[38;5;241;43m.\u001b[39;49m\u001b[43mreadline\u001b[49m\u001b[43m(\u001b[49m\u001b[43m)\u001b[49m\n\u001b[1;32m     26\u001b[0m     \u001b[38;5;28;01mif\u001b[39;00m \u001b[38;5;129;01mnot\u001b[39;00m raw:\n\u001b[1;32m     27\u001b[0m         \u001b[38;5;28;01mraise\u001b[39;00m \u001b[38;5;167;01mConnectionError\u001b[39;00m(SERVER_CLOSED_CONNECTION_ERROR)\n",
      "File \u001b[0;32m~/opt/miniconda3/envs/mockenv/lib/python3.11/site-packages/redis/_parsers/socket.py:115\u001b[0m, in \u001b[0;36mSocketBuffer.readline\u001b[0;34m(self)\u001b[0m\n\u001b[1;32m    112\u001b[0m data \u001b[38;5;241m=\u001b[39m buf\u001b[38;5;241m.\u001b[39mreadline()\n\u001b[1;32m    113\u001b[0m \u001b[38;5;28;01mwhile\u001b[39;00m \u001b[38;5;129;01mnot\u001b[39;00m data\u001b[38;5;241m.\u001b[39mendswith(SYM_CRLF):\n\u001b[1;32m    114\u001b[0m     \u001b[38;5;66;03m# there's more data in the socket that we need\u001b[39;00m\n\u001b[0;32m--> 115\u001b[0m     \u001b[38;5;28;43mself\u001b[39;49m\u001b[38;5;241;43m.\u001b[39;49m\u001b[43m_read_from_socket\u001b[49m\u001b[43m(\u001b[49m\u001b[43m)\u001b[49m\n\u001b[1;32m    116\u001b[0m     data \u001b[38;5;241m+\u001b[39m\u001b[38;5;241m=\u001b[39m buf\u001b[38;5;241m.\u001b[39mreadline()\n\u001b[1;32m    118\u001b[0m \u001b[38;5;28;01mreturn\u001b[39;00m data[:\u001b[38;5;241m-\u001b[39m\u001b[38;5;241m2\u001b[39m]\n",
      "File \u001b[0;32m~/opt/miniconda3/envs/mockenv/lib/python3.11/site-packages/redis/_parsers/socket.py:65\u001b[0m, in \u001b[0;36mSocketBuffer._read_from_socket\u001b[0;34m(self, length, timeout, raise_on_timeout)\u001b[0m\n\u001b[1;32m     63\u001b[0m \u001b[38;5;28;01mtry\u001b[39;00m:\n\u001b[1;32m     64\u001b[0m     \u001b[38;5;28;01mwhile\u001b[39;00m \u001b[38;5;28;01mTrue\u001b[39;00m:\n\u001b[0;32m---> 65\u001b[0m         data \u001b[38;5;241m=\u001b[39m \u001b[38;5;28;43mself\u001b[39;49m\u001b[38;5;241;43m.\u001b[39;49m\u001b[43m_sock\u001b[49m\u001b[38;5;241;43m.\u001b[39;49m\u001b[43mrecv\u001b[49m\u001b[43m(\u001b[49m\u001b[43msocket_read_size\u001b[49m\u001b[43m)\u001b[49m\n\u001b[1;32m     66\u001b[0m         \u001b[38;5;66;03m# an empty string indicates the server shutdown the socket\u001b[39;00m\n\u001b[1;32m     67\u001b[0m         \u001b[38;5;28;01mif\u001b[39;00m \u001b[38;5;28misinstance\u001b[39m(data, \u001b[38;5;28mbytes\u001b[39m) \u001b[38;5;129;01mand\u001b[39;00m \u001b[38;5;28mlen\u001b[39m(data) \u001b[38;5;241m==\u001b[39m \u001b[38;5;241m0\u001b[39m:\n",
      "\u001b[0;31mKeyboardInterrupt\u001b[0m: "
     ]
    }
   ],
   "source": [
    "# Get an instance of the flow and run it !!\n",
    "proxy_reverse_sequential_blocking = serve_utils.get_flow_instance(\n",
    "    cl=cl,\n",
    "    flow_endpoint=\"ReverseNumberSequentialFlowBlocking\", #TODO: SPECIFY THE ENDPOINT\n",
    "    user_id=\"local\",\n",
    "    config_overrides=default_config_reverse_number_sequential_blocking,\n",
    ")\n",
    "\n",
    "input_data = {\"id\": 0, \"number\": 12345}\n",
    "\n",
    "# Package your data in a Flow Message\n",
    "## Via the package input message method\n",
    "input_message = proxy_reverse_sequential_blocking.package_input_message(input_data)\n",
    "\n",
    "# Send a message to reverse number and ask to get an answer back in a future\n",
    "\n",
    "future = proxy_reverse_sequential_blocking.get_reply_future(input_message)\n",
    "\n",
    "# Get the response from the future\n",
    "#To get the response as a data dictionary\n",
    "reply_data = future.get_data()\n",
    "#To get the response as a FlowMessage object\n",
    "reply_message = future.get_message()\n",
    "\n",
    "print(\"Data sent:\\n\",  input_data, \"\\n\")\n",
    "print(\"REPLY:\\n\", reply_data, \"\\n\")"
   ]
  },
  {
   "cell_type": "code",
   "execution_count": 16,
   "metadata": {},
   "outputs": [
    {
     "ename": "SyntaxError",
     "evalue": "invalid syntax (<string>, line 62)",
     "output_type": "error",
     "traceback": [
      "Traceback \u001b[0;36m(most recent call last)\u001b[0m:\n",
      "\u001b[0m  File \u001b[1;32m~/opt/miniconda3/envs/mockenv/lib/python3.11/site-packages/IPython/core/interactiveshell.py:3577\u001b[0m in \u001b[1;35mrun_code\u001b[0m\n    exec(code_obj, self.user_global_ns, self.user_ns)\u001b[0m\n",
      "\u001b[0m  Cell \u001b[1;32mIn[16], line 1\u001b[0m\n    get_ipython().run_cell_magic('compile_and_writefile', 'ReverseNumberFlowModule/ReverseNumberSequentialFlowNonBlocking.py', '\\n\\nfrom aiflows.base_flows import CompositeFlow\\nfrom aiflows.messages import FlowMessage\\nfrom aiflows.interfaces import KeyInterface\\nclass ReverseNumberSequentialFlowNonBlocking(CompositeFlow):\\n    \\n    def __init__(self, **kwargs):\\n        super().__init__(**kwargs)\\n        #~~~~~~~~~~~ Key Transformation solution 1 ~~~~~~~~~~~\\n        self.input_interface_second_reverse_flow = KeyInterface(\\n            keys_to_rename= {\"reversed_number\": \"number\"},\\n            keys_to_select= [\"number\"],\\n        )\\n    \\n        self.ouput_interface_reply = KeyInterface(\\n            keys_to_rename= {\"reversed_number\": \"output_number\"},\\n            keys_to_select = [\"output_number\"],\\n        )\\n        \\n        self.get_next_call = {\\n            \"first_reverse_flow\": \"second_reverse_flow\",\\n            \"second_reverse_flow\": \"reply_to_message\",\\n            \"reply_to_message\": \"first_reverse_flow\"\\n        }\\n    def set_up_flow_state(self):\\n        super().set_up_flow_state()\\n        self.flow_state = {\"flow_to_call\": \"first_reverse_flow\"}\\n        \\n    def get_next_flow_to_call(self):\\n        return self.get_next_call[self.flow_state[\"flow_to_call\"]]\\n        \\n    # Customize the logic within this function as needed for your specific flow requirements.\\n    def run(self, input_message: FlowMessage):\\n        \\n        #Run here is a bit like a switch statement where we decide which flow to call next.\\n        # We then call the next flow and pass the input message to it. which we expect to get a reply from \\n        # back in the input queue (which will call the run method againg)\\n        flow_to_call = self.flow_state[\"flow_to_call\"]\\n        \\n        #Case where we need to reverse the number for the first time\\n        if flow_to_call == \"first_reverse_flow\":\\n            #Save the initial message to the state\\n            self.flow_state[\"initial_message\"] = input_message\\n            \\n            #Calls the first flow and requests a reply to be sent back to the input queue \\n            # (The queue to send back to is specified by self.get_instance_id() --> id of this flow instance\\n            # of ReverseNumberSequentialFlow)\\n            self.subflows[\"first_reverse_flow\"].get_reply(\\n                input_message,\\n                self.get_instance_id()\\n            )\\n        \\n        #Case where we need to reverse the number for the second time\\n        elif flow_to_call == \"second_reverse_flow\":\\n            \\n            #Applies a transformation to the input message (renames keys of dictonary so that they match the\\n            # required format of the second flow)\\n            message = self.input_interface_second_reverse_flow(input_message)\\n            \\n            #TODO: Call the second flow and requests a reply to be sent back to the input queue\\n            self.subflows[\"second_reverse_flow\"].???\\n        \\n        #Case where we need to reply to the initial message (we\\'ve already reversed the number twice)\\n        else:\\n            message = self.ouput_interface_reply(input_message)\\n            \\n            #package ouput message to send back\\n                #This method packages `response` in a FlowMessage object \\n                # containing the necessary metadata to send the message back\\n                # to the sender of the input message. \\n            reply = self.package_output_message(\\n                input_message = self.flow_state[\"initial_message\"],\\n                response = message.data\\n            )\\n            #send back the reply to initial caller of the flow\\n            self.send_message(reply)\\n            \\n        self.flow_state[\"flow_to_call\"] = self.get_next_flow_to_call()\\n')\u001b[0m\n",
      "\u001b[0m  File \u001b[1;32m~/opt/miniconda3/envs/mockenv/lib/python3.11/site-packages/IPython/core/interactiveshell.py:2541\u001b[0m in \u001b[1;35mrun_cell_magic\u001b[0m\n    result = fn(*args, **kwargs)\u001b[0m\n",
      "\u001b[0;36m  File \u001b[0;32m~/Documents/OneDrive/EPFL/DLAB/aiflow-colink/aiflows/AMLD/ReverseNumber/../utils.py:8\u001b[0;36m in \u001b[0;35mcompile_and_writefile\u001b[0;36m\n\u001b[0;31m    compiled_code = compile(cell, '<string>', 'exec')\u001b[0;36m\n",
      "\u001b[0;36m  File \u001b[0;32m<string>:62\u001b[0;36m\u001b[0m\n\u001b[0;31m    self.subflows[\"second_reverse_flow\"].???\u001b[0m\n\u001b[0m                                         ^\u001b[0m\n\u001b[0;31mSyntaxError\u001b[0m\u001b[0;31m:\u001b[0m invalid syntax\n"
     ]
    }
   ],
   "source": [
    "%%compile_and_writefile ReverseNumberFlowModule/ReverseNumberSequentialFlowNonBlocking.py\n",
    "\n",
    "\n",
    "from aiflows.base_flows import CompositeFlow\n",
    "from aiflows.messages import FlowMessage\n",
    "from aiflows.interfaces import KeyInterface\n",
    "class ReverseNumberSequentialFlowNonBlocking(CompositeFlow):\n",
    "    \n",
    "    def __init__(self, **kwargs):\n",
    "        super().__init__(**kwargs)\n",
    "        #~~~~~~~~~~~ Key Transformation solution 1 ~~~~~~~~~~~\n",
    "        self.input_interface_second_reverse_flow = KeyInterface(\n",
    "            keys_to_rename= {\"reversed_number\": \"number\"},\n",
    "            keys_to_select= [\"number\"],\n",
    "        )\n",
    "    \n",
    "        self.ouput_interface_reply = KeyInterface(\n",
    "            keys_to_rename= {\"reversed_number\": \"output_number\"},\n",
    "            keys_to_select = [\"output_number\"],\n",
    "        )\n",
    "        \n",
    "        self.get_next_call = {\n",
    "            \"first_reverse_flow\": \"second_reverse_flow\",\n",
    "            \"second_reverse_flow\": \"reply_to_message\",\n",
    "            \"reply_to_message\": \"first_reverse_flow\"\n",
    "        }\n",
    "    def set_up_flow_state(self):\n",
    "        super().set_up_flow_state()\n",
    "        self.flow_state = {\"flow_to_call\": \"first_reverse_flow\"}\n",
    "        \n",
    "    def get_next_flow_to_call(self):\n",
    "        return self.get_next_call[self.flow_state[\"flow_to_call\"]]\n",
    "        \n",
    "    # Customize the logic within this function as needed for your specific flow requirements.\n",
    "    def run(self, input_message: FlowMessage):\n",
    "        \n",
    "        #Run here is a bit like a switch statement where we decide which flow to call next.\n",
    "        # We then call the next flow and pass the input message to it. which we expect to get a reply from \n",
    "        # back in the input queue (which will call the run method againg)\n",
    "        flow_to_call = self.flow_state[\"flow_to_call\"]\n",
    "        \n",
    "        #Case where we need to reverse the number for the first time\n",
    "        if flow_to_call == \"first_reverse_flow\":\n",
    "            #Save the initial message to the state\n",
    "            self.flow_state[\"initial_message\"] = input_message\n",
    "            \n",
    "            #Calls the first flow and requests a reply to be sent back to the input queue \n",
    "            # (The queue to send back to is specified by self.get_instance_id() --> id of this flow instance\n",
    "            # of ReverseNumberSequentialFlow)\n",
    "            self.subflows[\"first_reverse_flow\"].get_reply(\n",
    "                input_message,\n",
    "                self.get_instance_id()\n",
    "            )\n",
    "        \n",
    "        #Case where we need to reverse the number for the second time\n",
    "        elif flow_to_call == \"second_reverse_flow\":\n",
    "            \n",
    "            #Applies a transformation to the input message (renames keys of dictonary so that they match the\n",
    "            # required format of the second flow)\n",
    "            message = self.input_interface_second_reverse_flow(input_message)\n",
    "            \n",
    "            #TODO: Call the second flow and requests a reply to be sent back to the input queue\n",
    "            self.subflows[\"second_reverse_flow\"].get_reply(\n",
    "                =\n",
    "        \n",
    "        #Case where we need to reply to the initial message (we've already reversed the number twice)\n",
    "        else:\n",
    "            message = self.ouput_interface_reply(input_message)\n",
    "            \n",
    "            #package ouput message to send back\n",
    "                #This method packages `response` in a FlowMessage object \n",
    "                # containing the necessary metadata to send the message back\n",
    "                # to the sender of the input message. \n",
    "            reply = self.package_output_message(\n",
    "                input_message = self.flow_state[\"initial_message\"],\n",
    "                response = message.data\n",
    "            )\n",
    "            #send back the reply to initial caller of the flow\n",
    "            self.send_message(reply)\n",
    "            \n",
    "        self.flow_state[\"flow_to_call\"] = self.get_next_flow_to_call()"
   ]
  },
  {
   "cell_type": "code",
   "execution_count": null,
   "metadata": {},
   "outputs": [],
   "source": [
    "default_config_reverse_number_sequential = \\\n",
    "{\n",
    "    \"name\": \"ReverseNumberTwice\",\n",
    "    \"description\": \"A sequential flow that reverses a number twice.\",\n",
    "\n",
    "    # TODO: Define the target\n",
    "    \"_target_\": \"ReverseNumberSequentialFlow.ReverseNumberSequentialFlow.instantiate_from_default_config\",\n",
    "\n",
    "    \"input_interface\": \"number\",\n",
    "    \"output_interface\": \"output_number\",\n",
    "    \n",
    "    \"subflows_config\": {\n",
    "        \"first_reverse_flow\": {\n",
    "            \"_target_\": \"aiflows.base_flows.AtomicFlow.instantiate_from_default_config\",\n",
    "            \"user_id\": \"local\",\n",
    "            \"flow_endpoint\": \"Reverse Number Atomic\",\n",
    "            \"name\": \"A proxy flow that calls reverse number to reverse number AGAIN.\",\n",
    "            \"description\": \"A proxy flow that calls reverse number to reverse number.\",\n",
    "        },\n",
    "        \"second_reverse_flow\": {\n",
    "            \"_target_\": \"aiflows.base_flows.AtomicFlow.instantiate_from_default_config\",\n",
    "            \"user_id\": \"local\",\n",
    "            \"flow_endpoint\": \"Reverse Number Atomic\",\n",
    "            \"name\": \"Proxy Second Reverse\",\n",
    "            \"description\": \"A proxy flow that calls reverse number to reverse number AGAIN.\",\n",
    "        },\n",
    "    }\n",
    "}\n"
   ]
  },
  {
   "cell_type": "code",
   "execution_count": null,
   "metadata": {},
   "outputs": [],
   "source": [
    "dict_to_yaml(default_config_reverse_number_sequential, \"ReverseNumberSequentialFlowNonBlocking.yaml\")"
   ]
  },
  {
   "cell_type": "markdown",
   "metadata": {},
   "source": [
    "### 3.2 Serving & Getting and Instance of the Reverse Number Flow"
   ]
  },
  {
   "cell_type": "markdown",
   "metadata": {},
   "source": [
    "#### 3.2.1 Serving the Reverse Number Sequential Flow"
   ]
  },
  {
   "cell_type": "code",
   "execution_count": null,
   "metadata": {},
   "outputs": [],
   "source": [
    "serve_utils.serve_flow(\n",
    "    cl=cl,\n",
    "    flow_class_name=\"ReverseNumberSequentialFlow.ReverseNumberSequentialFlow\",\n",
    "    flow_endpoint=\"Reverse Number Sequential\",\n",
    ")"
   ]
  },
  {
   "cell_type": "markdown",
   "metadata": {},
   "source": [
    "#### 3.2.2 Getting an instance of the Reverse Number Flow"
   ]
  },
  {
   "cell_type": "code",
   "execution_count": null,
   "metadata": {},
   "outputs": [],
   "source": [
    "# Start a worker thread to handle incoming messages\n",
    "run_dispatch_worker_thread(cl)"
   ]
  },
  {
   "cell_type": "code",
   "execution_count": null,
   "metadata": {},
   "outputs": [],
   "source": [
    "\n",
    "# Get an instance of the flow\n",
    "proxy_reverse_number_sequential_flow = serve_utils.get_flow_instance(\n",
    "    cl=cl,\n",
    "    flow_endpoint=???, #TODO: SPECIFY THE ENDPOINT\n",
    "    user_id=\"local\",\n",
    ")"
   ]
  },
  {
   "cell_type": "markdown",
   "metadata": {},
   "source": [
    "### 3.3. Call the Reverse Number Sequential Flow via the Proxy"
   ]
  },
  {
   "cell_type": "code",
   "execution_count": null,
   "metadata": {},
   "outputs": [],
   "source": [
    "input_data = {\"id\": 0, \"number\": 12345}\n",
    "\n",
    "# Package your data in a Flow Message\n",
    "\n",
    "## Option 1: Via the FlowMessage class\n",
    "# input_message = FlowMessage(\n",
    "#     data=input_data,\n",
    "# )\n",
    "\n",
    "## Option 2 (prefered): Via the package input message method\n",
    "input_message = proxy_reverse_number_sequential_flow.package_input_message(input_data)\n",
    "\n",
    "# Send a message to reverse number and ask to get an answer back in a future\n",
    "\n",
    "future = proxy_reverse_number_sequential_flow.get_reply_future(input_message)\n",
    "\n",
    "# Get the response from the future\n",
    "#To get the response as a data dictionary\n",
    "reply_data = future.get_data()\n",
    "#To get the response as a FlowMessage object\n",
    "reply_message = future.get_message()\n",
    "\n",
    "print(\"Data sent:\\n\",  input_data, \"\\n\")\n",
    "print(\"REPLY:\\n\", reply_data, \"\\n\")"
   ]
  },
  {
   "cell_type": "code",
   "execution_count": null,
   "metadata": {},
   "outputs": [],
   "source": []
  }
 ],
 "metadata": {
  "kernelspec": {
   "display_name": "coflows",
   "language": "python",
   "name": "python3"
  },
  "language_info": {
   "codemirror_mode": {
    "name": "ipython",
    "version": 3
   },
   "file_extension": ".py",
   "mimetype": "text/x-python",
   "name": "python",
   "nbconvert_exporter": "python",
   "pygments_lexer": "ipython3",
   "version": "3.11.8"
  }
 },
 "nbformat": 4,
 "nbformat_minor": 2
}
