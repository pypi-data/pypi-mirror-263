{
 "cells": [
  {
   "cell_type": "markdown",
   "metadata": {},
   "source": [
    "# Tutorial 3\n",
    "\n",
    "**In this tutorial you will:**\n",
    "- Build a Chatbot connected to a code interpreter able to execute Python code."
   ]
  },
  {
   "cell_type": "code",
   "execution_count": 1,
   "metadata": {},
   "outputs": [
    {
     "name": "stderr",
     "output_type": "stream",
     "text": [
      "/Users/nicolasbaldwin/opt/miniconda3/envs/coflows/lib/python3.11/site-packages/tqdm/auto.py:21: TqdmWarning: IProgress not found. Please update jupyter and ipywidgets. See https://ipywidgets.readthedocs.io/en/stable/user_install.html\n",
      "  from .autonotebook import tqdm as notebook_tqdm\n"
     ]
    }
   ],
   "source": [
    "%load_ext autoreload\n",
    "%autoreload 2\n",
    "#imports\n",
    "from aiflows.utils.general_helpers import read_yaml_file, quick_load_api_keys\n",
    "from aiflows.backends.api_info import ApiInfo\n",
    "from aiflows.utils import serve_utils\n",
    "from aiflows.utils import colink_utils\n",
    "from aiflows.workers import run_dispatch_worker_thread\n",
    "from aiflows.base_flows import AtomicFlow\n",
    "from aiflows.messages import FlowMessage\n",
    "from aiflows import flow_verse\n",
    "import sys\n",
    "import os\n",
    "sys.path.append(\"..\")\n",
    "from utils import compile_and_writefile, dict_to_yaml\n",
    "import json\n",
    "import copy\n",
    "#Specify path of your flow modules\n"
   ]
  },
  {
   "cell_type": "code",
   "execution_count": 2,
   "metadata": {},
   "outputs": [],
   "source": [
    "#starting a local colink server\n",
    "cl = colink_utils.start_colink_server()"
   ]
  },
  {
   "cell_type": "code",
   "execution_count": null,
   "metadata": {},
   "outputs": [],
   "source": [
    "# Start Worker thread\n",
    "run_dispatch_worker_thread(cl)"
   ]
  },
  {
   "cell_type": "code",
   "execution_count": null,
   "metadata": {},
   "outputs": [],
   "source": [
    "# Start 2nd Worker thread (in case you're making blocking calls)\n",
    "run_dispatch_worker_thread(cl)"
   ]
  },
  {
   "cell_type": "code",
   "execution_count": 3,
   "metadata": {},
   "outputs": [
    {
     "name": "stdout",
     "output_type": "stream",
     "text": [
      "[\u001b[36m2024-03-20 19:30:56,446\u001b[0m][\u001b[34maiflows.flow_verse.loading:775\u001b[0m][\u001b[32mINFO\u001b[0m] - \u001b[32m[<interactive>]\u001b[0m started to sync flow module dependencies to /Users/nicolasbaldwin/Documents/OneDrive/EPFL/DLAB/aiflow-colink/aiflows/AMLD/ChatWithCompiler/flow_modules...\u001b[0m\n",
      "[\u001b[36m2024-03-20 19:30:56,734\u001b[0m][\u001b[34maiflows.flow_verse.loading:608\u001b[0m][\u001b[32mINFO\u001b[0m] - aiflows/ChatFlowModule:coflows already synced, skip\u001b[0m\n",
      "[\u001b[36m2024-03-20 19:30:56,897\u001b[0m][\u001b[34maiflows.flow_verse.loading:608\u001b[0m][\u001b[32mINFO\u001b[0m] - aiflows/InterpreterFlowModule:coflows already synced, skip\u001b[0m\n",
      "[\u001b[36m2024-03-20 19:30:56,899\u001b[0m][\u001b[34maiflows.flow_verse.loading:825\u001b[0m][\u001b[32mINFO\u001b[0m] - \u001b[32m[<interactive>]\u001b[0m finished syncing\n",
      "\n",
      "\u001b[0m\n"
     ]
    },
    {
     "data": {
      "text/plain": [
       "['/Users/nicolasbaldwin/Documents/OneDrive/EPFL/DLAB/aiflow-colink/aiflows/AMLD/ChatWithCompiler/flow_modules/aiflows/ChatFlowModule',\n",
       " '/Users/nicolasbaldwin/Documents/OneDrive/EPFL/DLAB/aiflow-colink/aiflows/AMLD/ChatWithCompiler/flow_modules/aiflows/InterpreterFlowModule']"
      ]
     },
     "execution_count": 3,
     "metadata": {},
     "output_type": "execute_result"
    }
   ],
   "source": [
    "dependencies = [\n",
    "    {\"url\": \"aiflows/ChatFlowModule\", \"revision\": \"coflows\"},\n",
    "    {\"url\": \"aiflows/InterpreterFlowModule\", \"revision\": \"coflows\"},\n",
    "]\n",
    "from aiflows import flow_verse\n",
    "flow_verse.sync_dependencies(dependencies)"
   ]
  },
  {
   "cell_type": "code",
   "execution_count": 4,
   "metadata": {},
   "outputs": [],
   "source": [
    "%%compile_and_writefile ./CodeGenerator.py\n",
    "\n",
    "from aiflows.base_flows import AtomicFlow\n",
    "from aiflows.messages import FlowMessage\n",
    "from flow_modules.aiflows.ChatFlowModule import ChatAtomicFlow\n",
    "import json\n",
    "\n",
    "\n",
    "class CodeGenerator(ChatAtomicFlow):\n",
    "\n",
    "    def run(self, input_message: FlowMessage):\n",
    "        input_data = input_message.data\n",
    "        json_parsable = False\n",
    "        response = None\n",
    "        while not json_parsable:\n",
    "            \n",
    "            output = self.query_llm(input_data=input_data).strip()\n",
    "            \n",
    "            try:\n",
    "                response = json.loads(output)\n",
    "                json_parsable = True\n",
    "            \n",
    "            except (json.decoder.JSONDecodeError, json.JSONDecodeError):\n",
    "                \n",
    "                feedback = \"The previous response cannot be parsed with json.loads, it cannot be parsed with json.loads, it could be the backslashes usesd for escaping single quotes in the string arguments of the code are not properly escaped themselves within the JSON context. Next time, do not provide any comments or code blocks. Make sure your next response is purely json parsable.\"\n",
    "                previous_code = output\n",
    "                new_input_data = input_data.copy()\n",
    "                new_input_data = {\n",
    "                    \"goal\": input_data[\"goal\"],\n",
    "                    \"feedback\": feedback,\n",
    "                    \"previous_code\": previous_code,   \n",
    "                }\n",
    "                input_data = new_input_data\n",
    "\n",
    "        \n",
    "        reply = self.package_output_message(\n",
    "            input_message = input_message,\n",
    "            response = response\n",
    "        )\n",
    "        self.send_message(reply)\n",
    "        \n",
    "        \n",
    "        \n",
    "        \n",
    "        "
   ]
  },
  {
   "cell_type": "code",
   "execution_count": 5,
   "metadata": {},
   "outputs": [
    {
     "name": "stdout",
     "output_type": "stream",
     "text": [
      "Started serving CodeGenerator.CodeGenerator at flows:Code Generator Flow.\n",
      "dispatch_point: coflows_dispatch\n",
      "parallel_dispatch: False\n",
      "singleton: False\n",
      "\n"
     ]
    },
    {
     "data": {
      "text/plain": [
       "True"
      ]
     },
     "execution_count": 5,
     "metadata": {},
     "output_type": "execute_result"
    }
   ],
   "source": [
    "serve_utils.serve_flow(\n",
    "    cl=cl,\n",
    "    flow_class_name=\"CodeGenerator.CodeGenerator\",\n",
    "    flow_endpoint=\"Code Generator Flow\",\n",
    ")"
   ]
  },
  {
   "cell_type": "code",
   "execution_count": 6,
   "metadata": {},
   "outputs": [
    {
     "name": "stdout",
     "output_type": "stream",
     "text": [
      "Dispatch worker started in attached thread.\n",
      "dispatch_point: coflows_dispatch\n",
      "Mounted cf158c8f-fb9f-45eb-97d1-57ddd8ccaaed at flows:Code Generator Flow:mounts:local:cf158c8f-fb9f-45eb-97d1-57ddd8ccaaed\n"
     ]
    },
    {
     "name": "stdout",
     "output_type": "stream",
     "text": [
      "\n",
      "~~~ Dispatch task ~~~\n",
      "flow_endpoint: Code Generator Flow\n",
      "flow_id: cf158c8f-fb9f-45eb-97d1-57ddd8ccaaed\n",
      "owner_id: local\n",
      "message_paths: ['push_tasks:58ae5980-bc1b-4aa2-a803-49f4b9953071:msg']\n",
      "parallel_dispatch: False\n",
      "\n",
      "Input message source: Proxy_Code Generator Flow\n",
      "output is:  {  \"language_of_code\": \"python\",\n",
      "  \"code\": \"import pandas as pd\\nimport pandas_datareader as pdr\\nfrom datetime import datetime\\n\\n\\ndef download_apple_stock(start_date, end_date):\\n    \\\"\\\"\\\"\\n    This function downloads Apple's stock price between given start and end dates.\\n    \\n    Parameters:\\n    start_date (str): The start date in 'YYYY-MM-DD' format.\\n    end_date (str): The end date in 'YYYY-MM-DD' format.\\n    \\n    Returns:\\n    DataFrame: A pandas DataFrame containing the stock price data.\\n    \\\"\\\"\\\"\\n    \\n    # Ensure pandas_datareader is installed\\n    try:\\n        import pandas_datareader as pdr\\n    except ImportError:\\n        import os\\n        os.system('pip install pandas_datareader')\\n        import pandas_datareader as pdr\\n    \\n    # Download the stock price data\\n    df = pdr.get_data_yahoo('AAPL', start=start_date, end=end_date)\\n    \\n    return df\\n\\n# Call the function with the required dates\\nstock_data = download_apple_stock('2015-01-01', '2016-12-31')\\nprint(stock_data)\"\n",
      "}\n",
      "Data sent:\n",
      " {'id': 0, 'goal': \"Download Apple's stock price between 2015 and 2016.\"} \n",
      "\n",
      "REPLY:\n",
      " {'language_of_code': 'python', 'code': 'import pandas as pd\\nimport pandas_datareader as pdr\\nfrom datetime import datetime\\n\\n\\ndef download_apple_stock(start_date, end_date):\\n    \"\"\"\\n    This function downloads Apple\\'s stock price between given start and end dates.\\n    \\n    Parameters:\\n    start_date (str): The start date in \\'YYYY-MM-DD\\' format.\\n    end_date (str): The end date in \\'YYYY-MM-DD\\' format.\\n    \\n    Returns:\\n    DataFrame: A pandas DataFrame containing the stock price data.\\n    \"\"\"\\n    \\n    # Ensure pandas_datareader is installed\\n    try:\\n        import pandas_datareader as pdr\\n    except ImportError:\\n        import os\\n        os.system(\\'pip install pandas_datareader\\')\\n        import pandas_datareader as pdr\\n    \\n    # Download the stock price data\\n    df = pdr.get_data_yahoo(\\'AAPL\\', start=start_date, end=end_date)\\n    \\n    return df\\n\\n# Call the function with the required dates\\nstock_data = download_apple_stock(\\'2015-01-01\\', \\'2016-12-31\\')\\nprint(stock_data)'} \n",
      "\n"
     ]
    }
   ],
   "source": [
    "run_dispatch_worker_thread(cl)\n",
    "\n",
    "path_to_yaml = os.path.join(\".\", \"CodeGenerator.yaml\")\n",
    "default_config = read_yaml_file(path_to_yaml)\n",
    "overrides = copy.deepcopy(default_config)\n",
    "api_information = [ApiInfo(backend_used=\"openai\", api_key=os.getenv(\"OPENAI_API_KEY\"))]\n",
    "quick_load_api_keys(overrides, api_information)\n",
    "\n",
    "proxy_code_generator = serve_utils.get_flow_instance(\n",
    "    cl=cl,\n",
    "    flow_endpoint=\"Code Generator Flow\", #TODO: SPECIFY THE ENDPOINT\n",
    "    user_id=\"local\",\n",
    "    config_overrides=overrides,\n",
    ")\n",
    "data = [\n",
    "    {\"id\": 0, \"goal\": \"Download Apple's stock price between 2015 and 2016.\"},\n",
    "]\n",
    "\n",
    "for dp in data:\n",
    "    input_message = proxy_code_generator.package_input_message(dp)\n",
    "    future = proxy_code_generator.get_reply_future(input_message)\n",
    "    reply_data = future.get_data()\n",
    "    print(\"Data sent:\\n\",  dp, \"\\n\")\n",
    "    print(\"REPLY:\\n\", reply_data, \"\\n\")\n"
   ]
  },
  {
   "cell_type": "code",
   "execution_count": 7,
   "metadata": {},
   "outputs": [
    {
     "name": "stdout",
     "output_type": "stream",
     "text": [
      "import pandas as pd\n",
      "import pandas_datareader as pdr\n",
      "from datetime import datetime\n",
      "\n",
      "\n",
      "def download_apple_stock(start_date, end_date):\n",
      "    \"\"\"\n",
      "    This function downloads Apple's stock price between given start and end dates.\n",
      "    \n",
      "    Parameters:\n",
      "    start_date (str): The start date in 'YYYY-MM-DD' format.\n",
      "    end_date (str): The end date in 'YYYY-MM-DD' format.\n",
      "    \n",
      "    Returns:\n",
      "    DataFrame: A pandas DataFrame containing the stock price data.\n",
      "    \"\"\"\n",
      "    \n",
      "    # Ensure pandas_datareader is installed\n",
      "    try:\n",
      "        import pandas_datareader as pdr\n",
      "    except ImportError:\n",
      "        import os\n",
      "        os.system('pip install pandas_datareader')\n",
      "        import pandas_datareader as pdr\n",
      "    \n",
      "    # Download the stock price data\n",
      "    df = pdr.get_data_yahoo('AAPL', start=start_date, end=end_date)\n",
      "    \n",
      "    return df\n",
      "\n",
      "# Call the function with the required dates\n",
      "stock_data = download_apple_stock('2015-01-01', '2016-12-31')\n",
      "print(stock_data)\n"
     ]
    }
   ],
   "source": [
    "print(reply_data[\"code\"])"
   ]
  },
  {
   "cell_type": "code",
   "execution_count": 8,
   "metadata": {},
   "outputs": [
    {
     "name": "stdout",
     "output_type": "stream",
     "text": [
      "Started serving flow_modules.aiflows.InterpreterFlowModule.InterpreterAtomicFlow at flows:Interpreter Flow.\n",
      "dispatch_point: coflows_dispatch\n",
      "parallel_dispatch: False\n",
      "singleton: False\n",
      "\n",
      "Dispatch worker started in attached thread.\n",
      "dispatch_point: coflows_dispatch\n"
     ]
    }
   ],
   "source": [
    "serve_utils.serve_flow(\n",
    "    cl=cl,\n",
    "    flow_class_name=\"flow_modules.aiflows.InterpreterFlowModule.InterpreterAtomicFlow\",\n",
    "    flow_endpoint=\"Interpreter Flow\",\n",
    ")\n",
    "\n",
    "run_dispatch_worker_thread(cl)\n",
    "\n",
    "\n",
    "\n"
   ]
  },
  {
   "cell_type": "code",
   "execution_count": 9,
   "metadata": {},
   "outputs": [
    {
     "name": "stdout",
     "output_type": "stream",
     "text": [
      "Mounted 7422d803-808c-4b29-aea7-5bf655bc3328 at flows:Interpreter Flow:mounts:local:7422d803-808c-4b29-aea7-5bf655bc3328\n"
     ]
    },
    {
     "name": "stdout",
     "output_type": "stream",
     "text": [
      "\n",
      "~~~ Dispatch task ~~~\n",
      "flow_endpoint: Interpreter Flow\n",
      "flow_id: 7422d803-808c-4b29-aea7-5bf655bc3328\n",
      "owner_id: local\n",
      "message_paths: ['push_tasks:0e252eb9-d896-4aae-956b-42d9425e8e54:msg']\n",
      "parallel_dispatch: False\n",
      "\n",
      "Input message source: Proxy_Interpreter Flow\n",
      "\n",
      "~~~ Dispatch task ~~~\n",
      "flow_endpoint: Code Generator Flow\n",
      "flow_id: 0f33f8a8-c947-4a79-8877-71e3b8a9b32d\n",
      "owner_id: local\n",
      "message_paths: ['push_tasks:dbcb2867-5d6c-4873-a0d9-d6be347fceeb:msg']\n",
      "parallel_dispatch: False\n",
      "\n",
      "Input message source: Coder\n",
      "output is:  {  \"language_of_code\": \"python\",\n",
      "  \"code\": \"import matplotlib.pyplot as plt\\nimport pandas as pd\\nimport yfinance as yf\\n\\n\\ndef download_and_plot_stock_price(stock_symbol, start_date, end_date):\\n    \\\"\\\"\\\"\\n    This function downloads the stock price for a given symbol between two dates and plots it.\\n\\n    :param stock_symbol: str, the symbol of the stock to download\\n    :param start_date: str, the start date in format 'YYYY-MM-DD'\\n    :param end_date: str, the end date in format 'YYYY-MM-DD'\\n    :return: None\\n    \\\"\\\"\\\"\\n    # Download stock data\\n    data = yf.download(stock_symbol, start=start_date, end=end_date)\\n\\n    # Plot the close price\\n    data['Close'].plot()\\n    plt.title(f'{stock_symbol} stock price between {start_date} and {end_date}')\\n    plt.xlabel('Date')\\n    plt.ylabel('Close Price')\\n    plt.show()\\n\\n\\ndef main():\\n    \\\"\\\"\\\"\\n    Main function to execute the script\\n    \\\"\\\"\\\"\\n    # Define the stock symbol and the date range\\n    stock_symbol = 'AAPL'\\n    start_date = '2015-01-01'\\n    end_date = '2016-12-31'\\n\\n    # Download and plot the stock price\\n    download_and_plot_stock_price(stock_symbol, start_date, end_date)\\n\\n\\nif __name__ == '__main__':\\n    main()\\n\"\n",
      "}\n"
     ]
    },
    {
     "name": "stdout",
     "output_type": "stream",
     "text": [
      "Data sent:\n",
      " {'id': 0, 'language': 'Python', 'code': \"print('Hello, World!')\"} \n",
      "\n",
      "REPLY:\n",
      " {'interpreter_output': 'Hello, World!', 'code_runs': True} \n",
      "\n"
     ]
    }
   ],
   "source": [
    "proxy_code_interpreter = serve_utils.get_flow_instance(\n",
    "    cl=cl,\n",
    "    flow_endpoint=\"Interpreter Flow\", #TODO: SPECIFY THE ENDPOINT\n",
    "    user_id=\"local\",\n",
    ")\n",
    "data = [\n",
    "    {\"id\": 0, \"language\": \"Python\", \"code\": \"print('Hello, World!')\"},\n",
    "]\n",
    "\n",
    "for dp in data:\n",
    "    input_message = proxy_code_interpreter.package_input_message(dp)\n",
    "    future = proxy_code_interpreter.get_reply_future(input_message)\n",
    "    reply_data = future.get_data()\n",
    "    print(\"Data sent:\\n\",  dp, \"\\n\")\n",
    "    print(\"REPLY:\\n\", reply_data, \"\\n\")"
   ]
  },
  {
   "cell_type": "code",
   "execution_count": 10,
   "metadata": {},
   "outputs": [],
   "source": [
    "%%compile_and_writefile ./ChatCodeInterpreter.py\n",
    "\n",
    "from aiflows.base_flows import CompositeFlow\n",
    "from aiflows.messages import FlowMessage\n",
    "from aiflows.interfaces import KeyInterface\n",
    "\n",
    "class ChatCodeInterpreter(CompositeFlow):\n",
    "        \n",
    "    def __init__(self,**kwargs):\n",
    "        super().__init__(**kwargs)\n",
    "        self.input_interface_generate_reply = KeyInterface(\n",
    "            keys_to_rename={\"question\": \"prompt\"},\n",
    "            keys_to_select=[\"code\", \"interpreter_output\",\"code_runs\"]\n",
    "        )\n",
    "        \n",
    "        self.first_input_interface_coder = KeyInterface(\n",
    "            keys_to_select=[\"goal\"]\n",
    "        )\n",
    "        \n",
    "        self.input_interface_coder = KeyInterface(\n",
    "            keys_to_rename={\"code\": \"previous_code\", \"interpreter_output\": \"feedback\"},\n",
    "            keys_to_select=[\"goal\", \"previous_code\", \"feedback\"]\n",
    "        )\n",
    "        \n",
    "        self.input_interface_interpreter = KeyInterface(\n",
    "            keys_to_rename={\"code\": \"code\", \"language_of_code\": \"language\"},\n",
    "            keys_to_select=[\"code\", \"language\"]\n",
    "        )\n",
    "        \n",
    "    def set_up_flow_state(self):\n",
    "        super().set_up_flow_state()\n",
    "        self.flow_state[\"previous_state\"] = None\n",
    "\n",
    "    def determine_current_state(self):\n",
    "        previous_state = self.flow_state[\"previous_state\"]\n",
    "        \n",
    "        if previous_state is None:\n",
    "            return \"Coder\"\n",
    "        \n",
    "        elif previous_state == \"Coder\":\n",
    "            return \"Interpreter\"\n",
    "            \n",
    "        elif previous_state == \"Interpreter\":\n",
    "            if self.flow_state[\"code_runs\"]:\n",
    "                return \"GenerateReply\"\n",
    "            else:\n",
    "                return \"Coder\"\n",
    "        \n",
    "        elif \"GenerateReply\":\n",
    "            return None\n",
    "        \n",
    "        else:\n",
    "            raise ValueError(f\"Invalid state: {previous_state}\")\n",
    "                        \n",
    "    def call_coder(self):\n",
    "        \n",
    "        if self.flow_state[\"previous_state\"] is None:\n",
    "            input_interface = self.first_input_interface_coder\n",
    "        else:\n",
    "            input_interface = self.input_interface_coder\n",
    "        \n",
    "        message = self.package_input_message(\n",
    "            data = input_interface(self.flow_state),\n",
    "            dst_flow = \"Coder\"\n",
    "        )\n",
    "        \n",
    "        self.subflows[\"Coder\"].get_reply(\n",
    "            message,\n",
    "            self.get_instance_id(),\n",
    "        )\n",
    "        \n",
    "    def call_interpreter(self):\n",
    "        \n",
    "        \n",
    "        \n",
    "        input_interface = self.input_interface_interpreter\n",
    "        \n",
    "        message = self.package_input_message(\n",
    "            data = input_interface(self.flow_state),\n",
    "            dst_flow = \"Interpreter\"\n",
    "        )\n",
    "        \n",
    "        self.subflows[\"Interpreter\"].get_reply(\n",
    "                message,\n",
    "                self.get_instance_id(),\n",
    "        )\n",
    "        \n",
    "    def generate_reply(self):\n",
    "          \n",
    "        input_interface = self.input_interface_generate_reply\n",
    "          \n",
    "        reply = self.package_output_message(\n",
    "            input_message=self.flow_state[\"initial_message\"],\n",
    "            response=input_interface(self.flow_state),\n",
    "        )\n",
    "        self.send_message(reply)\n",
    "        \n",
    "    def register_data_to_state(self, input_message):\n",
    "        \n",
    "        previous_state = self.flow_state[\"previous_state\"]\n",
    "        \n",
    "        #first call to flow\n",
    "        if previous_state is None:\n",
    "            #register initial message so we can reply to it later\n",
    "            self.flow_state[\"initial_message\"] = input_message\n",
    "            #register the question\n",
    "            self.flow_state[\"goal\"] = input_message.data[\"goal\"]\n",
    "        \n",
    "        elif previous_state == \"Coder\":\n",
    "            self.flow_state[\"code\"] = input_message.data[\"code\"]\n",
    "            self.flow_state[\"language_of_code\"] = input_message.data[\"language_of_code\"]\n",
    "        \n",
    "        #case where our last call was to the safeguard\n",
    "        elif previous_state == \"Interpreter\":\n",
    "            self.flow_state[\"code_runs\"] = input_message.data[\"code_runs\"]\n",
    "            self.flow_state[\"interpreter_output\"] = input_message.data[\"interpreter_output\"]\n",
    "\n",
    "   \n",
    "    def run(self, input_message: FlowMessage):\n",
    "        self.register_data_to_state(input_message)\n",
    "        \n",
    "        current_state = self.determine_current_state()\n",
    "        \n",
    "        if current_state == \"Coder\":\n",
    "            self.call_coder()\n",
    "            \n",
    "        elif current_state == \"Interpreter\":\n",
    "            self.call_interpreter()\n",
    "            \n",
    "        elif current_state == \"GenerateReply\":\n",
    "            self.generate_reply()\n",
    "        \n",
    "        self.flow_state[\"previous_state\"] = current_state if current_state != \"GenerateReply\" else None\n",
    "            \n",
    "        \n",
    "        "
   ]
  },
  {
   "cell_type": "code",
   "execution_count": 11,
   "metadata": {},
   "outputs": [],
   "source": [
    "default_config_ChatCodeInterpreter = \\\n",
    "{\n",
    "    \"name\": \"ChatCodeInterpreter\",\n",
    "    \"description\": \"A code which generate code with the help of a interpreter\",\n",
    "\n",
    "    # TODO: Define the target\n",
    "    \"_target_\": \"ChatCodeInterpreter.ChatCodeInterpreter.instantiate_from_default_config\",\n",
    "\n",
    "    \"input_interface\": \"goal\",\n",
    "    \"output_interface\": [\"code\",\"interpreter_output\"],\n",
    "    \n",
    "    \"subflows_config\": {\n",
    "        \"Coder\": {\n",
    "            \"_target_\": \"aiflows.base_flows.AtomicFlow.instantiate_from_default_config\",\n",
    "            \"user_id\": \"local\",\n",
    "            \"flow_endpoint\": \"Code Generator Flow\",\n",
    "            \"name\": \"Proxy of Coder\",\n",
    "            \"description\": \"A proxy flow of the Coder flow.\",\n",
    "             \"backend\": {\n",
    "                \"api_infos\": \"???\",\n",
    "                \"model_name\": {\"openai\": \"gpt-4\"}\n",
    "            },\n",
    " \n",
    "        },\n",
    "        \"Interpreter\": {\n",
    "            \"_target_\": \"aiflows.base_flows.AtomicFlow.instantiate_from_default_config\",\n",
    "           \n",
    "            \"user_id\": \"local\",\n",
    "            \n",
    "            \"flow_endpoint\": \"Interpreter Flow\",\n",
    "            \"name\": \"Proxy of Interpreter Flow\",\n",
    "            \"description\": \"A proxy flow of the Interpreter Flow.\",\n",
    "        }\n",
    "    }\n",
    "}\n",
    "dict_to_yaml(default_config_ChatCodeInterpreter, \"ChatWithPIRails.yaml\")"
   ]
  },
  {
   "cell_type": "code",
   "execution_count": 12,
   "metadata": {},
   "outputs": [
    {
     "name": "stdout",
     "output_type": "stream",
     "text": [
      "Started serving flow_modules.aiflows.InterpreterFlowModule.InterpreterAtomicFlow at flows:ChatCodeInterpreter.\n",
      "dispatch_point: coflows_dispatch\n",
      "parallel_dispatch: False\n",
      "singleton: False\n",
      "\n",
      "Dispatch worker started in attached thread.\n",
      "dispatch_point: coflows_dispatch\n"
     ]
    }
   ],
   "source": [
    "serve_utils.serve_flow(\n",
    "    cl=cl,\n",
    "    flow_class_name=\"flow_modules.aiflows.InterpreterFlowModule.InterpreterAtomicFlow\",\n",
    "    flow_endpoint=\"ChatCodeInterpreter\",\n",
    ")\n",
    "\n",
    "run_dispatch_worker_thread(cl)"
   ]
  },
  {
   "cell_type": "code",
   "execution_count": 13,
   "metadata": {},
   "outputs": [
    {
     "name": "stdout",
     "output_type": "stream",
     "text": [
      "Dispatch worker started in attached thread.\n",
      "dispatch_point: coflows_dispatch\n",
      "Mounted 0f33f8a8-c947-4a79-8877-71e3b8a9b32d at flows:Code Generator Flow:mounts:local:0f33f8a8-c947-4a79-8877-71e3b8a9b32d\n",
      "Mounted cdb865f8-cf68-494e-bc3f-7407f4bab18c at flows:Interpreter Flow:mounts:local:cdb865f8-cf68-494e-bc3f-7407f4bab18c\n",
      "Mounted c91c3259-e6cd-4915-ba66-5cf303258525 at flows:ChatCodeInterpreter:mounts:local:c91c3259-e6cd-4915-ba66-5cf303258525\n"
     ]
    },
    {
     "name": "stdout",
     "output_type": "stream",
     "text": [
      "\n",
      "~~~ Dispatch task ~~~\n",
      "flow_endpoint: ChatCodeInterpreter\n",
      "flow_id: c91c3259-e6cd-4915-ba66-5cf303258525\n",
      "owner_id: local\n",
      "message_paths: ['push_tasks:02a241ad-9348-4ecf-aa26-50ef7d4d4711:msg']\n",
      "parallel_dispatch: False\n",
      "\n",
      "Input message source: Proxy_ChatCodeInterpreter\n",
      "\n",
      "~~~ Dispatch task ~~~\n",
      "flow_endpoint: ChatCodeInterpreter\n",
      "flow_id: c91c3259-e6cd-4915-ba66-5cf303258525\n",
      "owner_id: local\n",
      "message_paths: ['push_tasks:0d8fbf31-89f5-4d39-8833-f81632369a48:msg']\n",
      "parallel_dispatch: False\n",
      "\n",
      "Input message source: Proxy of Interpreter Flow\n"
     ]
    },
    {
     "name": "stdout",
     "output_type": "stream",
     "text": [
      "\n",
      "~~~ Dispatch task ~~~\n",
      "flow_endpoint: ChatCodeInterpreter\n",
      "flow_id: c91c3259-e6cd-4915-ba66-5cf303258525\n",
      "owner_id: local\n",
      "message_paths: ['push_tasks:22a28a74-d942-43a2-93e9-63bca072fa87:msg']\n",
      "parallel_dispatch: False\n",
      "\n",
      "Input message source: Proxy of Coder\n"
     ]
    },
    {
     "name": "stdout",
     "output_type": "stream",
     "text": [
      "\n",
      "~~~ Dispatch task ~~~\n",
      "flow_endpoint: Interpreter Flow\n",
      "flow_id: cdb865f8-cf68-494e-bc3f-7407f4bab18c\n",
      "owner_id: local\n",
      "message_paths: ['push_tasks:45267797-06f1-4149-9876-5f6d27dc6ee9:msg']\n",
      "parallel_dispatch: False\n",
      "\n",
      "Input message source: Interpreter\n",
      "Data sent:\n",
      " {'id': 0, 'goal': \"Download Apple's stock price between 2015 and 2016 and make a plot with it.\"} \n",
      "\n",
      "REPLY:\n",
      " {'code': 'import matplotlib.pyplot as plt\\nimport pandas as pd\\nimport yfinance as yf\\n\\n\\ndef download_and_plot_stock_price(stock_symbol, start_date, end_date):\\n    \"\"\"\\n    This function downloads the stock price for a given symbol between two dates and plots it.\\n\\n    :param stock_symbol: str, the symbol of the stock to download\\n    :param start_date: str, the start date in format \\'YYYY-MM-DD\\'\\n    :param end_date: str, the end date in format \\'YYYY-MM-DD\\'\\n    :return: None\\n    \"\"\"\\n    # Download stock data\\n    data = yf.download(stock_symbol, start=start_date, end=end_date)\\n\\n    # Plot the close price\\n    data[\\'Close\\'].plot()\\n    plt.title(f\\'{stock_symbol} stock price between {start_date} and {end_date}\\')\\n    plt.xlabel(\\'Date\\')\\n    plt.ylabel(\\'Close Price\\')\\n    plt.show()\\n\\n\\ndef main():\\n    \"\"\"\\n    Main function to execute the script\\n    \"\"\"\\n    # Define the stock symbol and the date range\\n    stock_symbol = \\'AAPL\\'\\n    start_date = \\'2015-01-01\\'\\n    end_date = \\'2016-12-31\\'\\n\\n    # Download and plot the stock price\\n    download_and_plot_stock_price(stock_symbol, start_date, end_date)\\n\\n\\nif __name__ == \\'__main__\\':\\n    main()\\n', 'interpreter_output': '[*********************100%%**********************]  1 of 1 completed\\nFigure(640x480)', 'code_runs': True} \n",
      "\n"
     ]
    }
   ],
   "source": [
    "run_dispatch_worker_thread(cl)\n",
    "\n",
    "default_config = default_config_ChatCodeInterpreter\n",
    "overrides = copy.deepcopy(default_config)\n",
    "api_information = [ApiInfo(backend_used=\"openai\", api_key=os.getenv(\"OPENAI_API_KEY\"))]\n",
    "quick_load_api_keys(overrides, api_information)\n",
    "\n",
    "proxy_code_generator = serve_utils.get_flow_instance(\n",
    "    cl=cl,\n",
    "    flow_endpoint=\"ChatCodeInterpreter\", #TODO: SPECIFY THE ENDPOINT\n",
    "    user_id=\"local\",\n",
    "    config_overrides=overrides,\n",
    ")\n",
    "data = [\n",
    "    {\"id\": 0, \"goal\": \"Download Apple's stock price between 2015 and 2016 and make a plot with it.\"},\n",
    "]\n",
    "\n",
    "for dp in data:\n",
    "    input_message = proxy_code_generator.package_input_message(dp)\n",
    "    future = proxy_code_generator.get_reply_future(input_message)\n",
    "    reply_data = future.get_data()\n",
    "    print(\"Data sent:\\n\",  dp, \"\\n\")\n",
    "    print(\"REPLY:\\n\", reply_data, \"\\n\")"
   ]
  },
  {
   "cell_type": "code",
   "execution_count": 14,
   "metadata": {},
   "outputs": [
    {
     "name": "stdout",
     "output_type": "stream",
     "text": [
      "import matplotlib.pyplot as plt\n",
      "import pandas as pd\n",
      "import yfinance as yf\n",
      "\n",
      "\n",
      "def download_and_plot_stock_price(stock_symbol, start_date, end_date):\n",
      "    \"\"\"\n",
      "    This function downloads the stock price for a given symbol between two dates and plots it.\n",
      "\n",
      "    :param stock_symbol: str, the symbol of the stock to download\n",
      "    :param start_date: str, the start date in format 'YYYY-MM-DD'\n",
      "    :param end_date: str, the end date in format 'YYYY-MM-DD'\n",
      "    :return: None\n",
      "    \"\"\"\n",
      "    # Download stock data\n",
      "    data = yf.download(stock_symbol, start=start_date, end=end_date)\n",
      "\n",
      "    # Plot the close price\n",
      "    data['Close'].plot()\n",
      "    plt.title(f'{stock_symbol} stock price between {start_date} and {end_date}')\n",
      "    plt.xlabel('Date')\n",
      "    plt.ylabel('Close Price')\n",
      "    plt.show()\n",
      "\n",
      "\n",
      "def main():\n",
      "    \"\"\"\n",
      "    Main function to execute the script\n",
      "    \"\"\"\n",
      "    # Define the stock symbol and the date range\n",
      "    stock_symbol = 'AAPL'\n",
      "    start_date = '2015-01-01'\n",
      "    end_date = '2016-12-31'\n",
      "\n",
      "    # Download and plot the stock price\n",
      "    download_and_plot_stock_price(stock_symbol, start_date, end_date)\n",
      "\n",
      "\n",
      "if __name__ == '__main__':\n",
      "    main()\n",
      "\n"
     ]
    }
   ],
   "source": [
    "print(reply_data[\"code\"])"
   ]
  },
  {
   "cell_type": "code",
   "execution_count": 16,
   "metadata": {},
   "outputs": [
    {
     "name": "stderr",
     "output_type": "stream",
     "text": [
      "[*********************100%%**********************]  1 of 1 completed\n"
     ]
    },
    {
     "data": {
      "image/png": "[encoded data removed]",
      "text/plain": [
       "<Figure size 640x480 with 1 Axes>"
      ]
     },
     "metadata": {},
     "output_type": "display_data"
    }
   ],
   "source": [
    "import matplotlib.pyplot as plt\n",
    "import pandas as pd\n",
    "import yfinance as yf\n",
    "\n",
    "\n",
    "def download_and_plot_stock_price(stock_symbol, start_date, end_date):\n",
    "    \"\"\"\n",
    "    This function downloads the stock price for a given symbol between two dates and plots it.\n",
    "\n",
    "    :param stock_symbol: str, the symbol of the stock to download\n",
    "    :param start_date: str, the start date in format 'YYYY-MM-DD'\n",
    "    :param end_date: str, the end date in format 'YYYY-MM-DD'\n",
    "    :return: None\n",
    "    \"\"\"\n",
    "    # Download stock data\n",
    "    data = yf.download(stock_symbol, start=start_date, end=end_date)\n",
    "\n",
    "    # Plot the close price\n",
    "    data['Close'].plot()\n",
    "    plt.title(f'{stock_symbol} stock price between {start_date} and {end_date}')\n",
    "    plt.xlabel('Date')\n",
    "    plt.ylabel('Close Price')\n",
    "    plt.show()\n",
    "\n",
    "\n",
    "def main():\n",
    "    \"\"\"\n",
    "    Main function to execute the script\n",
    "    \"\"\"\n",
    "    # Define the stock symbol and the date range\n",
    "    stock_symbol = 'AAPL'\n",
    "    start_date = '2015-01-01'\n",
    "    end_date = '2016-12-31'\n",
    "\n",
    "    # Download and plot the stock price\n",
    "    download_and_plot_stock_price(stock_symbol, start_date, end_date)\n",
    "\n",
    "\n",
    "if __name__ == '__main__':\n",
    "    main()"
   ]
  },
  {
   "cell_type": "code",
   "execution_count": null,
   "metadata": {},
   "outputs": [],
   "source": []
  }
 ],
 "metadata": {
  "kernelspec": {
   "display_name": "coflows",
   "language": "python",
   "name": "python3"
  },
  "language_info": {
   "codemirror_mode": {
    "name": "ipython",
    "version": 3
   },
   "file_extension": ".py",
   "mimetype": "text/x-python",
   "name": "python",
   "nbconvert_exporter": "python",
   "pygments_lexer": "ipython3",
   "version": "3.11.7"
  }
 },
 "nbformat": 4,
 "nbformat_minor": 2
}
