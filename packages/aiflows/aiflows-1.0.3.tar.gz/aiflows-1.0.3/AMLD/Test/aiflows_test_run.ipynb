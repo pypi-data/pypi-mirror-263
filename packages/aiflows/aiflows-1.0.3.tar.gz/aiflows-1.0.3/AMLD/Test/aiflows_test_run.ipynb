{
 "cells": [
  {
   "cell_type": "markdown",
   "metadata": {},
   "source": [
    "# Learn to Develop and Customize AI Workflows with Flows: AMLD Test Run Notebook\n",
    "\n",
    "Thank you for your interest in our workshop!\n",
    "\n",
    "This notebook is designed to test the your setup and ensure that everything runs smoothly on the day of the workshop. Please follow the instructions below to execute the notebook successfully. If you encounter any issues, please reach out to us.\n",
    "\n",
    "### Requirements\n",
    "\n",
    "Before proceeding, ensure you have the following installed:\n",
    "- Python 3.10 or later\n",
    "- Any setup which allows running a notebook (e.g., Jupyter Notebook, JupyterLab)\n",
    "\n",
    "Note: The environment has been tested on Unix-like systems such as macOS and Linux.\n",
    "\n",
    "--- \n",
    "\n",
    "Most of the Flows we're going to develop during the workshop will require access to LLMs. Therefore, once you make sure that the notebook executes succesfully, please ensure you possess an **OpenAI API key** (check out [this link](https://platform.openai.com/docs/quickstart/account-setup) on how to get one) or a key from a provider supported by LiteLLM (check the list of supported providers [here]((https://docs.litellm.ai/docs/providers))). We highly recommend using an OpenAI key for this workshop. \n",
    "\n",
    "Also plese join our Discord server where we will be responding to questions asyncronously as well: [https://discord.gg/pFQTddUbjK](https://discord.gg/pFQTddUbjK)\n",
    "\n",
    "Don't worry if you do not understand the code in this notebook! After the workshop you'll know how to customize AI workflows on effectively!"
   ]
  },
  {
   "cell_type": "markdown",
   "metadata": {},
   "source": [
    "\n",
    "## 1. Installing aiFlows"
   ]
  },
  {
   "cell_type": "code",
   "execution_count": 1,
   "metadata": {},
   "outputs": [
    {
     "name": "stdout",
     "output_type": "stream",
     "text": [
      "Requirement already satisfied: aiflows==1.0.0 in /opt/miniconda3/envs/amld/lib/python3.11/site-packages (1.0.0)\n",
      "Requirement already satisfied: colorama==0.4.6 in /opt/miniconda3/envs/amld/lib/python3.11/site-packages (from aiflows==1.0.0) (0.4.6)\n",
      "Requirement already satisfied: pytest==7.3.1 in /opt/miniconda3/envs/amld/lib/python3.11/site-packages (from aiflows==1.0.0) (7.3.1)\n",
      "Requirement already satisfied: pytest-cov==4.1.0 in /opt/miniconda3/envs/amld/lib/python3.11/site-packages (from aiflows==1.0.0) (4.1.0)\n",
      "Requirement already satisfied: hydra-core==1.3.2 in /opt/miniconda3/envs/amld/lib/python3.11/site-packages (from aiflows==1.0.0) (1.3.2)\n",
      "Requirement already satisfied: hydra-colorlog==1.1.0 in /opt/miniconda3/envs/amld/lib/python3.11/site-packages (from aiflows==1.0.0) (1.1.0)\n",
      "Requirement already satisfied: wrapt-timeout-decorator==1.3.12.2 in /opt/miniconda3/envs/amld/lib/python3.11/site-packages (from aiflows==1.0.0) (1.3.12.2)\n",
      "Requirement already satisfied: diskcache==5.6.1 in /opt/miniconda3/envs/amld/lib/python3.11/site-packages (from aiflows==1.0.0) (5.6.1)\n",
      "Requirement already satisfied: openai==1.0.0 in /opt/miniconda3/envs/amld/lib/python3.11/site-packages (from aiflows==1.0.0) (1.0.0)\n",
      "Requirement already satisfied: huggingface-hub==0.19.4 in /opt/miniconda3/envs/amld/lib/python3.11/site-packages (from aiflows==1.0.0) (0.19.4)\n",
      "Requirement already satisfied: jsonlines==3.1.0 in /opt/miniconda3/envs/amld/lib/python3.11/site-packages (from aiflows==1.0.0) (3.1.0)\n",
      "Requirement already satisfied: jinja2==3.1.2 in /opt/miniconda3/envs/amld/lib/python3.11/site-packages (from aiflows==1.0.0) (3.1.2)\n",
      "Requirement already satisfied: mock==5.0.2 in /opt/miniconda3/envs/amld/lib/python3.11/site-packages (from aiflows==1.0.0) (5.0.2)\n",
      "Requirement already satisfied: rich==12.6.0 in /opt/miniconda3/envs/amld/lib/python3.11/site-packages (from aiflows==1.0.0) (12.6.0)\n",
      "Requirement already satisfied: litellm==1.0.0 in /opt/miniconda3/envs/amld/lib/python3.11/site-packages (from aiflows==1.0.0) (1.0.0)\n",
      "Requirement already satisfied: colink==0.3.7 in /opt/miniconda3/envs/amld/lib/python3.11/site-packages (from aiflows==1.0.0) (0.3.7)\n",
      "Requirement already satisfied: termcolor==2.4.0 in /opt/miniconda3/envs/amld/lib/python3.11/site-packages (from aiflows==1.0.0) (2.4.0)\n",
      "Requirement already satisfied: grpcio>=1.27.2 in /opt/miniconda3/envs/amld/lib/python3.11/site-packages (from colink==0.3.7->aiflows==1.0.0) (1.62.1)\n",
      "Requirement already satisfied: protobuf<5.0dev,>=3.19.0 in /opt/miniconda3/envs/amld/lib/python3.11/site-packages (from colink==0.3.7->aiflows==1.0.0) (4.25.3)\n",
      "Requirement already satisfied: coincurve>=18.0.0 in /opt/miniconda3/envs/amld/lib/python3.11/site-packages (from colink==0.3.7->aiflows==1.0.0) (19.0.1)\n",
      "Requirement already satisfied: cryptography>=39.0.1 in /opt/miniconda3/envs/amld/lib/python3.11/site-packages (from colink==0.3.7->aiflows==1.0.0) (42.0.5)\n",
      "Requirement already satisfied: pika>=1.2.0 in /opt/miniconda3/envs/amld/lib/python3.11/site-packages (from colink==0.3.7->aiflows==1.0.0) (1.3.2)\n",
      "Requirement already satisfied: pyjwt>=2.6.0 in /opt/miniconda3/envs/amld/lib/python3.11/site-packages (from colink==0.3.7->aiflows==1.0.0) (2.8.0)\n",
      "Requirement already satisfied: requests>=2.28.1 in /opt/miniconda3/envs/amld/lib/python3.11/site-packages (from colink==0.3.7->aiflows==1.0.0) (2.31.0)\n",
      "Requirement already satisfied: requests-toolbelt>=0.10.1 in /opt/miniconda3/envs/amld/lib/python3.11/site-packages (from colink==0.3.7->aiflows==1.0.0) (1.0.0)\n",
      "Requirement already satisfied: redis>=4.5.4 in /opt/miniconda3/envs/amld/lib/python3.11/site-packages (from colink==0.3.7->aiflows==1.0.0) (5.0.3)\n",
      "Requirement already satisfied: filelock in /opt/miniconda3/envs/amld/lib/python3.11/site-packages (from huggingface-hub==0.19.4->aiflows==1.0.0) (3.13.1)\n",
      "Requirement already satisfied: fsspec>=2023.5.0 in /opt/miniconda3/envs/amld/lib/python3.11/site-packages (from huggingface-hub==0.19.4->aiflows==1.0.0) (2024.3.0)\n",
      "Requirement already satisfied: tqdm>=4.42.1 in /opt/miniconda3/envs/amld/lib/python3.11/site-packages (from huggingface-hub==0.19.4->aiflows==1.0.0) (4.66.2)\n",
      "Requirement already satisfied: pyyaml>=5.1 in /opt/miniconda3/envs/amld/lib/python3.11/site-packages (from huggingface-hub==0.19.4->aiflows==1.0.0) (6.0.1)\n",
      "Requirement already satisfied: typing-extensions>=3.7.4.3 in /opt/miniconda3/envs/amld/lib/python3.11/site-packages (from huggingface-hub==0.19.4->aiflows==1.0.0) (4.10.0)\n",
      "Requirement already satisfied: packaging>=20.9 in /opt/miniconda3/envs/amld/lib/python3.11/site-packages (from huggingface-hub==0.19.4->aiflows==1.0.0) (23.1)\n",
      "Requirement already satisfied: colorlog in /opt/miniconda3/envs/amld/lib/python3.11/site-packages (from hydra-colorlog==1.1.0->aiflows==1.0.0) (6.8.2)\n",
      "Requirement already satisfied: omegaconf<2.4,>=2.2 in /opt/miniconda3/envs/amld/lib/python3.11/site-packages (from hydra-core==1.3.2->aiflows==1.0.0) (2.3.0)\n",
      "Requirement already satisfied: antlr4-python3-runtime==4.9.* in /opt/miniconda3/envs/amld/lib/python3.11/site-packages (from hydra-core==1.3.2->aiflows==1.0.0) (4.9.3)\n",
      "Requirement already satisfied: MarkupSafe>=2.0 in /opt/miniconda3/envs/amld/lib/python3.11/site-packages (from jinja2==3.1.2->aiflows==1.0.0) (2.1.5)\n",
      "Requirement already satisfied: attrs>=19.2.0 in /opt/miniconda3/envs/amld/lib/python3.11/site-packages (from jsonlines==3.1.0->aiflows==1.0.0) (23.2.0)\n",
      "Requirement already satisfied: aiohttp in /opt/miniconda3/envs/amld/lib/python3.11/site-packages (from litellm==1.0.0->aiflows==1.0.0) (3.9.3)\n",
      "Requirement already satisfied: appdirs<2.0.0,>=1.4.4 in /opt/miniconda3/envs/amld/lib/python3.11/site-packages (from litellm==1.0.0->aiflows==1.0.0) (1.4.4)\n",
      "Requirement already satisfied: certifi<2024.0.0,>=2023.7.22 in /opt/miniconda3/envs/amld/lib/python3.11/site-packages (from litellm==1.0.0->aiflows==1.0.0) (2023.11.17)\n",
      "Requirement already satisfied: click in /opt/miniconda3/envs/amld/lib/python3.11/site-packages (from litellm==1.0.0->aiflows==1.0.0) (8.1.7)\n",
      "Requirement already satisfied: importlib-metadata>=6.8.0 in /opt/miniconda3/envs/amld/lib/python3.11/site-packages (from litellm==1.0.0->aiflows==1.0.0) (7.0.2)\n",
      "Requirement already satisfied: python-dotenv>=0.2.0 in /opt/miniconda3/envs/amld/lib/python3.11/site-packages (from litellm==1.0.0->aiflows==1.0.0) (1.0.1)\n",
      "Requirement already satisfied: tiktoken>=0.4.0 in /opt/miniconda3/envs/amld/lib/python3.11/site-packages (from litellm==1.0.0->aiflows==1.0.0) (0.6.0)\n",
      "Requirement already satisfied: tokenizers in /opt/miniconda3/envs/amld/lib/python3.11/site-packages (from litellm==1.0.0->aiflows==1.0.0) (0.15.2)\n",
      "Requirement already satisfied: anyio<4,>=3.5.0 in /opt/miniconda3/envs/amld/lib/python3.11/site-packages (from openai==1.0.0->aiflows==1.0.0) (3.7.1)\n",
      "Requirement already satisfied: distro<2,>=1.7.0 in /opt/miniconda3/envs/amld/lib/python3.11/site-packages (from openai==1.0.0->aiflows==1.0.0) (1.9.0)\n",
      "Requirement already satisfied: httpx<1,>=0.23.0 in /opt/miniconda3/envs/amld/lib/python3.11/site-packages (from openai==1.0.0->aiflows==1.0.0) (0.27.0)\n",
      "Requirement already satisfied: pydantic<3,>=1.9.0 in /opt/miniconda3/envs/amld/lib/python3.11/site-packages (from openai==1.0.0->aiflows==1.0.0) (2.6.4)\n",
      "Requirement already satisfied: iniconfig in /opt/miniconda3/envs/amld/lib/python3.11/site-packages (from pytest==7.3.1->aiflows==1.0.0) (2.0.0)\n",
      "Requirement already satisfied: pluggy<2.0,>=0.12 in /opt/miniconda3/envs/amld/lib/python3.11/site-packages (from pytest==7.3.1->aiflows==1.0.0) (1.4.0)\n",
      "Requirement already satisfied: coverage>=5.2.1 in /opt/miniconda3/envs/amld/lib/python3.11/site-packages (from coverage[toml]>=5.2.1->pytest-cov==4.1.0->aiflows==1.0.0) (7.4.4)\n",
      "Requirement already satisfied: commonmark<0.10.0,>=0.9.0 in /opt/miniconda3/envs/amld/lib/python3.11/site-packages (from rich==12.6.0->aiflows==1.0.0) (0.9.1)\n",
      "Requirement already satisfied: pygments<3.0.0,>=2.6.0 in /opt/miniconda3/envs/amld/lib/python3.11/site-packages (from rich==12.6.0->aiflows==1.0.0) (2.15.1)\n",
      "Requirement already satisfied: cli-exit-tools in /opt/miniconda3/envs/amld/lib/python3.11/site-packages (from wrapt-timeout-decorator==1.3.12.2->aiflows==1.0.0) (1.2.6)\n",
      "Requirement already satisfied: lib-detect-testenv in /opt/miniconda3/envs/amld/lib/python3.11/site-packages (from wrapt-timeout-decorator==1.3.12.2->aiflows==1.0.0) (2.0.8)\n",
      "Requirement already satisfied: multiprocess in /opt/miniconda3/envs/amld/lib/python3.11/site-packages (from wrapt-timeout-decorator==1.3.12.2->aiflows==1.0.0) (0.70.16)\n",
      "Requirement already satisfied: wrapt in /opt/miniconda3/envs/amld/lib/python3.11/site-packages (from wrapt-timeout-decorator==1.3.12.2->aiflows==1.0.0) (1.16.0)\n",
      "Requirement already satisfied: dill in /opt/miniconda3/envs/amld/lib/python3.11/site-packages (from wrapt-timeout-decorator==1.3.12.2->aiflows==1.0.0) (0.3.8)\n",
      "Requirement already satisfied: idna>=2.8 in /opt/miniconda3/envs/amld/lib/python3.11/site-packages (from anyio<4,>=3.5.0->openai==1.0.0->aiflows==1.0.0) (3.6)\n",
      "Requirement already satisfied: sniffio>=1.1 in /opt/miniconda3/envs/amld/lib/python3.11/site-packages (from anyio<4,>=3.5.0->openai==1.0.0->aiflows==1.0.0) (1.3.1)\n",
      "Requirement already satisfied: asn1crypto in /opt/miniconda3/envs/amld/lib/python3.11/site-packages (from coincurve>=18.0.0->colink==0.3.7->aiflows==1.0.0) (1.5.1)\n",
      "Requirement already satisfied: cffi>=1.3.0 in /opt/miniconda3/envs/amld/lib/python3.11/site-packages (from coincurve>=18.0.0->colink==0.3.7->aiflows==1.0.0) (1.16.0)\n",
      "Requirement already satisfied: httpcore==1.* in /opt/miniconda3/envs/amld/lib/python3.11/site-packages (from httpx<1,>=0.23.0->openai==1.0.0->aiflows==1.0.0) (1.0.4)\n",
      "Requirement already satisfied: h11<0.15,>=0.13 in /opt/miniconda3/envs/amld/lib/python3.11/site-packages (from httpcore==1.*->httpx<1,>=0.23.0->openai==1.0.0->aiflows==1.0.0) (0.14.0)\n",
      "Requirement already satisfied: zipp>=0.5 in /opt/miniconda3/envs/amld/lib/python3.11/site-packages (from importlib-metadata>=6.8.0->litellm==1.0.0->aiflows==1.0.0) (3.18.1)\n",
      "Requirement already satisfied: annotated-types>=0.4.0 in /opt/miniconda3/envs/amld/lib/python3.11/site-packages (from pydantic<3,>=1.9.0->openai==1.0.0->aiflows==1.0.0) (0.6.0)\n",
      "Requirement already satisfied: pydantic-core==2.16.3 in /opt/miniconda3/envs/amld/lib/python3.11/site-packages (from pydantic<3,>=1.9.0->openai==1.0.0->aiflows==1.0.0) (2.16.3)\n",
      "Requirement already satisfied: charset-normalizer<4,>=2 in /opt/miniconda3/envs/amld/lib/python3.11/site-packages (from requests>=2.28.1->colink==0.3.7->aiflows==1.0.0) (3.3.2)\n",
      "Requirement already satisfied: urllib3<3,>=1.21.1 in /opt/miniconda3/envs/amld/lib/python3.11/site-packages (from requests>=2.28.1->colink==0.3.7->aiflows==1.0.0) (2.2.1)\n",
      "Requirement already satisfied: regex>=2022.1.18 in /opt/miniconda3/envs/amld/lib/python3.11/site-packages (from tiktoken>=0.4.0->litellm==1.0.0->aiflows==1.0.0) (2023.12.25)\n",
      "Requirement already satisfied: aiosignal>=1.1.2 in /opt/miniconda3/envs/amld/lib/python3.11/site-packages (from aiohttp->litellm==1.0.0->aiflows==1.0.0) (1.3.1)\n",
      "Requirement already satisfied: frozenlist>=1.1.1 in /opt/miniconda3/envs/amld/lib/python3.11/site-packages (from aiohttp->litellm==1.0.0->aiflows==1.0.0) (1.4.1)\n",
      "Requirement already satisfied: multidict<7.0,>=4.5 in /opt/miniconda3/envs/amld/lib/python3.11/site-packages (from aiohttp->litellm==1.0.0->aiflows==1.0.0) (6.0.5)\n",
      "Requirement already satisfied: yarl<2.0,>=1.0 in /opt/miniconda3/envs/amld/lib/python3.11/site-packages (from aiohttp->litellm==1.0.0->aiflows==1.0.0) (1.9.4)\n",
      "Requirement already satisfied: pycparser in /opt/miniconda3/envs/amld/lib/python3.11/site-packages (from cffi>=1.3.0->coincurve>=18.0.0->colink==0.3.7->aiflows==1.0.0) (2.21)\n"
     ]
    }
   ],
   "source": [
    "!pip install aiflows==1.0.1"
   ]
  },
  {
   "cell_type": "markdown",
   "metadata": {},
   "source": [
    "## 2. Imports"
   ]
  },
  {
   "cell_type": "code",
   "execution_count": 2,
   "metadata": {},
   "outputs": [
    {
     "name": "stderr",
     "output_type": "stream",
     "text": [
      "/opt/miniconda3/envs/amld/lib/python3.11/site-packages/tqdm/auto.py:21: TqdmWarning: IProgress not found. Please update jupyter and ipywidgets. See https://ipywidgets.readthedocs.io/en/stable/user_install.html\n",
      "  from .autonotebook import tqdm as notebook_tqdm\n"
     ]
    }
   ],
   "source": [
    "from IPython.core.magic import register_cell_magic\n",
    "from aiflows.workers import run_dispatch_worker_thread\n",
    "from aiflows.base_flows import AtomicFlow\n",
    "from aiflows.messages import FlowMessage\n",
    "from omegaconf import OmegaConf\n",
    "import os\n",
    "from aiflows.utils import colink_utils, serve_utils\n",
    "from aiflows.utils import logging\n",
    "logging.set_verbosity_info()\n",
    "\n",
    "# Some useful functions \n",
    "\n",
    "@register_cell_magic\n",
    "def compile_and_writefile(line, cell):\n",
    "    # Compile the code in the cell\n",
    "    compiled_code = compile(cell, '<string>', 'exec')\n",
    "    #check if all directories exist and create them if they don't   \n",
    "    # Extract the directory path from the file path\n",
    "    directory = os.path.dirname(line)\n",
    "\n",
    "    # Check if the directory exists\n",
    "    if not os.path.exists(directory):\n",
    "        # Create the directory if it doesn't exist\n",
    "        os.makedirs(directory)\n",
    "        # Write the compiled code to a file\n",
    "    with open(line, 'w') as f:\n",
    "        f.write(cell)        \n",
    "\n",
    "def dict_to_yaml(dictionary, output_file):\n",
    "    \"\"\"\n",
    "    Convert a dictionary to YAML using OmegaConf and write to a file.\n",
    "\n",
    "    :param dictionary: Dictionary to convert.\n",
    "    :type dictionary: dict\n",
    "    :param output_file: Path to the output YAML file.\n",
    "    :type output_file: str\n",
    "    \"\"\"\n",
    "    # Convert dictionary to OmegaConf config object\n",
    "    config = OmegaConf.create(dictionary)\n",
    "\n",
    "    # Write the config object to the output YAML file\n",
    "    OmegaConf.save(config, output_file)"
   ]
  },
  {
   "cell_type": "markdown",
   "metadata": {},
   "source": [
    "## 3. Defining a Toy Flow"
   ]
  },
  {
   "cell_type": "code",
   "execution_count": 3,
   "metadata": {},
   "outputs": [],
   "source": [
    "%%compile_and_writefile ReverseNumberFlowModule/ReverseNumberAtomicFlow.py\n",
    "\n",
    "from aiflows.base_flows import AtomicFlow\n",
    "from aiflows.messages import FlowMessage\n",
    "\n",
    "class ReverseNumberAtomicFlow(AtomicFlow):\n",
    "    def __init__(self, **kwargs):\n",
    "        super().__init__(**kwargs)\n",
    "\n",
    "    # Customize the logic within this function as needed for your specific flow requirements.\n",
    "    def run(self, input_message: FlowMessage):\n",
    "\n",
    "        #Get data dictionary from input message\n",
    "        input_data = input_message.data\n",
    "        \n",
    "        #get input number from data dictionary (int)\n",
    "        input_number = input_data[\"number\"]\n",
    "        \n",
    "        #TODO: reverse the input number (e.g. 1234 -> 4321)\n",
    "        reversed_number = int(str(input_number)[::-1])\n",
    "        \n",
    "        #Create response dictionary\n",
    "        response = {\"reversed_number\": reversed_number}\n",
    "        \n",
    "        #package ouput message to send back\n",
    "            #This method packages `response` in a FlowMessage object \n",
    "            # containing the necessary metadata to send the message back\n",
    "            # to the sender of the input message. \n",
    "        reply = self.package_output_message(\n",
    "            input_message=input_message,\n",
    "            response=response,\n",
    "        )\n",
    "        \n",
    "        #send back reply\n",
    "        self.send_message(\n",
    "            reply\n",
    "        )"
   ]
  },
  {
   "cell_type": "code",
   "execution_count": 4,
   "metadata": {},
   "outputs": [],
   "source": [
    "default_config_reverse_number = \\\n",
    "{\n",
    "    \"name\": \"ReverseNumber\",\n",
    "    \"description\": \"A flow that takes in a number and reverses it.\",\n",
    "\n",
    "    \"_target_\": \"ReverseNumberFlowModule.ReverseNumberAtomicFlow.ReverseNumberAtomicFlow.instantiate_from_default_config\",\n",
    "\n",
    "    \"input_interface\": \"number\",\n",
    "    \"output_interface\": \"reversed_number\",\n",
    "}\n",
    "\n",
    "dict_to_yaml(default_config_reverse_number, \"ReverseNumberFlowModule/ReverseNumberAtomicFlow.yaml\")"
   ]
  },
  {
   "cell_type": "markdown",
   "metadata": {},
   "source": [
    "## 3. Setting up the Infrastructure"
   ]
  },
  {
   "cell_type": "code",
   "execution_count": 5,
   "metadata": {},
   "outputs": [],
   "source": [
    "# Starting CoLink server\n",
    "cl = colink_utils.start_colink_server()"
   ]
  },
  {
   "cell_type": "code",
   "execution_count": 6,
   "metadata": {},
   "outputs": [
    {
     "name": "stdout",
     "output_type": "stream",
     "text": [
      "[\u001b[36m2024-03-21 12:00:16,103\u001b[0m][\u001b[34maiflows.utils.serve_utils:116\u001b[0m][\u001b[32mINFO\u001b[0m] - Started serving ReverseNumberFlowModule.ReverseNumberAtomicFlow.ReverseNumberAtomicFlow at flows:reverse_number_atomic.\u001b[0m\n",
      "[\u001b[36m2024-03-21 12:00:16,104\u001b[0m][\u001b[34maiflows.utils.serve_utils:117\u001b[0m][\u001b[32mINFO\u001b[0m] - dispatch_point: coflows_dispatch\u001b[0m\n",
      "[\u001b[36m2024-03-21 12:00:16,104\u001b[0m][\u001b[34maiflows.utils.serve_utils:118\u001b[0m][\u001b[32mINFO\u001b[0m] - parallel_dispatch: False\u001b[0m\n",
      "[\u001b[36m2024-03-21 12:00:16,104\u001b[0m][\u001b[34maiflows.utils.serve_utils:119\u001b[0m][\u001b[32mINFO\u001b[0m] - singleton: True\n",
      "\u001b[0m\n"
     ]
    },
    {
     "data": {
      "text/plain": [
       "True"
      ]
     },
     "execution_count": 6,
     "metadata": {},
     "output_type": "execute_result"
    }
   ],
   "source": [
    "# Serving the Flow\n",
    "serve_utils.serve_flow(\n",
    "    cl=cl,\n",
    "    flow_class_name=\"ReverseNumberFlowModule.ReverseNumberAtomicFlow.ReverseNumberAtomicFlow\",\n",
    "    flow_endpoint=\"reverse_number_atomic\",\n",
    "    singleton=True,\n",
    ")"
   ]
  },
  {
   "cell_type": "code",
   "execution_count": 7,
   "metadata": {},
   "outputs": [
    {
     "name": "stdout",
     "output_type": "stream",
     "text": [
      "[\u001b[36m2024-03-21 12:00:16,110\u001b[0m][\u001b[34maiflows.workers.dispatch_worker:220\u001b[0m][\u001b[32mINFO\u001b[0m] - Dispatch worker started in attached thread.\u001b[0m\n",
      "[\u001b[36m2024-03-21 12:00:16,111\u001b[0m][\u001b[34maiflows.workers.dispatch_worker:221\u001b[0m][\u001b[32mINFO\u001b[0m] - dispatch_point: coflows_dispatch\u001b[0m\n"
     ]
    }
   ],
   "source": [
    "# Start a worker thread to handle incoming messages\n",
    "run_dispatch_worker_thread(cl)"
   ]
  },
  {
   "cell_type": "code",
   "execution_count": 8,
   "metadata": {},
   "outputs": [
    {
     "name": "stdout",
     "output_type": "stream",
     "text": [
      "[\u001b[36m2024-03-21 12:00:16,130\u001b[0m][\u001b[34maiflows.utils.serve_utils:336\u001b[0m][\u001b[32mINFO\u001b[0m] - Mounted ddc25703-6ac8-4104-a6a6-792cb9b57cc3 at flows:reverse_number_atomic:mounts:local:ddc25703-6ac8-4104-a6a6-792cb9b57cc3\u001b[0m\n"
     ]
    }
   ],
   "source": [
    "# Getting an instance of the flow\n",
    "proxy_reverse_number_flow = serve_utils.get_flow_instance(\n",
    "    cl=cl,\n",
    "    flow_endpoint=\"reverse_number_atomic\",\n",
    "    user_id=\"local\",\n",
    ")"
   ]
  },
  {
   "cell_type": "markdown",
   "metadata": {},
   "source": [
    "## 4. Running the Flow"
   ]
  },
  {
   "cell_type": "code",
   "execution_count": 9,
   "metadata": {},
   "outputs": [
    {
     "name": "stdout",
     "output_type": "stream",
     "text": [
      "[\u001b[36m2024-03-21 12:00:16,157\u001b[0m][\u001b[34maiflows.workers.dispatch_worker:113\u001b[0m][\u001b[32mINFO\u001b[0m] - \n",
      "~~~ Dispatch task ~~~\u001b[0m\n",
      "[\u001b[36m2024-03-21 12:00:16,160\u001b[0m][\u001b[34maiflows.workers.dispatch_worker:155\u001b[0m][\u001b[32mINFO\u001b[0m] - flow_endpoint: reverse_number_atomic\u001b[0m\n",
      "[\u001b[36m2024-03-21 12:00:16,161\u001b[0m][\u001b[34maiflows.workers.dispatch_worker:156\u001b[0m][\u001b[32mINFO\u001b[0m] - flow_id: ddc25703-6ac8-4104-a6a6-792cb9b57cc3\u001b[0m\n",
      "[\u001b[36m2024-03-21 12:00:16,161\u001b[0m][\u001b[34maiflows.workers.dispatch_worker:157\u001b[0m][\u001b[32mINFO\u001b[0m] - owner_id: local\u001b[0m\n",
      "[\u001b[36m2024-03-21 12:00:16,161\u001b[0m][\u001b[34maiflows.workers.dispatch_worker:158\u001b[0m][\u001b[32mINFO\u001b[0m] - message_paths: ['push_tasks:6898f67f-2c5f-48fa-b82f-0e1b11a2b3a3:msg']\u001b[0m\n",
      "[\u001b[36m2024-03-21 12:00:16,162\u001b[0m][\u001b[34maiflows.workers.dispatch_worker:159\u001b[0m][\u001b[32mINFO\u001b[0m] - parallel_dispatch: False\n",
      "\u001b[0m\n",
      "[\u001b[36m2024-03-21 12:00:16,171\u001b[0m][\u001b[34maiflows.workers.dispatch_worker:182\u001b[0m][\u001b[32mINFO\u001b[0m] - Input message source: Proxy_reverse_number_atomic\u001b[0m\n",
      "Data sent:\n",
      " {'number': 12345} \n",
      "\n",
      "REPLY:\n",
      " {'reversed_number': 54321} \n",
      "\n"
     ]
    }
   ],
   "source": [
    "input_data = {\"number\": 12345}\n",
    "\n",
    "# Package your data in a Flow Message\n",
    "input_message = proxy_reverse_number_flow.package_input_message(input_data)\n",
    "\n",
    "# Send a message to reverse number and ask to get an answer back in a future\n",
    "\n",
    "future = proxy_reverse_number_flow.get_reply_future(input_message)\n",
    "\n",
    "# Get the response from the future\n",
    "# To get the response as a data dictionary\n",
    "reply_data = future.get_data()\n",
    "\n",
    "print(\"Data sent:\\n\",  input_data, \"\\n\")\n",
    "print(\"REPLY:\\n\", reply_data, \"\\n\")"
   ]
  },
  {
   "cell_type": "markdown",
   "metadata": {},
   "source": [
    "## You're ready!"
   ]
  }
 ],
 "metadata": {
  "kernelspec": {
   "display_name": "amld",
   "language": "python",
   "name": "amld"
  },
  "language_info": {
   "codemirror_mode": {
    "name": "ipython",
    "version": 3
   },
   "file_extension": ".py",
   "mimetype": "text/x-python",
   "name": "python",
   "nbconvert_exporter": "python",
   "pygments_lexer": "ipython3",
   "version": "3.11.8"
  }
 },
 "nbformat": 4,
 "nbformat_minor": 2
}
