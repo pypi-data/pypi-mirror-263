{
 "cells": [
  {
   "cell_type": "markdown",
   "id": "d7a649b1-e259-4b73-8df5-5dc7c28cae47",
   "metadata": {},
   "source": [
    "# ReverseNumber Example"
   ]
  },
  {
   "cell_type": "code",
   "execution_count": 1,
   "id": "686be679-0b12-4675-8f25-67aaabc9c33a",
   "metadata": {},
   "outputs": [],
   "source": [
    "%load_ext autoreload\n",
    "%autoreload 2"
   ]
  },
  {
   "cell_type": "code",
   "execution_count": 2,
   "id": "3290339a-e045-465a-a503-03dece48822a",
   "metadata": {},
   "outputs": [],
   "source": [
    "import os, json\n",
    "\n",
    "from colink import CoLink\n",
    "\n",
    "from aiflows.utils import serve_utils\n",
    "from aiflows.utils.general_helpers import read_yaml_file\n",
    "from aiflows.messages import FlowMessage\n",
    "from aiflows.utils import coflows_utils, colink_utils\n",
    "from aiflows.workers import run_dispatch_worker_thread"
   ]
  },
  {
   "cell_type": "code",
   "execution_count": 3,
   "id": "e4f46587-dfd2-4ca3-bb14-e78ba9860251",
   "metadata": {},
   "outputs": [],
   "source": [
    "#USER_JWT_PATH = \"/home/staverm/workspace/coflows-dev/coflows/jwts.txt\"\n",
    "#user_jwt = open(USER_JWT_PATH).readline().strip()\n",
    "#cl = CoLink(\"http://127.0.0.1:2021\", user_jwt)"
   ]
  },
  {
   "cell_type": "code",
   "execution_count": 4,
   "id": "aa7d4186-d488-4a52-99d6-6a804cccd977",
   "metadata": {},
   "outputs": [],
   "source": [
    "cl = colink_utils.start_colink_server()"
   ]
  },
  {
   "cell_type": "markdown",
   "id": "d83270d6-93ad-4320-9821-506cef7969fc",
   "metadata": {},
   "source": [
    "# Start a few default workers"
   ]
  },
  {
   "cell_type": "code",
   "execution_count": 5,
   "id": "5b5e4f24-ed99-4d6a-af56-9c404bd43164",
   "metadata": {},
   "outputs": [
    {
     "name": "stdout",
     "output_type": "stream",
     "text": [
      "Dispatch worker started in attached thread.\n",
      "dispatch_point: coflows_dispatch\n",
      "\n",
      "~~~ Dispatch task ~~~\n",
      "flow_type: reverse_number_sequential\n",
      "flow_id: 7513bdfd-8828-4424-8a77-99015470ca08\n",
      "message_paths: ['push_tasks:e2022a70-86b2-47cb-9ba7-d3ace83c276e:msg']\n",
      "parallel_dispatch: False\n",
      "\n",
      "Called ReverseNumberSequential \n",
      " state {'current_call': 'first_reverse_flow'}\n",
      "\n",
      "~~~ Dispatch task ~~~\n",
      "flow_type: reverse_number_sequential\n",
      "flow_id: 7513bdfd-8828-4424-8a77-99015470ca08\n",
      "message_paths: ['push_tasks:555e933f-7c9d-4aff-b868-8aba198f016e:msg']\n",
      "parallel_dispatch: False\n",
      "\n",
      "Called ReverseNumberSequential \n",
      " state {'current_call': 'second_reverse_flow', 'initial_message': FlowMessage(message_id='b7461140-da9d-4ef9-b960-fee6542c792e', created_at='2024-03-16 03:48:24.870232531', created_by='Proxy_reverse_number_sequential', message_type='FlowMessage', data={'id': 0, 'number': 1234}, private_keys=[])}\n",
      "\n",
      "~~~ Dispatch task ~~~\n",
      "flow_type: reverse_number_sequential\n",
      "flow_id: 7513bdfd-8828-4424-8a77-99015470ca08\n",
      "message_paths: ['push_tasks:fdde477f-b93e-4012-9c22-32ff392752f9:msg']\n",
      "parallel_dispatch: False\n",
      "\n",
      "Called ReverseNumberSequential \n",
      " state {'current_call': 'reply_to_message', 'initial_message': FlowMessage(message_id='b7461140-da9d-4ef9-b960-fee6542c792e', created_at='2024-03-16 03:48:24.870232531', created_by='Proxy_reverse_number_sequential', message_type='FlowMessage', data={'id': 0, 'number': 1234}, private_keys=[])}\n"
     ]
    }
   ],
   "source": [
    "run_dispatch_worker_thread(cl)"
   ]
  },
  {
   "cell_type": "code",
   "execution_count": 6,
   "id": "e0e910a9-34ed-4e23-b736-36a247501e6c",
   "metadata": {},
   "outputs": [
    {
     "name": "stdout",
     "output_type": "stream",
     "text": [
      "Dispatch worker started in attached thread.\n",
      "dispatch_point: coflows_dispatch\n",
      "\n",
      "~~~ Dispatch task ~~~\n",
      "flow_type: reverse_number_atomic\n",
      "flow_id: 1eab578d-13da-44ec-a2e6-3880f01c8b64\n",
      "message_paths: ['push_tasks:08b6b972-ab15-4e05-86c6-2d1ba32b8f79:msg']\n",
      "parallel_dispatch: False\n",
      "\n",
      "Called ReverseNumberAtomic \n",
      " state {}\n",
      "\n",
      "~~~ Dispatch task ~~~\n",
      "flow_type: reverse_number_atomic\n",
      "flow_id: 1eab578d-13da-44ec-a2e6-3880f01c8b64\n",
      "message_paths: ['push_tasks:2ecab072-aa74-43ba-80e6-06b57d7c42d0:msg']\n",
      "parallel_dispatch: False\n",
      "\n",
      "Called ReverseNumberAtomic \n",
      " state {}\n"
     ]
    }
   ],
   "source": [
    "run_dispatch_worker_thread(cl)"
   ]
  },
  {
   "cell_type": "markdown",
   "id": "e623d0b4-1501-4460-bc5f-a1aeb590eefc",
   "metadata": {},
   "source": [
    "# Serve"
   ]
  },
  {
   "cell_type": "code",
   "execution_count": 7,
   "id": "fd960cb9-4b24-4b2f-b374-0b3c89e7dd55",
   "metadata": {
    "scrolled": true
   },
   "outputs": [
    {
     "name": "stdout",
     "output_type": "stream",
     "text": [
      "Started serving ReverseNumberFlowModule.ReverseNumberAtomicFlow at flows:reverse_number_atomic.\n",
      "dispatch_point: coflows_dispatch\n",
      "parallel_dispatch: False\n",
      "singleton: True\n",
      "Started serving ReverseNumberFlowModule.ReverseNumberSequentialFlow at flows:reverse_number_sequential.\n",
      "dispatch_point: coflows_dispatch\n",
      "parallel_dispatch: False\n",
      "singleton: False\n"
     ]
    },
    {
     "data": {
      "text/plain": [
       "True"
      ]
     },
     "execution_count": 7,
     "metadata": {},
     "output_type": "execute_result"
    }
   ],
   "source": [
    "serve_utils.serve_flow(\n",
    "    cl=cl,\n",
    "    flow_class_name=\"ReverseNumberFlowModule.ReverseNumberAtomicFlow\",\n",
    "    flow_endpoint=\"reverse_number_atomic\",\n",
    "    singleton=True,\n",
    ")\n",
    "serve_utils.serve_flow(\n",
    "    cl=cl,\n",
    "    flow_class_name=\"ReverseNumberFlowModule.ReverseNumberSequentialFlow\",\n",
    "    flow_endpoint=\"reverse_number_sequential\"\n",
    ")"
   ]
  },
  {
   "cell_type": "markdown",
   "id": "f1c1addd-333e-4917-8170-8237b4ee307e",
   "metadata": {},
   "source": [
    "## Get instance"
   ]
  },
  {
   "cell_type": "code",
   "execution_count": 8,
   "id": "dfd8d59c-138a-47a7-97ad-e6393f1c909d",
   "metadata": {},
   "outputs": [
    {
     "name": "stdout",
     "output_type": "stream",
     "text": [
      "Mounted 1eab578d-13da-44ec-a2e6-3880f01c8b64 at flows:reverse_number_atomic:mounts:local:1eab578d-13da-44ec-a2e6-3880f01c8b64\n",
      "Fetched singleton 1eab578d-13da-44ec-a2e6-3880f01c8b64\n",
      "Mounted 7513bdfd-8828-4424-8a77-99015470ca08 at flows:reverse_number_sequential:mounts:local:7513bdfd-8828-4424-8a77-99015470ca08\n"
     ]
    }
   ],
   "source": [
    "flow = serve_utils.get_flow_instance(\n",
    "    cl=cl,\n",
    "    flow_endpoint=\"reverse_number_sequential\",\n",
    "    user_id=\"local\",\n",
    ")"
   ]
  },
  {
   "cell_type": "code",
   "execution_count": 9,
   "id": "85e5a4ee-00d4-440d-b2f2-c9933ee7e718",
   "metadata": {},
   "outputs": [
    {
     "name": "stdout",
     "output_type": "stream",
     "text": [
      "Data sent:\n",
      " {'id': 0, 'number': 1234} \n",
      "\n",
      "REPLY:\n",
      " {'output_number': 1234} \n",
      "\n"
     ]
    }
   ],
   "source": [
    "input_data = {\"id\": 0, \"number\": 1234}\n",
    "    \n",
    "input_message = flow.package_input_message(input_data)\n",
    "future = flow.get_reply_future(input_message)\n",
    "reply_data = future.get_data()\n",
    "\n",
    "print(\"Data sent:\\n\",  input_data, \"\\n\")\n",
    "print(\"REPLY:\\n\", reply_data, \"\\n\")"
   ]
  },
  {
   "cell_type": "markdown",
   "id": "7165ec2f-e980-4a0b-bf3d-403f343338df",
   "metadata": {},
   "source": [
    "## Observe memory"
   ]
  },
  {
   "cell_type": "code",
   "execution_count": 10,
   "id": "91ffac26-eca1-4fe4-946b-984cdc280d06",
   "metadata": {},
   "outputs": [
    {
     "name": "stdout",
     "output_type": "stream",
     "text": [
      " reverse_number_sequential/\n",
      "   flow_class_name\n",
      "   mounts/\n",
      "     local/\n",
      "       7513bdfd-8828-4424-8a77-99015470ca08/\n",
      "         init\n",
      "         config_overrides\n",
      "         state\n",
      "   default_dispatch_point\n",
      "   singleton\n",
      "   parallel_dispatch\n",
      "   init\n",
      " reverse_number_atomic/\n",
      "   parallel_dispatch\n",
      "   init\n",
      "   mounts/\n",
      "     local/\n",
      "       1eab578d-13da-44ec-a2e6-3880f01c8b64/\n",
      "         state\n",
      "         config_overrides\n",
      "         init\n",
      "   flow_class_name\n",
      "   singleton\n",
      "   default_dispatch_point\n",
      "\n",
      "All flow instances:\n",
      " 7513bdfd-8828-4424-8a77-99015470ca08\n",
      " 1eab578d-13da-44ec-a2e6-3880f01c8b64\n"
     ]
    }
   ],
   "source": [
    "def status():\n",
    "    colink_utils.print_served_flows(cl, print_values=False)\n",
    "    print(\"\\nAll flow instances:\")\n",
    "    colink_utils.print_flow_instances(cl)\n",
    "status()"
   ]
  }
 ],
 "metadata": {
  "kernelspec": {
   "display_name": "Python 3 (ipykernel)",
   "language": "python",
   "name": "python3"
  },
  "language_info": {
   "codemirror_mode": {
    "name": "ipython",
    "version": 3
   },
   "file_extension": ".py",
   "mimetype": "text/x-python",
   "name": "python",
   "nbconvert_exporter": "python",
   "pygments_lexer": "ipython3",
   "version": "3.10.6"
  }
 },
 "nbformat": 4,
 "nbformat_minor": 5
}
