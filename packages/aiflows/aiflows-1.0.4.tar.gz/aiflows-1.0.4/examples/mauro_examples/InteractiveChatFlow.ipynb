{
 "cells": [
  {
   "cell_type": "markdown",
   "id": "d7a649b1-e259-4b73-8df5-5dc7c28cae47",
   "metadata": {},
   "source": [
    "# ChatFlow Example"
   ]
  },
  {
   "cell_type": "code",
   "execution_count": 1,
   "id": "686be679-0b12-4675-8f25-67aaabc9c33a",
   "metadata": {},
   "outputs": [],
   "source": [
    "%load_ext autoreload\n",
    "%autoreload 2"
   ]
  },
  {
   "cell_type": "code",
   "execution_count": 2,
   "id": "3290339a-e045-465a-a503-03dece48822a",
   "metadata": {},
   "outputs": [
    {
     "name": "stdout",
     "output_type": "stream",
     "text": [
      "[\u001b[36m2024-03-17 07:22:40,011\u001b[0m][\u001b[34maiflows.flow_verse.loading:775\u001b[0m][\u001b[32mINFO\u001b[0m] - \u001b[32m[<interactive>]\u001b[0m started to sync flow module dependencies to /home/staverm/workspace/coflows-dev/aiflows/examples/mauro_examples/InteractiveChatFlow/flow_modules...\u001b[0m\n",
      "[\u001b[36m2024-03-17 07:22:40,140\u001b[0m][\u001b[34maiflows.flow_verse.loading:608\u001b[0m][\u001b[32mINFO\u001b[0m] - aiflows/ChatFlowModule:coflows already synced, skip\u001b[0m\n",
      "[\u001b[36m2024-03-17 07:22:40,249\u001b[0m][\u001b[34maiflows.flow_verse.loading:608\u001b[0m][\u001b[32mINFO\u001b[0m] - aiflows/HumanStandardInputFlowModule:coflows already synced, skip\u001b[0m\n",
      "[\u001b[36m2024-03-17 07:22:40,611\u001b[0m][\u001b[34maiflows.flow_verse.loading:608\u001b[0m][\u001b[32mINFO\u001b[0m] - aiflows/ChatInteractiveFlowModule:coflows already synced, skip\u001b[0m\n",
      "[\u001b[36m2024-03-17 07:22:40,613\u001b[0m][\u001b[34maiflows.flow_verse.loading:825\u001b[0m][\u001b[32mINFO\u001b[0m] - \u001b[32m[<interactive>]\u001b[0m finished syncing\n",
      "\n",
      "\u001b[0m\n"
     ]
    },
    {
     "data": {
      "text/plain": [
       "['/home/staverm/workspace/coflows-dev/aiflows/examples/mauro_examples/InteractiveChatFlow/flow_modules/aiflows/ChatInteractiveFlowModule',\n",
       " '/home/staverm/workspace/coflows-dev/aiflows/examples/mauro_examples/InteractiveChatFlow/flow_modules/aiflows/ChatFlowModule',\n",
       " '/home/staverm/workspace/coflows-dev/aiflows/examples/mauro_examples/InteractiveChatFlow/flow_modules/aiflows/HumanStandardInputFlowModule']"
      ]
     },
     "execution_count": 2,
     "metadata": {},
     "output_type": "execute_result"
    }
   ],
   "source": [
    "import os, json, copy\n",
    "\n",
    "from colink import CoLink\n",
    "\n",
    "from aiflows.utils import serve_utils\n",
    "from aiflows.utils.general_helpers import read_yaml_file\n",
    "from aiflows.messages import FlowMessage\n",
    "from aiflows.utils import coflows_utils, colink_utils\n",
    "from aiflows.workers import run_dispatch_worker_threads, run_dispatch_worker_thread\n",
    "from aiflows import flow_verse\n",
    "\n",
    "dependencies = [\n",
    "    {\"url\": \"aiflows/ChatFlowModule\", \"revision\": \"main\"},\n",
    "    {\"url\": \"aiflows/HumanStandardInputFlowModule\", \"revision\": \"main\"},\n",
    "    {\"url\": \"aiflows/ChatInteractiveFlowModule\", \"revision\": \"main\"}\n",
    "]\n",
    "flow_verse.sync_dependencies(dependencies)"
   ]
  },
  {
   "cell_type": "markdown",
   "id": "c7a894bf-5605-4da7-984d-d0e06ee3288e",
   "metadata": {},
   "source": [
    "# Connect to CoLink Server"
   ]
  },
  {
   "cell_type": "code",
   "execution_count": 3,
   "id": "e736322e-bc47-4b1d-b106-b7cd7eeba989",
   "metadata": {},
   "outputs": [],
   "source": [
    "# This example only works with a server outside of the notebook because we will need to also start the human UI in a separate terminal\n",
    "USER_JWT_PATH = \"/home/staverm/workspace/coflows-dev/coflows/jwts.txt\"\n",
    "user_jwt = open(USER_JWT_PATH).readline().strip()\n",
    "cl = CoLink(\"http://127.0.0.1:2021\", user_jwt)"
   ]
  },
  {
   "cell_type": "markdown",
   "id": "d83270d6-93ad-4320-9821-506cef7969fc",
   "metadata": {},
   "source": [
    "# Start a few default workers"
   ]
  },
  {
   "cell_type": "code",
   "execution_count": 4,
   "id": "5b5e4f24-ed99-4d6a-af56-9c404bd43164",
   "metadata": {
    "scrolled": true
   },
   "outputs": [
    {
     "name": "stdout",
     "output_type": "stream",
     "text": [
      "Dispatch worker started in attached thread.\n",
      "dispatch_point: coflows_dispatch\n",
      "Dispatch worker started in attached thread.\n",
      "dispatch_point: coflows_dispatch\n"
     ]
    },
    {
     "name": "stderr",
     "output_type": "stream",
     "text": [
      "ERROR:root:CreateEntry Received RPC exception: code=StatusCode.INTERNAL message=Key name already exists: 0346f4875c8cb3dd5660afc51b69e60c8eddaefa7be820a09b840eca11e005fa04::_lock:_internal:protocols:coflows_dispatch:local:operator_mq\n",
      "ERROR:root:CreateEntry Received RPC exception: code=StatusCode.INTERNAL message=Key name already exists: 0346f4875c8cb3dd5660afc51b69e60c8eddaefa7be820a09b840eca11e005fa04::_lock:_internal:protocols:coflows_dispatch:local:operator_mq\n"
     ]
    },
    {
     "name": "stdout",
     "output_type": "stream",
     "text": [
      "\n",
      "~~~ Dispatch task ~~~\n",
      "flow_endpoint: InteractiveChat\n",
      "flow_id: 3a3ee7a4-4b00-4f2a-b80d-3bd7dbf52c74\n",
      "owner_id: local\n",
      "message_paths: ['push_tasks:1cba240f-fe6f-4c54-a60e-a5c310625bea:msg']\n",
      "parallel_dispatch: False\n",
      "\n",
      "Input message source: unknown\n",
      "\n",
      "~~~ Dispatch task ~~~\n",
      "flow_endpoint: Assistant\n",
      "flow_id: 5b117a6f-151d-4dcf-9435-9b092bd83d49\n",
      "owner_id: local\n",
      "message_paths: ['push_tasks:9757423c-6df5-478f-9346-53eaaeaaec82:msg']\n",
      "parallel_dispatch: False\n",
      "\n",
      "Input message source: Assistant\n",
      "CHATFLOW YO, input: {'id': 0, 'query': 'I want to ask you a few questions', 'answer': None, 'end_of_interaction': False}\n",
      "\n",
      "~~~ Dispatch task ~~~\n",
      "flow_endpoint: Assistant\n",
      "flow_id: b5d7a464-cc76-4d9d-8195-058f81d2fe96\n",
      "owner_id: local\n",
      "message_paths: ['push_tasks:f63737a2-15fc-48ad-9418-7611f5afbf13:msg']\n",
      "parallel_dispatch: False\n",
      "\n",
      "Input message source: Assistant\n",
      "CHATFLOW YO, input: {'id': 0, 'query': 'I want to ask you a few questions. Please ONLY respond in Croatian.', 'answer': None, 'end_of_interaction': False}\n",
      "CHATFLOW Yo2, output {'api_output': 'Of course! Feel free to ask me any questions you have.'}\n",
      "CHATFLOW Yo2, output {'api_output': 'Razumijem. Pitajte me što god želite.'}\n",
      "\n",
      "~~~ Dispatch task ~~~\n",
      "flow_endpoint: InteractiveChat\n",
      "flow_id: 67f237f1-7a3c-4dee-8904-17ad3240468e\n",
      "owner_id: local\n",
      "message_paths: ['push_tasks:dd8c7af9-6fe4-49f5-9258-12b0df653533:msg']\n",
      "parallel_dispatch: False\n",
      "\n",
      "Input message source: Assistant\n",
      "\n",
      "~~~ Dispatch task ~~~\n",
      "flow_endpoint: Assistant\n",
      "flow_id: 5b117a6f-151d-4dcf-9435-9b092bd83d49\n",
      "owner_id: local\n",
      "message_paths: ['push_tasks:c9b130da-1f48-49b6-a384-6382bfcdf36b:msg']\n",
      "parallel_dispatch: False\n",
      "\n",
      "Input message source: Assistant\n",
      "CHATFLOW YO, input: {'query': 'Why is the sky blue?', 'answer': None, 'end_of_interaction': False}\n",
      "CHATFLOW Yo2, output {'api_output': \"The sky appears blue to us because of the way Earth's atmosphere scatters sunlight. The sunlight is made up of different colors, and when it enters Earth's atmosphere, the shorter blue wavelengths are scattered in all directions by the gases and particles in the air. This scattering causes the blue light to dominate our view of the sky.\"}\n",
      "\n",
      "~~~ Dispatch task ~~~\n",
      "flow_endpoint: InteractiveChat\n",
      "flow_id: 3a3ee7a4-4b00-4f2a-b80d-3bd7dbf52c74\n",
      "owner_id: local\n",
      "message_paths: ['push_tasks:ac3ea3b6-a8f0-4135-8b97-c7e8409d47dd:msg']\n",
      "parallel_dispatch: False\n",
      "\n",
      "Input message source: Assistant\n",
      "\n",
      "~~~ Dispatch task ~~~\n",
      "flow_endpoint: Assistant\n",
      "flow_id: b5d7a464-cc76-4d9d-8195-058f81d2fe96\n",
      "owner_id: local\n",
      "message_paths: ['push_tasks:00d0b3b3-de90-4e6b-b0e2-88a1a18725bc:msg']\n",
      "parallel_dispatch: False\n",
      "\n",
      "Input message source: Assistant\n",
      "CHATFLOW YO, input: {'query': 'Why is the water wet?', 'answer': None, 'end_of_interaction': False}\n",
      "CHATFLOW Yo2, output {'api_output': 'Voda je mokra jer se sastoji od molekula koje imaju sposobnost privlačenja drugih molekula, što rezultira površinskom napetosti i vlažnošću.'}\n",
      "\n",
      "~~~ Dispatch task ~~~\n",
      "flow_endpoint: InteractiveChat\n",
      "flow_id: 67f237f1-7a3c-4dee-8904-17ad3240468e\n",
      "owner_id: local\n",
      "message_paths: ['push_tasks:b61a1afa-ded3-4336-9944-fc812bc306bb:msg']\n",
      "parallel_dispatch: False\n",
      "\n",
      "Input message source: Assistant\n",
      "\n",
      "~~~ Dispatch task ~~~\n",
      "flow_endpoint: Assistant\n",
      "flow_id: 5b117a6f-151d-4dcf-9435-9b092bd83d49\n",
      "owner_id: local\n",
      "message_paths: ['push_tasks:6695b313-7dd4-461b-8278-2cdb554e7d9c:msg']\n",
      "parallel_dispatch: False\n",
      "\n",
      "Input message source: Assistant\n",
      "CHATFLOW YO, input: {'query': 'What do you mean?', 'answer': None, 'end_of_interaction': False}\n",
      "CHATFLOW Yo2, output {'api_output': \"I apologize if my explanation was unclear. In simpler terms, the sky appears blue because of the way sunlight interacts with the gases and particles in Earth's atmosphere, causing the blue light to be scattered more than other colors. This scattering effect is what gives the sky its blue color.\"}\n",
      "\n",
      "~~~ Dispatch task ~~~\n",
      "flow_endpoint: InteractiveChat\n",
      "flow_id: 3a3ee7a4-4b00-4f2a-b80d-3bd7dbf52c74\n",
      "owner_id: local\n",
      "message_paths: ['push_tasks:7402f372-03a1-48f2-b520-5863c37c1579:msg']\n",
      "parallel_dispatch: False\n",
      "\n",
      "Input message source: Assistant\n",
      "\n",
      "~~~ Dispatch task ~~~\n",
      "flow_endpoint: Assistant\n",
      "flow_id: b5d7a464-cc76-4d9d-8195-058f81d2fe96\n",
      "owner_id: local\n",
      "message_paths: ['push_tasks:db662ac0-71d1-4173-aaaa-93ffef6940bf:msg']\n",
      "parallel_dispatch: False\n",
      "\n",
      "Input message source: Assistant\n",
      "CHATFLOW YO, input: {'query': 'How does that work?', 'answer': None, 'end_of_interaction': False}\n",
      "CHATFLOW Yo2, output {'api_output': 'To funkcionira zbog polarne prirode molekula vode, koje imaju pozitivno nabijeni vodikov atom i negativno nabijeni kisikov atom. Ta polarizacija omogućuje vodi da privlači druge molekule i stvara vlažnu površinu.'}\n",
      "\n",
      "~~~ Dispatch task ~~~\n",
      "flow_endpoint: InteractiveChat\n",
      "flow_id: 67f237f1-7a3c-4dee-8904-17ad3240468e\n",
      "owner_id: local\n",
      "message_paths: ['push_tasks:3cd02685-f5e1-4081-92a8-d839c605b6b0:msg']\n",
      "parallel_dispatch: False\n",
      "\n",
      "Input message source: Assistant\n",
      "\n",
      "~~~ Dispatch task ~~~\n",
      "flow_endpoint: InteractiveChat\n",
      "flow_id: 67f237f1-7a3c-4dee-8904-17ad3240468e\n",
      "owner_id: local\n",
      "message_paths: ['push_tasks:8acc3e40-0e6c-4744-aeb7-25a5716d72fa:msg']\n",
      "parallel_dispatch: False\n",
      "\n",
      "Input message source: User\n",
      "[\u001b[36m2024-03-17 07:23:55,771\u001b[0m][\u001b[34maiflows.data_transformations.end_of_interaction:40\u001b[0m][\u001b[32mINFO\u001b[0m] - End of interaction detected!\u001b[0m\n",
      "no_reply mode\n"
     ]
    }
   ],
   "source": [
    "run_dispatch_worker_thread(cl)\n",
    "run_dispatch_worker_thread(cl)"
   ]
  },
  {
   "cell_type": "code",
   "execution_count": 5,
   "id": "ae53237c-1f4b-4f15-a8a8-d8ad01788264",
   "metadata": {},
   "outputs": [
    {
     "name": "stdout",
     "output_type": "stream",
     "text": [
      "Dispatch worker started in attached thread.\n",
      "dispatch_point: coflows_dispatch\n",
      "\n",
      "~~~ Dispatch task ~~~\n",
      "flow_endpoint: InteractiveChat\n",
      "flow_id: 67f237f1-7a3c-4dee-8904-17ad3240468e\n",
      "owner_id: local\n",
      "message_paths: ['push_tasks:7dd17c06-0daf-475a-85db-9b0f971feddd:msg']\n",
      "parallel_dispatch: False\n",
      "\n",
      "Input message source: unknown\n",
      "\n",
      "~~~ Dispatch task ~~~\n",
      "flow_endpoint: InteractiveChat\n",
      "flow_id: 3a3ee7a4-4b00-4f2a-b80d-3bd7dbf52c74\n",
      "owner_id: local\n",
      "message_paths: ['push_tasks:77d56759-fd83-4284-afd2-5d5af69fb515:msg']\n",
      "parallel_dispatch: False\n",
      "\n",
      "Input message source: Assistant\n",
      "\n",
      "~~~ Dispatch task ~~~\n",
      "flow_endpoint: InteractiveChat\n",
      "flow_id: 3a3ee7a4-4b00-4f2a-b80d-3bd7dbf52c74\n",
      "owner_id: local\n",
      "message_paths: ['push_tasks:04c6357b-aae3-422c-8a36-dfa1a71e5124:msg']\n",
      "parallel_dispatch: False\n",
      "\n",
      "Input message source: User\n",
      "\n",
      "~~~ Dispatch task ~~~\n",
      "flow_endpoint: InteractiveChat\n",
      "flow_id: 67f237f1-7a3c-4dee-8904-17ad3240468e\n",
      "owner_id: local\n",
      "message_paths: ['push_tasks:555b8ed3-e75a-435f-bd16-8565f630a5c4:msg']\n",
      "parallel_dispatch: False\n",
      "\n",
      "Input message source: User\n",
      "\n",
      "~~~ Dispatch task ~~~\n",
      "flow_endpoint: InteractiveChat\n",
      "flow_id: 3a3ee7a4-4b00-4f2a-b80d-3bd7dbf52c74\n",
      "owner_id: local\n",
      "message_paths: ['push_tasks:01b55435-d95c-4126-b247-3ed2ba49cc0e:msg']\n",
      "parallel_dispatch: False\n",
      "\n",
      "Input message source: User\n",
      "\n",
      "~~~ Dispatch task ~~~\n",
      "flow_endpoint: InteractiveChat\n",
      "flow_id: 67f237f1-7a3c-4dee-8904-17ad3240468e\n",
      "owner_id: local\n",
      "message_paths: ['push_tasks:a1909793-7823-46bd-94f8-baa6f08f819c:msg']\n",
      "parallel_dispatch: False\n",
      "\n",
      "Input message source: User\n",
      "\n",
      "~~~ Dispatch task ~~~\n",
      "flow_endpoint: InteractiveChat\n",
      "flow_id: 3a3ee7a4-4b00-4f2a-b80d-3bd7dbf52c74\n",
      "owner_id: local\n",
      "message_paths: ['push_tasks:ca69da10-4ebc-4e4d-ae70-bf08b3bd061d:msg']\n",
      "parallel_dispatch: False\n",
      "\n",
      "Input message source: User\n",
      "[\u001b[36m2024-03-17 07:23:52,596\u001b[0m][\u001b[34maiflows.data_transformations.end_of_interaction:40\u001b[0m][\u001b[32mINFO\u001b[0m] - End of interaction detected!\u001b[0m\n",
      "no_reply mode\n"
     ]
    }
   ],
   "source": [
    "run_dispatch_worker_thread(cl)"
   ]
  },
  {
   "cell_type": "markdown",
   "id": "e623d0b4-1501-4460-bc5f-a1aeb590eefc",
   "metadata": {},
   "source": [
    "# Serve\n",
    "\n",
    "User should start dispatch_worker with dispatch_point=\"human_dispatch\" in a separate terminal (serves as UI for user). Plz ensure that you pass the correct flow_modules_base_path when starting worker (give path to flow_modules folder that contains HumanStandardInputFlowModule being served here."
   ]
  },
  {
   "cell_type": "code",
   "execution_count": 6,
   "id": "32438a91-af3c-476d-b56b-34b325227d25",
   "metadata": {},
   "outputs": [
    {
     "name": "stdout",
     "output_type": "stream",
     "text": [
      "Started serving flow_modules.aiflows.HumanStandardInputFlowModule.HumanStandardInputFlow at flows:Human.\n",
      "dispatch_point: human_dispatch\n",
      "parallel_dispatch: False\n",
      "singleton: True\n",
      "Started serving flow_modules.aiflows.ChatFlowModule.ChatAtomicFlow at flows:Assistant.\n",
      "dispatch_point: coflows_dispatch\n",
      "parallel_dispatch: False\n",
      "singleton: False\n",
      "Started serving flow_modules.aiflows.ChatInteractiveFlowModule.ChatHumanFlowModule at flows:InteractiveChat.\n",
      "dispatch_point: coflows_dispatch\n",
      "parallel_dispatch: False\n",
      "singleton: False\n"
     ]
    },
    {
     "data": {
      "text/plain": [
       "True"
      ]
     },
     "execution_count": 6,
     "metadata": {},
     "output_type": "execute_result"
    }
   ],
   "source": [
    "serve_utils.serve_flow(\n",
    "    cl=cl,\n",
    "    flow_class_name=\"flow_modules.aiflows.HumanStandardInputFlowModule.HumanStandardInputFlow\",\n",
    "    flow_endpoint=\"Human\",\n",
    "    singleton=True,\n",
    "    dispatch_point=\"human_dispatch\",\n",
    ")\n",
    "serve_utils.serve_flow(\n",
    "    cl=cl,\n",
    "    flow_class_name=\"flow_modules.aiflows.ChatFlowModule.ChatAtomicFlow\",\n",
    "    flow_endpoint=\"Assistant\",\n",
    ")\n",
    "serve_utils.serve_flow(\n",
    "    cl=cl,\n",
    "    flow_class_name=\"flow_modules.aiflows.ChatInteractiveFlowModule.ChatHumanFlowModule\",\n",
    "    flow_endpoint=\"InteractiveChat\",\n",
    ")"
   ]
  },
  {
   "cell_type": "markdown",
   "id": "f1c1addd-333e-4917-8170-8237b4ee307e",
   "metadata": {},
   "source": [
    "## First instance"
   ]
  },
  {
   "cell_type": "code",
   "execution_count": 7,
   "id": "fd13d09b-5f41-46ba-9da3-6aafd6e8512c",
   "metadata": {},
   "outputs": [],
   "source": [
    "root_dir = \".\"\n",
    "cfg_path = os.path.join(root_dir, \"flow_modules/aiflows/ChatInteractiveFlowModule/demo.yaml\")\n",
    "cfg = read_yaml_file(cfg_path)"
   ]
  },
  {
   "cell_type": "code",
   "execution_count": 8,
   "id": "ebd97e0d-7151-4fae-b5e1-33c82dee42f1",
   "metadata": {},
   "outputs": [
    {
     "name": "stdout",
     "output_type": "stream",
     "text": [
      "[\u001b[36m2024-03-17 07:22:41,270\u001b[0m][\u001b[34maiflows.flow_verse.loading:775\u001b[0m][\u001b[32mINFO\u001b[0m] - \u001b[32m[flow_modules.aiflows.ChatInteractiveFlowModule]\u001b[0m started to sync flow module dependencies to /home/staverm/workspace/coflows-dev/aiflows/examples/mauro_examples/InteractiveChatFlow/flow_modules...\u001b[0m\n",
      "[\u001b[36m2024-03-17 07:22:41,367\u001b[0m][\u001b[34maiflows.flow_verse.loading:608\u001b[0m][\u001b[32mINFO\u001b[0m] - aiflows/ChatFlowModule:coflows already synced, skip\u001b[0m\n",
      "[\u001b[36m2024-03-17 07:22:41,464\u001b[0m][\u001b[34maiflows.flow_verse.loading:608\u001b[0m][\u001b[32mINFO\u001b[0m] - aiflows/HumanStandardInputFlowModule:coflows already synced, skip\u001b[0m\n",
      "[\u001b[36m2024-03-17 07:22:41,465\u001b[0m][\u001b[34maiflows.flow_verse.loading:825\u001b[0m][\u001b[32mINFO\u001b[0m] - \u001b[32m[flow_modules.aiflows.ChatInteractiveFlowModule]\u001b[0m finished syncing\n",
      "\n",
      "\u001b[0m\n",
      "Mounted 5b117a6f-151d-4dcf-9435-9b092bd83d49 at flows:Assistant:mounts:local:5b117a6f-151d-4dcf-9435-9b092bd83d49\n",
      "Mounted edf261a1-5f7e-41df-9c2c-2760466e5b79 at flows:Human:mounts:local:edf261a1-5f7e-41df-9c2c-2760466e5b79\n",
      "Mounted 3a3ee7a4-4b00-4f2a-b80d-3bd7dbf52c74 at flows:InteractiveChat:mounts:local:3a3ee7a4-4b00-4f2a-b80d-3bd7dbf52c74\n"
     ]
    }
   ],
   "source": [
    "interactive_chat = serve_utils.get_flow_instance(\n",
    "    cl=cl,\n",
    "    flow_endpoint=\"InteractiveChat\",\n",
    "    config_overrides=cfg,\n",
    ")\n",
    "\n",
    "input_message = FlowMessage(\n",
    "    data={\"id\": 0, \"query\": \"I want to ask you a few questions\"},\n",
    ")\n",
    "interactive_chat.send_message(input_message)"
   ]
  },
  {
   "cell_type": "markdown",
   "id": "4c62a0d6-f818-400d-a425-cab3f4431d65",
   "metadata": {},
   "source": [
    "## Second instance"
   ]
  },
  {
   "cell_type": "code",
   "execution_count": 9,
   "id": "1c0a449e-a03d-4ee5-9b58-b25c7a5c5e62",
   "metadata": {},
   "outputs": [
    {
     "name": "stdout",
     "output_type": "stream",
     "text": [
      "Mounted b5d7a464-cc76-4d9d-8195-058f81d2fe96 at flows:Assistant:mounts:local:b5d7a464-cc76-4d9d-8195-058f81d2fe96\n",
      "Fetched singleton edf261a1-5f7e-41df-9c2c-2760466e5b79\n",
      "Mounted 67f237f1-7a3c-4dee-8904-17ad3240468e at flows:InteractiveChat:mounts:local:67f237f1-7a3c-4dee-8904-17ad3240468e\n"
     ]
    }
   ],
   "source": [
    "interactive_chat_CRO = serve_utils.get_flow_instance(\n",
    "    cl=cl,\n",
    "    flow_endpoint=\"InteractiveChat\",\n",
    "    config_overrides=cfg,\n",
    ")\n",
    "\n",
    "input_message = FlowMessage(\n",
    "    data={\"id\": 0, \"query\": \"I want to ask you a few questions. Please ONLY respond in Croatian.\"},\n",
    ")\n",
    "interactive_chat_CRO.send_message(input_message)"
   ]
  },
  {
   "cell_type": "markdown",
   "id": "e7e0fe5e-38f4-4e3a-b749-cdd325c83cbd",
   "metadata": {},
   "source": [
    "## Highlights\n",
    "\n",
    "We have two instances of InteractiveChatFlow - they share the same singleton Human subflow and have separate Assistant subflows."
   ]
  },
  {
   "cell_type": "code",
   "execution_count": 10,
   "id": "5e7b7533-84fe-44ff-9515-cc53fca92697",
   "metadata": {},
   "outputs": [
    {
     "name": "stdout",
     "output_type": "stream",
     "text": [
      " Human/\n",
      "   init\n",
      "   default_dispatch_point\n",
      "   flow_class_name\n",
      "   singleton\n",
      "   parallel_dispatch\n",
      "   mounts/\n",
      "     local/\n",
      "       edf261a1-5f7e-41df-9c2c-2760466e5b79/\n",
      "         init\n",
      "         config_overrides\n",
      " Assistant/\n",
      "   parallel_dispatch\n",
      "   singleton\n",
      "   flow_class_name\n",
      "   default_dispatch_point\n",
      "   mounts/\n",
      "     local/\n",
      "       b5d7a464-cc76-4d9d-8195-058f81d2fe96/\n",
      "         init\n",
      "         config_overrides\n",
      "       5b117a6f-151d-4dcf-9435-9b092bd83d49/\n",
      "         init\n",
      "         config_overrides\n",
      "         state\n",
      "   init\n",
      " InteractiveChat/\n",
      "   init\n",
      "   flow_class_name\n",
      "   default_dispatch_point\n",
      "   parallel_dispatch\n",
      "   mounts/\n",
      "     local/\n",
      "       3a3ee7a4-4b00-4f2a-b80d-3bd7dbf52c74/\n",
      "         config_overrides\n",
      "         state\n",
      "         init\n",
      "       67f237f1-7a3c-4dee-8904-17ad3240468e/\n",
      "         state\n",
      "         config_overrides\n",
      "         init\n",
      "   singleton\n",
      "\n",
      "All flow instances:\n",
      " 67f237f1-7a3c-4dee-8904-17ad3240468e\n",
      " 3a3ee7a4-4b00-4f2a-b80d-3bd7dbf52c74\n",
      " 5b117a6f-151d-4dcf-9435-9b092bd83d49\n",
      " edf261a1-5f7e-41df-9c2c-2760466e5b79\n",
      " b5d7a464-cc76-4d9d-8195-058f81d2fe96\n"
     ]
    }
   ],
   "source": [
    "def status():\n",
    "    colink_utils.print_served_flows(cl, print_values=False)\n",
    "    print(\"\\nAll flow instances:\")\n",
    "    colink_utils.print_flow_instances(cl)\n",
    "status()"
   ]
  }
 ],
 "metadata": {
  "kernelspec": {
   "display_name": "Python 3 (ipykernel)",
   "language": "python",
   "name": "python3"
  },
  "language_info": {
   "codemirror_mode": {
    "name": "ipython",
    "version": 3
   },
   "file_extension": ".py",
   "mimetype": "text/x-python",
   "name": "python",
   "nbconvert_exporter": "python",
   "pygments_lexer": "ipython3",
   "version": "3.10.6"
  }
 },
 "nbformat": 4,
 "nbformat_minor": 5
}
