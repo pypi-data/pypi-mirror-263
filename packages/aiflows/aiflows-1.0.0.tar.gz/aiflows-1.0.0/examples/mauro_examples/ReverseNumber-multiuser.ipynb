{
 "cells": [
  {
   "cell_type": "markdown",
   "id": "d7a649b1-e259-4b73-8df5-5dc7c28cae47",
   "metadata": {},
   "source": [
    "# ReverseNumber Example - two users"
   ]
  },
  {
   "cell_type": "code",
   "execution_count": 2,
   "id": "686be679-0b12-4675-8f25-67aaabc9c33a",
   "metadata": {},
   "outputs": [
    {
     "name": "stdout",
     "output_type": "stream",
     "text": [
      "The autoreload extension is already loaded. To reload it, use:\n",
      "  %reload_ext autoreload\n"
     ]
    }
   ],
   "source": [
    "%load_ext autoreload\n",
    "%autoreload 2"
   ]
  },
  {
   "cell_type": "code",
   "execution_count": 3,
   "id": "3290339a-e045-465a-a503-03dece48822a",
   "metadata": {},
   "outputs": [
    {
     "name": "stderr",
     "output_type": "stream",
     "text": [
      "/Users/nicolasbaldwin/opt/miniconda3/envs/coflows/lib/python3.11/site-packages/tqdm/auto.py:21: TqdmWarning: IProgress not found. Please update jupyter and ipywidgets. See https://ipywidgets.readthedocs.io/en/stable/user_install.html\n",
      "  from .autonotebook import tqdm as notebook_tqdm\n"
     ]
    }
   ],
   "source": [
    "import os, json\n",
    "\n",
    "from colink import CoLink\n",
    "\n",
    "from aiflows.utils import serve_utils\n",
    "from aiflows.utils.general_helpers import read_yaml_file\n",
    "from aiflows.messages import FlowMessage\n",
    "from aiflows.utils import coflows_utils, colink_utils\n",
    "from aiflows.workers import run_dispatch_worker_thread, run_get_instance_worker_thread\n",
    "\n",
    "def status(cl):\n",
    "    colink_utils.print_served_flows(cl, print_values=False)\n",
    "    print(\"\\nAll flow instances:\")\n",
    "    colink_utils.print_flow_instances(cl)"
   ]
  },
  {
   "cell_type": "markdown",
   "id": "0afb71d4-fc58-425b-98ae-c7667a159565",
   "metadata": {},
   "source": [
    "# Create two users"
   ]
  },
  {
   "cell_type": "code",
   "execution_count": 4,
   "id": "aa7d4186-d488-4a52-99d6-6a804cccd977",
   "metadata": {},
   "outputs": [],
   "source": [
    "cls = colink_utils.start_colink_server_with_users(num_users=2)"
   ]
  },
  {
   "cell_type": "markdown",
   "id": "0af33573-24b2-4d27-a7dc-9299f17d1e5b",
   "metadata": {},
   "source": [
    "# USER 0"
   ]
  },
  {
   "cell_type": "code",
   "execution_count": 5,
   "id": "c36a4f71-7fc6-490c-9966-de8725120a64",
   "metadata": {},
   "outputs": [
    {
     "name": "stdout",
     "output_type": "stream",
     "text": [
      "Dispatch worker started in attached thread.\n",
      "dispatch_point: coflows_dispatch\n",
      "get_instances worker started in attached thread for user  03b1fa8528934896b6e2fa9ad609cd83a0efa419c327673c4b5bbfeb56041c2ae7\n"
     ]
    }
   ],
   "source": [
    "run_dispatch_worker_thread(cls[0])\n",
    "run_get_instance_worker_thread(cls[0])"
   ]
  },
  {
   "cell_type": "code",
   "execution_count": 6,
   "id": "fd1aa9eb-13a2-43f1-9d07-ce1f29d5a38e",
   "metadata": {},
   "outputs": [
    {
     "name": "stdout",
     "output_type": "stream",
     "text": [
      "Started serving ReverseNumberFlowModule.ReverseNumberAtomicFlow at flows:reverse_number_atomic.\n",
      "dispatch_point: coflows_dispatch\n",
      "parallel_dispatch: False\n",
      "singleton: True\n",
      "\n"
     ]
    },
    {
     "data": {
      "text/plain": [
       "True"
      ]
     },
     "execution_count": 6,
     "metadata": {},
     "output_type": "execute_result"
    }
   ],
   "source": [
    "serve_utils.serve_flow(\n",
    "    cl=cls[0],\n",
    "    flow_class_name=\"ReverseNumberFlowModule.ReverseNumberAtomicFlow\",\n",
    "    flow_endpoint=\"reverse_number_atomic\",\n",
    "    singleton=True,\n",
    ")"
   ]
  },
  {
   "cell_type": "markdown",
   "id": "0f8edcdb-ac4d-45d6-a2fe-be043d00d85d",
   "metadata": {},
   "source": [
    "# USER 1"
   ]
  },
  {
   "cell_type": "code",
   "execution_count": 7,
   "id": "6c0f9635-9e85-4f81-a5f5-5e587ad80c36",
   "metadata": {},
   "outputs": [
    {
     "name": "stdout",
     "output_type": "stream",
     "text": [
      "Dispatch worker started in attached thread.\n",
      "dispatch_point: coflows_dispatch\n",
      "get_instances worker started in attached thread for user  03eeb068191828bdfd452f7cbda672f92a3639c9777b2757d73a8fc8b8b230b2c6\n"
     ]
    }
   ],
   "source": [
    "run_dispatch_worker_thread(cls[1])\n",
    "run_get_instance_worker_thread(cls[1])"
   ]
  },
  {
   "cell_type": "code",
   "execution_count": 8,
   "id": "b364acfc-97c9-41b3-be24-62f6262d2872",
   "metadata": {},
   "outputs": [
    {
     "name": "stdout",
     "output_type": "stream",
     "text": [
      "Started serving ReverseNumberFlowModule.ReverseNumberSequentialFlow at flows:reverse_number_sequential.\n",
      "dispatch_point: coflows_dispatch\n",
      "parallel_dispatch: False\n",
      "singleton: False\n",
      "\n"
     ]
    },
    {
     "data": {
      "text/plain": [
       "True"
      ]
     },
     "execution_count": 8,
     "metadata": {},
     "output_type": "execute_result"
    }
   ],
   "source": [
    "serve_utils.serve_flow(\n",
    "    cl=cls[1],\n",
    "    flow_class_name=\"ReverseNumberFlowModule.ReverseNumbeAtomicFlow\",\n",
    "    flow_endpoint=\"reverse_number_atomice\",\n",
    ")"
   ]
  },
  {
   "cell_type": "code",
   "execution_count": 9,
   "id": "f16b39d6-d231-4743-9aec-cf57551e2c0d",
   "metadata": {},
   "outputs": [
    {
     "name": "stdout",
     "output_type": "stream",
     "text": [
      "\n",
      "~~~ serving get_instances request ~~~\n",
      "task_id = 5619caf6-ab74-4dae-8ebf-7b1f8fd86e99\n",
      "get_instance_calls: [['first_reverse_flow', 'reverse_number_atomic', {'flow_class_name': 'ReverseNumberFlowModule.ReverseNumberAtomicFlow', 'singleton': True, 'name': 'ReverseNumberFirst', 'description': 'A flow that takes in a number and reverses it.'}], ['second_reverse_flow', 'reverse_number_atomic', {'flow_class_name': 'ReverseNumberFlowModule.ReverseNumberAtomicFlow', 'name': 'ReverseNumberSecond', 'description': 'A flow that takes in a number and reverses it AGAIN.'}]]\n",
      "Mounted ea0db682-13c8-4902-8972-199b035fb7dd at flows:reverse_number_atomic:mounts:03eeb068191828bdfd452f7cbda672f92a3639c9777b2757d73a8fc8b8b230b2c6:ea0db682-13c8-4902-8972-199b035fb7dd\n",
      "Fetched singleton ea0db682-13c8-4902-8972-199b035fb7dd\n",
      "\n",
      "~~~ Dispatch task ~~~\n",
      "flow_endpoint: reverse_number_atomic\n",
      "flow_id: ea0db682-13c8-4902-8972-199b035fb7dd\n",
      "owner_id: 03eeb068191828bdfd452f7cbda672f92a3639c9777b2757d73a8fc8b8b230b2c6\n",
      "message_paths: ['push_tasks:1b024c13-af28-47bc-9f09-452d3c18e80c:msg']\n",
      "parallel_dispatch: False\n",
      "\n",
      "Input message source: first_reverse_flow\n",
      "Called ReverseNumberAtomic \n",
      " state {}\n",
      "\n",
      "~~~ Dispatch task ~~~\n",
      "flow_endpoint: reverse_number_atomic\n",
      "flow_id: ea0db682-13c8-4902-8972-199b035fb7dd\n",
      "owner_id: 03eeb068191828bdfd452f7cbda672f92a3639c9777b2757d73a8fc8b8b230b2c6\n",
      "message_paths: ['push_tasks:67aa3588-de32-47aa-a5cd-788d1ac8e382:msg']\n",
      "parallel_dispatch: False\n",
      "\n",
      "Input message source: first_reverse_flow\n",
      "Called ReverseNumberAtomic \n",
      " state {}\n"
     ]
    },
    {
     "name": "stdout",
     "output_type": "stream",
     "text": [
      "\n",
      "~~~ get_instances initiator ~~~\n",
      "task_id = 5619caf6-ab74-4dae-8ebf-7b1f8fd86e99\n",
      "Received subflow instances: {\n",
      "    \"first_reverse_flow\": {\n",
      "        \"flow_id\": \"ea0db682-13c8-4902-8972-199b035fb7dd\",\n",
      "        \"successful\": true,\n",
      "        \"message\": \"Fetched local flow instance.\"\n",
      "    },\n",
      "    \"second_reverse_flow\": {\n",
      "        \"flow_id\": \"ea0db682-13c8-4902-8972-199b035fb7dd\",\n",
      "        \"successful\": true,\n",
      "        \"message\": \"Fetched local flow instance.\"\n",
      "    }\n",
      "}\n",
      "\n",
      "~~~ Dispatch task ~~~\n",
      "flow_endpoint: reverse_number_sequential\n",
      "flow_id: 729cc81e-8e0d-461e-9b0f-1edbdae8988d\n",
      "owner_id: local\n",
      "message_paths: ['push_tasks:4d6390ac-c294-4915-b5ec-68fe2f795f41:msg']\n",
      "parallel_dispatch: False\n",
      "\n",
      "Input message source: Proxy_reverse_number_sequential\n",
      "Called ReverseNumberSequential \n",
      " state {'current_call': 'first_reverse_flow'}\n",
      "\n",
      "~~~ Dispatch task ~~~\n",
      "flow_endpoint: reverse_number_sequential\n",
      "flow_id: 729cc81e-8e0d-461e-9b0f-1edbdae8988d\n",
      "owner_id: local\n",
      "message_paths: ['push_tasks:62b2d3bc-5399-4759-8ac2-f4e530a2ecb4:msg']\n",
      "parallel_dispatch: False\n",
      "\n",
      "Input message source: ReverseNumberFirst\n",
      "Called ReverseNumberSequential \n",
      " state {'current_call': 'second_reverse_flow', 'initial_message': FlowMessage(message_id='6a3e41b2-fac4-480e-8a26-e4c5b755fab6', created_at='2024-03-20 22:03:22.442985000', created_by='Proxy_reverse_number_sequential', message_type='FlowMessage', data={'id': 0, 'number': 1234}, private_keys=[])}\n",
      "\n",
      "~~~ Dispatch task ~~~\n",
      "flow_endpoint: reverse_number_sequential\n",
      "flow_id: 729cc81e-8e0d-461e-9b0f-1edbdae8988d\n",
      "owner_id: local\n",
      "message_paths: ['push_tasks:f29e891c-1e75-418f-858c-39212bd36b3a:msg']\n",
      "parallel_dispatch: False\n",
      "\n",
      "Input message source: ReverseNumberFirst\n",
      "Called ReverseNumberSequential \n",
      " state {'current_call': 'reply_to_message', 'initial_message': FlowMessage(message_id='6a3e41b2-fac4-480e-8a26-e4c5b755fab6', created_at='2024-03-20 22:03:22.442985000', created_by='Proxy_reverse_number_sequential', message_type='FlowMessage', data={'id': 0, 'number': 1234}, private_keys=[])}\n"
     ]
    },
    {
     "name": "stdout",
     "output_type": "stream",
     "text": [
      "Mounted 729cc81e-8e0d-461e-9b0f-1edbdae8988d at flows:reverse_number_sequential:mounts:local:729cc81e-8e0d-461e-9b0f-1edbdae8988d\n"
     ]
    }
   ],
   "source": [
    "# since we are creating new dummy users on every run, we inject user_id into config manually\n",
    "# typically this would be hardcoded in yaml config\n",
    "cfg_overrides = {\n",
    "    \"subflows_config\": {\n",
    "        \"first_reverse_flow\": {\n",
    "            \"user_id\": cls[0].get_user_id()\n",
    "        },\n",
    "        \"second_reverse_flow\": {\n",
    "            \"user_id\": cls[0].get_user_id()\n",
    "        }\n",
    "    }\n",
    "}\n",
    "\n",
    "flow = serve_utils.get_flow_instance(\n",
    "    cl=cls[1],\n",
    "    flow_endpoint=\"reverse_number_sequential\",\n",
    "    user_id=\"local\",\n",
    "    config_overrides = cfg_overrides,\n",
    ")"
   ]
  },
  {
   "cell_type": "code",
   "execution_count": 10,
   "id": "527e26fe-5210-4218-99e1-b4a15486f7a7",
   "metadata": {},
   "outputs": [
    {
     "name": "stdout",
     "output_type": "stream",
     "text": [
      "Data sent:\n",
      " {'id': 0, 'number': 1234} \n",
      "\n",
      "REPLY:\n",
      " {'output_number': 1234} \n",
      "\n"
     ]
    }
   ],
   "source": [
    "input_data = {\"id\": 0, \"number\": 1234}\n",
    "    \n",
    "input_message = flow.package_input_message(input_data)\n",
    "future = flow.get_reply_future(input_message)\n",
    "reply_data = future.get_data()\n",
    "\n",
    "print(\"Data sent:\\n\",  input_data, \"\\n\")\n",
    "print(\"REPLY:\\n\", reply_data, \"\\n\")"
   ]
  },
  {
   "cell_type": "markdown",
   "id": "42c7528a-45f6-4fb1-a419-17bed435b894",
   "metadata": {},
   "source": [
    "# Observe storage of both users\n",
    "\n",
    "User 0 has a serve endpoint for ReverseNumberAtomic flow and a singleton instance of that flow.\n",
    "User 1 has a serve endpoint for ReverseNumberSequential flow and an instance of that flow whose subflows are remote instances of the ReverseNumberAtomic at user 0."
   ]
  },
  {
   "cell_type": "code",
   "execution_count": 10,
   "id": "1e9c01a3-dd14-4907-8450-73724fd20aac",
   "metadata": {},
   "outputs": [
    {
     "name": "stdout",
     "output_type": "stream",
     "text": [
      " reverse_number_atomic/\n",
      "   flow_class_name\n",
      "   singleton\n",
      "   parallel_dispatch\n",
      "   mounts/\n",
      "     02d29bc3e276de86016c350d3e3b637148eda4af310c0f84405c0f138365aab669/\n",
      "       c9257714-8465-4951-8c15-e4aefaa58cc3/\n",
      "         config_overrides\n",
      "         state\n",
      "         init\n",
      "   init\n",
      "   default_dispatch_point\n",
      "\n",
      "All flow instances:\n",
      " c9257714-8465-4951-8c15-e4aefaa58cc3\n"
     ]
    }
   ],
   "source": [
    "status(cls[0])"
   ]
  },
  {
   "cell_type": "code",
   "execution_count": 11,
   "id": "712b2f13-3144-4d1c-ab1b-93f7293deff6",
   "metadata": {},
   "outputs": [
    {
     "name": "stdout",
     "output_type": "stream",
     "text": [
      " reverse_number_sequential/\n",
      "   default_dispatch_point\n",
      "   init\n",
      "   flow_class_name\n",
      "   parallel_dispatch\n",
      "   singleton\n",
      "   mounts/\n",
      "     local/\n",
      "       3180a6d9-7eb5-4ec3-8c7b-3c9c08f4fbdc/\n",
      "         state\n",
      "         init\n",
      "         config_overrides\n",
      "\n",
      "All flow instances:\n",
      " 3180a6d9-7eb5-4ec3-8c7b-3c9c08f4fbdc\n"
     ]
    }
   ],
   "source": [
    "status(cls[1])"
   ]
  }
 ],
 "metadata": {
  "kernelspec": {
   "display_name": "Python 3 (ipykernel)",
   "language": "python",
   "name": "python3"
  },
  "language_info": {
   "codemirror_mode": {
    "name": "ipython",
    "version": 3
   },
   "file_extension": ".py",
   "mimetype": "text/x-python",
   "name": "python",
   "nbconvert_exporter": "python",
   "pygments_lexer": "ipython3",
   "version": "3.11.7"
  }
 },
 "nbformat": 4,
 "nbformat_minor": 5
}
