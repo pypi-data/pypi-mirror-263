{
 "cells": [
  {
   "cell_type": "markdown",
   "id": "d7a649b1-e259-4b73-8df5-5dc7c28cae47",
   "metadata": {},
   "source": [
    "# ReverseNumber Example"
   ]
  },
  {
   "cell_type": "code",
   "execution_count": 1,
   "id": "686be679-0b12-4675-8f25-67aaabc9c33a",
   "metadata": {},
   "outputs": [],
   "source": [
    "%load_ext autoreload\n",
    "%autoreload 2"
   ]
  },
  {
   "cell_type": "code",
   "execution_count": 2,
   "id": "3290339a-e045-465a-a503-03dece48822a",
   "metadata": {},
   "outputs": [],
   "source": [
    "import os, json\n",
    "\n",
    "from colink import CoLink\n",
    "\n",
    "from aiflows.utils import serve_utils\n",
    "from aiflows.utils.general_helpers import read_yaml_file\n",
    "from aiflows.messages import FlowMessage\n",
    "from aiflows.utils import coflows_utils, colink_utils\n",
    "from aiflows.workers import run_dispatch_worker_thread"
   ]
  },
  {
   "cell_type": "code",
   "execution_count": 3,
   "id": "e4f46587-dfd2-4ca3-bb14-e78ba9860251",
   "metadata": {},
   "outputs": [],
   "source": [
    "#USER_JWT_PATH = \"/home/staverm/workspace/coflows-dev/coflows/jwts.txt\"\n",
    "#user_jwt = open(USER_JWT_PATH).readline().strip()\n",
    "#cl = CoLink(\"http://127.0.0.1:2021\", user_jwt)"
   ]
  },
  {
   "cell_type": "code",
   "execution_count": 4,
   "id": "aa7d4186-d488-4a52-99d6-6a804cccd977",
   "metadata": {},
   "outputs": [],
   "source": [
    "cl = colink_utils.start_colink_server()"
   ]
  },
  {
   "cell_type": "markdown",
   "id": "d83270d6-93ad-4320-9821-506cef7969fc",
   "metadata": {},
   "source": [
    "# Start a few default workers"
   ]
  },
  {
   "cell_type": "code",
   "execution_count": 5,
   "id": "5b5e4f24-ed99-4d6a-af56-9c404bd43164",
   "metadata": {},
   "outputs": [
    {
     "name": "stdout",
     "output_type": "stream",
     "text": [
      "Dispatch worker started in attached thread.\n",
      "dispatch_point: coflows_dispatch\n",
      "\n",
      "~~~ Dispatch task ~~~\n",
      "flow_endpoint: reverse_number_sequential\n",
      "flow_id: 143268b3-eb23-4e65-9df1-12810dea86c6\n",
      "owner_id: local\n",
      "message_paths: ['push_tasks:5a9ec746-2547-4eca-9381-3540a9c314c9:msg']\n",
      "parallel_dispatch: False\n",
      "\n",
      "Input message source: Proxy_reverse_number_sequential\n",
      "Called ReverseNumberSequential \n",
      " state {'current_call': 'first_reverse_flow'}\n",
      "\n",
      "~~~ Dispatch task ~~~\n",
      "flow_endpoint: reverse_number_sequential\n",
      "flow_id: 143268b3-eb23-4e65-9df1-12810dea86c6\n",
      "owner_id: local\n",
      "message_paths: ['push_tasks:b8e6efbf-6deb-473b-8984-10bd293bcf3d:msg']\n",
      "parallel_dispatch: False\n",
      "\n",
      "Input message source: ReverseNumberFirst\n",
      "Called ReverseNumberSequential \n",
      " state {'current_call': 'second_reverse_flow', 'initial_message': FlowMessage(message_id='44a92119-a68f-41c9-884c-ec144d71205b', created_at='2024-03-19 22:46:25.513067415', created_by='Proxy_reverse_number_sequential', message_type='FlowMessage', data={'id': 0, 'number': 1234}, private_keys=[])}\n",
      "\n",
      "~~~ Dispatch task ~~~\n",
      "flow_endpoint: reverse_number_sequential\n",
      "flow_id: 143268b3-eb23-4e65-9df1-12810dea86c6\n",
      "owner_id: local\n",
      "message_paths: ['push_tasks:6c01dbdf-38c4-4177-ad7d-a05dfc17d762:msg']\n",
      "parallel_dispatch: False\n",
      "\n",
      "Input message source: ReverseNumberFirst\n",
      "Called ReverseNumberSequential \n",
      " state {'current_call': 'reply_to_message', 'initial_message': FlowMessage(message_id='44a92119-a68f-41c9-884c-ec144d71205b', created_at='2024-03-19 22:46:25.513067415', created_by='Proxy_reverse_number_sequential', message_type='FlowMessage', data={'id': 0, 'number': 1234}, private_keys=[])}\n"
     ]
    }
   ],
   "source": [
    "run_dispatch_worker_thread(cl)"
   ]
  },
  {
   "cell_type": "code",
   "execution_count": 6,
   "id": "e0e910a9-34ed-4e23-b736-36a247501e6c",
   "metadata": {},
   "outputs": [
    {
     "name": "stdout",
     "output_type": "stream",
     "text": [
      "Dispatch worker started in attached thread.\n",
      "dispatch_point: coflows_dispatch\n",
      "\n",
      "~~~ Dispatch task ~~~\n",
      "flow_endpoint: reverse_number_atomic\n",
      "flow_id: eedc43bd-6154-42a0-90b0-7f276fb17aa1\n",
      "owner_id: local\n",
      "message_paths: ['push_tasks:2b651b32-02e2-495c-a0ef-3c08623915f4:msg']\n",
      "parallel_dispatch: False\n",
      "\n",
      "Input message source: first_reverse_flow\n",
      "Called ReverseNumberAtomic \n",
      " state {}\n",
      "\n",
      "~~~ Dispatch task ~~~\n",
      "flow_endpoint: reverse_number_atomic\n",
      "flow_id: eedc43bd-6154-42a0-90b0-7f276fb17aa1\n",
      "owner_id: local\n",
      "message_paths: ['push_tasks:422c6f7b-bf45-417e-bb0e-096234f8b2d7:msg']\n",
      "parallel_dispatch: False\n",
      "\n",
      "Input message source: first_reverse_flow\n",
      "Called ReverseNumberAtomic \n",
      " state {}\n"
     ]
    }
   ],
   "source": [
    "run_dispatch_worker_thread(cl)"
   ]
  },
  {
   "cell_type": "markdown",
   "id": "e623d0b4-1501-4460-bc5f-a1aeb590eefc",
   "metadata": {},
   "source": [
    "# Serve"
   ]
  },
  {
   "cell_type": "code",
   "execution_count": 7,
   "id": "fd960cb9-4b24-4b2f-b374-0b3c89e7dd55",
   "metadata": {
    "scrolled": true
   },
   "outputs": [
    {
     "name": "stdout",
     "output_type": "stream",
     "text": [
      "Started serving ReverseNumberFlowModule.ReverseNumberAtomicFlow at flows:reverse_number_atomic.\n",
      "dispatch_point: coflows_dispatch\n",
      "parallel_dispatch: False\n",
      "singleton: True\n",
      "\n",
      "Subflow second_reverse_flow already served.\n",
      "Started serving ReverseNumberFlowModule.ReverseNumberSequentialFlow at flows:reverse_number_sequential.\n",
      "dispatch_point: coflows_dispatch\n",
      "parallel_dispatch: False\n",
      "singleton: False\n",
      "\n"
     ]
    },
    {
     "data": {
      "text/plain": [
       "True"
      ]
     },
     "execution_count": 7,
     "metadata": {},
     "output_type": "execute_result"
    }
   ],
   "source": [
    "serve_utils.recursive_serve_flow(\n",
    "    cl=cl,\n",
    "    flow_class_name=\"ReverseNumberFlowModule.ReverseNumberSequentialFlow\",\n",
    "    flow_endpoint=\"reverse_number_sequential\"\n",
    ")"
   ]
  },
  {
   "cell_type": "markdown",
   "id": "f1c1addd-333e-4917-8170-8237b4ee307e",
   "metadata": {},
   "source": [
    "## Get instance"
   ]
  },
  {
   "cell_type": "code",
   "execution_count": 8,
   "id": "dfd8d59c-138a-47a7-97ad-e6393f1c909d",
   "metadata": {},
   "outputs": [
    {
     "name": "stdout",
     "output_type": "stream",
     "text": [
      "Mounted eedc43bd-6154-42a0-90b0-7f276fb17aa1 at flows:reverse_number_atomic:mounts:local:eedc43bd-6154-42a0-90b0-7f276fb17aa1\n",
      "Fetched singleton eedc43bd-6154-42a0-90b0-7f276fb17aa1\n",
      "Mounted 143268b3-eb23-4e65-9df1-12810dea86c6 at flows:reverse_number_sequential:mounts:local:143268b3-eb23-4e65-9df1-12810dea86c6\n"
     ]
    }
   ],
   "source": [
    "flow = serve_utils.get_flow_instance(\n",
    "    cl=cl,\n",
    "    flow_endpoint=\"reverse_number_sequential\",\n",
    "    user_id=\"local\",\n",
    ")"
   ]
  },
  {
   "cell_type": "code",
   "execution_count": 9,
   "id": "85e5a4ee-00d4-440d-b2f2-c9933ee7e718",
   "metadata": {},
   "outputs": [
    {
     "name": "stdout",
     "output_type": "stream",
     "text": [
      "Data sent:\n",
      " {'id': 0, 'number': 1234} \n",
      "\n",
      "REPLY:\n",
      " {'output_number': 1234} \n",
      "\n"
     ]
    }
   ],
   "source": [
    "input_data = {\"id\": 0, \"number\": 1234}\n",
    "    \n",
    "input_message = flow.package_input_message(input_data)\n",
    "reply_data = flow.get_reply_future(input_message).get_data()\n",
    "\n",
    "print(\"Data sent:\\n\",  input_data, \"\\n\")\n",
    "print(\"REPLY:\\n\", reply_data, \"\\n\")"
   ]
  },
  {
   "cell_type": "markdown",
   "id": "7165ec2f-e980-4a0b-bf3d-403f343338df",
   "metadata": {},
   "source": [
    "## Observe memory"
   ]
  },
  {
   "cell_type": "code",
   "execution_count": 10,
   "id": "91ffac26-eca1-4fe4-946b-984cdc280d06",
   "metadata": {},
   "outputs": [
    {
     "name": "stdout",
     "output_type": "stream",
     "text": [
      " reverse_number_sequential/\n",
      "   init\n",
      "   mounts/\n",
      "     local/\n",
      "       143268b3-eb23-4e65-9df1-12810dea86c6/\n",
      "         state\n",
      "         config_overrides\n",
      "         init\n",
      "   default_dispatch_point\n",
      "   singleton\n",
      "   parallel_dispatch\n",
      "   flow_class_name\n",
      " reverse_number_atomic/\n",
      "   singleton\n",
      "   parallel_dispatch\n",
      "   mounts/\n",
      "     local/\n",
      "       eedc43bd-6154-42a0-90b0-7f276fb17aa1/\n",
      "         config_overrides\n",
      "         state\n",
      "         init\n",
      "   flow_class_name\n",
      "   init\n",
      "   default_dispatch_point\n",
      "\n",
      "All flow instances:\n",
      " 143268b3-eb23-4e65-9df1-12810dea86c6\n",
      " eedc43bd-6154-42a0-90b0-7f276fb17aa1\n"
     ]
    }
   ],
   "source": [
    "def status():\n",
    "    colink_utils.print_served_flows(cl, print_values=False)\n",
    "    print(\"\\nAll flow instances:\")\n",
    "    colink_utils.print_flow_instances(cl)\n",
    "status()"
   ]
  }
 ],
 "metadata": {
  "kernelspec": {
   "display_name": "Python 3 (ipykernel)",
   "language": "python",
   "name": "python3"
  },
  "language_info": {
   "codemirror_mode": {
    "name": "ipython",
    "version": 3
   },
   "file_extension": ".py",
   "mimetype": "text/x-python",
   "name": "python",
   "nbconvert_exporter": "python",
   "pygments_lexer": "ipython3",
   "version": "3.10.6"
  }
 },
 "nbformat": 4,
 "nbformat_minor": 5
}
