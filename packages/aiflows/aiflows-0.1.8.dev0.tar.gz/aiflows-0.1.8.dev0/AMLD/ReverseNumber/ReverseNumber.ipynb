{
 "cells": [
  {
   "cell_type": "markdown",
   "metadata": {},
   "source": [
    "# Running and Implementing your First Flows"
   ]
  },
  {
   "cell_type": "code",
   "execution_count": null,
   "metadata": {},
   "outputs": [],
   "source": [
    "%load_ext autoreload\n",
    "%autoreload 2\n",
    "#imports\n",
    "from aiflows.utils.general_helpers import read_yaml_file\n",
    "from aiflows.utils import serve_utils\n",
    "from aiflows.utils import colink_utils\n",
    "from aiflows.workers import run_dispatch_worker_thread\n",
    "from aiflows.base_flows import AtomicFlow\n",
    "from aiflows.messages import FlowMessage\n",
    "import sys\n",
    "import os\n",
    "sys.path.append(\"..\")\n",
    "from utils import compile_and_writefile, dict_to_yaml\n",
    "\n",
    "#Specify path of your flow modules\n",
    "FLOW_MODULES_PATH = \"./\""
   ]
  },
  {
   "cell_type": "markdown",
   "metadata": {},
   "source": [
    "## 1. Connect to the CoLink Server"
   ]
  },
  {
   "cell_type": "code",
   "execution_count": null,
   "metadata": {},
   "outputs": [],
   "source": [
    "cl = colink_utils.start_colink_server()"
   ]
  },
  {
   "cell_type": "markdown",
   "metadata": {},
   "source": [
    "## 2. Reverse Number Atomic"
   ]
  },
  {
   "cell_type": "markdown",
   "metadata": {},
   "source": [
    "### 2.1 Writing the Reverse Number Flow Class (ACTION REQUIRED)"
   ]
  },
  {
   "cell_type": "code",
   "execution_count": null,
   "metadata": {},
   "outputs": [],
   "source": [
    "%%compile_and_writefile ReverseNumberAtomicFlow.py\n",
    "\n",
    "\n",
    "from aiflows.base_flows import AtomicFlow\n",
    "from aiflows.messages import FlowMessage\n",
    "\n",
    "class ReverseNumberAtomicFlow(AtomicFlow):\n",
    "    def __init__(self, **kwargs):\n",
    "        super().__init__(**kwargs)\n",
    "\n",
    "    # Customize the logic within this function as needed for your specific flow requirements.\n",
    "    def run(self, input_message: FlowMessage):\n",
    "\n",
    "        #Get data dictionary from input message\n",
    "        input_data = input_message.data\n",
    "        \n",
    "        #get input number from data dictionary (int)\n",
    "        input_number = input_data[\"number\"]\n",
    "        \n",
    "        #TODO: reverse the input number (e.g. 1234 -> 4321)\n",
    "        reversed_number = ???\n",
    "        \n",
    "        #Create response dictionary\n",
    "        response = {\"reversed_number\": reversed_number}\n",
    "        \n",
    "        #package ouput message to send back\n",
    "            #This method packages `response` in a FlowMessage object \n",
    "            # containing the necessary metadata to send the message back\n",
    "            # to the sender of the input message. \n",
    "        reply = self.package_output_message(\n",
    "            input_message=input_message,\n",
    "            response=response,\n",
    "        )\n",
    "        \n",
    "        #send back reply\n",
    "        self.send_message(\n",
    "            reply\n",
    "        )\n",
    "\n"
   ]
  },
  {
   "cell_type": "code",
   "execution_count": null,
   "metadata": {},
   "outputs": [],
   "source": [
    "default_config_reverse_number = \\\n",
    "{\n",
    "    \"name\": \"ReverseNumber\",\n",
    "    \"description\": \"A flow that takes in a number and reverses it.\",\n",
    "\n",
    "    \"_target_\": \"ReverseNumberAtomic.ReverseNumberAtomicFlow.instantiate_from_default_config\",\n",
    "\n",
    "    \"input_interface\": \"number\",\n",
    "    \"output_interface\": \"reversed_number\",\n",
    "}"
   ]
  },
  {
   "cell_type": "code",
   "execution_count": null,
   "metadata": {},
   "outputs": [],
   "source": [
    "dict_to_yaml(default_config_reverse_number, \"ReverseNumberAtomicFlow.yaml\")"
   ]
  },
  {
   "cell_type": "markdown",
   "metadata": {},
   "source": [
    "### 2.2 Serving & Getting and Instance of the Reverse Number Flow"
   ]
  },
  {
   "cell_type": "markdown",
   "metadata": {},
   "source": [
    "#### 2.2.1 Serving the Reverse Number Flow"
   ]
  },
  {
   "cell_type": "code",
   "execution_count": null,
   "metadata": {},
   "outputs": [],
   "source": [
    "serve_utils.serve_flow(\n",
    "    cl=cl,\n",
    "    flow_class_name=\"ReverseNumberAtomic.ReverseNumberAtomicFlow\",\n",
    "    flow_endpoint=\"Reverse Number Atomic\",\n",
    "    singleton=True,\n",
    ")"
   ]
  },
  {
   "cell_type": "markdown",
   "metadata": {},
   "source": [
    "#### 2.2.2 Getting an instance of the Reverse Number Flow"
   ]
  },
  {
   "cell_type": "code",
   "execution_count": null,
   "metadata": {},
   "outputs": [],
   "source": [
    "# Start a worker thread to handle incoming messages\n",
    "run_dispatch_worker_thread(cl)\n",
    "\n"
   ]
  },
  {
   "cell_type": "code",
   "execution_count": null,
   "metadata": {},
   "outputs": [],
   "source": [
    "# Get an instance of the flow\n",
    "proxy_reverse_number_flow = serve_utils.get_flow_instance(\n",
    "    cl=cl,\n",
    "    flow_endpoint=\"Reverse Number Atomic\",\n",
    "    user_id=\"local\",\n",
    ")"
   ]
  },
  {
   "cell_type": "markdown",
   "metadata": {},
   "source": [
    "### 2.3. Call the Reverse Number Flow via the Proxy"
   ]
  },
  {
   "cell_type": "code",
   "execution_count": null,
   "metadata": {},
   "outputs": [],
   "source": [
    "input_data = {\"id\": 0, \"number\": 12345}\n",
    "\n",
    "# Package your data in a Flow Message\n",
    "\n",
    "## Option 1: Via the FlowMessage class\n",
    "# input_message = FlowMessage(\n",
    "#     data=input_data,\n",
    "# )\n",
    "\n",
    "## Option 2 (prefered): Via the package input message method\n",
    "input_message = proxy_reverse_number_flow.package_input_message(input_data)\n",
    "\n",
    "# Send a message to reverse number and ask to get an answer back in a future\n",
    "\n",
    "future = proxy_reverse_number_flow.get_reply_future(input_message)\n",
    "\n",
    "# Get the response from the future\n",
    "#To get the response as a data dictionary\n",
    "reply_data = future.get_data()\n",
    "#To get the response as a FlowMessage object\n",
    "reply_message = future.get_message()\n",
    "\n",
    "print(\"Data sent:\\n\",  input_data, \"\\n\")\n",
    "print(\"REPLY:\\n\", reply_data, \"\\n\")\n",
    "\n"
   ]
  },
  {
   "cell_type": "markdown",
   "metadata": {},
   "source": [
    "## 3. Reverse Number Sequential"
   ]
  },
  {
   "cell_type": "markdown",
   "metadata": {},
   "source": [
    "### 3.1 Writing the Reverse Number Sequential Flow Class (ACTION REQUIRED) "
   ]
  },
  {
   "cell_type": "code",
   "execution_count": null,
   "metadata": {},
   "outputs": [],
   "source": [
    "%%compile_and_writefile ReverseNumberSequentialFlow.py\n",
    "\n",
    "\n",
    "from aiflows.base_flows import CompositeFlow\n",
    "from aiflows.messages import FlowMessage\n",
    "from aiflows.interfaces import KeyInterface\n",
    "class ReverseNumberSequentialFlow(CompositeFlow):\n",
    "    \n",
    "    def __init__(self, **kwargs):\n",
    "        super().__init__(**kwargs)\n",
    "        #~~~~~~~~~~~ Key Transformation solution 1 ~~~~~~~~~~~\n",
    "        self.input_interface_second_reverse_flow = KeyInterface(\n",
    "            keys_to_rename= {\"reversed_number\": \"number\"},\n",
    "            keys_to_select= [\"number\"],\n",
    "        )\n",
    "    \n",
    "        self.ouput_interface_reply = KeyInterface(\n",
    "            keys_to_rename= {\"reversed_number\": \"output_number\"},\n",
    "            keys_to_select = [\"output_number\"],\n",
    "        )\n",
    "        \n",
    "        self.get_next_call = {\n",
    "            \"first_reverse_flow\": \"second_reverse_flow\",\n",
    "            \"second_reverse_flow\": \"reply_to_message\",\n",
    "            \"reply_to_message\": \"first_reverse_flow\"\n",
    "        }\n",
    "    def set_up_flow_state(self):\n",
    "        super().set_up_flow_state()\n",
    "        self.flow_state = {\"flow_to_call\": \"first_reverse_flow\"}\n",
    "        \n",
    "    def get_next_flow_to_call(self):\n",
    "        return self.get_next_call[self.flow_state[\"flow_to_call\"]]\n",
    "        \n",
    "    # Customize the logic within this function as needed for your specific flow requirements.\n",
    "    def run(self, input_message: FlowMessage):\n",
    "        \n",
    "        #Run here is a bit like a switch statement where we decide which flow to call next.\n",
    "        # We then call the next flow and pass the input message to it. which we expect to get a reply from \n",
    "        # back in the input queue (which will call the run method againg)\n",
    "        flow_to_call = self.flow_state[\"flow_to_call\"]\n",
    "        \n",
    "        #Case where we need to reverse the number for the first time\n",
    "        if flow_to_call == \"first_reverse_flow\":\n",
    "            #Save the initial message to the state\n",
    "            self.flow_state[\"initial_message\"] = input_message\n",
    "            \n",
    "            #Calls the first flow and requests a reply to be sent back to the input queue \n",
    "            # (The queue to send back to is specified by self.get_instance_id() --> id of this flow instance\n",
    "            # of ReverseNumberSequentialFlow)\n",
    "            self.subflows[\"first_reverse_flow\"].get_reply(\n",
    "                input_message,\n",
    "                self.get_instance_id()\n",
    "            )\n",
    "        \n",
    "        #Case where we need to reverse the number for the second time\n",
    "        elif flow_to_call == \"second_reverse_flow\":\n",
    "            \n",
    "            #Applies a transformation to the input message (renames keys of dictonary so that they match the\n",
    "            # required format of the second flow)\n",
    "            message = self.input_interface_second_reverse_flow(input_message)\n",
    "            \n",
    "            #TODO: Call the second flow and requests a reply to be sent back to the input queue\n",
    "            self.subflows[\"second_reverse_flow\"].???\n",
    "        \n",
    "        #Case where we need to reply to the initial message (we've already reversed the number twice)\n",
    "        else:\n",
    "            message = self.ouput_interface_reply(input_message)\n",
    "            \n",
    "            #package ouput message to send back\n",
    "                #This method packages `response` in a FlowMessage object \n",
    "                # containing the necessary metadata to send the message back\n",
    "                # to the sender of the input message. \n",
    "            reply = self.package_output_message(\n",
    "                input_message = self.flow_state[\"initial_message\"],\n",
    "                response = message.data\n",
    "            )\n",
    "            #send back the reply to initial caller of the flow\n",
    "            self.send_message(reply)\n",
    "            \n",
    "        self.flow_state[\"flow_to_call\"] = self.get_next_flow_to_call()"
   ]
  },
  {
   "cell_type": "code",
   "execution_count": null,
   "metadata": {},
   "outputs": [],
   "source": [
    "default_config_reverse_number_sequential = \\\n",
    "{\n",
    "    \"name\": \"ReverseNumberTwice\",\n",
    "    \"description\": \"A sequential flow that reverses a number twice.\",\n",
    "\n",
    "    # TODO: Define the target\n",
    "    \"_target_\": \"ReverseNumberSequentialFlow.ReverseNumberSequentialFlow.instantiate_from_default_config\",\n",
    "\n",
    "    \"input_interface\": \"number\",\n",
    "    \"output_interface\": \"output_number\",\n",
    "    \n",
    "    \"subflows_config\": {\n",
    "        \"first_reverse_flow\": {\n",
    "            \"_target_\": \"aiflows.base_flows.AtomicFlow.instantiate_from_default_config\",\n",
    "            \"user_id\": \"local\",\n",
    "            \"flow_endpoint\": \"Reverse Number Atomic\",\n",
    "            \"name\": \"A proxy flow that calls reverse number to reverse number AGAIN.\",\n",
    "            \"description\": \"A proxy flow that calls reverse number to reverse number.\",\n",
    "        },\n",
    "        \"second_reverse_flow\": {\n",
    "            \"_target_\": \"aiflows.base_flows.AtomicFlow.instantiate_from_default_config\",\n",
    "            \"user_id\": \"local\",\n",
    "            \"flow_endpoint\": \"Reverse Number Atomic\",\n",
    "            \"name\": \"Proxy Second Reverse\",\n",
    "            \"description\": \"A proxy flow that calls reverse number to reverse number AGAIN.\",\n",
    "        },\n",
    "    }\n",
    "}\n"
   ]
  },
  {
   "cell_type": "code",
   "execution_count": null,
   "metadata": {},
   "outputs": [],
   "source": [
    "dict_to_yaml(default_config_reverse_number_sequential, \"ReverseNumberSequentialFlow.yaml\")"
   ]
  },
  {
   "cell_type": "markdown",
   "metadata": {},
   "source": [
    "### 3.2 Serving & Getting and Instance of the Reverse Number Flow"
   ]
  },
  {
   "cell_type": "markdown",
   "metadata": {},
   "source": [
    "#### 3.2.1 Serving the Reverse Number Sequential Flow"
   ]
  },
  {
   "cell_type": "code",
   "execution_count": null,
   "metadata": {},
   "outputs": [],
   "source": [
    "serve_utils.serve_flow(\n",
    "    cl=cl,\n",
    "    flow_class_name=\"ReverseNumberSequentialFlow.ReverseNumberSequentialFlow\",\n",
    "    flow_endpoint=\"Reverse Number Sequential\",\n",
    ")"
   ]
  },
  {
   "cell_type": "markdown",
   "metadata": {},
   "source": [
    "#### 3.2.2 Getting an instance of the Reverse Number Flow"
   ]
  },
  {
   "cell_type": "code",
   "execution_count": null,
   "metadata": {},
   "outputs": [],
   "source": [
    "# Start a worker thread to handle incoming messages\n",
    "run_dispatch_worker_thread(cl)"
   ]
  },
  {
   "cell_type": "code",
   "execution_count": null,
   "metadata": {},
   "outputs": [],
   "source": [
    "\n",
    "# Get an instance of the flow\n",
    "proxy_reverse_number_sequential_flow = serve_utils.get_flow_instance(\n",
    "    cl=cl,\n",
    "    flow_endpoint=???, #TODO: SPECIFY THE ENDPOINT\n",
    "    user_id=\"local\",\n",
    ")"
   ]
  },
  {
   "cell_type": "markdown",
   "metadata": {},
   "source": [
    "### 3.3. Call the Reverse Number Sequential Flow via the Proxy"
   ]
  },
  {
   "cell_type": "code",
   "execution_count": null,
   "metadata": {},
   "outputs": [],
   "source": [
    "input_data = {\"id\": 0, \"number\": 12345}\n",
    "\n",
    "# Package your data in a Flow Message\n",
    "\n",
    "## Option 1: Via the FlowMessage class\n",
    "# input_message = FlowMessage(\n",
    "#     data=input_data,\n",
    "# )\n",
    "\n",
    "## Option 2 (prefered): Via the package input message method\n",
    "input_message = proxy_reverse_number_sequential_flow.package_input_message(input_data)\n",
    "\n",
    "# Send a message to reverse number and ask to get an answer back in a future\n",
    "\n",
    "future = proxy_reverse_number_sequential_flow.get_reply_future(input_message)\n",
    "\n",
    "# Get the response from the future\n",
    "#To get the response as a data dictionary\n",
    "reply_data = future.get_data()\n",
    "#To get the response as a FlowMessage object\n",
    "reply_message = future.get_message()\n",
    "\n",
    "print(\"Data sent:\\n\",  input_data, \"\\n\")\n",
    "print(\"REPLY:\\n\", reply_data, \"\\n\")"
   ]
  },
  {
   "cell_type": "code",
   "execution_count": null,
   "metadata": {},
   "outputs": [],
   "source": []
  }
 ],
 "metadata": {
  "kernelspec": {
   "display_name": "coflows",
   "language": "python",
   "name": "python3"
  },
  "language_info": {
   "codemirror_mode": {
    "name": "ipython",
    "version": 3
   },
   "file_extension": ".py",
   "mimetype": "text/x-python",
   "name": "python",
   "nbconvert_exporter": "python",
   "pygments_lexer": "ipython3",
   "version": "3.11.8"
  }
 },
 "nbformat": 4,
 "nbformat_minor": 2
}
