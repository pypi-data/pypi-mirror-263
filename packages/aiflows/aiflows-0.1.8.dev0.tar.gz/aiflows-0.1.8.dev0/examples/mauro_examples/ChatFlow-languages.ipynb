{
 "cells": [
  {
   "cell_type": "markdown",
   "id": "d7a649b1-e259-4b73-8df5-5dc7c28cae47",
   "metadata": {},
   "source": [
    "# ChatFlow Example"
   ]
  },
  {
   "cell_type": "code",
   "execution_count": 1,
   "id": "686be679-0b12-4675-8f25-67aaabc9c33a",
   "metadata": {},
   "outputs": [],
   "source": [
    "%load_ext autoreload\n",
    "%autoreload 2"
   ]
  },
  {
   "cell_type": "code",
   "execution_count": 2,
   "id": "3290339a-e045-465a-a503-03dece48822a",
   "metadata": {},
   "outputs": [
    {
     "name": "stdout",
     "output_type": "stream",
     "text": [
      "[\u001b[36m2024-03-17 07:25:50,403\u001b[0m][\u001b[34maiflows.flow_verse.loading:775\u001b[0m][\u001b[32mINFO\u001b[0m] - \u001b[32m[<interactive>]\u001b[0m started to sync flow module dependencies to /home/staverm/workspace/coflows-dev/aiflows/examples/mauro_examples/ChatFlow-languages/flow_modules...\u001b[0m\n",
      "[\u001b[36m2024-03-17 07:25:50,544\u001b[0m][\u001b[34maiflows.flow_verse.loading:608\u001b[0m][\u001b[32mINFO\u001b[0m] - aiflows/ChatFlowModule:coflows already synced, skip\u001b[0m\n",
      "[\u001b[36m2024-03-17 07:25:50,545\u001b[0m][\u001b[34maiflows.flow_verse.loading:825\u001b[0m][\u001b[32mINFO\u001b[0m] - \u001b[32m[<interactive>]\u001b[0m finished syncing\n",
      "\n",
      "\u001b[0m\n"
     ]
    },
    {
     "data": {
      "text/plain": [
       "['/home/staverm/workspace/coflows-dev/aiflows/examples/mauro_examples/ChatFlow-languages/flow_modules/aiflows/ChatFlowModule']"
      ]
     },
     "execution_count": 2,
     "metadata": {},
     "output_type": "execute_result"
    }
   ],
   "source": [
    "import os, json, copy\n",
    "\n",
    "from colink import CoLink\n",
    "\n",
    "from aiflows.utils import serve_utils\n",
    "from aiflows.utils.general_helpers import read_yaml_file\n",
    "from aiflows.messages import FlowMessage\n",
    "from aiflows.utils import coflows_utils, colink_utils\n",
    "from aiflows.workers import run_dispatch_worker_threads, run_dispatch_worker_thread\n",
    "from aiflows import flow_verse\n",
    "\n",
    "dependencies = [\n",
    "    {\"url\": \"aiflows/ChatFlowModule\", \"revision\": \"coflows\"},\n",
    "]\n",
    "flow_verse.sync_dependencies(dependencies)"
   ]
  },
  {
   "cell_type": "markdown",
   "id": "c7a894bf-5605-4da7-984d-d0e06ee3288e",
   "metadata": {},
   "source": [
    "# Connect to CoLink Server"
   ]
  },
  {
   "cell_type": "code",
   "execution_count": 3,
   "id": "aa7d4186-d488-4a52-99d6-6a804cccd977",
   "metadata": {},
   "outputs": [],
   "source": [
    "cl = colink_utils.start_colink_server()"
   ]
  },
  {
   "cell_type": "markdown",
   "id": "d83270d6-93ad-4320-9821-506cef7969fc",
   "metadata": {},
   "source": [
    "# Start a few default workers"
   ]
  },
  {
   "cell_type": "code",
   "execution_count": 4,
   "id": "5b5e4f24-ed99-4d6a-af56-9c404bd43164",
   "metadata": {},
   "outputs": [
    {
     "name": "stdout",
     "output_type": "stream",
     "text": [
      "Dispatch worker started in attached thread.\n",
      "dispatch_point: coflows_dispatch\n",
      "\n",
      "~~~ Dispatch task ~~~\n",
      "flow_endpoint: Chatbot\n",
      "flow_id: d5df4e44-7f15-47f3-aa0a-4c4ac999d375\n",
      "owner_id: local\n",
      "message_paths: ['push_tasks:7e5080fe-857e-4fa6-ae76-3ccf733c992c:msg']\n",
      "parallel_dispatch: False\n",
      "\n",
      "Input message source: Proxy_Chatbot\n",
      "\n",
      "~~~ Dispatch task ~~~\n",
      "flow_endpoint: Chatbot\n",
      "flow_id: ad5feb52-5c2b-411c-9202-257a3b98d438\n",
      "owner_id: local\n",
      "message_paths: ['push_tasks:085b2bf6-009c-4e83-9b7b-45d69f936c49:msg']\n",
      "parallel_dispatch: False\n",
      "\n",
      "Input message source: Proxy_Chatbot\n"
     ]
    }
   ],
   "source": [
    "run_dispatch_worker_thread(cl)"
   ]
  },
  {
   "cell_type": "code",
   "execution_count": 5,
   "id": "ae53237c-1f4b-4f15-a8a8-d8ad01788264",
   "metadata": {},
   "outputs": [
    {
     "name": "stdout",
     "output_type": "stream",
     "text": [
      "Dispatch worker started in attached thread.\n",
      "dispatch_point: coflows_dispatch\n",
      "\n",
      "~~~ Dispatch task ~~~\n",
      "flow_endpoint: Chatbot\n",
      "flow_id: d5df4e44-7f15-47f3-aa0a-4c4ac999d375\n",
      "owner_id: local\n",
      "message_paths: ['push_tasks:40c9884c-89dd-471b-96e1-dd393bccfc37:msg']\n",
      "parallel_dispatch: False\n",
      "\n",
      "Input message source: Proxy_Chatbot\n",
      "\n",
      "~~~ Dispatch task ~~~\n",
      "flow_endpoint: Chatbot\n",
      "flow_id: ad5feb52-5c2b-411c-9202-257a3b98d438\n",
      "owner_id: local\n",
      "message_paths: ['push_tasks:07e477b0-f653-476a-807c-dadb29575554:msg']\n",
      "parallel_dispatch: False\n",
      "\n",
      "Input message source: Proxy_Chatbot\n"
     ]
    }
   ],
   "source": [
    "run_dispatch_worker_thread(cl)"
   ]
  },
  {
   "cell_type": "markdown",
   "id": "e623d0b4-1501-4460-bc5f-a1aeb590eefc",
   "metadata": {},
   "source": [
    "# Serve ChatFlow"
   ]
  },
  {
   "cell_type": "code",
   "execution_count": 6,
   "id": "fd960cb9-4b24-4b2f-b374-0b3c89e7dd55",
   "metadata": {
    "scrolled": true
   },
   "outputs": [
    {
     "name": "stdout",
     "output_type": "stream",
     "text": [
      "Started serving flow_modules.aiflows.ChatFlowModule.ChatAtomicFlow at flows:Chatbot.\n",
      "dispatch_point: coflows_dispatch\n",
      "parallel_dispatch: False\n",
      "singleton: False\n"
     ]
    },
    {
     "data": {
      "text/plain": [
       "True"
      ]
     },
     "execution_count": 6,
     "metadata": {},
     "output_type": "execute_result"
    }
   ],
   "source": [
    "serve_utils.serve_flow(\n",
    "    cl=cl,\n",
    "    flow_class_name=\"flow_modules.aiflows.ChatFlowModule.ChatAtomicFlow\",\n",
    "    flow_endpoint=\"Chatbot\",\n",
    ")"
   ]
  },
  {
   "cell_type": "markdown",
   "id": "f1c1addd-333e-4917-8170-8237b4ee307e",
   "metadata": {},
   "source": [
    "## Get two instances with different configurations"
   ]
  },
  {
   "cell_type": "code",
   "execution_count": 7,
   "id": "a48d217d-c034-4588-9389-373cd954c0dd",
   "metadata": {},
   "outputs": [],
   "source": [
    "root_dir = \".\"\n",
    "cfg_path = os.path.join(root_dir, \"flow_modules/aiflows/ChatFlowModule/demo.yaml\")\n",
    "cfg = read_yaml_file(cfg_path)"
   ]
  },
  {
   "cell_type": "code",
   "execution_count": 8,
   "id": "dfd8d59c-138a-47a7-97ad-e6393f1c909d",
   "metadata": {},
   "outputs": [
    {
     "name": "stdout",
     "output_type": "stream",
     "text": [
      "Mounted d5df4e44-7f15-47f3-aa0a-4c4ac999d375 at flows:Chatbot:mounts:local:d5df4e44-7f15-47f3-aa0a-4c4ac999d375\n"
     ]
    }
   ],
   "source": [
    "args_A = copy.deepcopy(cfg)\n",
    "args_A[\"system_message_prompt_template\"][\"template\"] = \\\n",
    "\"You are a helpful chatbot that truthfully answers questions. Answer in the language English.\"\n",
    "\n",
    "chatbot_A = serve_utils.get_flow_instance(\n",
    "    cl=cl,\n",
    "    flow_endpoint=\"Chatbot\",\n",
    "    config_overrides=args_A,\n",
    ")"
   ]
  },
  {
   "cell_type": "code",
   "execution_count": 9,
   "id": "6e832b8f-bd48-490c-af76-9cd5dbcc8a92",
   "metadata": {},
   "outputs": [
    {
     "name": "stdout",
     "output_type": "stream",
     "text": [
      "Mounted ad5feb52-5c2b-411c-9202-257a3b98d438 at flows:Chatbot:mounts:local:ad5feb52-5c2b-411c-9202-257a3b98d438\n"
     ]
    }
   ],
   "source": [
    "args_B = copy.deepcopy(cfg)\n",
    "args_B[\"system_message_prompt_template\"][\"template\"] = \\\n",
    "\"You are a helpful chatbot that truthfully answers questions. Answer in the language Croatian.\"\n",
    "\n",
    "\n",
    "chatbot_B = serve_utils.get_flow_instance(\n",
    "    cl=cl,\n",
    "    flow_endpoint=\"Chatbot\",\n",
    "    config_overrides=args_B,\n",
    ")"
   ]
  },
  {
   "cell_type": "markdown",
   "id": "99c250e8-7b3b-42e7-9eb0-4199a45e2680",
   "metadata": {},
   "source": [
    "## Conversation with chatbot A"
   ]
  },
  {
   "cell_type": "code",
   "execution_count": 10,
   "id": "0634e733-354f-42ff-90c4-d279895ae6c5",
   "metadata": {},
   "outputs": [
    {
     "name": "stdout",
     "output_type": "stream",
     "text": [
      "{'api_output': 'The capital of Switzerland is Bern.'}\n",
      "{'api_output': 'Bern, the capital of Switzerland, is located in the central part of the country, on the Swiss Plateau.'}\n"
     ]
    }
   ],
   "source": [
    "input_message = FlowMessage(\n",
    "    data={\"id\": 0, \"question\": \"What is the capital of Switzerland?\"},\n",
    ")\n",
    "\n",
    "future = chatbot_A.get_reply_future(input_message)\n",
    "print(future.get_data())\n",
    "\n",
    "input_message = FlowMessage(\n",
    "    data={\"id\": 0, \"query\": \"Where is it located?\"},\n",
    ")\n",
    "\n",
    "future = chatbot_A.get_reply_future(input_message)\n",
    "print(future.get_data())"
   ]
  },
  {
   "cell_type": "markdown",
   "id": "5bb34896-6fe0-403a-a95e-abed132a72a3",
   "metadata": {},
   "source": [
    "## Conversation with chatbot B"
   ]
  },
  {
   "cell_type": "code",
   "execution_count": 11,
   "id": "baa4a9b8-a47b-4fee-8bce-3b4ed404ca9e",
   "metadata": {},
   "outputs": [
    {
     "name": "stdout",
     "output_type": "stream",
     "text": [
      "{'api_output': 'Glavni grad Švicarske je Bern.'}\n",
      "{'api_output': 'Bern se nalazi u središnjem dijelu Švicarske, na rijeci Aare.'}\n"
     ]
    }
   ],
   "source": [
    "input_message = FlowMessage(\n",
    "    data={\"id\": 0, \"question\": \"What is the capital of Switzerland?\"},\n",
    ")\n",
    "\n",
    "future = chatbot_B.get_reply_future(input_message)\n",
    "print(future.get_data())\n",
    "\n",
    "input_message = FlowMessage(\n",
    "    data={\"id\": 0, \"query\": \"Where is it located?\"},\n",
    ")\n",
    "\n",
    "future = chatbot_B.get_reply_future(input_message)\n",
    "print(future.get_data())"
   ]
  }
 ],
 "metadata": {
  "kernelspec": {
   "display_name": "Python 3 (ipykernel)",
   "language": "python",
   "name": "python3"
  },
  "language_info": {
   "codemirror_mode": {
    "name": "ipython",
    "version": 3
   },
   "file_extension": ".py",
   "mimetype": "text/x-python",
   "name": "python",
   "nbconvert_exporter": "python",
   "pygments_lexer": "ipython3",
   "version": "3.10.6"
  }
 },
 "nbformat": 4,
 "nbformat_minor": 5
}
