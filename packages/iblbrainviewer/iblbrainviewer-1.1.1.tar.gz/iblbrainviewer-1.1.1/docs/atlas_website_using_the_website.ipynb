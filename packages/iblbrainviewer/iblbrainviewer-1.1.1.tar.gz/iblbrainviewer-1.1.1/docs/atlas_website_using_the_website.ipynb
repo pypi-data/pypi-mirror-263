{
 "cells": [
  {
   "cell_type": "markdown",
   "id": "5bcade28",
   "metadata": {},
   "source": [
    "# Navigating the atlas.internationalbrainlab.org website"
   ]
  },
  {
   "cell_type": "markdown",
   "id": "ad158ab1",
   "metadata": {},
   "source": [
    "## 1. The views\n",
    "\n",
    "On the webpage, six different views of the brain are displayed, in addition to a bar plot display showing regions that have values assigned to them\n",
    "\n",
    "### Coronal\n",
    "The top left view shows slices through the Allen volume in the coronal or medio-lateral plane\n",
    "### Sagittal \n",
    "The top centre view shows slices through the Allen volume in the sagittal or anterior-posterior plane\n",
    "### Horizotnal\n",
    "The top right view shows slices through the Allen volume in the horizontal or dorso-ventral plane\n",
    "### Top\n",
    "The bottom left view shows a projection of the top surface of the Allen volume\n",
    "### 3D\n",
    "The bottom centre view shows a three-dimensional rendering of the Allen volume\n",
    "### Swanson\n",
    "The bottom left view shows a flattened projection of the brain constructed by [Swanson et al]( https://doi.org/10.1002/cne.24381)\n",
    "\n",
    "### Bar plot\n",
    "On the left hand side of the page, there is a column that shows a bar plot display of all the regions that have values assigned to them. The size of each bar indicates the magnitude of the value for that region and the colour of the bar is the Allen assigned colour for that region\n"
   ]
  },
  {
   "cell_type": "markdown",
   "id": "52495d91",
   "metadata": {},
   "source": [
    "## 2. Interacting with the views\n",
    "\n",
    "### Sliders\n",
    "The sliders underneath the coronal, sagittal and horizonatal views can be used to slice through the brain along the respective axis. The slider for 3D view can be used to pull apart the brain so internal regions can be viewed\n",
    "\n",
    "### Maximising\n",
    "Each view can be maximised by clicking on the square and arrow icon located in the top right hand corner of each view. Click this icon again to return to the layout displaying all views\n",
    "\n",
    "### Hovering\n",
    "When hovering over the views (expect the 3D view) the region underneath the cursor is highlighted and the name of the region and value assigned to this region are displayed. The bar plot can also be hovered over in a similar manner\n",
    "\n",
    "### Clicking on regions\n",
    "Regions can be selected by clicking a region in any of the views (expect the 3D view). The selected region will be highlighted in all views and all other regions greyed out. The region can be deselected by clicking on it again. Multiple regions can be selected at once. The list of selected regions with corresponding values is displayed in a list called `Selected regions` on the left hand column of the page above the bar plot view. To deselect all regions at once the `clear` button next to the `Selected regions` list can be clicked.\n",
    "\n",
    "### Searching for regions\n",
    "Regions can also be selected using the search bar located above the bar plot view on the left hand side of the page. When selecting regions in this way, only regions that are in the bar plot view and thus only regions that contain values can be searched for. As with clicking on the regions, multiple regions can be selected at the same time and are shown in the `Selected regions` list. Single regions can be deselected by clicking on them or all can be deselected using the `clear` button."
   ]
  },
  {
   "cell_type": "markdown",
   "id": "ca993b38",
   "metadata": {},
   "source": [
    "## 3. The Control panel\n",
    "\n",
    "The control panel is located in the top right hand corner of the page and when clicked shows a number of different configuration options.\n",
    "\n",
    "### Mapping\n",
    "The mapping dropdown can be used to select the mapping used to display the data. The options are Allen, Beryl and Cosmos. Please refer to this [notebook](https://github.com/int-brain-lab/iblbrainviewer/blob/main/docs/atlas_website_understanding_the_mappings.ipynb) for more information about the different mapping options.\n",
    "\n",
    "### Statistic\n",
    "When multiple statistics exist for a given feautre, this drop down can be used to select the statistic to be displayed.\n",
    "\n",
    "### Colormap\n",
    "This dropdown can be used to select different colormaps to display the data.\n",
    "\n",
    "### Colormap range\n",
    "The top and bottom sliders can be used to set the minimum and maximum colormap range. The associated colorbar is shown in the left hand column above the `Selected regions` list.\n",
    "\n",
    "### Advanced\n",
    "The advanced button can be clicked to show two extra options.\n",
    "#### Reset view\n",
    "This can be used to reset the page to the original view upon loading\n",
    "\n",
    "#### Reset cache\n",
    "This is used to reload the webpage from scratch and redownload all the necessary data to render the website. We only recommend using this button in the event of the page being unresponsive or display being weird."
   ]
  },
  {
   "cell_type": "markdown",
   "id": "8e2874e8",
   "metadata": {},
   "source": [
    "## 4. Bucket list\n",
    "\n",
    "The list of buckets available is shown in the drop down list location at the top of the left hand column of the webpage. Once the bucket is selected, the webpage will updated with the set of features contained within that bucket. The two default buckets available are those associated with the International Brain Laboratory brain wide map (`bwm`) and electrophysiology atlas (`ephys`) projects.\n",
    "\n",
    "### Adding buckets\n",
    "Additional buckets can be added to the dropdown list by clicking on the `+` button located just beneath the bucket dropdown list. Once clicked you will be prompted to enter the name of the bucket that you want to load in.\n",
    "\n",
    "### Removing buckets\n",
    "Buckets can be removed from the dropdown list by selecting the bucket and clicking the `-`. The default `bwm` and `ephys` buckets can not be removed"
   ]
  },
  {
   "cell_type": "markdown",
   "id": "041803d5",
   "metadata": {},
   "source": [
    "## 5. Feature tree\n",
    "\n",
    "Once a bucket is selected, the set of features contained within the bucket will be displayed underneath the bucket dropdown list as a tree. Select a feature from the tree for it to be displayed in the views. \n",
    "\n",
    "### Changing the tree\n",
    "By default the all features will be displayed as a list and the names will be the same as the feature name when creating the features using the FeatureUploader API. To change the way the features are displayed a tree can be defined using the API. See the section **Defining a tree** in the [getting started guide](https://github.com/int-brain-lab/iblbrainviewer/blob/main/docs/atlas_website_getting_started.ipynb) and the **Adding a tree to a bucket** section in the [API tutorial](https://github.com/int-brain-lab/iblbrainviewer/blob/main/docs/atlas_website_using_the_API.ipynb) for how to define and update the tree.\n",
    "\n",
    "### Refreshing the tree\n",
    "If the tree is updated, or an additional feature is added to the tree via the FeatureUploader API, the new feature arrangement can be loaded by clicking the refresh button located between the `-` and `+` buttons above the feature tree. After clicking this button the feature tree will update.\n",
    "\n",
    "### Displaying feature information\n",
    "If a description about the feature is given when creating the feature, this description can be viewed when hovering over the relevant feature in the feature tree. See the **Adding information about a feature in a bucket** section in the [API tutorial](https://github.com/int-brain-lab/iblbrainviewer/blob/main/docs/atlas_website_using_the_API.ipynb) for how to add information about a feature.\n",
    " "
   ]
  },
  {
   "cell_type": "markdown",
   "id": "25f24928",
   "metadata": {},
   "source": [
    "## 6. Sharing the current state of the webpage\n",
    "\n",
    "The `Share` button located in the header of the page can be used to generate the url for the exact state of the website. This url can be shared with others and they can load in the webpage in the same exact view. The url will capture\n",
    "- The available buckets\n",
    "- The available features\n",
    "- The selected features\n",
    "- Any selected regions\n",
    "- The location of the sliders for the different views\n",
    "- The mapping chosen\n",
    "- The statisic shown\n",
    "- The colormap used\n",
    "- The colorrange selected"
   ]
  },
  {
   "cell_type": "markdown",
   "id": "55e8eb37",
   "metadata": {},
   "source": [
    "## 7. Downloading data\n",
    "\n",
    "The data for a feature can be downloaded from the website using the `Download` button located in the header of the page. This will download a json file of the feature data."
   ]
  }
 ],
 "metadata": {
  "kernelspec": {
   "display_name": "Python 3 (ipykernel)",
   "language": "python",
   "name": "python3"
  },
  "language_info": {
   "codemirror_mode": {
    "name": "ipython",
    "version": 3
   },
   "file_extension": ".py",
   "mimetype": "text/x-python",
   "name": "python",
   "nbconvert_exporter": "python",
   "pygments_lexer": "ipython3",
   "version": "3.9.18"
  }
 },
 "nbformat": 4,
 "nbformat_minor": 5
}
