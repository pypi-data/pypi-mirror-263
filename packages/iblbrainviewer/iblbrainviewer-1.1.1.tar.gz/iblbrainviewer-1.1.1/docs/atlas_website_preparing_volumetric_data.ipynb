{
 "cells": [
  {
   "cell_type": "markdown",
   "id": "158a64f1",
   "metadata": {},
   "source": [
    "# Preparing volumetric data for the atlas website"
   ]
  },
  {
   "cell_type": "markdown",
   "id": "e74cac37",
   "metadata": {},
   "source": [
    "[![Open In Colab](https://colab.research.google.com/assets/colab-badge.svg)](https://colab.research.google.com/github/int-brain-lab/iblbrainviewer/blob/main/docs/atlas_website_preparing_volumetric_data.ipynb)"
   ]
  },
  {
   "cell_type": "markdown",
   "id": "1aeddaa3",
   "metadata": {},
   "source": [
    "To upload volumetric based data to the website you will need to provide\n",
    "- A `volume` array containing the volume to be displayed. The volume must be registered to the Allen CCF mouse atlas.\n",
    "- The names of the volume feature.\n"
   ]
  },
  {
   "cell_type": "markdown",
   "id": "05e03527",
   "metadata": {},
   "source": [
    "## Preparing your volume"
   ]
  },
  {
   "cell_type": "markdown",
   "id": "6693c1c2",
   "metadata": {},
   "source": [
    "Here we detail the format of the volume that must be prepared in order to upload it to the website"
   ]
  },
  {
   "cell_type": "markdown",
   "id": "8a8d9d69",
   "metadata": {},
   "source": [
    "### 1. Register your volume to the Allen CCF"
   ]
  },
  {
   "cell_type": "markdown",
   "id": "009c98be",
   "metadata": {},
   "source": [
    "The website currently only supports mouse volumes that have been registered and aligned to the Allen CCF mouse brain. A number of useful tools exist for this process\n",
    "\n",
    "These include,\n",
    "- [brainreg](https://brainglobe.info/index.html)\n",
    "- [brainregister](https://github.com/int-brain-lab/brainregister)\n",
    "- [HERBS](https://github.com/Whitlock-Group/HERBS/tree/main)\n"
   ]
  },
  {
   "cell_type": "markdown",
   "id": "1f222748",
   "metadata": {},
   "source": [
    "### 2. Resample your volume to 25 um"
   ]
  },
  {
   "cell_type": "markdown",
   "id": "bbf4b1d6",
   "metadata": {},
   "source": [
    "The volume uploaded must have a resolution of 25 um in the ap, dv and ml dimensions. You can use the `simpleITK` python package to resample your data. This can be installed using `pip install SimpleITK`\n",
    "\n",
    "The example below shows how you would resample a 10 um resolution volume to 25 um resolution."
   ]
  },
  {
   "cell_type": "code",
   "execution_count": null,
   "id": "f7571c9b",
   "metadata": {},
   "outputs": [],
   "source": [
    "import SimpleITK as sitk\n",
    "from pathlib import Path\n",
    "\n",
    "# Path to original volume\n",
    "img_path = Path.home().joinpath('path_to_volume', 'volume.tif')\n",
    "save_img_path = img_path.parent.joinpath('volume_resampled.tif')\n",
    "\n",
    "# Read in tiff image using simpleITK\n",
    "reader = sitk.ImageFileReader()\n",
    "reader.SetImageIO(\"TIFFImageIO\")\n",
    "reader.SetFileName(str(img_path))\n",
    "img = reader.Execute()\n",
    "\n",
    "# Resample the image\n",
    "img_size = img.GetSize()\n",
    "out_spacing = [2.5, 2.5, 2.5]\n",
    "out_size = [int(img_size[0] / out_spacing[0]), int(img_size[1] / out_spacing[1]), int(img_size[2] / out_spacing[2])]\n",
    "resample = sitk.ResampleImageFilter()\n",
    "resample.SetOutputSpacing(out_spacing)\n",
    "resample.SetSize(out_size)\n",
    "resample.SetOutputDirection(img.GetDirection())\n",
    "resample.SetOutputOrigin(img.GetOrigin())\n",
    "resample.SetTransform(sitk.Transform())\n",
    "resample.SetDefaultPixelValue(img.GetPixelIDValue())\n",
    "resample.SetInterpolator(sitk.sitkBSpline)\n",
    "new_img = resample.Execute(img)\n",
    "\n",
    "# Save the image\n",
    "# Write file to disk\n",
    "writer = sitk.ImageFileWriter()\n",
    "writer.SetImageIO(\"TIFFImageIO\")\n",
    "writer.SetFileName(str(save_img_path))\n",
    "writer.Execute(new_img)"
   ]
  },
  {
   "cell_type": "markdown",
   "id": "5ca93483",
   "metadata": {},
   "source": [
    "### 3. Adjust the axis of your volume"
   ]
  },
  {
   "cell_type": "markdown",
   "id": "6d7ed466",
   "metadata": {},
   "source": [
    "The orientation of the axis of the volume must be in the order ap, dv, ml. After resampling and ensuring the correct axis orientation the shape of your volume should be (528, 320, 456)"
   ]
  },
  {
   "cell_type": "markdown",
   "id": "9cd9435a",
   "metadata": {},
   "source": [
    "## Uploading an example volume"
   ]
  },
  {
   "cell_type": "markdown",
   "id": "ffa5c719",
   "metadata": {},
   "source": [
    "Here we show an example of uploading a compatible volume to both a local and remote bucket. To understand the difference between the two, please refer to the [getting started tutorial](https://github.com/int-brain-lab/iblbrainviewer/blob/main/docs/atlas_website_getting_started.ipynb#3.-Understand-some-useful-concepts).\n",
    "\n",
    "The volume that we will upload is the Allen CCF 25um resolution diffusion weighted image (DWI) volume."
   ]
  },
  {
   "cell_type": "code",
   "execution_count": 1,
   "id": "9892cbe3",
   "metadata": {},
   "outputs": [],
   "source": [
    "# install necessary packages\n",
    "!pip install iblbrainviewer"
   ]
  },
  {
   "cell_type": "code",
   "execution_count": 1,
   "id": "e78d62ba",
   "metadata": {},
   "outputs": [
    {
     "name": "stdout",
     "output_type": "stream",
     "text": [
      "(528, 456, 320)\n"
     ]
    }
   ],
   "source": [
    "# Import ibl atlas module and load in the 25 um Allen CCF atlas\n",
    "from iblatlas.atlas import AllenAtlas\n",
    "brain_atlas = AllenAtlas(res_um=25)\n",
    "\n",
    "\n",
    "# The DWI image is stored as an attribute called image\n",
    "dwi = brain_atlas.image\n",
    "print(dwi.shape)"
   ]
  },
  {
   "cell_type": "markdown",
   "id": "61fbc082",
   "metadata": {},
   "source": [
    "If we explore the shape of our dwi image, we see that our volume has the correct size but the dimensions we need to switch the last two axis to match our expected volume shape of (528, 320, 456)."
   ]
  },
  {
   "cell_type": "code",
   "execution_count": 2,
   "id": "392b1cc3",
   "metadata": {},
   "outputs": [
    {
     "name": "stdout",
     "output_type": "stream",
     "text": [
      "(528, 320, 456)\n"
     ]
    }
   ],
   "source": [
    "import numpy as np\n",
    "dwi = np.swapaxes(dwi, 1, 2)\n",
    "print(dwi.shape)"
   ]
  },
  {
   "cell_type": "markdown",
   "id": "fa1ed408",
   "metadata": {},
   "source": [
    "Now our volume is oriented correctly we can upload it to the website."
   ]
  },
  {
   "cell_type": "code",
   "execution_count": 3,
   "id": "095e92d9",
   "metadata": {},
   "outputs": [
    {
     "name": "stdout",
     "output_type": "stream",
     "text": [
      "https://atlas.internationalbrainlab.org/?buckets=ibl_volume_example&bucket=ibl_volume_example\n"
     ]
    }
   ],
   "source": [
    "from iblbrainviewer.api import FeatureUploader\n",
    "from pathlib import Path\n",
    "\n",
    "# Instantiate local bucket\n",
    "local_bucket_path = Path.home().joinpath('local_bucket')\n",
    "up_local = FeatureUploader()\n",
    "\n",
    "# Instantiate remote bucket\n",
    "bucket = 'ibl_volume_example'\n",
    "up_remote = FeatureUploader(bucket)\n",
    "\n",
    "\n",
    "fname = 'dwi_allen_25'\n",
    "\n",
    "# Upload locally\n",
    "# For acronyms must provide hemisphere argument\n",
    "up_local.local_volume(fname, dwi, output_dir=local_bucket_path)\n",
    "\n",
    "# Upload remotely\n",
    "if not up_remote.features_exist(fname):\n",
    "    # For acronyms must provide hemisphere argument\n",
    "    up_remote.upload_volume(fname, dwi)\n",
    "\n",
    "url = up_remote.get_buckets_url([bucket])\n",
    "print(url)"
   ]
  }
 ],
 "metadata": {
  "kernelspec": {
   "display_name": "Python 3 (ipykernel)",
   "language": "python",
   "name": "python3"
  },
  "language_info": {
   "codemirror_mode": {
    "name": "ipython",
    "version": 3
   },
   "file_extension": ".py",
   "mimetype": "text/x-python",
   "name": "python",
   "nbconvert_exporter": "python",
   "pygments_lexer": "ipython3",
   "version": "3.9.18"
  }
 },
 "nbformat": 4,
 "nbformat_minor": 5
}
