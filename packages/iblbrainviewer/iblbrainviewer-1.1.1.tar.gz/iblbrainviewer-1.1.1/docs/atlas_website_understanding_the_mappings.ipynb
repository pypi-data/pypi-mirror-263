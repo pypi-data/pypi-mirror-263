{
 "cells": [
  {
   "cell_type": "markdown",
   "id": "cf7656d0",
   "metadata": {},
   "source": [
    "# Understanding the mappings "
   ]
  },
  {
   "cell_type": "markdown",
   "id": "b6e4955a",
   "metadata": {},
   "source": [
    "[![Open In Colab](https://colab.research.google.com/assets/colab-badge.svg)](https://colab.research.google.com/github/int-brain-lab/iblbrainviewer/blob/main/docs/atlas_website_understanding_the_mappings.ipynb)"
   ]
  },
  {
   "cell_type": "markdown",
   "id": "ff89da9e",
   "metadata": {},
   "source": [
    "The data on the website can be viewed in three different aggregations or mappings, Allen, Beryl and Cosmos. The Allen aggeration is that defined by the Allen institute in the Allen annotation volume (2017 version). The Beryl and Cosmos mappings have been defined by the International Brain Laboratory and contain 308 and 12 Allen regions, respectively. In addition, the swanson projection contains 323 regions."
   ]
  },
  {
   "cell_type": "markdown",
   "id": "efe8e3fb",
   "metadata": {},
   "source": [
    "## Allen mapping"
   ]
  },
  {
   "cell_type": "markdown",
   "id": "9b30f123",
   "metadata": {},
   "source": [
    "The Allen structure tree contains 1327 regions of which 673 are used within the Allen annotation volume. The full strucutre tree can be explored at this [website](https://atlas.brain-map.org/atlas) provided by the Allen institute. In the strucutre tree we refer to each region as a node, and those nodes that do not have any children as leaf nodes. \n",
    "\n",
    "If you provide data for regions that are contained within the 673 regions in the annotation volume, the data will be directly assigned to that region and displayed on the atlas website. There are 29 regions, where this assignment is not automatic. These regions act both as nodes and leaves in the Allen structure tree and thus there is ambiguity. See Section 2. in [this](https://github.com/int-brain-lab/iblbrainviewer/blob/main/docs/atlas_website_preparing_your_data.ipynb) tutorial for how to deal with these regions.\n",
    "\n",
    "If the regions are not within the 673 regions, the following rules will be applied. "
   ]
  },
  {
   "cell_type": "markdown",
   "id": "f0edd81e",
   "metadata": {},
   "source": [
    "### Rule 1: Providing a leaf node"
   ]
  },
  {
   "cell_type": "markdown",
   "id": "dbec85aa",
   "metadata": {},
   "source": [
    "If you provide leaf nodes that aren't in the volume annotation, they will be mapped up to the closest parent in the volume and that parent given the mean value of it's children.\n",
    "\n",
    "For example the regions [AONd, AONe](https://atlas.brain-map.org/atlas#atlas=1&plate=100960416&structure=159&x=5279.875&y=3743.9375&zoom=-3&resolution=16.75&z=5) etc are leaf nodes but are not contained within the annotation volume. These regions will be mapped up to AON, which is included in the annotation volume, and it will be assigned the average value of it's children.\n",
    "\n",
    "###### Input\n",
    "AONd = 1\n",
    "AONe = 4\n",
    "###### Result\n",
    "AON = 2.5"
   ]
  },
  {
   "cell_type": "markdown",
   "id": "35380619",
   "metadata": {},
   "source": [
    "### Rule 2: Providing a node"
   ]
  },
  {
   "cell_type": "markdown",
   "id": "384bc381",
   "metadata": {},
   "source": [
    "If you provide a value for a node that is not in the volume annotation, it's value will propagate down to all it's children. \n",
    "\n",
    "For example the region [VENT](https://atlas.brain-map.org/atlas#atlas=1&plate=100960284&structure=637&x=5279.9375&y=3743.875&zoom=-3&resolution=16.75&z=5) is not contained within the annotation volume, but it's children, VAL, VM, VPM, VPL, PoT etc. are. The value for VENT will be assigned to these children. If a value for any of these children is given in addition to VENT, e.g VAL, this region will take it's own value.\n",
    "\n",
    "###### Input\n",
    "VENT = 1\n",
    "VAL = 3\n",
    "###### Result\n",
    "VAL = 3, VM = 1, PoT = 1, VPL = 1, VPLpc = 1, VPM = 1, VPMpc = 1"
   ]
  },
  {
   "cell_type": "markdown",
   "id": "27e168f8",
   "metadata": {},
   "source": [
    "## Beryl mapping"
   ]
  },
  {
   "cell_type": "markdown",
   "id": "6fef3d77",
   "metadata": {},
   "source": [
    "The Beryl mapping has been defined by the International Brain Laboratory and contains a subset of 308 Allen regions. The following considerations were taken when creating this mapping\n",
    "1. Layer specitivity in the Isocortex has been removed and layered regions such as VISa1, VISa2/3 etc. are mapped to their parent VISa.\n",
    "2. Nuclei and regions that are not contained within the annotation volume were removed and map to root\n",
    "3. Some of the regions that act both as nodes and leaves, for example TH, MB, CB, HY are mapped to root. This decision was taken as it was assumed that these regions were assigned this node value because their exact location in the annotation volume was still to be determined."
   ]
  },
  {
   "cell_type": "markdown",
   "id": "5bb4fade",
   "metadata": {},
   "source": [
    "## Cosmos mapping"
   ]
  },
  {
   "cell_type": "markdown",
   "id": "3fe89dfe",
   "metadata": {},
   "source": [
    "The cosmos mapping, also defined by the International Brain Laboratory provides a coarse aggregation of the data and only contains 12 regions. The following regions are contained,\n",
    "\n",
    "- Cerebellum\n",
    "- Cerebral nuclei\n",
    "- Cortical subplate\n",
    "- Hindbrain\n",
    "- Hippocampal formation\n",
    "- Hypothalamus\n",
    "- Isocortex\n",
    "- Midbrain\n",
    "- Olfactory areas\n",
    "- Thalamus\n",
    "- root\n",
    "- void\n"
   ]
  },
  {
   "cell_type": "markdown",
   "id": "ceb48418",
   "metadata": {},
   "source": [
    "## Swanson mapping"
   ]
  },
  {
   "cell_type": "markdown",
   "id": "23175251",
   "metadata": {},
   "source": [
    "The Swanson flatmap is a 2D representation of the mouse brain to facilitate comparative analysis of brain data. It contains a subset of 323 Allen regions and how values are aggregated into these regions depends on the mapping used. "
   ]
  },
  {
   "cell_type": "markdown",
   "id": "d0bb148e",
   "metadata": {},
   "source": [
    "### Allen mapping"
   ]
  },
  {
   "cell_type": "markdown",
   "id": "7534cdd1",
   "metadata": {},
   "source": [
    "When using the Allen mapping, the same rules as described in the Allen section are used. The Swanson contains some regions that are parents to the regions contained in the annotation volume, for example it contains VISa, rather than the layer specific regions, VISa1, VISa2/3 etc. In these cases Rule 1 above is used. It also contains some regions that are not contained in the Allen annotation volume, e.g A13, AHA."
   ]
  },
  {
   "cell_type": "markdown",
   "id": "88874e26",
   "metadata": {},
   "source": [
    "### Beryl mapping"
   ]
  },
  {
   "cell_type": "markdown",
   "id": "05c87fa3",
   "metadata": {},
   "source": [
    "When displaying the Swanson using the Beryl mapping, 280 out of the 308 Beryl regions are directly mapped onto the Swanson regions. The remaining 28 Beryl regions are not displayed on the Swanson projection"
   ]
  },
  {
   "cell_type": "markdown",
   "id": "c114d679",
   "metadata": {},
   "source": [
    "### Cosmos mappings"
   ]
  },
  {
   "cell_type": "markdown",
   "id": "2368c4ad",
   "metadata": {},
   "source": [
    "The Swanson display of the Cosmos mappings contains all Cosmos regions apart from void and root. "
   ]
  },
  {
   "cell_type": "markdown",
   "id": "c1673527",
   "metadata": {},
   "source": [
    "## Navigating the mappings"
   ]
  },
  {
   "cell_type": "markdown",
   "id": "35c72e08",
   "metadata": {},
   "source": [
    "To inspect how your data is mapped to these different mappings, the following bit of code can be used"
   ]
  },
  {
   "cell_type": "code",
   "execution_count": null,
   "id": "71714d8e",
   "metadata": {},
   "outputs": [],
   "source": [
    "!pip install iblbrainviewer"
   ]
  },
  {
   "cell_type": "code",
   "execution_count": 1,
   "id": "bc4eb63a",
   "metadata": {},
   "outputs": [
    {
     "name": "stdout",
     "output_type": "stream",
     "text": [
      "Allen mapping: {'index': array(['VISa', 'VISa1', 'VISa2/3', 'VISa4', 'VISa5', 'VISa6a', 'VISa6b'],\n",
      "      dtype=object), 'values': array([1., 1., 1., 1., 1., 1., 1.])}\n",
      "\n",
      "Beryl mapping: {'index': array(['VISa'], dtype=object), 'values': array([1.])}\n",
      "\n",
      "Cosmos mapping: {'index': array(['Isocortex'], dtype=object), 'values': array([1.])}\n"
     ]
    }
   ],
   "source": [
    "from iblbrainviewer.mappings import RegionMapper\n",
    "import numpy as np\n",
    "\n",
    "# Can be array of acronyms or ids\n",
    "# If acronyms, hemisphere must be specified\n",
    "regions = np.array(['VISa'])\n",
    "values = np.array([1])\n",
    "\n",
    "mapper = RegionMapper(regions, values, hemisphere='left')\n",
    "mapped_values = mapper.map_regions(as_acronyms=True)\n",
    "\n",
    "# Regions and values mapped onto Allen\n",
    "allen = mapped_values['allen']\n",
    "\n",
    "# Regions and values mapped onto Beryl\n",
    "beryl = mapped_values['beryl']\n",
    "\n",
    "# Regions and values mapped onto Beryl\n",
    "cosmos = mapped_values['cosmos']\n",
    "\n",
    "print(f'Allen mapping: {allen}\\n')\n",
    "\n",
    "print(f'Beryl mapping: {beryl}\\n')\n",
    "\n",
    "print(f'Cosmos mapping: {cosmos}')"
   ]
  }
 ],
 "metadata": {
  "kernelspec": {
   "display_name": "Python 3 (ipykernel)",
   "language": "python",
   "name": "python3"
  },
  "language_info": {
   "codemirror_mode": {
    "name": "ipython",
    "version": 3
   },
   "file_extension": ".py",
   "mimetype": "text/x-python",
   "name": "python",
   "nbconvert_exporter": "python",
   "pygments_lexer": "ipython3",
   "version": "3.9.18"
  }
 },
 "nbformat": 4,
 "nbformat_minor": 5
}
