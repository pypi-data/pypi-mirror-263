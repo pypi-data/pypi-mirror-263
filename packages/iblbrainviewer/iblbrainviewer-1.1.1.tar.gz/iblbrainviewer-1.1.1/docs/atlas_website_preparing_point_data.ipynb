{
 "cells": [
  {
   "cell_type": "markdown",
   "id": "2a1862e9",
   "metadata": {},
   "source": [
    "# Preparing point data for the atlas website"
   ]
  },
  {
   "cell_type": "markdown",
   "id": "35b2bb55",
   "metadata": {},
   "source": [
    "[![Open In Colab](https://colab.research.google.com/assets/colab-badge.svg)](https://colab.research.google.com/github/int-brain-lab/iblbrainviewer/blob/main/docs/atlas_website_preparing_point_data.ipynb)"
   ]
  },
  {
   "cell_type": "markdown",
   "id": "d0e18933",
   "metadata": {},
   "source": [
    "To upload point based data to the website you will need to provide\n",
    "- A `points` array of 3D coordinates for each point to be displayed.  \n",
    "- One (or more) `feature` array(s) containing the values to be displayed, each corresponding to a point in the  listed in the `points` array\n",
    "- The names of each features\n"
   ]
  },
  {
   "cell_type": "markdown",
   "id": "bd0ab877",
   "metadata": {},
   "source": [
    "## Installation"
   ]
  },
  {
   "cell_type": "code",
   "execution_count": null,
   "id": "8dc34333",
   "metadata": {},
   "outputs": [],
   "source": [
    "!pip install iblbrainviewer"
   ]
  },
  {
   "cell_type": "markdown",
   "id": "43011a6f",
   "metadata": {},
   "source": [
    "## Preparing your points"
   ]
  },
  {
   "cell_type": "markdown",
   "id": "07d61cbe",
   "metadata": {},
   "source": [
    "### Defining the coordinates "
   ]
  },
  {
   "cell_type": "markdown",
   "id": "65643788",
   "metadata": {},
   "source": [
    "For each point you must provide the 3D location in the following coordinate framework,\n",
    "\n",
    " - In metres\n",
    " - Relative to bregma\n",
    " - Order ml, ap, dv\n",
    "\n",
    "This is the standard coordinate framework used within the International brain laboratory.\n",
    "\n",
    "If you have coordinates that are in the Allen CCF coordinate framework, the following code can be used to transform your coordinates."
   ]
  },
  {
   "cell_type": "code",
   "execution_count": 1,
   "id": "27b08f54",
   "metadata": {},
   "outputs": [],
   "source": [
    "from iblatlas.atlas import AllenAtlas\n",
    "import numpy as np\n",
    "\n",
    "brain_atlas = AllenAtlas()\n",
    "\n",
    "\n",
    "# Transform coords from CCF origin (order mlapdv) to Bregma origin (order mlapdv)\n",
    "# ccf coordinates in um\n",
    "ccf_mlapdv = np.array([[3000, 4000, 3000], [6000, 6000, 500] ], dtype=np.float32)\n",
    "# returned bregma coordinates in m\n",
    "bregma_mlapdv = brain_atlas.ccf2xyz(ccf_mlapdv, ccf_order='mlapdv')\n",
    "\n",
    "\n",
    "# Transform coords from CCF origin (order apdvml) to Bregma origin (order mlapdv)\n",
    "# ccf coordinates in um\n",
    "ccf_apdvml = np.array([[3000, 4000, 3000], [6000, 6000, 500] ], dtype=np.float32)\n",
    "# returned bregma coordinates in m\n",
    "bregma_mlapdv = brain_atlas.ccf2xyz(ccf_apdvml, ccf_order='apdvml')"
   ]
  },
  {
   "cell_type": "markdown",
   "id": "9d617735",
   "metadata": {},
   "source": [
    "If you want to transform the other way, from bregma coordinates to CCF coordinates, an inverse function is also available"
   ]
  },
  {
   "cell_type": "code",
   "execution_count": 2,
   "id": "96488c60",
   "metadata": {},
   "outputs": [],
   "source": [
    "# Transform coords from Bregma origin (order mlapdv) to CCF origin (order mlapdv)\n",
    "# example coordinates in m with Bregma origin\n",
    "bregma_mlapdv = np.array([[2000, 4000, 0], [4000, -1000, -4000]]) / 1e6 \n",
    "ccf_mlapdv = brain_atlas.xyz2ccf(bregma_mlapdv, ccf_order='mlapdv')\n",
    "\n",
    "# Transform coords from Bregma origin (order mlapdv) to CCF origin (order apdvml)\n",
    "bregma_mlapdv = np.array([[2000, 4000, 0], [4000, -1000, -4000]]) / 1e6\n",
    "ccf_apdvml = brain_atlas.xyz2ccf(bregma_mlapdv, ccf_order='apdvml')"
   ]
  },
  {
   "cell_type": "markdown",
   "id": "73af89e5",
   "metadata": {},
   "source": [
    "## Uploading an example points"
   ]
  },
  {
   "cell_type": "markdown",
   "id": "682cc9be",
   "metadata": {},
   "source": [
    "Here we show an example of uploading a set of points to both a local and remote bucket. To understand the difference between the two, please refer to the [getting started tutorial](https://github.com/int-brain-lab/iblbrainviewer/blob/main/docs/atlas_website_getting_started.ipynb#3.-Understand-some-useful-concepts)."
   ]
  },
  {
   "cell_type": "code",
   "execution_count": 4,
   "id": "62531451",
   "metadata": {},
   "outputs": [],
   "source": [
    "import numpy as np\n",
    "# Define an array of 3D points\n",
    "# Rows are individual points, coordinates per row are [ml, ap, dv] in um relative to bregma\n",
    "xyz = np.array([[-2663, -2624, -118],\n",
    "                [-2338, -2650, -1193],\n",
    "                [-2289, -2650, -1592],\n",
    "                [-2214, -2650, -1993],\n",
    "                [-2263, -2775, -2193],\n",
    "                [-2163, -2650, -2368],\n",
    "                [-1988, -2775, -3493],\n",
    "                [-1963, -2775, -3892],\n",
    "                [-1863, -2775, -4343],\n",
    "                [-1788, -2775, -4792]])\n",
    "\n",
    "# Convert to metres\n",
    "xyz = xyz / 1e6\n",
    "\n",
    "# Create a feature with random values between 0 - 100, one value per point\n",
    "values = np.random.randint(0, 100, xyz.shape[0])"
   ]
  },
  {
   "cell_type": "code",
   "execution_count": 5,
   "id": "b6638f45",
   "metadata": {},
   "outputs": [
    {
     "name": "stdout",
     "output_type": "stream",
     "text": [
      "https://atlas.internationalbrainlab.org/?buckets=ibl_points_example&bucket=ibl_points_example\n"
     ]
    }
   ],
   "source": [
    "from iblbrainviewer.api import FeatureUploader\n",
    "from pathlib import Path\n",
    "\n",
    "# Instantiate local bucket\n",
    "local_bucket_path = Path.home().joinpath('local_bucket')\n",
    "up_local = FeatureUploader()\n",
    "\n",
    "# Instantiate remote bucket\n",
    "bucket = 'ibl_points_example'\n",
    "up_remote = FeatureUploader(bucket)\n",
    "\n",
    "\n",
    "\n",
    "# Upload locally\n",
    "# Upload points with a size of 3 (default)\n",
    "fname = 'points'\n",
    "up_local.local_dots(fname, xyz, values, dot_size=3, output_dir=local_bucket_path)\n",
    "\n",
    "fname = 'points'\n",
    "# Upload remotely\n",
    "if not up_remote.features_exist(fname):\n",
    "    # For acronyms must provide hemisphere argument\n",
    "    up_remote.upload_dots(fname, xyz, values, dot_size=3)\n",
    "\n",
    "url = up_remote.get_buckets_url([bucket])\n",
    "print(url)"
   ]
  }
 ],
 "metadata": {
  "kernelspec": {
   "display_name": "Python 3 (ipykernel)",
   "language": "python",
   "name": "python3"
  },
  "language_info": {
   "codemirror_mode": {
    "name": "ipython",
    "version": 3
   },
   "file_extension": ".py",
   "mimetype": "text/x-python",
   "name": "python",
   "nbconvert_exporter": "python",
   "pygments_lexer": "ipython3",
   "version": "3.9.18"
  }
 },
 "nbformat": 4,
 "nbformat_minor": 5
}
