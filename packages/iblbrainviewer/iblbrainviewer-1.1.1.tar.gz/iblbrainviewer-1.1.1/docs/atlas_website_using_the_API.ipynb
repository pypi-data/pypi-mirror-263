{
 "cells": [
  {
   "cell_type": "markdown",
   "id": "db9b4e1b",
   "metadata": {},
   "source": [
    "# Using the FeatureUploader API"
   ]
  },
  {
   "cell_type": "markdown",
   "id": "8ad4ee1a",
   "metadata": {},
   "source": [
    "## Creating a new bucket"
   ]
  },
  {
   "cell_type": "code",
   "execution_count": 1,
   "id": "65ade1d8",
   "metadata": {},
   "outputs": [
    {
     "name": "stdout",
     "output_type": "stream",
     "text": [
      "Creating new bucket ibl_api.\n"
     ]
    }
   ],
   "source": [
    "from iblbrainviewer.api import FeatureUploader\n",
    "bucket_name = 'ibl_api'\n",
    "up = FeatureUploader(bucket_name)"
   ]
  },
  {
   "cell_type": "markdown",
   "id": "1ec345e5",
   "metadata": {},
   "source": [
    "## Instantiating a bucket"
   ]
  },
  {
   "cell_type": "code",
   "execution_count": 2,
   "id": "44a3958b",
   "metadata": {},
   "outputs": [],
   "source": [
    "from iblbrainviewer.api import FeatureUploader\n",
    "bucket_name = 'ibl_api'\n",
    "up = FeatureUploader(bucket_name)"
   ]
  },
  {
   "cell_type": "markdown",
   "id": "4b4cd878",
   "metadata": {},
   "source": [
    "## Instantiating a bucket with a token"
   ]
  },
  {
   "cell_type": "markdown",
   "id": "99ad1ec6",
   "metadata": {},
   "source": [
    "The user who created the bucket can retrieve the bucket token in the following way"
   ]
  },
  {
   "cell_type": "code",
   "execution_count": 3,
   "id": "744c3906",
   "metadata": {},
   "outputs": [
    {
     "name": "stdout",
     "output_type": "stream",
     "text": [
      "78760d8f-9eed-0ceb-1a57-093967d91f5c\n"
     ]
    }
   ],
   "source": [
    "from iblbrainviewer.api import FeatureUploader\n",
    "bucket_name = 'ibl_api'\n",
    "up = FeatureUploader(bucket_name)\n",
    "print(up.token)"
   ]
  },
  {
   "cell_type": "markdown",
   "id": "4db0f36c",
   "metadata": {},
   "source": [
    "The user who didn't create the bucket but who wants write access to the bucket can instantiate the bucket with this unique bucket token in the following way"
   ]
  },
  {
   "cell_type": "code",
   "execution_count": 4,
   "id": "318706a6",
   "metadata": {},
   "outputs": [],
   "source": [
    "from iblbrainviewer.api import FeatureUploader\n",
    "bucket_name = 'ibl_api'\n",
    "token = '78760d8f-9eed-0ceb-1a57-093967d91f5c'\n",
    "up = FeatureUploader(bucket_name, token=token)"
   ]
  },
  {
   "cell_type": "markdown",
   "id": "6bd98a61",
   "metadata": {},
   "source": [
    "## Listing buckets"
   ]
  },
  {
   "cell_type": "code",
   "execution_count": 5,
   "id": "6f485f04",
   "metadata": {},
   "outputs": [
    {
     "name": "stdout",
     "output_type": "stream",
     "text": [
      "['ibl_example', 'ibl_hemisphere_data', 'ibl_node_and_leaf_data', 'ibl_getting_started', 'ibl_api']\n"
     ]
    }
   ],
   "source": [
    "from iblbrainviewer.api import list_buckets\n",
    "buckets = list_buckets()\n",
    "print(buckets)"
   ]
  },
  {
   "cell_type": "markdown",
   "id": "bd3b893b",
   "metadata": {},
   "source": [
    "## Adding a new feature to a bucket"
   ]
  },
  {
   "cell_type": "code",
   "execution_count": 6,
   "id": "a1d682ee",
   "metadata": {},
   "outputs": [],
   "source": [
    "acronyms = ['HY', 'TH']\n",
    "values = [1, 2]\n",
    "up.create_features('api_feature', acronyms, values, hemisphere='left')"
   ]
  },
  {
   "cell_type": "markdown",
   "id": "3e213988",
   "metadata": {},
   "source": [
    "## Listing features in a bucket"
   ]
  },
  {
   "cell_type": "code",
   "execution_count": 7,
   "id": "08e1ad38",
   "metadata": {},
   "outputs": [
    {
     "name": "stdout",
     "output_type": "stream",
     "text": [
      "{'api_feature': {'short_desc': ''}}\n"
     ]
    }
   ],
   "source": [
    "features = up.list_features()\n",
    "print(features)"
   ]
  },
  {
   "cell_type": "markdown",
   "id": "96bc0b0b",
   "metadata": {},
   "source": [
    "## Seeing if a feature exists in a bucket"
   ]
  },
  {
   "cell_type": "code",
   "execution_count": 8,
   "id": "748cbb9a",
   "metadata": {},
   "outputs": [
    {
     "name": "stdout",
     "output_type": "stream",
     "text": [
      "True\n"
     ]
    }
   ],
   "source": [
    "exists = up.features_exist('api_feature')\n",
    "print(exists)"
   ]
  },
  {
   "cell_type": "markdown",
   "id": "fad10dd5",
   "metadata": {},
   "source": [
    "## Patching a feature in a bucket"
   ]
  },
  {
   "cell_type": "code",
   "execution_count": 9,
   "id": "4d8fafbb",
   "metadata": {},
   "outputs": [],
   "source": [
    "acronyms = ['HY', 'TH', 'CB']\n",
    "values = [1, 2, 3]\n",
    "up.patch_features('api_feature', acronyms, values, hemisphere='right')"
   ]
  },
  {
   "cell_type": "markdown",
   "id": "642688e6",
   "metadata": {},
   "source": [
    "## Getting the data of a feature"
   ]
  },
  {
   "cell_type": "code",
   "execution_count": 10,
   "id": "76cb83ee",
   "metadata": {},
   "outputs": [],
   "source": [
    "feature_data = up.get_features('api_feature')"
   ]
  },
  {
   "cell_type": "markdown",
   "id": "26723990",
   "metadata": {},
   "source": [
    "## Adding information about a feature in a bucket"
   ]
  },
  {
   "cell_type": "code",
   "execution_count": 11,
   "id": "5c96aee7",
   "metadata": {},
   "outputs": [],
   "source": [
    "desc = 'this description will appear in the drop down tree when the feature is selected'\n",
    "acronyms = ['HY', 'TH', 'CB']\n",
    "values = [1, 2, 3]\n",
    "up.patch_features('api_feature', acronyms, values, desc=desc, hemisphere='right')"
   ]
  },
  {
   "cell_type": "markdown",
   "id": "38d41956",
   "metadata": {},
   "source": [
    "## Deleting a feature in a bucket"
   ]
  },
  {
   "cell_type": "code",
   "execution_count": 12,
   "id": "c2e2fa53",
   "metadata": {},
   "outputs": [],
   "source": [
    "up.delete_features('api_feature')"
   ]
  },
  {
   "cell_type": "markdown",
   "id": "b0383dd3",
   "metadata": {},
   "source": [
    "## Adding a tree to a bucket"
   ]
  },
  {
   "cell_type": "code",
   "execution_count": 13,
   "id": "79918f50",
   "metadata": {},
   "outputs": [],
   "source": [
    "bucket_name = 'ibl_api'\n",
    "tree = {'root_folder': {'feature': 'api_feature'}}"
   ]
  },
  {
   "cell_type": "markdown",
   "id": "61233c4d",
   "metadata": {},
   "source": [
    "### 1 .On instantiation"
   ]
  },
  {
   "cell_type": "code",
   "execution_count": 14,
   "id": "8903eb38",
   "metadata": {},
   "outputs": [],
   "source": [
    "up = FeatureUploader(bucket_name, tree=tree)"
   ]
  },
  {
   "cell_type": "markdown",
   "id": "c85edb87",
   "metadata": {},
   "source": [
    "### 2. After instantiation"
   ]
  },
  {
   "cell_type": "code",
   "execution_count": 15,
   "id": "c68bc4a6",
   "metadata": {},
   "outputs": [],
   "source": [
    "up.patch_bucket(tree=tree)"
   ]
  },
  {
   "cell_type": "markdown",
   "id": "cfae5a51",
   "metadata": {},
   "source": [
    "## Adding information to the bucket"
   ]
  },
  {
   "cell_type": "code",
   "execution_count": 16,
   "id": "83fb14dc",
   "metadata": {},
   "outputs": [],
   "source": [
    "short_desc = 'short description about the bucket, e.g doi and author of associated publication'\n",
    "long_desc = 'A longer more comprehensive description about the bucket, e.g abstract of associated publication'"
   ]
  },
  {
   "cell_type": "markdown",
   "id": "9b377e3e",
   "metadata": {},
   "source": [
    "### 1 .On instantiation"
   ]
  },
  {
   "cell_type": "code",
   "execution_count": 17,
   "id": "5ccd9254",
   "metadata": {},
   "outputs": [],
   "source": [
    "up = FeatureUploader(bucket_name, short_desc=short_desc, long_desc=long_desc)"
   ]
  },
  {
   "cell_type": "markdown",
   "id": "7c0516b0",
   "metadata": {},
   "source": [
    "### 2. After instantiation"
   ]
  },
  {
   "cell_type": "code",
   "execution_count": 18,
   "id": "b9d6ba56",
   "metadata": {},
   "outputs": [],
   "source": [
    "up.patch_bucket(short_desc=short_desc, long_desc=long_desc)"
   ]
  },
  {
   "cell_type": "markdown",
   "id": "4e757e38",
   "metadata": {},
   "source": [
    "## Modifying the bucket information"
   ]
  },
  {
   "cell_type": "code",
   "execution_count": 19,
   "id": "35e81f36",
   "metadata": {},
   "outputs": [],
   "source": [
    "tree = {'root_folder': {'sub_folder': {'feature': 'api_feature'}}}\n",
    "short_desc = 'a new short description about the bucket'\n",
    "up.patch_bucket(tree=tree, short_desc=short_desc)"
   ]
  },
  {
   "cell_type": "markdown",
   "id": "7d036a3b",
   "metadata": {},
   "source": [
    "## Resetting the bucket tree"
   ]
  },
  {
   "cell_type": "code",
   "execution_count": 20,
   "id": "e94b216c",
   "metadata": {},
   "outputs": [],
   "source": [
    "up.patch_bucket(tree=None)"
   ]
  },
  {
   "cell_type": "markdown",
   "id": "43b804c9",
   "metadata": {},
   "source": [
    "## Getting bucket information"
   ]
  },
  {
   "cell_type": "code",
   "execution_count": 21,
   "id": "0ff86759",
   "metadata": {},
   "outputs": [
    {
     "name": "stdout",
     "output_type": "stream",
     "text": [
      "{'features': {}, 'metadata': {'alias': None, 'last_access_date': '2023-10-10T12:26:16.381307', 'long_desc': 'A longer more comprehensive description about the bucket, e.g abstract of associated publication', 'short_desc': 'a new short description about the bucket', 'tree': None, 'url': None, 'uuid': 'ibl_api'}}\n"
     ]
    }
   ],
   "source": [
    "bucket_meta = up.get_bucket_metadata()\n",
    "print(bucket_meta)"
   ]
  },
  {
   "cell_type": "markdown",
   "id": "12ebed9d",
   "metadata": {},
   "source": [
    "## Getting bucket url"
   ]
  },
  {
   "cell_type": "code",
   "execution_count": 22,
   "id": "2664909f",
   "metadata": {},
   "outputs": [
    {
     "name": "stdout",
     "output_type": "stream",
     "text": [
      "https://atlas.internationalbrainlab.org/?buckets=ibl_api&bucket=ibl_api\n"
     ]
    }
   ],
   "source": [
    "url = up.get_buckets_url([up.bucket_uuid])\n",
    "print(url)"
   ]
  },
  {
   "cell_type": "markdown",
   "id": "fb4d849b",
   "metadata": {},
   "source": [
    "## Getting url for multiple buckets"
   ]
  },
  {
   "cell_type": "code",
   "execution_count": 23,
   "id": "ac248dd8",
   "metadata": {},
   "outputs": [
    {
     "name": "stdout",
     "output_type": "stream",
     "text": [
      "https://atlas.internationalbrainlab.org/?buckets=ibl_api%2Cibl_example%2Cibl_hemisphere_data&bucket=ibl_api\n"
     ]
    }
   ],
   "source": [
    "url = up.get_buckets_url([up.bucket_uuid, 'ibl_example', 'ibl_hemisphere_data'])\n",
    "print(url)"
   ]
  },
  {
   "cell_type": "markdown",
   "id": "fcf69b00",
   "metadata": {},
   "source": [
    "## Deleting a bucket"
   ]
  },
  {
   "cell_type": "markdown",
   "id": "b63b7c7f",
   "metadata": {},
   "source": [
    "<div class=\"alert alert-block alert-warning\">\n",
    "<b>WARNING:</b> This will delete the bucket and all the features contained with it\n",
    "</div>"
   ]
  },
  {
   "cell_type": "code",
   "execution_count": 24,
   "id": "ba465c4b",
   "metadata": {},
   "outputs": [],
   "source": [
    "up.delete_bucket()"
   ]
  }
 ],
 "metadata": {
  "kernelspec": {
   "display_name": "Python 3 (ipykernel)",
   "language": "python",
   "name": "python3"
  },
  "language_info": {
   "codemirror_mode": {
    "name": "ipython",
    "version": 3
   },
   "file_extension": ".py",
   "mimetype": "text/x-python",
   "name": "python",
   "nbconvert_exporter": "python",
   "pygments_lexer": "ipython3",
   "version": "3.9.18"
  }
 },
 "nbformat": 4,
 "nbformat_minor": 5
}
