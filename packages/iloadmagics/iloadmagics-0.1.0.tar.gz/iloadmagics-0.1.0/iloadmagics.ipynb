{
 "cells": [
  {
   "cell_type": "code",
   "execution_count": 2,
   "id": "26500aa8-f23a-4509-92e6-3e33e516c6be",
   "metadata": {},
   "outputs": [
    {
     "name": "stdout",
     "output_type": "stream",
     "text": [
      "iCustomMagic cell-magic command\n",
      "This is a test\n"
     ]
    }
   ],
   "source": [
    "%%iCustomMagic\n",
    "print(\"This is a test\")"
   ]
  },
  {
   "cell_type": "code",
   "execution_count": null,
   "id": "4fe5a569-ba35-4d44-bb24-be2e6504361e",
   "metadata": {},
   "outputs": [],
   "source": []
  },
  {
   "cell_type": "markdown",
   "id": "c88e3d3e-c445-4411-aa23-3f50bf8aa94b",
   "metadata": {},
   "source": [
    "The above (auto-inserted) stub/dummy/template cell/line magic code is for testing the jupyter lab/notebook `iloadmagics` front-end extension"
   ]
  },
  {
   "cell_type": "code",
   "execution_count": null,
   "id": "ffa98739-5c98-4270-9d1f-24e1f15b82e8",
   "metadata": {},
   "outputs": [],
   "source": []
  },
  {
   "cell_type": "markdown",
   "id": "93cd55f8-65f7-4cf9-b12e-90f820aeb0de",
   "metadata": {},
   "source": [
    "Instead of using ipython.register_cell_magic() or %%load_ext to load custom ipython magics into jupyter lab/notebooks and to avoid having to specify it in the notebook `config` file for auto-inclusion, the following jupyter lab/notebook extension is a \"hacky\" way to import the custom-defined ipython magics class at kernel startup"
   ]
  },
  {
   "cell_type": "code",
   "execution_count": null,
   "id": "e6d8f5aa-2ef9-4a91-9ed2-94863c1ddae2",
   "metadata": {},
   "outputs": [],
   "source": []
  },
  {
   "cell_type": "markdown",
   "id": "8199e9db-ab18-438d-8a1e-c16d419c4d96",
   "metadata": {},
   "source": [
    "The strategy is as follows:\n",
    "\n",
    "0) insert a cell with `iloadmagics` metadata at the bottom of the notebook\n",
    "1) run the cell to import the `ipython` cell/line magic extension class\n",
    "3) hide/delete the \"import\" cell\n",
    "4) create a new cell at the top of the notebook file containing stub/dummy/template code for illustrating how to use the custom-defined ipython cell/line magic"
   ]
  },
  {
   "cell_type": "code",
   "execution_count": null,
   "id": "5c223ac0-46ed-43f0-9443-fe1a32788197",
   "metadata": {},
   "outputs": [],
   "source": []
  },
  {
   "cell_type": "markdown",
   "id": "ff5a736d-1a9c-4744-b1c7-465ad401c12e",
   "metadata": {},
   "source": [
    "Inside the extension source code, the files are updated/added as follows ..."
   ]
  },
  {
   "cell_type": "code",
   "execution_count": null,
   "id": "f44286d2-04fa-4316-95ae-0a9f7dee53ab",
   "metadata": {},
   "outputs": [],
   "source": []
  },
  {
   "cell_type": "markdown",
   "id": "29219cce-b4a5-4cdb-a542-8bd520d494ec",
   "metadata": {},
   "source": [
    "`iloadmagics/__init__.py`"
   ]
  },
  {
   "cell_type": "code",
   "execution_count": null,
   "id": "a873b8b0-67c3-4a1e-819a-628f532d0b3a",
   "metadata": {},
   "outputs": [],
   "source": [
    "from ._version import __version__\n",
    "\n",
    "from .iloadmagics import CustomMagicsClass\n",
    "\n",
    "def _jupyter_labextension_paths():\n",
    "    return [{\n",
    "        \"src\": \"labextension\",\n",
    "        \"dest\": \"iloadmagics\"\n",
    "    }]\n",
    "\n",
    "try:\n",
    "    ipy = get_ipython()\n",
    "    ipy.register_magics(CustomMagicsClass)\n",
    "    print(f\"iloadmagics v{__version__}\")\n",
    "\n",
    "except AttributeError:\n",
    "    print(\"Can not load imetacell because this is not a jupyter lab/notebook .ipynb file\")"
   ]
  },
  {
   "cell_type": "code",
   "execution_count": null,
   "id": "ef6a8642-0f4d-40e2-ba5e-2b76b0ccf02b",
   "metadata": {},
   "outputs": [],
   "source": []
  },
  {
   "cell_type": "markdown",
   "id": "9ddeb449-6f66-42fb-98a8-89707f0cabdb",
   "metadata": {},
   "source": [
    "`iloadmagics/iloadmagics.py`"
   ]
  },
  {
   "cell_type": "code",
   "execution_count": null,
   "id": "4dadeb0e-fd3e-47d1-8bc4-1cb01e827fcf",
   "metadata": {},
   "outputs": [],
   "source": [
    "from IPython.core.magic import (Magics, magics_class, line_magic, cell_magic, line_cell_magic)\n",
    "\n",
    "@magics_class\n",
    "class CustomMagicsClass(Magics):\n",
    "\n",
    "    @cell_magic\n",
    "    def iCustomMagic(self, line, cell):\n",
    "        if cell is None:\n",
    "            print(\"incorrect usage\")\n",
    "        else:\n",
    "            if line != \"\":\n",
    "                show_usage()\n",
    "            else:\n",
    "                print(\"iCustomMagic cell-magic command\")\n",
    "                ip = get_ipython()\n",
    "                ip.run_cell(cell)\n",
    "\n",
    "# In order to actually use these magics, you must register them with a\n",
    "# running IPython.\n",
    "\n",
    "# def load_ipython_extension(ipython):\n",
    "#     \"\"\"\n",
    "#     Any module file that define a function named `load_ipython_extension`\n",
    "#     can be loaded via `%load_ext module.path` or be configured to be\n",
    "#     autoloaded by IPython at startup time.\n",
    "#     \"\"\"\n",
    "#     # You can register the class itself without instantiating it. \n",
    "#     # IPython will call the default constructor on it.\n",
    "#     ipython.register_magics(CustomMagicsClass)"
   ]
  },
  {
   "cell_type": "code",
   "execution_count": null,
   "id": "1da4a83b-5a36-4bc9-b185-34329b3b2972",
   "metadata": {},
   "outputs": [],
   "source": []
  },
  {
   "cell_type": "markdown",
   "id": "99203b5e-f3e2-4a0f-95eb-b93c6e7866c1",
   "metadata": {},
   "source": [
    "As well as the usual `src/index.ts` file ..."
   ]
  },
  {
   "cell_type": "code",
   "execution_count": null,
   "id": "dd405972-1a48-4646-9917-138eec5f5e4b",
   "metadata": {},
   "outputs": [],
   "source": []
  },
  {
   "cell_type": "code",
   "execution_count": null,
   "id": "4fa77442-926b-4c4d-8ee8-da1dbb27b0dd",
   "metadata": {},
   "outputs": [],
   "source": []
  },
  {
   "cell_type": "code",
   "execution_count": null,
   "id": "53d109c0-1b32-4ade-8f37-62c53fc03873",
   "metadata": {},
   "outputs": [],
   "source": []
  }
 ],
 "metadata": {
  "kernelspec": {
   "display_name": "Python 3 (ipykernel)",
   "language": "python",
   "name": "python3"
  },
  "language_info": {
   "codemirror_mode": {
    "name": "ipython",
    "version": 3
   },
   "file_extension": ".py",
   "mimetype": "text/x-python",
   "name": "python",
   "nbconvert_exporter": "python",
   "pygments_lexer": "ipython3",
   "version": "3.12.2"
  }
 },
 "nbformat": 4,
 "nbformat_minor": 5
}
