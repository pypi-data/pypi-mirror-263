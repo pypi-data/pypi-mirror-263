{
 "cells": [
  {
   "cell_type": "code",
   "execution_count": 7,
   "id": "fe60eadb-fef0-416a-a320-1a5b50401ba5",
   "metadata": {
    "iinit": true
   },
   "outputs": [
    {
     "name": "stdout",
     "output_type": "stream",
     "text": [
      "test\n"
     ]
    }
   ],
   "source": [
    "print(\"test\")"
   ]
  },
  {
   "cell_type": "code",
   "execution_count": null,
   "id": "142a297e-bcb4-4846-9342-491269b4222b",
   "metadata": {},
   "outputs": [],
   "source": []
  },
  {
   "cell_type": "code",
   "execution_count": null,
   "id": "fe125bf4-f183-4953-8989-722a5e1bf0db",
   "metadata": {},
   "outputs": [],
   "source": [
    "print(\"Some Other Code\")"
   ]
  },
  {
   "cell_type": "code",
   "execution_count": null,
   "id": "d79adc1a-9641-4d53-b02c-b9b4b3492e31",
   "metadata": {},
   "outputs": [],
   "source": []
  },
  {
   "cell_type": "code",
   "execution_count": null,
   "id": "9f55de8b-70b0-45a1-956b-8375b6f8f137",
   "metadata": {},
   "outputs": [],
   "source": []
  },
  {
   "cell_type": "code",
   "execution_count": 8,
   "id": "eef90e89-027f-4d67-b94e-0c403f0ef2d8",
   "metadata": {
    "ihide": true,
    "ihiden": true,
    "iinit": true
   },
   "outputs": [
    {
     "name": "stdout",
     "output_type": "stream",
     "text": [
      "test\n"
     ]
    }
   ],
   "source": [
    "print(\"test\")"
   ]
  },
  {
   "cell_type": "code",
   "execution_count": null,
   "id": "0792c7a9-65b7-4717-947f-a50346a93482",
   "metadata": {},
   "outputs": [],
   "source": []
  },
  {
   "cell_type": "code",
   "execution_count": null,
   "id": "5f542a6f-35ca-4aa4-bf31-edb851d04af5",
   "metadata": {},
   "outputs": [],
   "source": []
  }
 ],
 "metadata": {
  "kernelspec": {
   "display_name": "Python 3 (ipykernel)",
   "language": "python",
   "name": "python3"
  },
  "language_info": {
   "codemirror_mode": {
    "name": "ipython",
    "version": 3
   },
   "file_extension": ".py",
   "mimetype": "text/x-python",
   "name": "python",
   "nbconvert_exporter": "python",
   "pygments_lexer": "ipython3",
   "version": "3.12.2"
  }
 },
 "nbformat": 4,
 "nbformat_minor": 5
}
