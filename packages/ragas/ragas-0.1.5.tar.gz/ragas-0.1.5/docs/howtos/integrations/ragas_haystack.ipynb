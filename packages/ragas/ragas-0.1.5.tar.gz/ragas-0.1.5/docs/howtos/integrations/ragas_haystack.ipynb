{
  "nbformat": 4,
  "nbformat_minor": 0,
  "metadata": {
    "colab": {
      "provenance": []
    },
    "kernelspec": {
      "name": "python3",
      "display_name": "Python 3"
    },
    "language_info": {
      "name": "python"
    }
  },
  "cells": [
    {
      "cell_type": "markdown",
      "source": [
        "# Evaluating Haystack\n",
        "\n",
        "[Haystack](https://haystack.deepset.ai/) is an open-source framework for building production-ready LLM applications. The `RagasEvaluator` component evaluates Haystack Pipelines using LLM-based metrics. It supports metrics like context relevance, factual accuracy, response relevance, and more.\n",
        "\n",
        "\n",
        "This guide will show you how to use the `RagasEvaluator` with a Haystack pipeline."
      ],
      "metadata": {
        "id": "SAkcDePWOCmp"
      }
    },
    {
      "cell_type": "markdown",
      "source": [
        "## Installation"
      ],
      "metadata": {
        "id": "3vFSXPKyObpg"
      }
    },
    {
      "cell_type": "code",
      "execution_count": null,
      "metadata": {
        "id": "n5IVXE6qem_Z"
      },
      "outputs": [],
      "source": [
        "!pip install ragas-haystack"
      ]
    },
    {
      "cell_type": "markdown",
      "source": [
        "### Setting your `OPENAI_API_KEY` environment variable\n",
        "\n",
        "\n",
        "Many metrics use OpenAI models and require an environment variable `OPENAI_API_KEY` to be set. If you don't have an OpenAI API key, you can sign up for an account here."
      ],
      "metadata": {
        "id": "d-6El0T-OtME"
      }
    },
    {
      "cell_type": "code",
      "source": [
        "import os\n",
        "from getpass import getpass\n",
        "\n",
        "\n",
        "os.environ[\"OPENAI_API_KEY\"] = getpass('enter your OpenAI API key:')"
      ],
      "metadata": {
        "id": "-WJtnWCKgg25",
        "colab": {
          "base_uri": "https://localhost:8080/"
        },
        "outputId": "f9e965e9-4b24-407b-d324-2d938c3323fa"
      },
      "execution_count": 1,
      "outputs": [
        {
          "name": "stdout",
          "output_type": "stream",
          "text": [
            "enter your OpenAI API key:··········\n"
          ]
        }
      ]
    },
    {
      "cell_type": "markdown",
      "source": [
        "## Use the RagasEvaluator in a Haystack pipeline\n",
        "\n",
        "To use the `RagasEvaluator` you need to follow these steps:\n",
        "\n",
        "1. Initialize the `RagasEvaluator` while providing the correct `metric_params` for the metric you are using.\n",
        "2. Run the `RagasEvaluator`, either on its own or in a Pipeline, by providing the expected input for the metric you are using.\n",
        "\n",
        "To create a Pipeline that evaluates context relevance and aspect critique:"
      ],
      "metadata": {
        "id": "ZnJ-b0G8PPi7"
      }
    },
    {
      "cell_type": "code",
      "source": [
        "from haystack import Pipeline\n",
        "from haystack_integrations.components.evaluators.ragas import RagasEvaluator, RagasMetric\n",
        "\n",
        "evaluation_pipeline = Pipeline()\n",
        "evaluator_context = RagasEvaluator(\n",
        "    metric=RagasMetric.CONTEXT_PRECISION,\n",
        ")\n",
        "evaluator_aspect = RagasEvaluator(\n",
        "    metric=RagasMetric.ASPECT_CRITIQUE,\n",
        "    metric_params={\"name\": \"custom\", \"definition\": \"Is this answer problematic for children?\", \"strictness\": 3},\n",
        ")\n",
        "evaluation_pipeline.add_component(\"evaluator_context\", evaluator_context)\n",
        "evaluation_pipeline.add_component(\"evaluator_aspect\", evaluator_aspect)\n"
      ],
      "metadata": {
        "id": "G9tzjoLpeoma"
      },
      "execution_count": 6,
      "outputs": []
    },
    {
      "cell_type": "markdown",
      "source": [
        "To run the evaluation Pipeline, you should have the expected inputs for the metrics ready at hand. These metrics expect a list of `questions`, `contexts`, `responses`, and `ground_truths`. These should come from the results of the `Pipeline` you want to evaluate."
      ],
      "metadata": {
        "id": "WRcSQBoZPnTz"
      }
    },
    {
      "cell_type": "code",
      "source": [
        "QUESTIONS = [\"Which is the most popular global sport?\", \"Who created the Python language?\"]\n",
        "CONTEXTS = [[\"The popularity of sports can be measured in various ways, including TV viewership, social media presence, number of participants, and economic impact. Football is undoubtedly the world's most popular sport with major events like the FIFA World Cup and sports personalities like Ronaldo and Messi, drawing a followership of more than 4 billion people.\"],\n",
        "            [\"Python, created by Guido van Rossum in the late 1980s, is a high-level general-purpose programming language. Its design philosophy emphasizes code readability, and its language constructs aim to help programmers write clear, logical code for both small and large-scale software projects.\"]]\n",
        "RESPONSES = [\"Football is the most popular sport with around 4 billion followers worldwide\", \"Python language was created by Guido van Rossum.\"]\n",
        "GROUND_TRUTHS = [\"Football is the most popular sport\", \"Python language was created by Guido van Rossum.\"]\n",
        "\n",
        "results = evaluation_pipeline.run({\n",
        "        \"evaluator_context\": {\"questions\": QUESTIONS, \"contexts\": CONTEXTS, \"ground_truths\": GROUND_TRUTHS},\n",
        "        \"evaluator_aspect\": {\"questions\": QUESTIONS, \"contexts\": CONTEXTS, \"responses\": RESPONSES},\n",
        "})\n"
      ],
      "metadata": {
        "id": "rfFZX87tP3IC"
      },
      "execution_count": null,
      "outputs": []
    },
    {
      "cell_type": "code",
      "source": [
        "QUESTIONS = [\"Which is the most popular global sport?\", \"Who created the Python language?\"]\n",
        "CONTEXTS = [[\"The popularity of sports can be measured in various ways, including TV viewership, social media presence, number of participants, and economic impact. Football is undoubtedly the world's most popular sport with major events like the FIFA World Cup and sports personalities like Ronaldo and Messi, drawing a followership of more than 4 billion people.\"],\n",
        "                 [\"Python, created by Guido van Rossum in the late 1980s, is a high-level general-purpose programming language. Its design philosophy emphasizes code readability, and its language constructs aim to help programmers write clear, logical code for both small and large-scale software projects.\"]]\n",
        "RESPONSES = [\"Football is the most popular sport with around 4 billion followers worldwide\", \"Python language was created by Guido van Rossum.\"]\n",
        "GROUND_TRUTHS = [\"Football is the most popular sport\", \"Python language was created by Guido van Rossum.\"]\n",
        "results = evaluation_pipeline.run({\n",
        "        \"evaluator_context\": {\"questions\": QUESTIONS, \"contexts\": CONTEXTS, \"ground_truths\": GROUND_TRUTHS},\n",
        "        \"evaluator_aspect\": {\"questions\": QUESTIONS, \"contexts\": CONTEXTS, \"responses\": RESPONSES},\n",
        "})"
      ],
      "metadata": {
        "id": "kkyUUXpyhAJt"
      },
      "execution_count": null,
      "outputs": []
    },
    {
      "cell_type": "code",
      "source": [
        "\n",
        "for component in [\"evaluator_context\", \"evaluator_aspect\"]:\n",
        "    for output in results[component][\"results\"]:\n",
        "        print(output)"
      ],
      "metadata": {
        "id": "CJMN6Bf7hNX_",
        "outputId": "112763e0-1036-4528-8ff6-5dbcc2327e76",
        "colab": {
          "base_uri": "https://localhost:8080/"
        }
      },
      "execution_count": 11,
      "outputs": [
        {
          "output_type": "stream",
          "name": "stdout",
          "text": [
            "[{'name': 'context_precision', 'score': 0.9999999999}]\n",
            "[{'name': 'context_precision', 'score': 0.9999999999}]\n",
            "[{'name': 'custom', 'score': 0}]\n",
            "[{'name': 'custom', 'score': 0}]\n"
          ]
        }
      ]
    },
    {
      "cell_type": "markdown",
      "source": [
        "You can use a Pandas dataframe to do additional analysis."
      ],
      "metadata": {
        "id": "-SfrRjZ1Qc_K"
      }
    },
    {
      "cell_type": "code",
      "source": [
        "import pandas as pd\n",
        "\n",
        "df = pd.DataFrame.from_dict(results)\n",
        "print(df)\n"
      ],
      "metadata": {
        "colab": {
          "base_uri": "https://localhost:8080/"
        },
        "id": "u-bXjR_XQfug",
        "outputId": "5770e1c6-5797-4d61-88e5-1e77aacb44a4"
      },
      "execution_count": 14,
      "outputs": [
        {
          "output_type": "stream",
          "name": "stdout",
          "text": [
            "                                         evaluator_context  \\\n",
            "results  [[{'name': 'context_precision', 'score': 0.999...   \n",
            "\n",
            "                                          evaluator_aspect  \n",
            "results  [[{'name': 'custom', 'score': 0}], [{'name': '...  \n"
          ]
        }
      ]
    }
  ]
}