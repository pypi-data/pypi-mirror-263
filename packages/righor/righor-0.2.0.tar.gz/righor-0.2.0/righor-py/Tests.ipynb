{
 "cells": [
  {
   "cell_type": "code",
   "execution_count": 1,
   "id": "b7e4fd69",
   "metadata": {},
   "outputs": [],
   "source": [
    "import righor\n",
    "import matplotlib.pyplot as plt\n",
    "import seaborn\n",
    "import pandas as pd\n",
    "from tqdm.notebook import tqdm\n",
    "from collections import Counter\n",
    "import numpy as np\n",
    "\n",
    "# load the model\n",
    "igor_model = righor.load_model(\"human\", \"trb\")\n",
    "\n",
    "# alternatively, you can load a model from igor files \n",
    "# igor_model = righor.load_model_from_files(params.txt, marginals.txt, anchor_v.csv, anchor_j.csv)"
   ]
  },
  {
   "cell_type": "code",
   "execution_count": 2,
   "id": "9d67a118",
   "metadata": {},
   "outputs": [],
   "source": [
    "generator = igor_model.generator(seed=42)\n",
    "s = generator.generate_without_errors(functional=True)\n",
    "v_genes = righor.genes_matching(\"TRBV1\", igor_model)\n",
    "j_genes = righor.genes_matching(\"TRBJ1\", igor_model)\n",
    "res = igor_model.align_cdr3(s.cdr3_nt, v_genes, j_genes)"
   ]
  },
  {
   "cell_type": "code",
   "execution_count": 3,
   "id": "afd96f43",
   "metadata": {},
   "outputs": [
    {
     "data": {
      "text/plain": [
       "TGTGCCAGCAGTGAGGACAGGGACGTCACTGAAGCTTTCTTT"
      ]
     },
     "execution_count": 3,
     "metadata": {},
     "output_type": "execute_result"
    }
   ],
   "source": [
    "infer_params = righor.InferenceParameters() # default inference parameters\n",
    "result = igor_model.evaluate(res, infer_params)\n",
    "result.best_event.cdr3"
   ]
  },
  {
   "cell_type": "code",
   "execution_count": 21,
   "id": "de0615e5",
   "metadata": {},
   "outputs": [
    {
     "data": {
      "text/plain": [
       "'GATACTGGAATTACCCAGACACCAAAATACCTGGTCACAGCAATGGGGAGTAAAAGGACAATGAAACGTGAGCATCTGGGACATGATTCTATGTATTGGTACAGACAGAAAGCTAAGAAATCCCTGGAGTTCATGTTTTACTACAACTGTAAGGAATTCATTGAAAACAAGACTGTGCCAAATCACTTCACACCTGAATGCCCTGACAGCTCTCGCTTATACCTTCATGTGGTCGCACTGCAGCAAGAAGACTCAGCTGCGTATCTCTGTGCCAGCAGTGAGGACAGGGACGTCACTGAAGCTTTCTTTGGACAAGGCACCAGACTCACAGTTGTAG'"
      ]
     },
     "execution_count": 21,
     "metadata": {},
     "output_type": "execute_result"
    }
   ],
   "source": [
    "TGTGTGAGAGATATTGTAGTAGTACCAGCTGCTAACCGCTTTCCTTCTTACTACTACTACTACTACATGGACGTCTGG"
   ]
  },
  {
   "cell_type": "code",
   "execution_count": 16,
   "id": "8d965698",
   "metadata": {},
   "outputs": [
    {
     "data": {
      "text/plain": [
       "TGTGCCAGCAGTGAGGACAGGGACGTCACTGAAGCTTTCTTTNNNN"
      ]
     },
     "execution_count": 16,
     "metadata": {},
     "output_type": "execute_result"
    }
   ],
   "source": [
    "result.best_event.cdr3"
   ]
  },
  {
   "cell_type": "code",
   "execution_count": 20,
   "id": "58e06fc8",
   "metadata": {},
   "outputs": [
    {
     "data": {
      "text/plain": [
       "False"
      ]
     },
     "execution_count": 20,
     "metadata": {},
     "output_type": "execute_result"
    }
   ],
   "source": [
    "v_genes[5].seq.get_string() =="
   ]
  },
  {
   "cell_type": "code",
   "execution_count": 4,
   "id": "7aa60301",
   "metadata": {},
   "outputs": [
    {
     "data": {
      "text/plain": [
       "'TGCGCCAGCAGCTTGTACCAGAGGCAACTAGCGGGAGCAATGAGCAGTTCT'"
      ]
     },
     "execution_count": 4,
     "metadata": {},
     "output_type": "execute_result"
    }
   ],
   "source": [
    "generator = igor_model.generator(seed=42)\n",
    "s = generator.generate_without_errors(functional=True)\n",
    "s.cdr3_nt"
   ]
  },
  {
   "cell_type": "code",
   "execution_count": 6,
   "id": "0bad8612",
   "metadata": {},
   "outputs": [
    {
     "data": {
      "text/plain": [
       "'TGCGCCAGCAGCTTGTACCAGAGGCAACTAGCGGGAGCAATGAGCAGTTCTTC'"
      ]
     },
     "execution_count": 6,
     "metadata": {},
     "output_type": "execute_result"
    }
   ],
   "source": [
    "\"tgcgccagcagcttgtaccagaggcaactagcgggagcaatgagcagttcttc\".upper()"
   ]
  },
  {
   "cell_type": "code",
   "execution_count": 14,
   "id": "bcd1f7f6",
   "metadata": {},
   "outputs": [
    {
     "data": {
      "text/plain": [
       "53"
      ]
     },
     "execution_count": 14,
     "metadata": {},
     "output_type": "execute_result"
    }
   ],
   "source": [
    "len(\"tgcgccagcagcttgtaccagaggcaactagcgggagcaatgagcagttcttc\".upper())"
   ]
  },
  {
   "cell_type": "code",
   "execution_count": 11,
   "id": "743d3499",
   "metadata": {},
   "outputs": [
    {
     "data": {
      "text/plain": [
       "True"
      ]
     },
     "execution_count": 11,
     "metadata": {},
     "output_type": "execute_result"
    }
   ],
   "source": [
    "s.cdr3_nt == "
   ]
  },
  {
   "cell_type": "code",
   "execution_count": 7,
   "id": "3a3d9deb",
   "metadata": {},
   "outputs": [
    {
     "data": {
      "text/plain": [
       "'TGTGCCAGCAGTGAGGACAGGGACGTCACTGAAGCTTTCTTT'"
      ]
     },
     "execution_count": 7,
     "metadata": {},
     "output_type": "execute_result"
    }
   ],
   "source": [
    "\"tgtgccagcagtgaggacagggacgtcactgaagctttcttt\".upper()"
   ]
  },
  {
   "cell_type": "code",
   "execution_count": 8,
   "id": "7b91f110",
   "metadata": {},
   "outputs": [
    {
     "data": {
      "text/plain": [
       "'GAAGCTGACATCTACCAGACCCCAAGATACCTTGTTATAGGGACAGGAAAGAAGATCACTCTGGAATGTTCTCAAACCATGGGCCATGACAAAATGTACTGGTATCAACAAGATCCAGGAATGGAACTACACCTCATCCACTATTCCTATGGAGTTAATTCCACAGAGAAGGGAGATCTTTCCTCTGAGTCAACAGTCTCCAGAATAAGGACGGAGCATTTTCCCCTGACCCTGGAGTCTGCCAGGCCCTCACATACCTCTCAGTACCTCTGTGCCAGCAGTGAGGACAGGGACGTCACTGAAGCTTTCTTTGGACAAGGCACCAGACTCACAGTTGTAG'"
      ]
     },
     "execution_count": 8,
     "metadata": {},
     "output_type": "execute_result"
    }
   ],
   "source": [
    "s.full_seq"
   ]
  },
  {
   "cell_type": "code",
   "execution_count": 10,
   "id": "797e90d6",
   "metadata": {},
   "outputs": [
    {
     "data": {
      "text/plain": [
       "'TGTGCCAGCAGTGAGGACAGGGACGTCACTGAAGCTTTCTTT'"
      ]
     },
     "execution_count": 10,
     "metadata": {},
     "output_type": "execute_result"
    }
   ],
   "source": [
    "\"tgtgccagcagtgaggacagggacgtcactgaagctttcttt\".upper()"
   ]
  },
  {
   "cell_type": "code",
   "execution_count": null,
   "id": "0cd48f40",
   "metadata": {},
   "outputs": [],
   "source": []
  }
 ],
 "metadata": {
  "kernelspec": {
   "display_name": "Python 3 (ipykernel)",
   "language": "python",
   "name": "python3"
  },
  "language_info": {
   "codemirror_mode": {
    "name": "ipython",
    "version": 3
   },
   "file_extension": ".py",
   "mimetype": "text/x-python",
   "name": "python",
   "nbconvert_exporter": "python",
   "pygments_lexer": "ipython3",
   "version": "3.10.10"
  }
 },
 "nbformat": 4,
 "nbformat_minor": 5
}
